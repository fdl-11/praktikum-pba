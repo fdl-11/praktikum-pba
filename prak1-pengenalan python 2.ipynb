{
 "cells": [
  {
   "cell_type": "code",
   "execution_count": 1,
   "id": "18636ddf",
   "metadata": {
    "executionInfo": {
     "elapsed": 1378,
     "status": "ok",
     "timestamp": 1679889108475,
     "user": {
      "displayName": "Leon Sa",
      "userId": "01102662612867496637"
     },
     "user_tz": -420
    },
    "id": "18636ddf"
   },
   "outputs": [],
   "source": [
    "#import library\n",
    "from openpyxl import load_workbook\n",
    "import pandas as pd"
   ]
  },
  {
   "cell_type": "code",
   "execution_count": 2,
   "id": "d051c0e4",
   "metadata": {
    "colab": {
     "base_uri": "https://localhost:8080/",
     "height": 396
    },
    "executionInfo": {
     "elapsed": 16,
     "status": "error",
     "timestamp": 1679889108476,
     "user": {
      "displayName": "Leon Sa",
      "userId": "01102662612867496637"
     },
     "user_tz": -420
    },
    "id": "d051c0e4",
    "outputId": "82cb7afa-91f6-44ca-fce2-f4d2b95dc1b6"
   },
   "outputs": [
    {
     "data": {
      "text/html": [
       "<div>\n",
       "<style scoped>\n",
       "    .dataframe tbody tr th:only-of-type {\n",
       "        vertical-align: middle;\n",
       "    }\n",
       "\n",
       "    .dataframe tbody tr th {\n",
       "        vertical-align: top;\n",
       "    }\n",
       "\n",
       "    .dataframe thead th {\n",
       "        text-align: right;\n",
       "    }\n",
       "</style>\n",
       "<table border=\"1\" class=\"dataframe\">\n",
       "  <thead>\n",
       "    <tr style=\"text-align: right;\">\n",
       "      <th></th>\n",
       "      <th>No</th>\n",
       "      <th>Toko</th>\n",
       "      <th>Produk</th>\n",
       "      <th>komentar</th>\n",
       "    </tr>\n",
       "  </thead>\n",
       "  <tbody>\n",
       "    <tr>\n",
       "      <th>0</th>\n",
       "      <td>1</td>\n",
       "      <td>missconnie.id</td>\n",
       "      <td>Soft Case TPU Motif Kartun Beruang</td>\n",
       "      <td>Barang baguuus, sesuai deskripsi, sesuai gamba...</td>\n",
       "    </tr>\n",
       "    <tr>\n",
       "      <th>1</th>\n",
       "      <td>2</td>\n",
       "      <td>officialsonicgear</td>\n",
       "      <td>Speaker Bluetooth</td>\n",
       "      <td>Mantab walau bas kurang dikit ,, tp sesuai harga</td>\n",
       "    </tr>\n",
       "    <tr>\n",
       "      <th>2</th>\n",
       "      <td>3</td>\n",
       "      <td>f2fcom</td>\n",
       "      <td>Printer HP Deskjet Ink Advantage 2135</td>\n",
       "      <td>Kualitas produk sangat baik, produk original, ...</td>\n",
       "    </tr>\n",
       "    <tr>\n",
       "      <th>3</th>\n",
       "      <td>4</td>\n",
       "      <td>tokodealz.id</td>\n",
       "      <td>Huion H420 Tablet Papan Grafik Gambar USB 4x2,...</td>\n",
       "      <td>Semoga awett Aamiin</td>\n",
       "    </tr>\n",
       "    <tr>\n",
       "      <th>4</th>\n",
       "      <td>5</td>\n",
       "      <td>galaxy_online</td>\n",
       "      <td>Rexus Headset M1 - Wireless</td>\n",
       "      <td>tolong dicek lagi sebelum kirim barang nya ya ...</td>\n",
       "    </tr>\n",
       "    <tr>\n",
       "      <th>5</th>\n",
       "      <td>6</td>\n",
       "      <td>jiejiecai</td>\n",
       "      <td>Powerbank Xiaomi Mi 2 Pro 10000mah</td>\n",
       "      <td>sudah sampai plus bonusnya, terimakasih belum ...</td>\n",
       "    </tr>\n",
       "    <tr>\n",
       "      <th>6</th>\n",
       "      <td>7</td>\n",
       "      <td>timecollections99</td>\n",
       "      <td>jam tangan</td>\n",
       "      <td>Barang mantap harga murah keitung 190 ribu doa...</td>\n",
       "    </tr>\n",
       "    <tr>\n",
       "      <th>7</th>\n",
       "      <td>8</td>\n",
       "      <td>jbl.id</td>\n",
       "      <td>JBL Go Portable Bluetooth Speaker</td>\n",
       "      <td>Paket mendarat dengan selamat......produk orig...</td>\n",
       "    </tr>\n",
       "    <tr>\n",
       "      <th>8</th>\n",
       "      <td>9</td>\n",
       "      <td>canon.id</td>\n",
       "      <td>Canon Tinta Cartridge PG-47 Black</td>\n",
       "      <td>Kualitas produk sangat baik. Produk original. ...</td>\n",
       "    </tr>\n",
       "    <tr>\n",
       "      <th>9</th>\n",
       "      <td>10</td>\n",
       "      <td>Lenovo Ideapad 330 14AST</td>\n",
       "      <td>lenovo.id</td>\n",
       "      <td>Pengiriman aja yang agak lambat.</td>\n",
       "    </tr>\n",
       "  </tbody>\n",
       "</table>\n",
       "</div>"
      ],
      "text/plain": [
       "   No                      Toko  \\\n",
       "0   1             missconnie.id   \n",
       "1   2         officialsonicgear   \n",
       "2   3                    f2fcom   \n",
       "3   4              tokodealz.id   \n",
       "4   5             galaxy_online   \n",
       "5   6                 jiejiecai   \n",
       "6   7         timecollections99   \n",
       "7   8                    jbl.id   \n",
       "8   9                  canon.id   \n",
       "9  10  Lenovo Ideapad 330 14AST   \n",
       "\n",
       "                                              Produk  \\\n",
       "0                 Soft Case TPU Motif Kartun Beruang   \n",
       "1                                  Speaker Bluetooth   \n",
       "2              Printer HP Deskjet Ink Advantage 2135   \n",
       "3  Huion H420 Tablet Papan Grafik Gambar USB 4x2,...   \n",
       "4                        Rexus Headset M1 - Wireless   \n",
       "5                 Powerbank Xiaomi Mi 2 Pro 10000mah   \n",
       "6                                         jam tangan   \n",
       "7                  JBL Go Portable Bluetooth Speaker   \n",
       "8                  Canon Tinta Cartridge PG-47 Black   \n",
       "9                                          lenovo.id   \n",
       "\n",
       "                                            komentar  \n",
       "0  Barang baguuus, sesuai deskripsi, sesuai gamba...  \n",
       "1   Mantab walau bas kurang dikit ,, tp sesuai harga  \n",
       "2  Kualitas produk sangat baik, produk original, ...  \n",
       "3                                Semoga awett Aamiin  \n",
       "4  tolong dicek lagi sebelum kirim barang nya ya ...  \n",
       "5  sudah sampai plus bonusnya, terimakasih belum ...  \n",
       "6  Barang mantap harga murah keitung 190 ribu doa...  \n",
       "7  Paket mendarat dengan selamat......produk orig...  \n",
       "8  Kualitas produk sangat baik. Produk original. ...  \n",
       "9                   Pengiriman aja yang agak lambat.  "
      ]
     },
     "execution_count": 2,
     "metadata": {},
     "output_type": "execute_result"
    }
   ],
   "source": [
    "#Load workbook\n",
    "wb = load_workbook (filename='toko.xlsx')\n",
    "sheet_ranges = wb['Sheet1']\n",
    "\n",
    "df = pd.DataFrame (sheet_ranges.values)\n",
    "df.columns = ['No', 'Toko', 'Produk', 'komentar'] \n",
    "df"
   ]
  },
  {
   "cell_type": "code",
   "execution_count": 3,
   "id": "e80f5a9a",
   "metadata": {
    "executionInfo": {
     "elapsed": 14,
     "status": "aborted",
     "timestamp": 1679889108477,
     "user": {
      "displayName": "Leon Sa",
      "userId": "01102662612867496637"
     },
     "user_tz": -420
    },
    "id": "e80f5a9a"
   },
   "outputs": [
    {
     "data": {
      "text/plain": [
       "0    Barang baguuus, sesuai deskripsi, sesuai gamba...\n",
       "1     Mantab walau bas kurang dikit ,, tp sesuai harga\n",
       "2    Kualitas produk sangat baik, produk original, ...\n",
       "3                                  Semoga awett Aamiin\n",
       "4    tolong dicek lagi sebelum kirim barang nya ya ...\n",
       "5    sudah sampai plus bonusnya, terimakasih belum ...\n",
       "6    Barang mantap harga murah keitung 190 ribu doa...\n",
       "7    Paket mendarat dengan selamat......produk orig...\n",
       "8    Kualitas produk sangat baik. Produk original. ...\n",
       "9                     Pengiriman aja yang agak lambat.\n",
       "Name: komentar, dtype: object"
      ]
     },
     "execution_count": 3,
     "metadata": {},
     "output_type": "execute_result"
    }
   ],
   "source": [
    "#Menampilkan data pada kolom komentar.\n",
    "df['komentar']"
   ]
  },
  {
   "cell_type": "code",
   "execution_count": 4,
   "id": "431e7828",
   "metadata": {
    "executionInfo": {
     "elapsed": 16,
     "status": "aborted",
     "timestamp": 1679889108479,
     "user": {
      "displayName": "Leon Sa",
      "userId": "01102662612867496637"
     },
     "user_tz": -420
    },
    "id": "431e7828"
   },
   "outputs": [
    {
     "data": {
      "text/html": [
       "<div>\n",
       "<style scoped>\n",
       "    .dataframe tbody tr th:only-of-type {\n",
       "        vertical-align: middle;\n",
       "    }\n",
       "\n",
       "    .dataframe tbody tr th {\n",
       "        vertical-align: top;\n",
       "    }\n",
       "\n",
       "    .dataframe thead th {\n",
       "        text-align: right;\n",
       "    }\n",
       "</style>\n",
       "<table border=\"1\" class=\"dataframe\">\n",
       "  <thead>\n",
       "    <tr style=\"text-align: right;\">\n",
       "      <th></th>\n",
       "      <th>komentar</th>\n",
       "    </tr>\n",
       "  </thead>\n",
       "  <tbody>\n",
       "    <tr>\n",
       "      <th>0</th>\n",
       "      <td>Barang baguuus, sesuai deskripsi, sesuai gamba...</td>\n",
       "    </tr>\n",
       "    <tr>\n",
       "      <th>1</th>\n",
       "      <td>Mantab walau bas kurang dikit ,, tp sesuai harga</td>\n",
       "    </tr>\n",
       "    <tr>\n",
       "      <th>2</th>\n",
       "      <td>Kualitas produk sangat baik, produk original, ...</td>\n",
       "    </tr>\n",
       "    <tr>\n",
       "      <th>3</th>\n",
       "      <td>Semoga awett Aamiin</td>\n",
       "    </tr>\n",
       "    <tr>\n",
       "      <th>4</th>\n",
       "      <td>tolong dicek lagi sebelum kirim barang nya ya ...</td>\n",
       "    </tr>\n",
       "    <tr>\n",
       "      <th>5</th>\n",
       "      <td>sudah sampai plus bonusnya, terimakasih belum ...</td>\n",
       "    </tr>\n",
       "    <tr>\n",
       "      <th>6</th>\n",
       "      <td>Barang mantap harga murah keitung 190 ribu doa...</td>\n",
       "    </tr>\n",
       "    <tr>\n",
       "      <th>7</th>\n",
       "      <td>Paket mendarat dengan selamat......produk orig...</td>\n",
       "    </tr>\n",
       "    <tr>\n",
       "      <th>8</th>\n",
       "      <td>Kualitas produk sangat baik. Produk original. ...</td>\n",
       "    </tr>\n",
       "    <tr>\n",
       "      <th>9</th>\n",
       "      <td>Pengiriman aja yang agak lambat.</td>\n",
       "    </tr>\n",
       "  </tbody>\n",
       "</table>\n",
       "</div>"
      ],
      "text/plain": [
       "                                            komentar\n",
       "0  Barang baguuus, sesuai deskripsi, sesuai gamba...\n",
       "1   Mantab walau bas kurang dikit ,, tp sesuai harga\n",
       "2  Kualitas produk sangat baik, produk original, ...\n",
       "3                                Semoga awett Aamiin\n",
       "4  tolong dicek lagi sebelum kirim barang nya ya ...\n",
       "5  sudah sampai plus bonusnya, terimakasih belum ...\n",
       "6  Barang mantap harga murah keitung 190 ribu doa...\n",
       "7  Paket mendarat dengan selamat......produk orig...\n",
       "8  Kualitas produk sangat baik. Produk original. ...\n",
       "9                   Pengiriman aja yang agak lambat."
      ]
     },
     "execution_count": 4,
     "metadata": {},
     "output_type": "execute_result"
    }
   ],
   "source": [
    "#Menampilkan data pada kolom komentar dengan bentuk tabel.\n",
    "df[['komentar']]"
   ]
  },
  {
   "cell_type": "code",
   "execution_count": 20,
   "id": "0e3d42fb",
   "metadata": {
    "executionInfo": {
     "elapsed": 17,
     "status": "aborted",
     "timestamp": 1679889108480,
     "user": {
      "displayName": "Leon Sa",
      "userId": "01102662612867496637"
     },
     "user_tz": -420
    },
    "id": "0e3d42fb"
   },
   "outputs": [
    {
     "data": {
      "text/html": [
       "<div>\n",
       "<style scoped>\n",
       "    .dataframe tbody tr th:only-of-type {\n",
       "        vertical-align: middle;\n",
       "    }\n",
       "\n",
       "    .dataframe tbody tr th {\n",
       "        vertical-align: top;\n",
       "    }\n",
       "\n",
       "    .dataframe thead th {\n",
       "        text-align: right;\n",
       "    }\n",
       "</style>\n",
       "<table border=\"1\" class=\"dataframe\">\n",
       "  <thead>\n",
       "    <tr style=\"text-align: right;\">\n",
       "      <th></th>\n",
       "      <th>No</th>\n",
       "      <th>Toko</th>\n",
       "      <th>Produk</th>\n",
       "      <th>komentar</th>\n",
       "    </tr>\n",
       "  </thead>\n",
       "  <tbody>\n",
       "    <tr>\n",
       "      <th>0</th>\n",
       "      <td>1</td>\n",
       "      <td>missconnie.id</td>\n",
       "      <td>Soft Case TPU Motif Kartun Beruang</td>\n",
       "      <td>Barang baguuus, sesuai deskripsi, sesuai gamba...</td>\n",
       "    </tr>\n",
       "    <tr>\n",
       "      <th>1</th>\n",
       "      <td>2</td>\n",
       "      <td>officialsonicgear</td>\n",
       "      <td>Speaker Bluetooth</td>\n",
       "      <td>Mantab walau bas kurang dikit ,, tp sesuai harga</td>\n",
       "    </tr>\n",
       "    <tr>\n",
       "      <th>2</th>\n",
       "      <td>3</td>\n",
       "      <td>f2fcom</td>\n",
       "      <td>Printer HP Deskjet Ink Advantage 2135</td>\n",
       "      <td>Kualitas produk sangat baik, produk original, ...</td>\n",
       "    </tr>\n",
       "    <tr>\n",
       "      <th>3</th>\n",
       "      <td>4</td>\n",
       "      <td>tokodealz.id</td>\n",
       "      <td>Huion H420 Tablet Papan Grafik Gambar USB 4x2,...</td>\n",
       "      <td>Semoga awett Aamiin</td>\n",
       "    </tr>\n",
       "    <tr>\n",
       "      <th>4</th>\n",
       "      <td>5</td>\n",
       "      <td>galaxy_online</td>\n",
       "      <td>Rexus Headset M1 - Wireless</td>\n",
       "      <td>tolong dicek lagi sebelum kirim barang nya ya ...</td>\n",
       "    </tr>\n",
       "  </tbody>\n",
       "</table>\n",
       "</div>"
      ],
      "text/plain": [
       "   No               Toko                                             Produk  \\\n",
       "0   1      missconnie.id                 Soft Case TPU Motif Kartun Beruang   \n",
       "1   2  officialsonicgear                                  Speaker Bluetooth   \n",
       "2   3             f2fcom              Printer HP Deskjet Ink Advantage 2135   \n",
       "3   4       tokodealz.id  Huion H420 Tablet Papan Grafik Gambar USB 4x2,...   \n",
       "4   5      galaxy_online                        Rexus Headset M1 - Wireless   \n",
       "\n",
       "                                            komentar  \n",
       "0  Barang baguuus, sesuai deskripsi, sesuai gamba...  \n",
       "1   Mantab walau bas kurang dikit ,, tp sesuai harga  \n",
       "2  Kualitas produk sangat baik, produk original, ...  \n",
       "3                                Semoga awett Aamiin  \n",
       "4  tolong dicek lagi sebelum kirim barang nya ya ...  "
      ]
     },
     "execution_count": 20,
     "metadata": {},
     "output_type": "execute_result"
    }
   ],
   "source": [
    "#Menampilkan data dengan jumlah tertentu\n",
    "df[:5]"
   ]
  },
  {
   "cell_type": "code",
   "execution_count": 23,
   "id": "705d9a6c",
   "metadata": {
    "executionInfo": {
     "elapsed": 16,
     "status": "aborted",
     "timestamp": 1679889108480,
     "user": {
      "displayName": "Leon Sa",
      "userId": "01102662612867496637"
     },
     "user_tz": -420
    },
    "id": "705d9a6c"
   },
   "outputs": [
    {
     "data": {
      "text/html": [
       "<div>\n",
       "<style scoped>\n",
       "    .dataframe tbody tr th:only-of-type {\n",
       "        vertical-align: middle;\n",
       "    }\n",
       "\n",
       "    .dataframe tbody tr th {\n",
       "        vertical-align: top;\n",
       "    }\n",
       "\n",
       "    .dataframe thead th {\n",
       "        text-align: right;\n",
       "    }\n",
       "</style>\n",
       "<table border=\"1\" class=\"dataframe\">\n",
       "  <thead>\n",
       "    <tr style=\"text-align: right;\">\n",
       "      <th></th>\n",
       "      <th>No</th>\n",
       "      <th>Toko</th>\n",
       "      <th>Produk</th>\n",
       "      <th>komentar</th>\n",
       "    </tr>\n",
       "  </thead>\n",
       "  <tbody>\n",
       "    <tr>\n",
       "      <th>9</th>\n",
       "      <td>10</td>\n",
       "      <td>Lenovo Ideapad 330 14AST</td>\n",
       "      <td>lenovo.id</td>\n",
       "      <td>Pengiriman aja yang agak lambat.</td>\n",
       "    </tr>\n",
       "    <tr>\n",
       "      <th>8</th>\n",
       "      <td>9</td>\n",
       "      <td>canon.id</td>\n",
       "      <td>Canon Tinta Cartridge PG-47 Black</td>\n",
       "      <td>Kualitas produk sangat baik. Produk original. ...</td>\n",
       "    </tr>\n",
       "    <tr>\n",
       "      <th>7</th>\n",
       "      <td>8</td>\n",
       "      <td>jbl.id</td>\n",
       "      <td>JBL Go Portable Bluetooth Speaker</td>\n",
       "      <td>Paket mendarat dengan selamat......produk orig...</td>\n",
       "    </tr>\n",
       "    <tr>\n",
       "      <th>6</th>\n",
       "      <td>7</td>\n",
       "      <td>timecollections99</td>\n",
       "      <td>jam tangan</td>\n",
       "      <td>Barang mantap harga murah keitung 190 ribu doa...</td>\n",
       "    </tr>\n",
       "    <tr>\n",
       "      <th>5</th>\n",
       "      <td>6</td>\n",
       "      <td>jiejiecai</td>\n",
       "      <td>Powerbank Xiaomi Mi 2 Pro 10000mah</td>\n",
       "      <td>sudah sampai plus bonusnya, terimakasih belum ...</td>\n",
       "    </tr>\n",
       "    <tr>\n",
       "      <th>4</th>\n",
       "      <td>5</td>\n",
       "      <td>galaxy_online</td>\n",
       "      <td>Rexus Headset M1 - Wireless</td>\n",
       "      <td>tolong dicek lagi sebelum kirim barang nya ya ...</td>\n",
       "    </tr>\n",
       "    <tr>\n",
       "      <th>3</th>\n",
       "      <td>4</td>\n",
       "      <td>tokodealz.id</td>\n",
       "      <td>Huion H420 Tablet Papan Grafik Gambar USB 4x2,...</td>\n",
       "      <td>Semoga awett Aamiin</td>\n",
       "    </tr>\n",
       "    <tr>\n",
       "      <th>2</th>\n",
       "      <td>3</td>\n",
       "      <td>f2fcom</td>\n",
       "      <td>Printer HP Deskjet Ink Advantage 2135</td>\n",
       "      <td>Kualitas produk sangat baik, produk original, ...</td>\n",
       "    </tr>\n",
       "    <tr>\n",
       "      <th>1</th>\n",
       "      <td>2</td>\n",
       "      <td>officialsonicgear</td>\n",
       "      <td>Speaker Bluetooth</td>\n",
       "      <td>Mantab walau bas kurang dikit ,, tp sesuai harga</td>\n",
       "    </tr>\n",
       "    <tr>\n",
       "      <th>0</th>\n",
       "      <td>1</td>\n",
       "      <td>missconnie.id</td>\n",
       "      <td>Soft Case TPU Motif Kartun Beruang</td>\n",
       "      <td>Barang baguuus, sesuai deskripsi, sesuai gamba...</td>\n",
       "    </tr>\n",
       "  </tbody>\n",
       "</table>\n",
       "</div>"
      ],
      "text/plain": [
       "   No                      Toko  \\\n",
       "9  10  Lenovo Ideapad 330 14AST   \n",
       "8   9                  canon.id   \n",
       "7   8                    jbl.id   \n",
       "6   7         timecollections99   \n",
       "5   6                 jiejiecai   \n",
       "4   5             galaxy_online   \n",
       "3   4              tokodealz.id   \n",
       "2   3                    f2fcom   \n",
       "1   2         officialsonicgear   \n",
       "0   1             missconnie.id   \n",
       "\n",
       "                                              Produk  \\\n",
       "9                                          lenovo.id   \n",
       "8                  Canon Tinta Cartridge PG-47 Black   \n",
       "7                  JBL Go Portable Bluetooth Speaker   \n",
       "6                                         jam tangan   \n",
       "5                 Powerbank Xiaomi Mi 2 Pro 10000mah   \n",
       "4                        Rexus Headset M1 - Wireless   \n",
       "3  Huion H420 Tablet Papan Grafik Gambar USB 4x2,...   \n",
       "2              Printer HP Deskjet Ink Advantage 2135   \n",
       "1                                  Speaker Bluetooth   \n",
       "0                 Soft Case TPU Motif Kartun Beruang   \n",
       "\n",
       "                                            komentar  \n",
       "9                   Pengiriman aja yang agak lambat.  \n",
       "8  Kualitas produk sangat baik. Produk original. ...  \n",
       "7  Paket mendarat dengan selamat......produk orig...  \n",
       "6  Barang mantap harga murah keitung 190 ribu doa...  \n",
       "5  sudah sampai plus bonusnya, terimakasih belum ...  \n",
       "4  tolong dicek lagi sebelum kirim barang nya ya ...  \n",
       "3                                Semoga awett Aamiin  \n",
       "2  Kualitas produk sangat baik, produk original, ...  \n",
       "1   Mantab walau bas kurang dikit ,, tp sesuai harga  \n",
       "0  Barang baguuus, sesuai deskripsi, sesuai gamba...  "
      ]
     },
     "execution_count": 23,
     "metadata": {},
     "output_type": "execute_result"
    }
   ],
   "source": [
    "#Menampilkan data secara Ascending atau Descending\n",
    "df[::-1]"
   ]
  },
  {
   "cell_type": "code",
   "execution_count": 30,
   "id": "5ed7be30",
   "metadata": {
    "executionInfo": {
     "elapsed": 17,
     "status": "aborted",
     "timestamp": 1679889108481,
     "user": {
      "displayName": "Leon Sa",
      "userId": "01102662612867496637"
     },
     "user_tz": -420
    },
    "id": "5ed7be30"
   },
   "outputs": [
    {
     "data": {
      "text/html": [
       "<div>\n",
       "<style scoped>\n",
       "    .dataframe tbody tr th:only-of-type {\n",
       "        vertical-align: middle;\n",
       "    }\n",
       "\n",
       "    .dataframe tbody tr th {\n",
       "        vertical-align: top;\n",
       "    }\n",
       "\n",
       "    .dataframe thead th {\n",
       "        text-align: right;\n",
       "    }\n",
       "</style>\n",
       "<table border=\"1\" class=\"dataframe\">\n",
       "  <thead>\n",
       "    <tr style=\"text-align: right;\">\n",
       "      <th></th>\n",
       "      <th>No</th>\n",
       "      <th>Toko</th>\n",
       "      <th>Produk</th>\n",
       "      <th>komentar</th>\n",
       "    </tr>\n",
       "  </thead>\n",
       "  <tbody>\n",
       "    <tr>\n",
       "      <th>3</th>\n",
       "      <td>4</td>\n",
       "      <td>tokodealz.id</td>\n",
       "      <td>Huion H420 Tablet Papan Grafik Gambar USB 4x2,...</td>\n",
       "      <td>Semoga awett Aamiin</td>\n",
       "    </tr>\n",
       "    <tr>\n",
       "      <th>6</th>\n",
       "      <td>7</td>\n",
       "      <td>timecollections99</td>\n",
       "      <td>jam tangan</td>\n",
       "      <td>Barang mantap harga murah keitung 190 ribu doa...</td>\n",
       "    </tr>\n",
       "    <tr>\n",
       "      <th>1</th>\n",
       "      <td>2</td>\n",
       "      <td>officialsonicgear</td>\n",
       "      <td>Speaker Bluetooth</td>\n",
       "      <td>Mantab walau bas kurang dikit ,, tp sesuai harga</td>\n",
       "    </tr>\n",
       "    <tr>\n",
       "      <th>0</th>\n",
       "      <td>1</td>\n",
       "      <td>missconnie.id</td>\n",
       "      <td>Soft Case TPU Motif Kartun Beruang</td>\n",
       "      <td>Barang baguuus, sesuai deskripsi, sesuai gamba...</td>\n",
       "    </tr>\n",
       "    <tr>\n",
       "      <th>5</th>\n",
       "      <td>6</td>\n",
       "      <td>jiejiecai</td>\n",
       "      <td>Powerbank Xiaomi Mi 2 Pro 10000mah</td>\n",
       "      <td>sudah sampai plus bonusnya, terimakasih belum ...</td>\n",
       "    </tr>\n",
       "    <tr>\n",
       "      <th>7</th>\n",
       "      <td>8</td>\n",
       "      <td>jbl.id</td>\n",
       "      <td>JBL Go Portable Bluetooth Speaker</td>\n",
       "      <td>Paket mendarat dengan selamat......produk orig...</td>\n",
       "    </tr>\n",
       "    <tr>\n",
       "      <th>4</th>\n",
       "      <td>5</td>\n",
       "      <td>galaxy_online</td>\n",
       "      <td>Rexus Headset M1 - Wireless</td>\n",
       "      <td>tolong dicek lagi sebelum kirim barang nya ya ...</td>\n",
       "    </tr>\n",
       "    <tr>\n",
       "      <th>2</th>\n",
       "      <td>3</td>\n",
       "      <td>f2fcom</td>\n",
       "      <td>Printer HP Deskjet Ink Advantage 2135</td>\n",
       "      <td>Kualitas produk sangat baik, produk original, ...</td>\n",
       "    </tr>\n",
       "    <tr>\n",
       "      <th>8</th>\n",
       "      <td>9</td>\n",
       "      <td>canon.id</td>\n",
       "      <td>Canon Tinta Cartridge PG-47 Black</td>\n",
       "      <td>Kualitas produk sangat baik. Produk original. ...</td>\n",
       "    </tr>\n",
       "    <tr>\n",
       "      <th>9</th>\n",
       "      <td>10</td>\n",
       "      <td>Lenovo Ideapad 330 14AST</td>\n",
       "      <td>lenovo.id</td>\n",
       "      <td>Pengiriman aja yang agak lambat.</td>\n",
       "    </tr>\n",
       "  </tbody>\n",
       "</table>\n",
       "</div>"
      ],
      "text/plain": [
       "   No                      Toko  \\\n",
       "3   4              tokodealz.id   \n",
       "6   7         timecollections99   \n",
       "1   2         officialsonicgear   \n",
       "0   1             missconnie.id   \n",
       "5   6                 jiejiecai   \n",
       "7   8                    jbl.id   \n",
       "4   5             galaxy_online   \n",
       "2   3                    f2fcom   \n",
       "8   9                  canon.id   \n",
       "9  10  Lenovo Ideapad 330 14AST   \n",
       "\n",
       "                                              Produk  \\\n",
       "3  Huion H420 Tablet Papan Grafik Gambar USB 4x2,...   \n",
       "6                                         jam tangan   \n",
       "1                                  Speaker Bluetooth   \n",
       "0                 Soft Case TPU Motif Kartun Beruang   \n",
       "5                 Powerbank Xiaomi Mi 2 Pro 10000mah   \n",
       "7                  JBL Go Portable Bluetooth Speaker   \n",
       "4                        Rexus Headset M1 - Wireless   \n",
       "2              Printer HP Deskjet Ink Advantage 2135   \n",
       "8                  Canon Tinta Cartridge PG-47 Black   \n",
       "9                                          lenovo.id   \n",
       "\n",
       "                                            komentar  \n",
       "3                                Semoga awett Aamiin  \n",
       "6  Barang mantap harga murah keitung 190 ribu doa...  \n",
       "1   Mantab walau bas kurang dikit ,, tp sesuai harga  \n",
       "0  Barang baguuus, sesuai deskripsi, sesuai gamba...  \n",
       "5  sudah sampai plus bonusnya, terimakasih belum ...  \n",
       "7  Paket mendarat dengan selamat......produk orig...  \n",
       "4  tolong dicek lagi sebelum kirim barang nya ya ...  \n",
       "2  Kualitas produk sangat baik, produk original, ...  \n",
       "8  Kualitas produk sangat baik. Produk original. ...  \n",
       "9                   Pengiriman aja yang agak lambat.  "
      ]
     },
     "execution_count": 30,
     "metadata": {},
     "output_type": "execute_result"
    }
   ],
   "source": [
    "#Menampilkan data secara Ascending atau Descending berdasarkan kolom komentar\n",
    "df.sort_values(['Toko'], ascending=[0])"
   ]
  },
  {
   "cell_type": "code",
   "execution_count": 31,
   "id": "26f4d18e",
   "metadata": {
    "executionInfo": {
     "elapsed": 18,
     "status": "aborted",
     "timestamp": 1679889108482,
     "user": {
      "displayName": "Leon Sa",
      "userId": "01102662612867496637"
     },
     "user_tz": -420
    },
    "id": "26f4d18e"
   },
   "outputs": [
    {
     "data": {
      "text/html": [
       "<div>\n",
       "<style scoped>\n",
       "    .dataframe tbody tr th:only-of-type {\n",
       "        vertical-align: middle;\n",
       "    }\n",
       "\n",
       "    .dataframe tbody tr th {\n",
       "        vertical-align: top;\n",
       "    }\n",
       "\n",
       "    .dataframe thead th {\n",
       "        text-align: right;\n",
       "    }\n",
       "</style>\n",
       "<table border=\"1\" class=\"dataframe\">\n",
       "  <thead>\n",
       "    <tr style=\"text-align: right;\">\n",
       "      <th></th>\n",
       "      <th>Toko</th>\n",
       "      <th>komentar</th>\n",
       "    </tr>\n",
       "  </thead>\n",
       "  <tbody>\n",
       "    <tr>\n",
       "      <th>0</th>\n",
       "      <td>missconnie.id</td>\n",
       "      <td>Barang baguuus, sesuai deskripsi, sesuai gamba...</td>\n",
       "    </tr>\n",
       "    <tr>\n",
       "      <th>1</th>\n",
       "      <td>officialsonicgear</td>\n",
       "      <td>Mantab walau bas kurang dikit ,, tp sesuai harga</td>\n",
       "    </tr>\n",
       "    <tr>\n",
       "      <th>2</th>\n",
       "      <td>f2fcom</td>\n",
       "      <td>Kualitas produk sangat baik, produk original, ...</td>\n",
       "    </tr>\n",
       "    <tr>\n",
       "      <th>3</th>\n",
       "      <td>tokodealz.id</td>\n",
       "      <td>Semoga awett Aamiin</td>\n",
       "    </tr>\n",
       "    <tr>\n",
       "      <th>4</th>\n",
       "      <td>galaxy_online</td>\n",
       "      <td>tolong dicek lagi sebelum kirim barang nya ya ...</td>\n",
       "    </tr>\n",
       "    <tr>\n",
       "      <th>5</th>\n",
       "      <td>jiejiecai</td>\n",
       "      <td>sudah sampai plus bonusnya, terimakasih belum ...</td>\n",
       "    </tr>\n",
       "    <tr>\n",
       "      <th>6</th>\n",
       "      <td>timecollections99</td>\n",
       "      <td>Barang mantap harga murah keitung 190 ribu doa...</td>\n",
       "    </tr>\n",
       "    <tr>\n",
       "      <th>7</th>\n",
       "      <td>jbl.id</td>\n",
       "      <td>Paket mendarat dengan selamat......produk orig...</td>\n",
       "    </tr>\n",
       "    <tr>\n",
       "      <th>8</th>\n",
       "      <td>canon.id</td>\n",
       "      <td>Kualitas produk sangat baik. Produk original. ...</td>\n",
       "    </tr>\n",
       "    <tr>\n",
       "      <th>9</th>\n",
       "      <td>Lenovo Ideapad 330 14AST</td>\n",
       "      <td>Pengiriman aja yang agak lambat.</td>\n",
       "    </tr>\n",
       "  </tbody>\n",
       "</table>\n",
       "</div>"
      ],
      "text/plain": [
       "                       Toko                                           komentar\n",
       "0             missconnie.id  Barang baguuus, sesuai deskripsi, sesuai gamba...\n",
       "1         officialsonicgear   Mantab walau bas kurang dikit ,, tp sesuai harga\n",
       "2                    f2fcom  Kualitas produk sangat baik, produk original, ...\n",
       "3              tokodealz.id                                Semoga awett Aamiin\n",
       "4             galaxy_online  tolong dicek lagi sebelum kirim barang nya ya ...\n",
       "5                 jiejiecai  sudah sampai plus bonusnya, terimakasih belum ...\n",
       "6         timecollections99  Barang mantap harga murah keitung 190 ribu doa...\n",
       "7                    jbl.id  Paket mendarat dengan selamat......produk orig...\n",
       "8                  canon.id  Kualitas produk sangat baik. Produk original. ...\n",
       "9  Lenovo Ideapad 330 14AST                   Pengiriman aja yang agak lambat."
      ]
     },
     "execution_count": 31,
     "metadata": {},
     "output_type": "execute_result"
    }
   ],
   "source": [
    "#Menampilkan data beberapa kolom tertentu\n",
    "df[['Toko','komentar']]"
   ]
  },
  {
   "cell_type": "code",
   "execution_count": 9,
   "id": "72fd4155",
   "metadata": {
    "executionInfo": {
     "elapsed": 18,
     "status": "aborted",
     "timestamp": 1679889108482,
     "user": {
      "displayName": "Leon Sa",
      "userId": "01102662612867496637"
     },
     "user_tz": -420
    },
    "id": "72fd4155"
   },
   "outputs": [
    {
     "data": {
      "text/plain": [
       "[['missconnie.id',\n",
       "  'Barang baguuus, sesuai deskripsi, sesuai gambar, pengiriman agak lama karena dr luar negeri \\xa0'],\n",
       " ['officialsonicgear', 'Mantab walau bas kurang dikit ,, tp sesuai harga'],\n",
       " ['f2fcom',\n",
       "  'Kualitas produk sangat baik, produk original, harga produk sangat baik, kecepatan pengiriman sangat baik, respo.n penjual sangat baik'],\n",
       " ['tokodealz.id', 'Semoga awett Aamiin'],\n",
       " ['galaxy_online', 'tolong dicek lagi sebelum kirim barang nya ya gan '],\n",
       " ['jiejiecai',\n",
       "  'sudah sampai plus bonusnya, terimakasih belum saya coba semoga awet'],\n",
       " ['timecollections99',\n",
       "  'Barang mantap harga murah keitung 190 ribu doang asiyapppppp'],\n",
       " ['jbl.id',\n",
       "  'Paket mendarat dengan selamat......produk original jbl....dpt harga flashsale...senang bgt.....jbl mantull daahhh......suaraaa halus jernih lembut terasaa......semogaa produk jbl nya awet digunakan ......nextime order lagiiiii......thanks JBL shoppe............MANTULLLLLLLLLLLLLLL ........'],\n",
       " ['canon.id',\n",
       "  'Kualitas produk sangat baik. Produk original. Packaging sangat baik. Kecepatan pengiriman sangat baik.'],\n",
       " ['Lenovo Ideapad 330 14AST', 'Pengiriman aja yang agak lambat.']]"
      ]
     },
     "execution_count": 9,
     "metadata": {},
     "output_type": "execute_result"
    }
   ],
   "source": [
    "#Memasukkan data beberapa kolom tertentu ke dalam list python\n",
    "df[['Toko','komentar']].values.tolist()"
   ]
  },
  {
   "cell_type": "code",
   "execution_count": 10,
   "id": "a75ce585",
   "metadata": {
    "executionInfo": {
     "elapsed": 18,
     "status": "aborted",
     "timestamp": 1679889108483,
     "user": {
      "displayName": "Leon Sa",
      "userId": "01102662612867496637"
     },
     "user_tz": -420
    },
    "id": "a75ce585"
   },
   "outputs": [
    {
     "data": {
      "text/plain": [
       "No                                                         2\n",
       "Toko                                       officialsonicgear\n",
       "Produk                                     Speaker Bluetooth\n",
       "komentar    Mantab walau bas kurang dikit ,, tp sesuai harga\n",
       "Name: 1, dtype: object"
      ]
     },
     "execution_count": 10,
     "metadata": {},
     "output_type": "execute_result"
    }
   ],
   "source": [
    "#Menampilkan data pada baris/row tertentu\n",
    "df.iloc[1]"
   ]
  },
  {
   "cell_type": "code",
   "execution_count": 11,
   "id": "ab9fb775",
   "metadata": {
    "executionInfo": {
     "elapsed": 18,
     "status": "aborted",
     "timestamp": 1679889108483,
     "user": {
      "displayName": "Leon Sa",
      "userId": "01102662612867496637"
     },
     "user_tz": -420
    },
    "id": "ab9fb775"
   },
   "outputs": [
    {
     "data": {
      "text/html": [
       "<div>\n",
       "<style scoped>\n",
       "    .dataframe tbody tr th:only-of-type {\n",
       "        vertical-align: middle;\n",
       "    }\n",
       "\n",
       "    .dataframe tbody tr th {\n",
       "        vertical-align: top;\n",
       "    }\n",
       "\n",
       "    .dataframe thead th {\n",
       "        text-align: right;\n",
       "    }\n",
       "</style>\n",
       "<table border=\"1\" class=\"dataframe\">\n",
       "  <thead>\n",
       "    <tr style=\"text-align: right;\">\n",
       "      <th></th>\n",
       "      <th>No</th>\n",
       "      <th>Toko</th>\n",
       "      <th>Produk</th>\n",
       "      <th>komentar</th>\n",
       "    </tr>\n",
       "  </thead>\n",
       "  <tbody>\n",
       "    <tr>\n",
       "      <th>1</th>\n",
       "      <td>2</td>\n",
       "      <td>officialsonicgear</td>\n",
       "      <td>Speaker Bluetooth</td>\n",
       "      <td>Mantab walau bas kurang dikit ,, tp sesuai harga</td>\n",
       "    </tr>\n",
       "  </tbody>\n",
       "</table>\n",
       "</div>"
      ],
      "text/plain": [
       "   No               Toko             Produk  \\\n",
       "1   2  officialsonicgear  Speaker Bluetooth   \n",
       "\n",
       "                                           komentar  \n",
       "1  Mantab walau bas kurang dikit ,, tp sesuai harga  "
      ]
     },
     "execution_count": 11,
     "metadata": {},
     "output_type": "execute_result"
    }
   ],
   "source": [
    "df.iloc[[1]]"
   ]
  },
  {
   "cell_type": "code",
   "execution_count": 12,
   "id": "cbe3bd12",
   "metadata": {
    "executionInfo": {
     "elapsed": 21,
     "status": "aborted",
     "timestamp": 1679889108486,
     "user": {
      "displayName": "Leon Sa",
      "userId": "01102662612867496637"
     },
     "user_tz": -420
    },
    "id": "cbe3bd12"
   },
   "outputs": [
    {
     "name": "stdout",
     "output_type": "stream",
     "text": [
      "[['Barang baguuus, sesuai deskripsi, sesuai gambar, pengiriman agak lama karena dr luar negeri \\xa0', 'Mantab walau bas kurang dikit ,, tp sesuai harga', 'Kualitas produk sangat baik, produk original, harga produk sangat baik, kecepatan pengiriman sangat baik, respo.n penjual sangat baik', 'Semoga awett Aamiin', 'tolong dicek lagi sebelum kirim barang nya ya gan ', 'sudah sampai plus bonusnya, terimakasih belum saya coba semoga awet', 'Barang mantap harga murah keitung 190 ribu doang asiyapppppp', 'Paket mendarat dengan selamat......produk original jbl....dpt harga flashsale...senang bgt.....jbl mantull daahhh......suaraaa halus jernih lembut terasaa......semogaa produk jbl nya awet digunakan ......nextime order lagiiiii......thanks JBL shoppe............MANTULLLLLLLLLLLLLLL ........', 'Kualitas produk sangat baik. Produk original. Packaging sangat baik. Kecepatan pengiriman sangat baik.', 'Pengiriman aja yang agak lambat.']]\n"
     ]
    }
   ],
   "source": [
    "#Memasukkan data pada kolom komentar ke dalam list python\n",
    "#Deklarasi list array dengan nama list_komentar\n",
    "list_komentar = []\n",
    "\n",
    "#menambahkan isi data frame indexke-2 dalam list_komentar\n",
    "list_komentar.append (df ['komentar'].values.tolist ())\n",
    "\n",
    "#menampilkan hasil\n",
    "print (list_komentar)"
   ]
  },
  {
   "cell_type": "code",
   "execution_count": 13,
   "id": "22a931fa",
   "metadata": {
    "executionInfo": {
     "elapsed": 22,
     "status": "aborted",
     "timestamp": 1679889108487,
     "user": {
      "displayName": "Leon Sa",
      "userId": "01102662612867496637"
     },
     "user_tz": -420
    },
    "id": "22a931fa"
   },
   "outputs": [
    {
     "name": "stdout",
     "output_type": "stream",
     "text": [
      "Barang baguuus, sesuai deskripsi, sesuai gambar, pengiriman agak lama karena dr luar negeri  \n",
      "Mantab walau bas kurang dikit ,, tp sesuai harga\n",
      "Kualitas produk sangat baik, produk original, harga produk sangat baik, kecepatan pengiriman sangat baik, respo.n penjual sangat baik\n",
      "Semoga awett Aamiin\n",
      "tolong dicek lagi sebelum kirim barang nya ya gan \n",
      "sudah sampai plus bonusnya, terimakasih belum saya coba semoga awet\n",
      "Barang mantap harga murah keitung 190 ribu doang asiyapppppp\n",
      "Paket mendarat dengan selamat......produk original jbl....dpt harga flashsale...senang bgt.....jbl mantull daahhh......suaraaa halus jernih lembut terasaa......semogaa produk jbl nya awet digunakan ......nextime order lagiiiii......thanks JBL shoppe............MANTULLLLLLLLLLLLLLL ........\n",
      "Kualitas produk sangat baik. Produk original. Packaging sangat baik. Kecepatan pengiriman sangat baik.\n",
      "Pengiriman aja yang agak lambat.\n"
     ]
    }
   ],
   "source": [
    "#menampilkan list-komentar satu-persatu\n",
    "for komentar in list_komentar:\n",
    "    for komen in komentar:\n",
    "        print (komen)"
   ]
  },
  {
   "cell_type": "code",
   "execution_count": 14,
   "id": "34699455",
   "metadata": {
    "executionInfo": {
     "elapsed": 22,
     "status": "aborted",
     "timestamp": 1679889108487,
     "user": {
      "displayName": "Leon Sa",
      "userId": "01102662612867496637"
     },
     "user_tz": -420
    },
    "id": "34699455"
   },
   "outputs": [],
   "source": [
    "#import library\n",
    "from sklearn.feature_extraction.text import CountVectorizer"
   ]
  },
  {
   "cell_type": "code",
   "execution_count": 15,
   "id": "4a0efdc4",
   "metadata": {
    "executionInfo": {
     "elapsed": 22,
     "status": "aborted",
     "timestamp": 1679889108487,
     "user": {
      "displayName": "Leon Sa",
      "userId": "01102662612867496637"
     },
     "user_tz": -420
    },
    "id": "4a0efdc4"
   },
   "outputs": [
    {
     "name": "stdout",
     "output_type": "stream",
     "text": [
      "['Barang baguuus, sesuai deskripsi, sesuai gambar, pengiriman agak lama karena dr luar negeri \\xa0', 'Mantab walau bas kurang dikit ,, tp sesuai harga', 'Kualitas produk sangat baik, produk original, harga produk sangat baik, kecepatan pengiriman sangat baik, respo.n penjual sangat baik', 'Semoga awett Aamiin', 'tolong dicek lagi sebelum kirim barang nya ya gan ', 'sudah sampai plus bonusnya, terimakasih belum saya coba semoga awet', 'Barang mantap harga murah keitung 190 ribu doang asiyapppppp', 'Paket mendarat dengan selamat......produk original jbl....dpt harga flashsale...senang bgt.....jbl mantull daahhh......suaraaa halus jernih lembut terasaa......semogaa produk jbl nya awet digunakan ......nextime order lagiiiii......thanks JBL shoppe............MANTULLLLLLLLLLLLLLL ........', 'Kualitas produk sangat baik. Produk original. Packaging sangat baik. Kecepatan pengiriman sangat baik.', 'Pengiriman aja yang agak lambat.']\n"
     ]
    }
   ],
   "source": [
    "#Memasukkan data pada kolom komentar ke dalam list_komentar 1 untuk di hitung jumlah kata yang terdapat dalam komentar\n",
    "list_komentar1 = []\n",
    "list_komentar1=(df['komentar'].values.tolist())\n",
    "\n",
    "print(list_komentar1)"
   ]
  },
  {
   "cell_type": "code",
   "execution_count": 16,
   "id": "c21353cc",
   "metadata": {
    "executionInfo": {
     "elapsed": 23,
     "status": "aborted",
     "timestamp": 1679889108488,
     "user": {
      "displayName": "Leon Sa",
      "userId": "01102662612867496637"
     },
     "user_tz": -420
    },
    "id": "c21353cc"
   },
   "outputs": [
    {
     "name": "stdout",
     "output_type": "stream",
     "text": [
      "['barang baguuus, sesuai deskripsi, sesuai gambar, pengiriman agak lama karena dr luar negeri \\xa0', 'mantab walau bas kurang dikit ,, tp sesuai harga', 'kualitas produk sangat baik, produk original, harga produk sangat baik, kecepatan pengiriman sangat baik, respo.n penjual sangat baik', 'semoga awett aamiin', 'tolong dicek lagi sebelum kirim barang nya ya gan ', 'sudah sampai plus bonusnya, terimakasih belum saya coba semoga awet', 'barang mantap harga murah keitung 190 ribu doang asiyapppppp', 'paket mendarat dengan selamat......produk original jbl....dpt harga flashsale...senang bgt.....jbl mantull daahhh......suaraaa halus jernih lembut terasaa......semogaa produk jbl nya awet digunakan ......nextime order lagiiiii......thanks jbl shoppe............mantulllllllllllllll ........', 'kualitas produk sangat baik. produk original. packaging sangat baik. kecepatan pengiriman sangat baik.', 'pengiriman aja yang agak lambat.']\n"
     ]
    }
   ],
   "source": [
    "#Mengubah list_komentar1 yang berisikan komentar menjadi lowercase\n",
    "for i in range(len(list_komentar1)):\n",
    "    list_komentar1[i] = list_komentar1[i].lower()\n",
    "print(list_komentar1)"
   ]
  },
  {
   "cell_type": "code",
   "execution_count": 17,
   "id": "ae4baccc",
   "metadata": {
    "executionInfo": {
     "elapsed": 23,
     "status": "aborted",
     "timestamp": 1679889108489,
     "user": {
      "displayName": "Leon Sa",
      "userId": "01102662612867496637"
     },
     "user_tz": -420
    },
    "id": "ae4baccc"
   },
   "outputs": [
    {
     "name": "stdout",
     "output_type": "stream",
     "text": [
      "82\n"
     ]
    }
   ],
   "source": [
    "#Menghitung jumlah kata\n",
    "CV = CountVectorizer()\n",
    "term_fit = CV.fit (list_komentar1)\n",
    "\n",
    "print (len(term_fit.vocabulary_))"
   ]
  },
  {
   "cell_type": "code",
   "execution_count": 18,
   "id": "ad82ee93",
   "metadata": {
    "executionInfo": {
     "elapsed": 24,
     "status": "aborted",
     "timestamp": 1679889108490,
     "user": {
      "displayName": "Leon Sa",
      "userId": "01102662612867496637"
     },
     "user_tz": -420
    },
    "id": "ad82ee93"
   },
   "outputs": [
    {
     "name": "stdout",
     "output_type": "stream",
     "text": [
      "{'barang': 9, 'baguuus': 7, 'sesuai': 70, 'deskripsi': 17, 'gambar': 25, 'pengiriman': 56, 'agak': 2, 'lama': 39, 'karena': 31, 'dr': 23, 'luar': 42, 'negeri': 49, 'mantab': 43, 'walau': 79, 'bas': 10, 'kurang': 36, 'dikit': 20, 'tp': 78, 'harga': 28, 'kualitas': 35, 'produk': 59, 'sangat': 63, 'baik': 8, 'original': 53, 'kecepatan': 32, 'respo': 60, 'penjual': 57, 'semoga': 67, 'awett': 6, 'aamiin': 1, 'tolong': 77, 'dicek': 18, 'lagi': 37, 'sebelum': 65, 'kirim': 34, 'nya': 51, 'ya': 80, 'gan': 26, 'sudah': 73, 'sampai': 62, 'plus': 58, 'bonusnya': 13, 'terimakasih': 75, 'belum': 11, 'saya': 64, 'coba': 14, 'awet': 5, 'mantap': 44, 'murah': 48, 'keitung': 33, '190': 0, 'ribu': 61, 'doang': 21, 'asiyapppppp': 4, 'paket': 55, 'mendarat': 47, 'dengan': 16, 'selamat': 66, 'jbl': 29, 'dpt': 22, 'flashsale': 24, 'senang': 69, 'bgt': 12, 'mantull': 45, 'daahhh': 15, 'suaraaa': 72, 'halus': 27, 'jernih': 30, 'lembut': 41, 'terasaa': 74, 'semogaa': 68, 'digunakan': 19, 'nextime': 50, 'order': 52, 'lagiiiii': 38, 'thanks': 76, 'shoppe': 71, 'mantulllllllllllllll': 46, 'packaging': 54, 'aja': 3, 'yang': 81, 'lambat': 40}\n"
     ]
    }
   ],
   "source": [
    "#Menampilkan kata-kata yang terdapat dalam term\n",
    "print(term_fit.vocabulary_)"
   ]
  },
  {
   "cell_type": "code",
   "execution_count": null,
   "id": "4e6ad17c",
   "metadata": {
    "executionInfo": {
     "elapsed": 25,
     "status": "aborted",
     "timestamp": 1679889108491,
     "user": {
      "displayName": "Leon Sa",
      "userId": "01102662612867496637"
     },
     "user_tz": -420
    },
    "id": "4e6ad17c"
   },
   "outputs": [],
   "source": []
  }
 ],
 "metadata": {
  "colab": {
   "provenance": []
  },
  "kernelspec": {
   "display_name": "Python 3 (ipykernel)",
   "language": "python",
   "name": "python3"
  },
  "language_info": {
   "codemirror_mode": {
    "name": "ipython",
    "version": 3
   },
   "file_extension": ".py",
   "mimetype": "text/x-python",
   "name": "python",
   "nbconvert_exporter": "python",
   "pygments_lexer": "ipython3",
   "version": "3.10.9"
  }
 },
 "nbformat": 4,
 "nbformat_minor": 5
}
