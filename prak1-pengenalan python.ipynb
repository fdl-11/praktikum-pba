{
 "cells": [
  {
   "cell_type": "code",
   "execution_count": 1,
   "id": "105654ee",
   "metadata": {
    "id": "105654ee",
    "outputId": "3c2370ff-59db-4ba5-c8dd-9379bec780cd"
   },
   "outputs": [
    {
     "name": "stdout",
     "output_type": "stream",
     "text": [
      "hello word\n"
     ]
    }
   ],
   "source": [
    "print (\"hello word\")"
   ]
  },
  {
   "cell_type": "markdown",
   "id": "4f8ff067",
   "metadata": {
    "id": "4f8ff067"
   },
   "source": [
    "# Aritmatika"
   ]
  },
  {
   "cell_type": "code",
   "execution_count": 2,
   "id": "accec9a0",
   "metadata": {
    "id": "accec9a0"
   },
   "outputs": [],
   "source": [
    "a = 5"
   ]
  },
  {
   "cell_type": "code",
   "execution_count": 3,
   "id": "3bd1097c",
   "metadata": {
    "id": "3bd1097c"
   },
   "outputs": [],
   "source": [
    "b = 7"
   ]
  },
  {
   "cell_type": "code",
   "execution_count": 4,
   "id": "87ac6e8a",
   "metadata": {
    "id": "87ac6e8a",
    "outputId": "39d16157-a8a2-4f32-9f4e-e1b1948c1f32"
   },
   "outputs": [
    {
     "data": {
      "text/plain": [
       "12"
      ]
     },
     "execution_count": 4,
     "metadata": {},
     "output_type": "execute_result"
    }
   ],
   "source": [
    "a+b"
   ]
  },
  {
   "cell_type": "code",
   "execution_count": 5,
   "id": "a4c23551",
   "metadata": {
    "id": "a4c23551",
    "outputId": "3264b09f-2c90-4b4a-b184-90606a452db1"
   },
   "outputs": [
    {
     "data": {
      "text/plain": [
       "0.7142857142857143"
      ]
     },
     "execution_count": 5,
     "metadata": {},
     "output_type": "execute_result"
    }
   ],
   "source": [
    "a/b"
   ]
  },
  {
   "cell_type": "code",
   "execution_count": 6,
   "id": "4325dbb7",
   "metadata": {
    "id": "4325dbb7",
    "outputId": "f1f608b1-8d11-4a7a-8e2c-e08c773557e9"
   },
   "outputs": [
    {
     "data": {
      "text/plain": [
       "-2"
      ]
     },
     "execution_count": 6,
     "metadata": {},
     "output_type": "execute_result"
    }
   ],
   "source": [
    "a-b"
   ]
  },
  {
   "cell_type": "code",
   "execution_count": 7,
   "id": "3e136c08",
   "metadata": {
    "id": "3e136c08",
    "outputId": "e77975c5-89d6-40b5-e928-f734c0da571f"
   },
   "outputs": [
    {
     "data": {
      "text/plain": [
       "35"
      ]
     },
     "execution_count": 7,
     "metadata": {},
     "output_type": "execute_result"
    }
   ],
   "source": [
    "a*b"
   ]
  },
  {
   "cell_type": "code",
   "execution_count": 8,
   "id": "77627020",
   "metadata": {
    "id": "77627020",
    "outputId": "6d2a9738-f4d1-4ec1-89b1-24d5b953a219"
   },
   "outputs": [
    {
     "data": {
      "text/plain": [
       "78125"
      ]
     },
     "execution_count": 8,
     "metadata": {},
     "output_type": "execute_result"
    }
   ],
   "source": [
    "a**b"
   ]
  },
  {
   "cell_type": "code",
   "execution_count": 9,
   "id": "a9d10aa8",
   "metadata": {
    "id": "a9d10aa8",
    "outputId": "ccb7cb36-0f10-4c1c-9ed7-011ecc07f628"
   },
   "outputs": [
    {
     "data": {
      "text/plain": [
       "5"
      ]
     },
     "execution_count": 9,
     "metadata": {},
     "output_type": "execute_result"
    }
   ],
   "source": [
    "a%b"
   ]
  },
  {
   "cell_type": "markdown",
   "id": "4f1f2f7a",
   "metadata": {
    "id": "4f1f2f7a"
   },
   "source": [
    "# operasi relasisonal"
   ]
  },
  {
   "cell_type": "code",
   "execution_count": 10,
   "id": "3420b0a7",
   "metadata": {
    "id": "3420b0a7",
    "outputId": "cfdf5fba-89af-4731-f8a1-0535a36a1307"
   },
   "outputs": [
    {
     "data": {
      "text/plain": [
       "False"
      ]
     },
     "execution_count": 10,
     "metadata": {},
     "output_type": "execute_result"
    }
   ],
   "source": [
    "a>b"
   ]
  },
  {
   "cell_type": "code",
   "execution_count": 11,
   "id": "4fac5d8f",
   "metadata": {
    "id": "4fac5d8f",
    "outputId": "00d3ab1b-d935-4b58-c011-494115b7efe3"
   },
   "outputs": [
    {
     "data": {
      "text/plain": [
       "True"
      ]
     },
     "execution_count": 11,
     "metadata": {},
     "output_type": "execute_result"
    }
   ],
   "source": [
    "a<b"
   ]
  },
  {
   "cell_type": "code",
   "execution_count": 12,
   "id": "86cc8d04",
   "metadata": {
    "id": "86cc8d04",
    "outputId": "c12c3cb3-6b85-41cb-b6fa-f900334fe719"
   },
   "outputs": [
    {
     "data": {
      "text/plain": [
       "True"
      ]
     },
     "execution_count": 12,
     "metadata": {},
     "output_type": "execute_result"
    }
   ],
   "source": [
    "a<=b"
   ]
  },
  {
   "cell_type": "code",
   "execution_count": 13,
   "id": "66bcfa25",
   "metadata": {
    "id": "66bcfa25",
    "outputId": "421fd345-ffc6-4b91-b891-2774d76ec67e"
   },
   "outputs": [
    {
     "data": {
      "text/plain": [
       "False"
      ]
     },
     "execution_count": 13,
     "metadata": {},
     "output_type": "execute_result"
    }
   ],
   "source": [
    "a>=b"
   ]
  },
  {
   "cell_type": "code",
   "execution_count": 14,
   "id": "e7c5d3e3",
   "metadata": {
    "id": "e7c5d3e3",
    "outputId": "208dead7-052e-48e9-da75-87242b0e0220"
   },
   "outputs": [
    {
     "data": {
      "text/plain": [
       "True"
      ]
     },
     "execution_count": 14,
     "metadata": {},
     "output_type": "execute_result"
    }
   ],
   "source": [
    "a!=b"
   ]
  },
  {
   "cell_type": "code",
   "execution_count": 15,
   "id": "0b57fca7",
   "metadata": {
    "id": "0b57fca7",
    "outputId": "ebdef3fd-f274-4ee4-8706-7e73876e3027"
   },
   "outputs": [
    {
     "data": {
      "text/plain": [
       "False"
      ]
     },
     "execution_count": 15,
     "metadata": {},
     "output_type": "execute_result"
    }
   ],
   "source": [
    "a==b"
   ]
  },
  {
   "cell_type": "markdown",
   "id": "e30a0b84",
   "metadata": {
    "id": "e30a0b84"
   },
   "source": [
    "# operasi logika"
   ]
  },
  {
   "cell_type": "code",
   "execution_count": 16,
   "id": "b7943cd3",
   "metadata": {
    "id": "b7943cd3"
   },
   "outputs": [],
   "source": [
    "c = True"
   ]
  },
  {
   "cell_type": "code",
   "execution_count": 17,
   "id": "d3def864",
   "metadata": {
    "id": "d3def864"
   },
   "outputs": [],
   "source": [
    "d = False"
   ]
  },
  {
   "cell_type": "code",
   "execution_count": 18,
   "id": "3a8ab8c2",
   "metadata": {
    "id": "3a8ab8c2",
    "outputId": "d0e7f76b-a79e-400d-8925-b5e4ba4fa9c6"
   },
   "outputs": [
    {
     "data": {
      "text/plain": [
       "True"
      ]
     },
     "execution_count": 18,
     "metadata": {},
     "output_type": "execute_result"
    }
   ],
   "source": [
    "c or d"
   ]
  },
  {
   "cell_type": "code",
   "execution_count": 19,
   "id": "939e235b",
   "metadata": {
    "id": "939e235b",
    "outputId": "9c8cf7f6-0721-48e1-f3cc-b3ee82331445"
   },
   "outputs": [
    {
     "data": {
      "text/plain": [
       "False"
      ]
     },
     "execution_count": 19,
     "metadata": {},
     "output_type": "execute_result"
    }
   ],
   "source": [
    "c and d"
   ]
  },
  {
   "cell_type": "code",
   "execution_count": 20,
   "id": "d1a7c938",
   "metadata": {
    "id": "d1a7c938",
    "outputId": "c80be627-9f4c-4152-9e8f-aeeb3e880fe3"
   },
   "outputs": [
    {
     "data": {
      "text/plain": [
       "False"
      ]
     },
     "execution_count": 20,
     "metadata": {},
     "output_type": "execute_result"
    }
   ],
   "source": [
    "not c"
   ]
  },
  {
   "cell_type": "markdown",
   "id": "8eb535a2",
   "metadata": {
    "id": "8eb535a2"
   },
   "source": [
    "# kodisi percabangan"
   ]
  },
  {
   "cell_type": "code",
   "execution_count": 21,
   "id": "333eda7b",
   "metadata": {
    "id": "333eda7b",
    "outputId": "b38585a2-fdd8-410a-f03c-1d2d1c03b3d8"
   },
   "outputs": [
    {
     "name": "stdout",
     "output_type": "stream",
     "text": [
      "nilai 1 lebih kecil dari nilai 2\n"
     ]
    }
   ],
   "source": [
    "#if else\n",
    "nilai1=2\n",
    "nilai2=3\n",
    "if(nilai1<nilai2):\n",
    "    print(\"nilai 1 lebih kecil dari nilai 2\")\n",
    "elif(nilali1>nilai2):\n",
    "    print(\"nilai 1 lebih besar dari nilai 2\")"
   ]
  },
  {
   "cell_type": "code",
   "execution_count": 22,
   "id": "bfcce455",
   "metadata": {
    "id": "bfcce455",
    "outputId": "66b34d3a-4d73-4973-9a76-52b9067e4a65"
   },
   "outputs": [
    {
     "name": "stdout",
     "output_type": "stream",
     "text": [
      "praktikum PBA\n"
     ]
    }
   ],
   "source": [
    "#while\n",
    "a = 5\n",
    "i = 1\n",
    "while (i<=1):\n",
    "    print(\"praktikum PBA\")\n",
    "    i = i+1"
   ]
  },
  {
   "cell_type": "markdown",
   "id": "e0b88cc9",
   "metadata": {
    "id": "e0b88cc9"
   },
   "source": [
    "# list"
   ]
  },
  {
   "cell_type": "code",
   "execution_count": 23,
   "id": "0be845d8",
   "metadata": {
    "id": "0be845d8"
   },
   "outputs": [],
   "source": [
    "array1 = [1234, 'Elsa', 179, 'UAD']"
   ]
  },
  {
   "cell_type": "code",
   "execution_count": 24,
   "id": "a9bdc57b",
   "metadata": {
    "id": "a9bdc57b",
    "outputId": "56e6f475-f769-4a99-c017-4b24b39864c4"
   },
   "outputs": [
    {
     "data": {
      "text/plain": [
       "[1234, 'Elsa', 179, 'UAD']"
      ]
     },
     "execution_count": 24,
     "metadata": {},
     "output_type": "execute_result"
    }
   ],
   "source": [
    "array1"
   ]
  },
  {
   "cell_type": "code",
   "execution_count": 25,
   "id": "49b5c943",
   "metadata": {
    "id": "49b5c943",
    "outputId": "fc3980d6-76b5-43b4-cb36-ff46d039cd58"
   },
   "outputs": [
    {
     "data": {
      "text/plain": [
       "1234"
      ]
     },
     "execution_count": 25,
     "metadata": {},
     "output_type": "execute_result"
    }
   ],
   "source": [
    "array1[0]"
   ]
  },
  {
   "cell_type": "code",
   "execution_count": 26,
   "id": "a5c351e1",
   "metadata": {
    "id": "a5c351e1",
    "outputId": "69ff105c-6b32-4c9e-d9e7-20d80fc53594"
   },
   "outputs": [
    {
     "data": {
      "text/plain": [
       "179"
      ]
     },
     "execution_count": 26,
     "metadata": {},
     "output_type": "execute_result"
    }
   ],
   "source": [
    "array1[2]"
   ]
  },
  {
   "cell_type": "code",
   "execution_count": 27,
   "id": "40e75e47",
   "metadata": {
    "id": "40e75e47",
    "outputId": "3ae097ac-bafa-4de7-bbb3-9e4a7e811556"
   },
   "outputs": [
    {
     "data": {
      "text/plain": [
       "'UAD'"
      ]
     },
     "execution_count": 27,
     "metadata": {},
     "output_type": "execute_result"
    }
   ],
   "source": [
    "array1[3]"
   ]
  },
  {
   "cell_type": "code",
   "execution_count": 28,
   "id": "4565cb2e",
   "metadata": {
    "id": "4565cb2e",
    "outputId": "96680b8a-a11c-41d7-e069-225aa48711fb"
   },
   "outputs": [
    {
     "data": {
      "text/plain": [
       "'UAD'"
      ]
     },
     "execution_count": 28,
     "metadata": {},
     "output_type": "execute_result"
    }
   ],
   "source": [
    "array1[-1]"
   ]
  },
  {
   "cell_type": "code",
   "execution_count": 29,
   "id": "1566c6d5",
   "metadata": {
    "id": "1566c6d5",
    "outputId": "dc40b277-0dd2-4c4e-a093-8ef2f461c1ab"
   },
   "outputs": [
    {
     "data": {
      "text/plain": [
       "'Elsa'"
      ]
     },
     "execution_count": 29,
     "metadata": {},
     "output_type": "execute_result"
    }
   ],
   "source": [
    "array1[-3]"
   ]
  },
  {
   "cell_type": "code",
   "execution_count": 30,
   "id": "976e1c73",
   "metadata": {
    "id": "976e1c73"
   },
   "outputs": [],
   "source": [
    "del array1[0]"
   ]
  },
  {
   "cell_type": "code",
   "execution_count": 31,
   "id": "6c778173",
   "metadata": {
    "id": "6c778173",
    "outputId": "50695fd1-9c9b-4c29-8283-7e0b2979e30b"
   },
   "outputs": [
    {
     "data": {
      "text/plain": [
       "['Elsa', 179, 'UAD']"
      ]
     },
     "execution_count": 31,
     "metadata": {},
     "output_type": "execute_result"
    }
   ],
   "source": [
    "array1"
   ]
  },
  {
   "cell_type": "code",
   "execution_count": 32,
   "id": "0a4b7895",
   "metadata": {
    "id": "0a4b7895"
   },
   "outputs": [],
   "source": [
    "array1.remove('UAD')"
   ]
  },
  {
   "cell_type": "code",
   "execution_count": 33,
   "id": "78eba3a1",
   "metadata": {
    "id": "78eba3a1",
    "outputId": "2c8633a4-9d27-4d0e-e12d-6af3c1b7bfef"
   },
   "outputs": [
    {
     "data": {
      "text/plain": [
       "['Elsa', 179]"
      ]
     },
     "execution_count": 33,
     "metadata": {},
     "output_type": "execute_result"
    }
   ],
   "source": [
    "array1"
   ]
  },
  {
   "cell_type": "code",
   "execution_count": 34,
   "id": "d732b360",
   "metadata": {
    "id": "d732b360"
   },
   "outputs": [],
   "source": [
    "NamaMahasiswa = (\"Kartika\",\"Annisa\",\"Zahrotul\",\"Noval\")"
   ]
  },
  {
   "cell_type": "code",
   "execution_count": 35,
   "id": "86bfd30b",
   "metadata": {
    "id": "86bfd30b",
    "outputId": "125c616c-33ff-4298-c829-881a6e0aeeaf"
   },
   "outputs": [
    {
     "data": {
      "text/plain": [
       "('Kartika', 'Annisa', 'Zahrotul', 'Noval')"
      ]
     },
     "execution_count": 35,
     "metadata": {},
     "output_type": "execute_result"
    }
   ],
   "source": [
    "NamaMahasiswa"
   ]
  },
  {
   "cell_type": "code",
   "execution_count": 36,
   "id": "f63a1101",
   "metadata": {
    "id": "f63a1101",
    "outputId": "bb8ac314-e1ff-484f-e82b-d22f9d9b9ac1"
   },
   "outputs": [
    {
     "ename": "AttributeError",
     "evalue": "'tuple' object has no attribute 'remove'",
     "output_type": "error",
     "traceback": [
      "\u001b[1;31m---------------------------------------------------------------------------\u001b[0m",
      "\u001b[1;31mAttributeError\u001b[0m                            Traceback (most recent call last)",
      "Cell \u001b[1;32mIn[36], line 1\u001b[0m\n\u001b[1;32m----> 1\u001b[0m \u001b[43mNamaMahasiswa\u001b[49m\u001b[38;5;241;43m.\u001b[39;49m\u001b[43mremove\u001b[49m(\u001b[38;5;124m\"\u001b[39m\u001b[38;5;124mKartika\u001b[39m\u001b[38;5;124m\"\u001b[39m)\n",
      "\u001b[1;31mAttributeError\u001b[0m: 'tuple' object has no attribute 'remove'"
     ]
    }
   ],
   "source": [
    "NamaMahasiswa.remove(\"Kartika\")"
   ]
  },
  {
   "cell_type": "code",
   "execution_count": null,
   "id": "f5900cae",
   "metadata": {
    "id": "f5900cae",
    "outputId": "612c41ae-95dd-4adc-b390-e09c783b71a3"
   },
   "outputs": [],
   "source": [
    "NamaMahasiswa[0] = \"zelma\""
   ]
  },
  {
   "cell_type": "code",
   "execution_count": null,
   "id": "7caa176c",
   "metadata": {
    "executionInfo": {
     "elapsed": 17,
     "status": "ok",
     "timestamp": 1679889049123,
     "user": {
      "displayName": "Leon Sa",
      "userId": "01102662612867496637"
     },
     "user_tz": -420
    },
    "id": "7caa176c"
   },
   "outputs": [],
   "source": [
    "DataRafik = {'nama':'Rafik Gumelar Kuswara', 'alamat': 'Sukabumi', 'Jurusan': 'Informatika', 'Nim':1900018374}"
   ]
  },
  {
   "cell_type": "code",
   "execution_count": null,
   "id": "bbf3d0a5",
   "metadata": {
    "colab": {
     "base_uri": "https://localhost:8080/"
    },
    "executionInfo": {
     "elapsed": 17,
     "status": "ok",
     "timestamp": 1679889049124,
     "user": {
      "displayName": "Leon Sa",
      "userId": "01102662612867496637"
     },
     "user_tz": -420
    },
    "id": "bbf3d0a5",
    "outputId": "9d908abf-c5a0-4c0c-f5f5-6e02f7432323"
   },
   "outputs": [],
   "source": [
    "DataRafik"
   ]
  },
  {
   "cell_type": "code",
   "execution_count": null,
   "id": "6a6dba99",
   "metadata": {
    "colab": {
     "base_uri": "https://localhost:8080/",
     "height": 36
    },
    "executionInfo": {
     "elapsed": 15,
     "status": "ok",
     "timestamp": 1679889049124,
     "user": {
      "displayName": "Leon Sa",
      "userId": "01102662612867496637"
     },
     "user_tz": -420
    },
    "id": "6a6dba99",
    "outputId": "6787daec-12f8-4d92-a638-0b1a60c939a1"
   },
   "outputs": [],
   "source": [
    "DataRafik['alamat']"
   ]
  },
  {
   "cell_type": "code",
   "execution_count": null,
   "id": "a0fdc316",
   "metadata": {
    "colab": {
     "base_uri": "https://localhost:8080/",
     "height": 36
    },
    "executionInfo": {
     "elapsed": 14,
     "status": "ok",
     "timestamp": 1679889049125,
     "user": {
      "displayName": "Leon Sa",
      "userId": "01102662612867496637"
     },
     "user_tz": -420
    },
    "id": "a0fdc316",
    "outputId": "0066640f-8473-4405-c38f-6202eaba11e4"
   },
   "outputs": [],
   "source": [
    "DataRafik['nama']"
   ]
  },
  {
   "cell_type": "code",
   "execution_count": null,
   "id": "4e7733ea",
   "metadata": {
    "executionInfo": {
     "elapsed": 13,
     "status": "ok",
     "timestamp": 1679889049125,
     "user": {
      "displayName": "Leon Sa",
      "userId": "01102662612867496637"
     },
     "user_tz": -420
    },
    "id": "4e7733ea"
   },
   "outputs": [],
   "source": [
    "del DataRafik['alamat']"
   ]
  },
  {
   "cell_type": "code",
   "execution_count": null,
   "id": "cc145bb0",
   "metadata": {
    "colab": {
     "base_uri": "https://localhost:8080/",
     "height": 171
    },
    "executionInfo": {
     "elapsed": 13,
     "status": "error",
     "timestamp": 1679889049125,
     "user": {
      "displayName": "Leon Sa",
      "userId": "01102662612867496637"
     },
     "user_tz": -420
    },
    "id": "cc145bb0",
    "outputId": "ad8da46c-df61-4c18-d387-f2fbab37fb9c"
   },
   "outputs": [],
   "source": [
    "dataRafik"
   ]
  },
  {
   "cell_type": "markdown",
   "id": "09735960",
   "metadata": {
    "id": "09735960"
   },
   "source": []
  },
  {
   "cell_type": "code",
   "execution_count": null,
   "id": "ae3de8a7",
   "metadata": {
    "id": "ae3de8a7"
   },
   "outputs": [],
   "source": []
  }
 ],
 "metadata": {
  "colab": {
   "provenance": []
  },
  "kernelspec": {
   "display_name": "Python 3 (ipykernel)",
   "language": "python",
   "name": "python3"
  },
  "language_info": {
   "codemirror_mode": {
    "name": "ipython",
    "version": 3
   },
   "file_extension": ".py",
   "mimetype": "text/x-python",
   "name": "python",
   "nbconvert_exporter": "python",
   "pygments_lexer": "ipython3",
   "version": "3.10.9"
  }
 },
 "nbformat": 4,
 "nbformat_minor": 5
}
