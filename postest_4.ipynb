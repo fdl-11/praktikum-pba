{
 "cells": [
  {
   "cell_type": "code",
   "execution_count": 48,
   "id": "f36fbafd",
   "metadata": {},
   "outputs": [],
   "source": [
    "# import library\n",
    "from sklearn.feature_extraction.text import CountVectorizer, TfidfTransformer\n",
    "# sklearn.feature_extraction.text untuk ekstraksi fitur\n",
    "# countVectorizer untuk convert dokumen ke dalam token matriks\n",
    "# TfidfTransformer untuk mengubah sejumlah token matriks ke dalam bentuk normalisasi tf atau tf-idf"
   ]
  },
  {
   "cell_type": "code",
   "execution_count": 49,
   "id": "830b16b0",
   "metadata": {},
   "outputs": [],
   "source": [
    "# inisialisasi dokumen\n",
    "list_dokumen = ['kebun binatang itu terlihat sangat luas',\n",
    "               'berbagai macam binatang terdapat di dalamnya',\n",
    "               'binatang-binatang di dalam kebun tersebut terlihat gemuk']"
   ]
  },
  {
   "cell_type": "code",
   "execution_count": 50,
   "id": "b9a48c7b",
   "metadata": {},
   "outputs": [],
   "source": [
    "CV = CountVectorizer() # inisialisasi variabel fungsi\n",
    "term_fit = CV.fit(list_dokumen) # pembelajaran kamus kosa kata semua token"
   ]
  },
  {
   "cell_type": "code",
   "execution_count": 51,
   "id": "d0ce6687",
   "metadata": {},
   "outputs": [
    {
     "name": "stdout",
     "output_type": "stream",
     "text": [
      "14\n"
     ]
    }
   ],
   "source": [
    "print(len(term_fit.vocabulary_)) # cetak panjang dari isi variabel"
   ]
  },
  {
   "cell_type": "code",
   "execution_count": 52,
   "id": "e2518558",
   "metadata": {},
   "outputs": [
    {
     "name": "stdout",
     "output_type": "stream",
     "text": [
      "{'kebun': 7, 'binatang': 1, 'itu': 6, 'terlihat': 12, 'sangat': 10, 'luas': 8, 'berbagai': 0, 'macam': 9, 'terdapat': 11, 'di': 4, 'dalamnya': 3, 'dalam': 2, 'tersebut': 13, 'gemuk': 5}\n"
     ]
    }
   ],
   "source": [
    "print(term_fit.vocabulary_) # cetak term/vocabularies beserta index"
   ]
  },
  {
   "cell_type": "code",
   "execution_count": 53,
   "id": "3581bb00",
   "metadata": {},
   "outputs": [
    {
     "name": "stdout",
     "output_type": "stream",
     "text": [
      "['berbagai', 'binatang', 'dalam', 'dalamnya', 'di', 'gemuk', 'itu', 'kebun', 'luas', 'macam', 'sangat', 'terdapat', 'terlihat', 'tersebut']\n"
     ]
    }
   ],
   "source": [
    "print(term_fit.get_feature_names()) # cetak term/vocabularies secara ascending"
   ]
  },
  {
   "cell_type": "code",
   "execution_count": 54,
   "id": "021dd6d7",
   "metadata": {},
   "outputs": [
    {
     "name": "stdout",
     "output_type": "stream",
     "text": [
      "  (0, 1)\t1\n",
      "  (0, 6)\t1\n",
      "  (0, 7)\t1\n",
      "  (0, 8)\t1\n",
      "  (0, 10)\t1\n",
      "  (0, 12)\t1\n",
      "  (1, 0)\t1\n",
      "  (1, 1)\t1\n",
      "  (1, 3)\t1\n",
      "  (1, 4)\t1\n",
      "  (1, 9)\t1\n",
      "  (1, 11)\t1\n",
      "  (2, 1)\t2\n",
      "  (2, 2)\t1\n",
      "  (2, 4)\t1\n",
      "  (2, 5)\t1\n",
      "  (2, 7)\t1\n",
      "  (2, 12)\t1\n",
      "  (2, 13)\t1\n"
     ]
    }
   ],
   "source": [
    "# menampilkan term frequency secara keseluruhan\n",
    "term_frequency_all = term_fit.transform(list_dokumen)\n",
    "print(term_frequency_all)"
   ]
  },
  {
   "cell_type": "code",
   "execution_count": 55,
   "id": "f8ded031",
   "metadata": {},
   "outputs": [
    {
     "name": "stdout",
     "output_type": "stream",
     "text": [
      "['kebun binatang itu terlihat sangat luas']\n"
     ]
    }
   ],
   "source": [
    "komentar_tf = [list_dokumen[0]]\n",
    "print(komentar_tf)"
   ]
  },
  {
   "cell_type": "code",
   "execution_count": 56,
   "id": "da769094",
   "metadata": {},
   "outputs": [
    {
     "name": "stdout",
     "output_type": "stream",
     "text": [
      "  (0, 1)\t1\n",
      "  (0, 6)\t1\n",
      "  (0, 7)\t1\n",
      "  (0, 8)\t1\n",
      "  (0, 10)\t1\n",
      "  (0, 12)\t1\n"
     ]
    }
   ],
   "source": [
    "term_frequency = term_fit.transform(komentar_tf) # menampilkan nilai keseluruhan frekuensi pada variabel komentar_tf\n",
    "print(term_frequency)"
   ]
  },
  {
   "cell_type": "code",
   "execution_count": 57,
   "id": "c53df195",
   "metadata": {},
   "outputs": [
    {
     "name": "stdout",
     "output_type": "stream",
     "text": [
      "di\n"
     ]
    }
   ],
   "source": [
    "print(term_fit.get_feature_names()[4]) # menampilkan kata pada index ke-4"
   ]
  },
  {
   "cell_type": "markdown",
   "id": "eb74f9c3",
   "metadata": {},
   "source": [
    "# TF-IDF"
   ]
  },
  {
   "cell_type": "code",
   "execution_count": 58,
   "id": "999e06b8",
   "metadata": {},
   "outputs": [
    {
     "name": "stdout",
     "output_type": "stream",
     "text": [
      "  (0, 1)\t1\n",
      "  (0, 6)\t1\n",
      "  (0, 7)\t1\n",
      "  (0, 8)\t1\n",
      "  (0, 10)\t1\n",
      "  (0, 12)\t1\n",
      "  (1, 0)\t1\n",
      "  (1, 1)\t1\n",
      "  (1, 3)\t1\n",
      "  (1, 4)\t1\n",
      "  (1, 9)\t1\n",
      "  (1, 11)\t1\n",
      "  (2, 1)\t2\n",
      "  (2, 2)\t1\n",
      "  (2, 4)\t1\n",
      "  (2, 5)\t1\n",
      "  (2, 7)\t1\n",
      "  (2, 12)\t1\n",
      "  (2, 13)\t1\n"
     ]
    }
   ],
   "source": [
    "komentar_term = term_fit.transform(list_dokumen) # menampilkan nilai frekuensi dari list dokumen yang akan diolah\n",
    "print(komentar_term)"
   ]
  },
  {
   "cell_type": "code",
   "execution_count": 59,
   "id": "32f17d22",
   "metadata": {},
   "outputs": [],
   "source": [
    "tfidf_transformer = TfidfTransformer().fit(komentar_term)\n",
    "# TfidfTransformer() digunakan untuk transform vocabulary documents\n",
    "    # ke dalam matriks term frequency atau TF-IDF"
   ]
  },
  {
   "cell_type": "code",
   "execution_count": 60,
   "id": "5cec7cda",
   "metadata": {},
   "outputs": [
    {
     "name": "stdout",
     "output_type": "stream",
     "text": [
      "  (0, 12)\t0.35829137488557944\n",
      "  (0, 10)\t0.4711101009983051\n",
      "  (0, 8)\t0.4711101009983051\n",
      "  (0, 7)\t0.35829137488557944\n",
      "  (0, 6)\t0.4711101009983051\n",
      "  (0, 1)\t0.2782452148327134\n"
     ]
    }
   ],
   "source": [
    "tfidf = tfidf_transformer.transform(term_frequency) # menampilkan term frequency dari dokumen di variabel komentar_term\n",
    "print(tfidf)"
   ]
  },
  {
   "cell_type": "code",
   "execution_count": 61,
   "id": "c8a74e85",
   "metadata": {},
   "outputs": [
    {
     "name": "stdout",
     "output_type": "stream",
     "text": [
      "[1.69314718 1.         1.69314718 1.69314718 1.28768207 1.69314718\n",
      " 1.69314718 1.28768207 1.69314718 1.69314718 1.69314718 1.69314718\n",
      " 1.28768207 1.69314718]\n"
     ]
    }
   ],
   "source": [
    "print(tfidf_transformer.idf_) # menampilkan nilai IDF"
   ]
  },
  {
   "cell_type": "markdown",
   "id": "d8cdef01",
   "metadata": {},
   "source": [
    "# IDF TERM TERTENTU"
   ]
  },
  {
   "cell_type": "code",
   "execution_count": 62,
   "id": "60cf8604",
   "metadata": {},
   "outputs": [
    {
     "name": "stdout",
     "output_type": "stream",
     "text": [
      "1.2876820724517808\n",
      "1.0\n",
      "1.6931471805599454\n",
      "1.2876820724517808\n",
      "1.6931471805599454\n",
      "1.6931471805599454\n",
      "1.6931471805599454\n",
      "1.6931471805599454\n",
      "1.6931471805599454\n",
      "1.2876820724517808\n",
      "1.6931471805599454\n",
      "1.6931471805599454\n",
      "1.6931471805599454\n",
      "1.6931471805599454\n"
     ]
    }
   ],
   "source": [
    "print(tfidf_transformer.idf_[term_fit.vocabulary_['kebun']])       # mengambil nilai idf dari kata \"kebun\"\n",
    "print(tfidf_transformer.idf_[term_fit.vocabulary_['binatang']])    # mengambil nilai idf dari kata \"binatang\"\n",
    "print(tfidf_transformer.idf_[term_fit.vocabulary_['itu']])         # mengambil nilai idf dari kata \"itu\"\n",
    "print(tfidf_transformer.idf_[term_fit.vocabulary_['terlihat']])    # mengambil nilai idf dari kata \"terlihat\"\n",
    "print(tfidf_transformer.idf_[term_fit.vocabulary_['sangat']])      # mengambil nilai idf dari kata \"sangat\"\n",
    "print(tfidf_transformer.idf_[term_fit.vocabulary_['luas']])        # mengambil nilai idf dari kata \"luas\"\n",
    "print(tfidf_transformer.idf_[term_fit.vocabulary_['berbagai']])    # mengambil nilai idf dari kata \"berbagai\"\n",
    "print(tfidf_transformer.idf_[term_fit.vocabulary_['macam']])       # mengambil nilai idf dari kata \"macam\"\n",
    "print(tfidf_transformer.idf_[term_fit.vocabulary_['terdapat']])    # mengambil nilai idf dari kata \"terdapat\"\n",
    "print(tfidf_transformer.idf_[term_fit.vocabulary_['di']])          # mengambil nilai idf dari kata \"di\"\n",
    "print(tfidf_transformer.idf_[term_fit.vocabulary_['dalamnya']])    # mengambil nilai idf dari kata \"dalamnya\"\n",
    "print(tfidf_transformer.idf_[term_fit.vocabulary_['dalam']])       # mengambil nilai idf dari kata \"dalam\"\n",
    "print(tfidf_transformer.idf_[term_fit.vocabulary_['tersebut']])    # mengambil nilai idf dari kata \"tersebut\"\n",
    "print(tfidf_transformer.idf_[term_fit.vocabulary_['gemuk']])       # mengambil nilai idf dari kata \"gemuk\""
   ]
  },
  {
   "cell_type": "markdown",
   "id": "200517ed",
   "metadata": {},
   "source": [
    "# TF-IDF SELURUH DOKUMEN"
   ]
  },
  {
   "cell_type": "code",
   "execution_count": 63,
   "id": "7e91bc89",
   "metadata": {
    "scrolled": true
   },
   "outputs": [
    {
     "name": "stdout",
     "output_type": "stream",
     "text": [
      "  (0, 12)\t0.35829137488557944\n",
      "  (0, 10)\t0.4711101009983051\n",
      "  (0, 8)\t0.4711101009983051\n",
      "  (0, 7)\t0.35829137488557944\n",
      "  (0, 6)\t0.4711101009983051\n",
      "  (0, 1)\t0.2782452148327134\n",
      "  (1, 11)\t0.450504072643198\n",
      "  (1, 9)\t0.450504072643198\n",
      "  (1, 4)\t0.3426199591918006\n",
      "  (1, 3)\t0.450504072643198\n",
      "  (1, 1)\t0.2660749625405929\n",
      "  (1, 0)\t0.450504072643198\n",
      "  (2, 13)\t0.4038794639052364\n",
      "  (2, 12)\t0.30716074247615954\n",
      "  (2, 7)\t0.30716074247615954\n",
      "  (2, 5)\t0.4038794639052364\n",
      "  (2, 4)\t0.30716074247615954\n",
      "  (2, 2)\t0.4038794639052364\n",
      "  (2, 1)\t0.47707543507430733\n"
     ]
    }
   ],
   "source": [
    "komentar_tfidf = tfidf_transformer.transform(komentar_term) # menampilkan hasil perhitungan tf idf seluruh term di dokumen\n",
    "print(komentar_tfidf)"
   ]
  },
  {
   "cell_type": "markdown",
   "id": "104a93d1",
   "metadata": {},
   "source": [
    "# Menghitung bobot dokumen"
   ]
  },
  {
   "cell_type": "code",
   "execution_count": 64,
   "id": "4987c111",
   "metadata": {},
   "outputs": [
    {
     "name": "stdout",
     "output_type": "stream",
     "text": [
      "2.408158267598788\n"
     ]
    }
   ],
   "source": [
    "print(komentar_tfidf[0].sum()) # menghitung W (bobot) dari dokumen 1"
   ]
  },
  {
   "cell_type": "code",
   "execution_count": 65,
   "id": "5b92a169",
   "metadata": {},
   "outputs": [
    {
     "name": "stdout",
     "output_type": "stream",
     "text": [
      "2.4107112123051855\n"
     ]
    }
   ],
   "source": [
    "print(komentar_tfidf[1].sum()) # menghitung W (bobot) dari dokumen 2"
   ]
  },
  {
   "cell_type": "code",
   "execution_count": 66,
   "id": "c16ce347",
   "metadata": {},
   "outputs": [
    {
     "name": "stdout",
     "output_type": "stream",
     "text": [
      "2.610196054218495\n"
     ]
    }
   ],
   "source": [
    "print(komentar_tfidf[2].sum()) # menghitung W (bobot) dari dokumen 3"
   ]
  }
 ],
 "metadata": {
  "kernelspec": {
   "display_name": "Python 3",
   "language": "python",
   "name": "python3"
  },
  "language_info": {
   "codemirror_mode": {
    "name": "ipython",
    "version": 3
   },
   "file_extension": ".py",
   "mimetype": "text/x-python",
   "name": "python",
   "nbconvert_exporter": "python",
   "pygments_lexer": "ipython3",
   "version": "3.8.5"
  }
 },
 "nbformat": 4,
 "nbformat_minor": 5
}
