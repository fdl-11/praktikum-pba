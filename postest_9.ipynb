{
 "cells": [
  {
   "cell_type": "markdown",
   "id": "759e4e42",
   "metadata": {},
   "source": [
    "## Google Translator"
   ]
  },
  {
   "cell_type": "markdown",
   "id": "e6575700",
   "metadata": {},
   "source": [
    "#### 1. English to Indonesia"
   ]
  },
  {
   "cell_type": "code",
   "execution_count": 14,
   "id": "41603518",
   "metadata": {
    "scrolled": true
   },
   "outputs": [
    {
     "data": {
      "text/plain": [
       "'Lakukan semua kebaikan yang Anda bisa, untuk semua orang yang Anda bisa, dengan segala cara yang Anda bisa, selama Anda bisa.'"
      ]
     },
     "execution_count": 14,
     "metadata": {},
     "output_type": "execute_result"
    }
   ],
   "source": [
    "from deep_translator import GoogleTranslator\n",
    "to_translate = 'Do all the good you can, for all the people you can, in all the ways you can, as long as you can.'\n",
    "translated = GoogleTranslator(source='en', target='id').translate(to_translate)\n",
    "translated"
   ]
  },
  {
   "cell_type": "markdown",
   "id": "f0de7e9d",
   "metadata": {},
   "source": [
    "#### 2. English to German"
   ]
  },
  {
   "cell_type": "code",
   "execution_count": 15,
   "id": "19df910c",
   "metadata": {
    "scrolled": true
   },
   "outputs": [
    {
     "data": {
      "text/plain": [
       "'Mein Name ist Rona und ich studiere derzeit an der Ahmad Dahlan University mit Schwerpunkt Informatik-Ingenieurwesen im dritten Jahr.'"
      ]
     },
     "execution_count": 15,
     "metadata": {},
     "output_type": "execute_result"
    }
   ],
   "source": [
    "to_translate = 'My name is Rona and currently study at Ahmad Dahlan University majoring informatics engineering 3rd years.'\n",
    "translated = GoogleTranslator(source='en', target='de').translate(to_translate)\n",
    "translated"
   ]
  },
  {
   "cell_type": "markdown",
   "id": "1b635c87",
   "metadata": {},
   "source": [
    "#### German to Indonesia"
   ]
  },
  {
   "cell_type": "code",
   "execution_count": 18,
   "id": "0a69a6f3",
   "metadata": {},
   "outputs": [
    {
     "data": {
      "text/plain": [
       "'Nama saya Rona dan saat ini saya adalah mahasiswa tahun ke 3 Universitas Ahmad Dahlan jurusan Teknik Komputer.'"
      ]
     },
     "execution_count": 18,
     "metadata": {},
     "output_type": "execute_result"
    }
   ],
   "source": [
    "to_translate = 'Mein Name ist Rona und ich studiere derzeit an der Ahmad Dahlan University mit Schwerpunkt Informatik-Ingenieurwesen im dritten Jahr.'\n",
    "translated = GoogleTranslator(source='de', target='id').translate(to_translate)\n",
    "translated"
   ]
  },
  {
   "cell_type": "markdown",
   "id": "15f06c72",
   "metadata": {},
   "source": [
    "#### 3. Indonesia ke Arabic"
   ]
  },
  {
   "cell_type": "code",
   "execution_count": 21,
   "id": "5e1a6828",
   "metadata": {},
   "outputs": [
    {
     "data": {
      "text/plain": [
       "'في الفصل 6 ، أخذت دورة معالجة اللغة الطبيعية'"
      ]
     },
     "execution_count": 21,
     "metadata": {},
     "output_type": "execute_result"
    }
   ],
   "source": [
    "to_translate = 'pada semester 6 saya mengambil mata kuliah Pemrosesan Bahasa Alami'\n",
    "translated = GoogleTranslator(source='id', target='ar').translate(to_translate)\n",
    "translated"
   ]
  },
  {
   "cell_type": "markdown",
   "id": "0f79433e",
   "metadata": {},
   "source": [
    "## MyMemory"
   ]
  },
  {
   "cell_type": "markdown",
   "id": "6126b317",
   "metadata": {},
   "source": [
    "#### 1. English to Indonesia"
   ]
  },
  {
   "cell_type": "code",
   "execution_count": 22,
   "id": "3e64ad5d",
   "metadata": {},
   "outputs": [
    {
     "data": {
      "text/plain": [
       "'Lakukan semua kebaikan yang Anda bisa, untuk semua orang yang Anda bisa, dengan segala cara yang Anda bisa, selama Anda bisa.'"
      ]
     },
     "execution_count": 22,
     "metadata": {},
     "output_type": "execute_result"
    }
   ],
   "source": [
    "from deep_translator import MyMemoryTranslator\n",
    "translated = MyMemoryTranslator(source='en', target='id').translate(text='Do all the good you can, for all the people you can, in all the ways you can, as long as you can.')\n",
    "translated"
   ]
  },
  {
   "cell_type": "markdown",
   "id": "21340621",
   "metadata": {},
   "source": [
    "#### 2. English to German"
   ]
  },
  {
   "cell_type": "code",
   "execution_count": 23,
   "id": "c632b88d",
   "metadata": {},
   "outputs": [
    {
     "data": {
      "text/plain": [
       "'Mein Name ist Rona und ich studiere derzeit an der Ahmad Dahlan University mit dem Schwerpunkt Informatik-Ingenieurwesen 3 Jahre.'"
      ]
     },
     "execution_count": 23,
     "metadata": {},
     "output_type": "execute_result"
    }
   ],
   "source": [
    "translated = MyMemoryTranslator(source='en', target='de').translate(text='My name is Rona and currently study at Ahmad Dahlan University majoring informatics engineering 3rd years.')\n",
    "translated"
   ]
  },
  {
   "cell_type": "markdown",
   "id": "232483df",
   "metadata": {},
   "source": [
    "#### German to Indonesia"
   ]
  },
  {
   "cell_type": "code",
   "execution_count": 24,
   "id": "27b2322e",
   "metadata": {},
   "outputs": [
    {
     "data": {
      "text/plain": [
       "'Nama saya Rona dan saya saat ini belajar di Universitas Ahmad Dahlan dengan fokus pada Teknik Ilmu Komputer 3 tahun.'"
      ]
     },
     "execution_count": 24,
     "metadata": {},
     "output_type": "execute_result"
    }
   ],
   "source": [
    "translated = MyMemoryTranslator(source='de', target='id').translate(text='Mein Name ist Rona und ich studiere derzeit an der Ahmad Dahlan University mit dem Schwerpunkt Informatik-Ingenieurwesen 3 Jahre.')\n",
    "translated"
   ]
  },
  {
   "cell_type": "markdown",
   "id": "9dec1020",
   "metadata": {},
   "source": [
    "#### 3. Indonesia ke Arabic"
   ]
  },
  {
   "cell_type": "code",
   "execution_count": 25,
   "id": "b6b6d71f",
   "metadata": {},
   "outputs": [
    {
     "data": {
      "text/plain": [
       "'في الفصل الدراسي 6 أخذت دورة معالجة اللغة الطبيعية'"
      ]
     },
     "execution_count": 25,
     "metadata": {},
     "output_type": "execute_result"
    }
   ],
   "source": [
    "translated = MyMemoryTranslator(source='id', target='ar').translate(text='pada semester 6 saya mengambil mata kuliah Pemrosesan Bahasa Alami')\n",
    "translated"
   ]
  },
  {
   "cell_type": "markdown",
   "id": "14c1fd8a",
   "metadata": {},
   "source": [
    "## PONS"
   ]
  },
  {
   "cell_type": "markdown",
   "id": "4bcab556",
   "metadata": {},
   "source": [
    "#### 4. English to French"
   ]
  },
  {
   "cell_type": "code",
   "execution_count": 29,
   "id": "8965b1ac",
   "metadata": {},
   "outputs": [
    {
     "data": {
      "text/plain": [
       "['gestion', 'laboratoire', 'considérer']"
      ]
     },
     "execution_count": 29,
     "metadata": {},
     "output_type": "execute_result"
    }
   ],
   "source": [
    "from deep_translator import PonsTranslator\n",
    "translated_word = PonsTranslator(source='english', target='french').translate_words([\"Administration\", \"laboratory\", \"consider\"])\n",
    "translated_word"
   ]
  },
  {
   "cell_type": "code",
   "execution_count": 33,
   "id": "511ffc5a",
   "metadata": {},
   "outputs": [
    {
     "data": {
      "text/plain": [
       "['considérer',\n",
       " 'examiner',\n",
       " 'étudier',\n",
       " 'réfléchir la façon dont',\n",
       " 'examiner les raisons pour lesquelles',\n",
       " 'décider si',\n",
       " 'sachez que',\n",
       " 'le jury délibère',\n",
       " 'prendre qc en considération',\n",
       " 'songer',\n",
       " 'faire attention',\n",
       " 'quand on songe que',\n",
       " 'tout compte fait',\n",
       " 'envisager',\n",
       " 'envisager de faire',\n",
       " 'penser qn pour un rôle',\n",
       " 'elle pensé moi pour le deuxième prix',\n",
       " 'penser qn qc comme qc',\n",
       " \"je pense que c'est un bon professeur choix\",\n",
       " 'considérer or estimer que',\n",
       " \"j'estime de mon devoir de le prévenir\",\n",
       " 'voir qn qc sous un jour favorable',\n",
       " \"considérez que l'affaire est close\",\n",
       " 'tiens-le pour fait oublié affaire conclue',\n",
       " 'réfléchir',\n",
       " \"j'ai besoin d'un peu de temps pour réfléchir\",\n",
       " 'réfléchi',\n",
       " \"c'est ma conviction que\",\n",
       " 'selon ma conviction',\n",
       " 'se prendre pour',\n",
       " 'se considérer comme',\n",
       " 'se prendre pour un écrivain génie',\n",
       " 'se considérer comme un écrivain génie',\n",
       " 'gestion',\n",
       " 'administration',\n",
       " 'administration judiciaire',\n",
       " 'être placé sous administration judiciaire',\n",
       " 'exercice',\n",
       " 'gouvernement',\n",
       " 'travail administratif',\n",
       " 'laboratoire',\n",
       " 'au laboratoire',\n",
       " 'de laboratoire',\n",
       " 'en laboratoire']"
      ]
     },
     "execution_count": 33,
     "metadata": {},
     "output_type": "execute_result"
    }
   ],
   "source": [
    "from deep_translator import PonsTranslator\n",
    "word = 'Administration, laboratory, consider'\n",
    "translated_word = PonsTranslator(source='english', target='french').translate(word, return_all=True)\n",
    "translated_word"
   ]
  },
  {
   "cell_type": "code",
   "execution_count": null,
   "id": "4f804dca",
   "metadata": {},
   "outputs": [],
   "source": []
  }
 ],
 "metadata": {
  "kernelspec": {
   "display_name": "Python 3 (ipykernel)",
   "language": "python",
   "name": "python3"
  },
  "language_info": {
   "codemirror_mode": {
    "name": "ipython",
    "version": 3
   },
   "file_extension": ".py",
   "mimetype": "text/x-python",
   "name": "python",
   "nbconvert_exporter": "python",
   "pygments_lexer": "ipython3",
   "version": "3.10.9"
  }
 },
 "nbformat": 4,
 "nbformat_minor": 5
}
