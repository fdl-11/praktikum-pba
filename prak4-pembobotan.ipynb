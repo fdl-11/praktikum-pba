{
 "cells": [
  {
   "cell_type": "code",
   "execution_count": 1,
   "id": "fcde9818",
   "metadata": {},
   "outputs": [],
   "source": [
    "# import library\n",
    "from sklearn.feature_extraction.text import CountVectorizer, TfidfTransformer\n",
    "# sklearn.feature_extraction.text untuk ekstraksi fitur\n",
    "# countVectorizer untuk convert dokumen ke dalam token matriks\n",
    "# TfidfTransformer untuk mengubah sejumlah token matriks ke dalam bentuk normalisasi tf atau tf-idf"
   ]
  },
  {
   "cell_type": "code",
   "execution_count": 2,
   "id": "f3a078e2",
   "metadata": {},
   "outputs": [],
   "source": [
    "# inisialisasi dokumen\n",
    "list_dokumen = ['hotel sangat bersih, pelayan hotel juga ramah',\n",
    "               'fasilitas hotel yg lumayan lengkap',\n",
    "               'fasilitas di kamar mandi banyak yg rusak']"
   ]
  },
  {
   "cell_type": "code",
   "execution_count": 4,
   "id": "d2606bb5",
   "metadata": {},
   "outputs": [],
   "source": [
    "CV = CountVectorizer() # inisialisasi variabel fungsi\n",
    "term_fit = CV.fit(list_dokumen) # pembelajaran kamus kosa kata semua token"
   ]
  },
  {
   "cell_type": "code",
   "execution_count": 5,
   "id": "0db21419",
   "metadata": {},
   "outputs": [
    {
     "name": "stdout",
     "output_type": "stream",
     "text": [
      "15\n"
     ]
    }
   ],
   "source": [
    "print(len(term_fit.vocabulary_)) # cetak panjang dari isi variabel"
   ]
  },
  {
   "cell_type": "code",
   "execution_count": 6,
   "id": "50e5648c",
   "metadata": {},
   "outputs": [
    {
     "name": "stdout",
     "output_type": "stream",
     "text": [
      "{'hotel': 4, 'sangat': 13, 'bersih': 1, 'pelayan': 10, 'juga': 5, 'ramah': 11, 'fasilitas': 3, 'yg': 14, 'lumayan': 8, 'lengkap': 7, 'di': 2, 'kamar': 6, 'mandi': 9, 'banyak': 0, 'rusak': 12}\n"
     ]
    }
   ],
   "source": [
    "print(term_fit.vocabulary_) # cetak term/vocabularies beserta index"
   ]
  },
  {
   "cell_type": "code",
   "execution_count": 7,
   "id": "46e5e9e6",
   "metadata": {},
   "outputs": [
    {
     "name": "stdout",
     "output_type": "stream",
     "text": [
      "['banyak', 'bersih', 'di', 'fasilitas', 'hotel', 'juga', 'kamar', 'lengkap', 'lumayan', 'mandi', 'pelayan', 'ramah', 'rusak', 'sangat', 'yg']\n"
     ]
    }
   ],
   "source": [
    "print(term_fit.get_feature_names()) # cetak term/vocabularies secara ascending"
   ]
  },
  {
   "cell_type": "code",
   "execution_count": 8,
   "id": "bea3f052",
   "metadata": {},
   "outputs": [
    {
     "name": "stdout",
     "output_type": "stream",
     "text": [
      "  (0, 1)\t1\n",
      "  (0, 4)\t2\n",
      "  (0, 5)\t1\n",
      "  (0, 10)\t1\n",
      "  (0, 11)\t1\n",
      "  (0, 13)\t1\n",
      "  (1, 3)\t1\n",
      "  (1, 4)\t1\n",
      "  (1, 7)\t1\n",
      "  (1, 8)\t1\n",
      "  (1, 14)\t1\n",
      "  (2, 0)\t1\n",
      "  (2, 2)\t1\n",
      "  (2, 3)\t1\n",
      "  (2, 6)\t1\n",
      "  (2, 9)\t1\n",
      "  (2, 12)\t1\n",
      "  (2, 14)\t1\n"
     ]
    }
   ],
   "source": [
    "# menampilkan term frequency secara keseluruhan\n",
    "term_frequency_all = term_fit.transform(list_dokumen)\n",
    "print(term_frequency_all)"
   ]
  },
  {
   "cell_type": "code",
   "execution_count": 9,
   "id": "9ac87957",
   "metadata": {},
   "outputs": [
    {
     "name": "stdout",
     "output_type": "stream",
     "text": [
      "['hotel sangat bersih, pelayan hotel juga ramah']\n"
     ]
    }
   ],
   "source": [
    "komentar_tf = [list_dokumen[0]]\n",
    "print(komentar_tf)"
   ]
  },
  {
   "cell_type": "code",
   "execution_count": 10,
   "id": "4ef2bafc",
   "metadata": {},
   "outputs": [
    {
     "name": "stdout",
     "output_type": "stream",
     "text": [
      "  (0, 1)\t1\n",
      "  (0, 4)\t2\n",
      "  (0, 5)\t1\n",
      "  (0, 10)\t1\n",
      "  (0, 11)\t1\n",
      "  (0, 13)\t1\n"
     ]
    }
   ],
   "source": [
    "term_frequency = term_fit.transform(komentar_tf) # menampilkan nilai keseluruhan frekuensi pada variabel komentar_tf\n",
    "print(term_frequency)"
   ]
  },
  {
   "cell_type": "code",
   "execution_count": 11,
   "id": "94b03fe5",
   "metadata": {},
   "outputs": [
    {
     "name": "stdout",
     "output_type": "stream",
     "text": [
      "hotel\n"
     ]
    }
   ],
   "source": [
    "print(term_fit.get_feature_names()[4]) # menampilkan kata pada index ke-4"
   ]
  },
  {
   "cell_type": "markdown",
   "id": "b43fe7ac",
   "metadata": {},
   "source": [
    "# TF-IDF"
   ]
  },
  {
   "cell_type": "code",
   "execution_count": 13,
   "id": "1b419e1c",
   "metadata": {},
   "outputs": [
    {
     "name": "stdout",
     "output_type": "stream",
     "text": [
      "  (0, 1)\t1\n",
      "  (0, 4)\t2\n",
      "  (0, 5)\t1\n",
      "  (0, 10)\t1\n",
      "  (0, 11)\t1\n",
      "  (0, 13)\t1\n",
      "  (1, 3)\t1\n",
      "  (1, 4)\t1\n",
      "  (1, 7)\t1\n",
      "  (1, 8)\t1\n",
      "  (1, 14)\t1\n",
      "  (2, 0)\t1\n",
      "  (2, 2)\t1\n",
      "  (2, 3)\t1\n",
      "  (2, 6)\t1\n",
      "  (2, 9)\t1\n",
      "  (2, 12)\t1\n",
      "  (2, 14)\t1\n"
     ]
    }
   ],
   "source": [
    "komentar_term = term_fit.transform(list_dokumen) # menampilkan nilai frekuensi dari list dokumen yang akan diolah\n",
    "print(komentar_term)"
   ]
  },
  {
   "cell_type": "code",
   "execution_count": 14,
   "id": "8e4d50cc",
   "metadata": {},
   "outputs": [],
   "source": [
    "tfidf_transformer = TfidfTransformer().fit(komentar_term)\n",
    "# TfidfTransformer() digunakan untuk transform vocabulary documents\n",
    "    # ke dalam matriks term frequency atau TF-IDF"
   ]
  },
  {
   "cell_type": "code",
   "execution_count": 15,
   "id": "14cbd686",
   "metadata": {},
   "outputs": [
    {
     "name": "stdout",
     "output_type": "stream",
     "text": [
      "  (0, 13)\t0.369772375024391\n",
      "  (0, 11)\t0.369772375024391\n",
      "  (0, 10)\t0.369772375024391\n",
      "  (0, 5)\t0.369772375024391\n",
      "  (0, 4)\t0.5624428445132056\n",
      "  (0, 1)\t0.369772375024391\n"
     ]
    }
   ],
   "source": [
    "tfidf = tfidf_transformer.transform(term_frequency) # menampilkan term frequency dari dokumen di variabel komentar_term\n",
    "print(tfidf)"
   ]
  },
  {
   "cell_type": "code",
   "execution_count": 16,
   "id": "ff436b24",
   "metadata": {},
   "outputs": [
    {
     "name": "stdout",
     "output_type": "stream",
     "text": [
      "[1.69314718 1.69314718 1.69314718 1.28768207 1.28768207 1.69314718\n",
      " 1.69314718 1.69314718 1.69314718 1.69314718 1.69314718 1.69314718\n",
      " 1.69314718 1.69314718 1.28768207]\n"
     ]
    }
   ],
   "source": [
    "print(tfidf_transformer.idf_) # menampilkan nilai IDF"
   ]
  },
  {
   "cell_type": "markdown",
   "id": "dd529241",
   "metadata": {},
   "source": [
    "# IDF TERM TERTENTU"
   ]
  },
  {
   "cell_type": "code",
   "execution_count": 17,
   "id": "6de861d6",
   "metadata": {},
   "outputs": [
    {
     "name": "stdout",
     "output_type": "stream",
     "text": [
      "1.2876820724517808\n",
      "1.6931471805599454\n"
     ]
    }
   ],
   "source": [
    "print(tfidf_transformer.idf_[term_fit.vocabulary_['fasilitas']]) # mengambil nilai idf dari kata \"fasilitas\"\n",
    "print(tfidf_transformer.idf_[term_fit.vocabulary_['kamar']]) # mengambil nilai idf dari kata \"kamar\""
   ]
  },
  {
   "cell_type": "markdown",
   "id": "3f52e464",
   "metadata": {},
   "source": [
    "# TF-IDF SELURUH DOKUMEN"
   ]
  },
  {
   "cell_type": "code",
   "execution_count": 22,
   "id": "e6d98be0",
   "metadata": {},
   "outputs": [
    {
     "name": "stdout",
     "output_type": "stream",
     "text": [
      "  (0, 13)\t0.369772375024391\n",
      "  (0, 11)\t0.369772375024391\n",
      "  (0, 10)\t0.369772375024391\n",
      "  (0, 5)\t0.369772375024391\n",
      "  (0, 4)\t0.5624428445132056\n",
      "  (0, 1)\t0.369772375024391\n",
      "  (1, 14)\t0.39351120409397233\n",
      "  (1, 8)\t0.5174199439321682\n",
      "  (1, 7)\t0.5174199439321682\n",
      "  (1, 4)\t0.39351120409397233\n",
      "  (1, 3)\t0.39351120409397233\n",
      "  (2, 14)\t0.3065042162415877\n",
      "  (2, 12)\t0.40301621080355077\n",
      "  (2, 9)\t0.40301621080355077\n",
      "  (2, 6)\t0.40301621080355077\n",
      "  (2, 3)\t0.3065042162415877\n",
      "  (2, 2)\t0.40301621080355077\n",
      "  (2, 0)\t0.40301621080355077\n"
     ]
    }
   ],
   "source": [
    "komentar_tfidf = tfidf_transformer.transform(komentar_term) # menampilkan hasil perhitungan tf idf seluruh term di dokumen\n",
    "print(komentar_tfidf)"
   ]
  }
 ],
 "metadata": {
  "kernelspec": {
   "display_name": "Python 3",
   "language": "python",
   "name": "python3"
  },
  "language_info": {
   "codemirror_mode": {
    "name": "ipython",
    "version": 3
   },
   "file_extension": ".py",
   "mimetype": "text/x-python",
   "name": "python",
   "nbconvert_exporter": "python",
   "pygments_lexer": "ipython3",
   "version": "3.8.5"
  }
 },
 "nbformat": 4,
 "nbformat_minor": 5
}
