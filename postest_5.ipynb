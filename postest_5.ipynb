{
 "cells": [
  {
   "cell_type": "markdown",
   "id": "4ba9c50d",
   "metadata": {},
   "source": [
    "### N-GRAM SENTENCE AND WORD"
   ]
  },
  {
   "cell_type": "code",
   "execution_count": 23,
   "id": "66c135b9",
   "metadata": {
    "scrolled": false
   },
   "outputs": [
    {
     "name": "stderr",
     "output_type": "stream",
     "text": [
      "[nltk_data] Downloading package punkt to\n",
      "[nltk_data]     C:\\Users\\PRAKTIKAN-06\\AppData\\Roaming\\nltk_data...\n",
      "[nltk_data]   Package punkt is already up-to-date!\n"
     ]
    },
    {
     "data": {
      "text/plain": [
       "True"
      ]
     },
     "execution_count": 23,
     "metadata": {},
     "output_type": "execute_result"
    },
    {
     "data": {
      "application/javascript": [
       "\n",
       "            setTimeout(function() {\n",
       "                var nbb_cell_id = 23;\n",
       "                var nbb_unformatted_code = \"# import library yang dibutuhkan\\nfrom nltk import ngrams\\nfrom nltk.util import ngrams\\nimport nltk\\n\\nnltk.download(\\\"punkt\\\")\";\n",
       "                var nbb_formatted_code = \"# import library yang dibutuhkan\\nfrom nltk import ngrams\\nfrom nltk.util import ngrams\\nimport nltk\\n\\nnltk.download(\\\"punkt\\\")\";\n",
       "                var nbb_cells = Jupyter.notebook.get_cells();\n",
       "                for (var i = 0; i < nbb_cells.length; ++i) {\n",
       "                    if (nbb_cells[i].input_prompt_number == nbb_cell_id) {\n",
       "                        if (nbb_cells[i].get_text() == nbb_unformatted_code) {\n",
       "                             nbb_cells[i].set_text(nbb_formatted_code);\n",
       "                        }\n",
       "                        break;\n",
       "                    }\n",
       "                }\n",
       "            }, 500);\n",
       "            "
      ],
      "text/plain": [
       "<IPython.core.display.Javascript object>"
      ]
     },
     "metadata": {},
     "output_type": "display_data"
    }
   ],
   "source": [
    "# import library yang dibutuhkan\n",
    "from nltk import ngrams\n",
    "from nltk.util import ngrams\n",
    "import nltk\n",
    "\n",
    "nltk.download(\"punkt\")"
   ]
  },
  {
   "cell_type": "code",
   "execution_count": 37,
   "id": "2af959b6",
   "metadata": {
    "scrolled": false
   },
   "outputs": [
    {
     "name": "stdout",
     "output_type": "stream",
     "text": [
      "('Pemrosesan', 'Bahasa')\n",
      "('Bahasa', 'Alami')\n",
      "('Alami', 'Program')\n",
      "('Program', 'Studi')\n",
      "('Studi', 'Informatika')\n",
      "('Informatika', 'Universitas')\n",
      "('Universitas', 'Ahmad')\n",
      "('Ahmad', 'Dahlan')\n",
      "('Dahlan', 'tahun')\n",
      "('tahun', '2022')\n"
     ]
    },
    {
     "data": {
      "application/javascript": [
       "\n",
       "            setTimeout(function() {\n",
       "                var nbb_cell_id = 37;\n",
       "                var nbb_unformatted_code = \"sentence = \\\"Pemrosesan Bahasa Alami Program Studi Informatika Universitas Ahmad Dahlan tahun 2022\\\"\\n# print (sentence. split())\\nn = 2  # bigram\\nbigram = ngrams(sentence.split(), n)  # memanggiL fungsi ngrams, dari nltk\\n# ngrams ini punya dua paramaeter, pertama sentence yang dipecah berarti tipe data array\\n# kedua ngramsnya disini menggunakan fourgram\\nfor grams in bigram:\\n    print(grams)\";\n",
       "                var nbb_formatted_code = \"sentence = \\\"Pemrosesan Bahasa Alami Program Studi Informatika Universitas Ahmad Dahlan tahun 2022\\\"\\n# print (sentence. split())\\nn = 2  # bigram\\nbigram = ngrams(sentence.split(), n)  # memanggiL fungsi ngrams, dari nltk\\n# ngrams ini punya dua paramaeter, pertama sentence yang dipecah berarti tipe data array\\n# kedua ngramsnya disini menggunakan fourgram\\nfor grams in bigram:\\n    print(grams)\";\n",
       "                var nbb_cells = Jupyter.notebook.get_cells();\n",
       "                for (var i = 0; i < nbb_cells.length; ++i) {\n",
       "                    if (nbb_cells[i].input_prompt_number == nbb_cell_id) {\n",
       "                        if (nbb_cells[i].get_text() == nbb_unformatted_code) {\n",
       "                             nbb_cells[i].set_text(nbb_formatted_code);\n",
       "                        }\n",
       "                        break;\n",
       "                    }\n",
       "                }\n",
       "            }, 500);\n",
       "            "
      ],
      "text/plain": [
       "<IPython.core.display.Javascript object>"
      ]
     },
     "metadata": {},
     "output_type": "display_data"
    }
   ],
   "source": [
    "sentence = \"Pemrosesan Bahasa Alami Program Studi Informatika Universitas Ahmad Dahlan tahun 2022\"\n",
    "# print (sentence. split())\n",
    "n = 2  # bigram\n",
    "bigram = ngrams(sentence.split(), n)  # memanggiL fungsi ngrams, dari nltk\n",
    "# ngrams ini punya dua paramaeter, pertama sentence yang dipecah berarti tipe data array\n",
    "# kedua ngramsnya disini menggunakan fourgram\n",
    "for grams in bigram:\n",
    "    print(grams)"
   ]
  },
  {
   "cell_type": "code",
   "execution_count": 38,
   "id": "f169beda",
   "metadata": {},
   "outputs": [
    {
     "name": "stdout",
     "output_type": "stream",
     "text": [
      "('Pemrosesan', 'Bahasa', 'Alami')\n",
      "('Bahasa', 'Alami', 'Program')\n",
      "('Alami', 'Program', 'Studi')\n",
      "('Program', 'Studi', 'Informatika')\n",
      "('Studi', 'Informatika', 'Universitas')\n",
      "('Informatika', 'Universitas', 'Ahmad')\n",
      "('Universitas', 'Ahmad', 'Dahlan')\n",
      "('Ahmad', 'Dahlan', 'tahun')\n",
      "('Dahlan', 'tahun', '2022')\n"
     ]
    },
    {
     "data": {
      "application/javascript": [
       "\n",
       "            setTimeout(function() {\n",
       "                var nbb_cell_id = 38;\n",
       "                var nbb_unformatted_code = \"sentence = \\\"Pemrosesan Bahasa Alami Program Studi Informatika Universitas Ahmad Dahlan tahun 2022\\\"\\n# print (sentence. split())\\nn = 3  # trigram\\ntrigram = ngrams(sentence.split(), n)  # memanggiL fungsi ngrams, dari nltk\\n# ngrams ini punya dua paramaeter, pertama sentence yang dipecah berarti tipe data array\\n# kedua ngramsnya disini menggunakan fourgram\\nfor grams in trigram:\\n    print(grams)\";\n",
       "                var nbb_formatted_code = \"sentence = \\\"Pemrosesan Bahasa Alami Program Studi Informatika Universitas Ahmad Dahlan tahun 2022\\\"\\n# print (sentence. split())\\nn = 3  # trigram\\ntrigram = ngrams(sentence.split(), n)  # memanggiL fungsi ngrams, dari nltk\\n# ngrams ini punya dua paramaeter, pertama sentence yang dipecah berarti tipe data array\\n# kedua ngramsnya disini menggunakan fourgram\\nfor grams in trigram:\\n    print(grams)\";\n",
       "                var nbb_cells = Jupyter.notebook.get_cells();\n",
       "                for (var i = 0; i < nbb_cells.length; ++i) {\n",
       "                    if (nbb_cells[i].input_prompt_number == nbb_cell_id) {\n",
       "                        if (nbb_cells[i].get_text() == nbb_unformatted_code) {\n",
       "                             nbb_cells[i].set_text(nbb_formatted_code);\n",
       "                        }\n",
       "                        break;\n",
       "                    }\n",
       "                }\n",
       "            }, 500);\n",
       "            "
      ],
      "text/plain": [
       "<IPython.core.display.Javascript object>"
      ]
     },
     "metadata": {},
     "output_type": "display_data"
    }
   ],
   "source": [
    "sentence = \"Pemrosesan Bahasa Alami Program Studi Informatika Universitas Ahmad Dahlan tahun 2022\"\n",
    "# print (sentence. split())\n",
    "n = 3  # trigram\n",
    "trigram = ngrams(sentence.split(), n)  # memanggiL fungsi ngrams, dari nltk\n",
    "# ngrams ini punya dua paramaeter, pertama sentence yang dipecah berarti tipe data array\n",
    "# kedua ngramsnya disini menggunakan fourgram\n",
    "for grams in trigram:\n",
    "    print(grams)"
   ]
  },
  {
   "cell_type": "code",
   "execution_count": 39,
   "id": "0d9ee30c",
   "metadata": {},
   "outputs": [
    {
     "name": "stdout",
     "output_type": "stream",
     "text": [
      "('Pemrosesan', 'Bahasa', 'Alami', 'Program', 'Studi')\n",
      "('Bahasa', 'Alami', 'Program', 'Studi', 'Informatika')\n",
      "('Alami', 'Program', 'Studi', 'Informatika', 'Universitas')\n",
      "('Program', 'Studi', 'Informatika', 'Universitas', 'Ahmad')\n",
      "('Studi', 'Informatika', 'Universitas', 'Ahmad', 'Dahlan')\n",
      "('Informatika', 'Universitas', 'Ahmad', 'Dahlan', 'tahun')\n",
      "('Universitas', 'Ahmad', 'Dahlan', 'tahun', '2022')\n"
     ]
    },
    {
     "data": {
      "application/javascript": [
       "\n",
       "            setTimeout(function() {\n",
       "                var nbb_cell_id = 39;\n",
       "                var nbb_unformatted_code = \"sentence = \\\"Pemrosesan Bahasa Alami Program Studi Informatika Universitas Ahmad Dahlan tahun 2022\\\"\\n# print (sentence. split())\\nn = 5  # fivegram\\nfivegram = ngrams(sentence.split(), n)  # memanggiL fungsi ngrams, dari nltk\\n# ngrams ini punya dua paramaeter, pertama sentence yang dipecah berarti tipe data array\\n# kedua ngramsnya disini menggunakan fourgram\\nfor grams in fivegram:\\n    print(grams)\";\n",
       "                var nbb_formatted_code = \"sentence = \\\"Pemrosesan Bahasa Alami Program Studi Informatika Universitas Ahmad Dahlan tahun 2022\\\"\\n# print (sentence. split())\\nn = 5  # fivegram\\nfivegram = ngrams(sentence.split(), n)  # memanggiL fungsi ngrams, dari nltk\\n# ngrams ini punya dua paramaeter, pertama sentence yang dipecah berarti tipe data array\\n# kedua ngramsnya disini menggunakan fourgram\\nfor grams in fivegram:\\n    print(grams)\";\n",
       "                var nbb_cells = Jupyter.notebook.get_cells();\n",
       "                for (var i = 0; i < nbb_cells.length; ++i) {\n",
       "                    if (nbb_cells[i].input_prompt_number == nbb_cell_id) {\n",
       "                        if (nbb_cells[i].get_text() == nbb_unformatted_code) {\n",
       "                             nbb_cells[i].set_text(nbb_formatted_code);\n",
       "                        }\n",
       "                        break;\n",
       "                    }\n",
       "                }\n",
       "            }, 500);\n",
       "            "
      ],
      "text/plain": [
       "<IPython.core.display.Javascript object>"
      ]
     },
     "metadata": {},
     "output_type": "display_data"
    }
   ],
   "source": [
    "sentence = \"Pemrosesan Bahasa Alami Program Studi Informatika Universitas Ahmad Dahlan tahun 2022\"\n",
    "# print (sentence. split())\n",
    "n = 5  # fivegram\n",
    "fivegram = ngrams(sentence.split(), n)  # memanggiL fungsi ngrams, dari nltk\n",
    "# ngrams ini punya dua paramaeter, pertama sentence yang dipecah berarti tipe data array\n",
    "# kedua ngramsnya disini menggunakan fourgram\n",
    "for grams in fivegram:\n",
    "    print(grams)"
   ]
  },
  {
   "cell_type": "code",
   "execution_count": null,
   "id": "94fdfd8b",
   "metadata": {},
   "outputs": [],
   "source": []
  }
 ],
 "metadata": {
  "kernelspec": {
   "display_name": "Python 3 (ipykernel)",
   "language": "python",
   "name": "python3"
  },
  "language_info": {
   "codemirror_mode": {
    "name": "ipython",
    "version": 3
   },
   "file_extension": ".py",
   "mimetype": "text/x-python",
   "name": "python",
   "nbconvert_exporter": "python",
   "pygments_lexer": "ipython3",
   "version": "3.10.9"
  }
 },
 "nbformat": 4,
 "nbformat_minor": 5
}
