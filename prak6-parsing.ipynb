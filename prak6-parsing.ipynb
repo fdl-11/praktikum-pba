{
 "cells": [
  {
   "cell_type": "code",
   "execution_count": 1,
   "id": "a6304fc9",
   "metadata": {},
   "outputs": [],
   "source": [
    "import nltk\n",
    "from nltk import CFG\n",
    "from nltk.parse import RecursiveDescentParser, ShiftReduceParser"
   ]
  },
  {
   "cell_type": "code",
   "execution_count": 9,
   "id": "81491c58",
   "metadata": {},
   "outputs": [],
   "source": [
    "grammar = nltk.CFG.fromstring(\"\"\"\n",
    "S -> NP VP\n",
    "VP -> V NP\n",
    "VP -> V NP PP\n",
    "PP -> P NP\n",
    "V -> 'saw'\n",
    "V -> 'ate'\n",
    "V -> 'walked'\n",
    "NP -> 'John'\n",
    "NP -> 'Mary'\n",
    "NP -> 'Bob'\n",
    "NP -> Det N\n",
    "NP -> Det N PP\n",
    "Det -> 'a'\n",
    "Det -> 'an'\n",
    "Det -> 'the'\n",
    "Det -> 'my'\n",
    "N -> 'man'\n",
    "N -> 'dog'\n",
    "N -> 'cat'\n",
    "N -> 'telescope'\n",
    "N -> 'park'\n",
    "P -> 'in'\n",
    "P -> 'on'\n",
    "P -> 'by'\n",
    "P -> 'with'\n",
    "\"\"\")"
   ]
  },
  {
   "cell_type": "code",
   "execution_count": 10,
   "id": "1a845af0",
   "metadata": {},
   "outputs": [
    {
     "name": "stdout",
     "output_type": "stream",
     "text": [
      "S -> NP VP\n",
      "VP -> V NP\n",
      "VP -> V NP PP\n",
      "PP -> P NP\n",
      "NP -> Det N\n",
      "NP -> Det N PP\n",
      "Det -> 'jam'\n",
      "N -> 'mahasiswa'\n",
      "N -> 'komputer'\n",
      "N -> 'laboratorium'\n",
      "N -> 'kuliah'\n",
      "V -> 'belajar'\n",
      "P -> 'pada'\n",
      "P -> 'di'\n"
     ]
    }
   ],
   "source": [
    "for p in grammar.productions():\n",
    "    print(p)"
   ]
  },
  {
   "cell_type": "code",
   "execution_count": 11,
   "id": "405a523c",
   "metadata": {},
   "outputs": [
    {
     "data": {
      "text/plain": [
       "[NP -> Det N, NP -> Det N PP]"
      ]
     },
     "execution_count": 11,
     "metadata": {},
     "output_type": "execute_result"
    }
   ],
   "source": [
    "from nltk.grammar import *\n",
    "grammar.productions(lhs=Nonterminal(\"NP\"))"
   ]
  },
  {
   "cell_type": "code",
   "execution_count": 12,
   "id": "110ec73c",
   "metadata": {},
   "outputs": [
    {
     "data": {
      "text/plain": [
       "[NP -> Det N, NP -> Det N PP]"
      ]
     },
     "execution_count": 12,
     "metadata": {},
     "output_type": "execute_result"
    }
   ],
   "source": [
    "grammar.productions(rhs=Nonterminal(\"Det\"))"
   ]
  },
  {
   "cell_type": "code",
   "execution_count": 14,
   "id": "691e09ca",
   "metadata": {},
   "outputs": [],
   "source": [
    "sentence = ['Mary', 'saw', 'Bob']\n",
    "rd_parser = nltk.ChartParser(grammar)\n",
    "trees = list(rd_parser.parse(sentence))"
   ]
  },
  {
   "cell_type": "code",
   "execution_count": 15,
   "id": "51389b4b",
   "metadata": {},
   "outputs": [
    {
     "ename": "IndexError",
     "evalue": "list index out of range",
     "output_type": "error",
     "traceback": [
      "\u001b[1;31m---------------------------------------------------------------------------\u001b[0m",
      "\u001b[1;31mIndexError\u001b[0m                                Traceback (most recent call last)",
      "Cell \u001b[1;32mIn[15], line 1\u001b[0m\n\u001b[1;32m----> 1\u001b[0m \u001b[38;5;28mprint\u001b[39m(\u001b[43mtrees\u001b[49m\u001b[43m[\u001b[49m\u001b[38;5;241;43m0\u001b[39;49m\u001b[43m]\u001b[49m)\n",
      "\u001b[1;31mIndexError\u001b[0m: list index out of range"
     ]
    }
   ],
   "source": [
    "print(trees[0])"
   ]
  },
  {
   "cell_type": "code",
   "execution_count": 16,
   "id": "23b97994",
   "metadata": {},
   "outputs": [
    {
     "ename": "IndexError",
     "evalue": "list index out of range",
     "output_type": "error",
     "traceback": [
      "\u001b[1;31m---------------------------------------------------------------------------\u001b[0m",
      "\u001b[1;31mIndexError\u001b[0m                                Traceback (most recent call last)",
      "Cell \u001b[1;32mIn[16], line 1\u001b[0m\n\u001b[1;32m----> 1\u001b[0m \u001b[43mtrees\u001b[49m\u001b[43m[\u001b[49m\u001b[38;5;241;43m0\u001b[39;49m\u001b[43m]\u001b[49m\n",
      "\u001b[1;31mIndexError\u001b[0m: list index out of range"
     ]
    }
   ],
   "source": [
    "trees[0]"
   ]
  },
  {
   "cell_type": "code",
   "execution_count": null,
   "id": "6ef4932c",
   "metadata": {},
   "outputs": [],
   "source": []
  }
 ],
 "metadata": {
  "kernelspec": {
   "display_name": "Python 3 (ipykernel)",
   "language": "python",
   "name": "python3"
  },
  "language_info": {
   "codemirror_mode": {
    "name": "ipython",
    "version": 3
   },
   "file_extension": ".py",
   "mimetype": "text/x-python",
   "name": "python",
   "nbconvert_exporter": "python",
   "pygments_lexer": "ipython3",
   "version": "3.10.9"
  }
 },
 "nbformat": 4,
 "nbformat_minor": 5
}
