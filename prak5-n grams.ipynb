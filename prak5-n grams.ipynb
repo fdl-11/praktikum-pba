{
 "cells": [
  {
   "cell_type": "code",
   "execution_count": 24,
   "id": "9cfcfbb5",
   "metadata": {},
   "outputs": [
    {
     "name": "stdout",
     "output_type": "stream",
     "text": [
      "Requirement already satisfied: nb-black in c:\\users\\praktikan-06\\anaconda3\\lib\\site-packages (1.0.7)\n",
      "Requirement already satisfied: black>='19.3' in c:\\users\\praktikan-06\\anaconda3\\lib\\site-packages (from nb-black) (22.6.0)\n",
      "Requirement already satisfied: ipython in c:\\users\\praktikan-06\\anaconda3\\lib\\site-packages (from nb-black) (8.10.0)\n",
      "Requirement already satisfied: pathspec>=0.9.0 in c:\\users\\praktikan-06\\anaconda3\\lib\\site-packages (from black>='19.3'->nb-black) (0.10.3)\n",
      "Requirement already satisfied: tomli>=1.1.0 in c:\\users\\praktikan-06\\anaconda3\\lib\\site-packages (from black>='19.3'->nb-black) (2.0.1)\n",
      "Requirement already satisfied: platformdirs>=2 in c:\\users\\praktikan-06\\anaconda3\\lib\\site-packages (from black>='19.3'->nb-black) (2.5.2)\n",
      "Requirement already satisfied: click>=8.0.0 in c:\\users\\praktikan-06\\anaconda3\\lib\\site-packages (from black>='19.3'->nb-black) (8.0.4)\n",
      "Requirement already satisfied: mypy-extensions>=0.4.3 in c:\\users\\praktikan-06\\anaconda3\\lib\\site-packages (from black>='19.3'->nb-black) (0.4.3)\n",
      "Requirement already satisfied: decorator in c:\\users\\praktikan-06\\anaconda3\\lib\\site-packages (from ipython->nb-black) (5.1.1)\n",
      "Requirement already satisfied: prompt-toolkit<3.1.0,>=3.0.30 in c:\\users\\praktikan-06\\anaconda3\\lib\\site-packages (from ipython->nb-black) (3.0.36)\n",
      "Requirement already satisfied: stack-data in c:\\users\\praktikan-06\\anaconda3\\lib\\site-packages (from ipython->nb-black) (0.2.0)\n",
      "Requirement already satisfied: pygments>=2.4.0 in c:\\users\\praktikan-06\\anaconda3\\lib\\site-packages (from ipython->nb-black) (2.11.2)\n",
      "Requirement already satisfied: traitlets>=5 in c:\\users\\praktikan-06\\anaconda3\\lib\\site-packages (from ipython->nb-black) (5.7.1)\n",
      "Requirement already satisfied: pickleshare in c:\\users\\praktikan-06\\anaconda3\\lib\\site-packages (from ipython->nb-black) (0.7.5)\n",
      "Requirement already satisfied: backcall in c:\\users\\praktikan-06\\anaconda3\\lib\\site-packages (from ipython->nb-black) (0.2.0)\n",
      "Requirement already satisfied: colorama in c:\\users\\praktikan-06\\anaconda3\\lib\\site-packages (from ipython->nb-black) (0.4.6)\n",
      "Requirement already satisfied: jedi>=0.16 in c:\\users\\praktikan-06\\anaconda3\\lib\\site-packages (from ipython->nb-black) (0.18.1)\n",
      "Requirement already satisfied: matplotlib-inline in c:\\users\\praktikan-06\\anaconda3\\lib\\site-packages (from ipython->nb-black) (0.1.6)\n",
      "Requirement already satisfied: parso<0.9.0,>=0.8.0 in c:\\users\\praktikan-06\\anaconda3\\lib\\site-packages (from jedi>=0.16->ipython->nb-black) (0.8.3)\n",
      "Requirement already satisfied: wcwidth in c:\\users\\praktikan-06\\anaconda3\\lib\\site-packages (from prompt-toolkit<3.1.0,>=3.0.30->ipython->nb-black) (0.2.5)\n",
      "Requirement already satisfied: executing in c:\\users\\praktikan-06\\anaconda3\\lib\\site-packages (from stack-data->ipython->nb-black) (0.8.3)\n",
      "Requirement already satisfied: asttokens in c:\\users\\praktikan-06\\anaconda3\\lib\\site-packages (from stack-data->ipython->nb-black) (2.0.5)\n",
      "Requirement already satisfied: pure-eval in c:\\users\\praktikan-06\\anaconda3\\lib\\site-packages (from stack-data->ipython->nb-black) (0.2.2)\n",
      "Requirement already satisfied: six in c:\\users\\praktikan-06\\anaconda3\\lib\\site-packages (from asttokens->stack-data->ipython->nb-black) (1.16.0)\n"
     ]
    },
    {
     "data": {
      "application/javascript": [
       "\n",
       "            setTimeout(function() {\n",
       "                var nbb_cell_id = 24;\n",
       "                var nbb_unformatted_code = \"#install Libary\\n!pip install nb-black\";\n",
       "                var nbb_formatted_code = \"# install Libary\\n!pip install nb-black\";\n",
       "                var nbb_cells = Jupyter.notebook.get_cells();\n",
       "                for (var i = 0; i < nbb_cells.length; ++i) {\n",
       "                    if (nbb_cells[i].input_prompt_number == nbb_cell_id) {\n",
       "                        if (nbb_cells[i].get_text() == nbb_unformatted_code) {\n",
       "                             nbb_cells[i].set_text(nbb_formatted_code);\n",
       "                        }\n",
       "                        break;\n",
       "                    }\n",
       "                }\n",
       "            }, 500);\n",
       "            "
      ],
      "text/plain": [
       "<IPython.core.display.Javascript object>"
      ]
     },
     "metadata": {},
     "output_type": "display_data"
    },
    {
     "data": {
      "application/javascript": [
       "\n",
       "            setTimeout(function() {\n",
       "                var nbb_cell_id = 24;\n",
       "                var nbb_unformatted_code = \"#install Libary\\n!pip install nb-black\";\n",
       "                var nbb_formatted_code = \"# install Libary\\n!pip install nb-black\";\n",
       "                var nbb_cells = Jupyter.notebook.get_cells();\n",
       "                for (var i = 0; i < nbb_cells.length; ++i) {\n",
       "                    if (nbb_cells[i].input_prompt_number == nbb_cell_id) {\n",
       "                        if (nbb_cells[i].get_text() == nbb_unformatted_code) {\n",
       "                             nbb_cells[i].set_text(nbb_formatted_code);\n",
       "                        }\n",
       "                        break;\n",
       "                    }\n",
       "                }\n",
       "            }, 500);\n",
       "            "
      ],
      "text/plain": [
       "<IPython.core.display.Javascript object>"
      ]
     },
     "metadata": {},
     "output_type": "display_data"
    }
   ],
   "source": [
    "# install Libary\n",
    "!pip install nb-black"
   ]
  },
  {
   "cell_type": "code",
   "execution_count": 25,
   "id": "827540f2",
   "metadata": {},
   "outputs": [
    {
     "data": {
      "application/javascript": [
       "\n",
       "            setTimeout(function() {\n",
       "                var nbb_cell_id = 25;\n",
       "                var nbb_unformatted_code = \"# Import dependencies that will be used on N-gram\\nfrom IPython.core.debugger import set_trace\\n\\n%reload_ext nb_black\\n\\nimport pandas as pd\\nimport numpy as np\\nimport os\\nimport matplotlib.pyplot as plt\\nimport time\\n\\nplt.style.use(style=\\\"seaborn-v0_8\\\")\\n%matplotlib inline\";\n",
       "                var nbb_formatted_code = \"# Import dependencies that will be used on N-gram\\nfrom IPython.core.debugger import set_trace\\n\\n%reload_ext nb_black\\n\\nimport pandas as pd\\nimport numpy as np\\nimport os\\nimport matplotlib.pyplot as plt\\nimport time\\n\\nplt.style.use(style=\\\"seaborn-v0_8\\\")\\n%matplotlib inline\";\n",
       "                var nbb_cells = Jupyter.notebook.get_cells();\n",
       "                for (var i = 0; i < nbb_cells.length; ++i) {\n",
       "                    if (nbb_cells[i].input_prompt_number == nbb_cell_id) {\n",
       "                        if (nbb_cells[i].get_text() == nbb_unformatted_code) {\n",
       "                             nbb_cells[i].set_text(nbb_formatted_code);\n",
       "                        }\n",
       "                        break;\n",
       "                    }\n",
       "                }\n",
       "            }, 500);\n",
       "            "
      ],
      "text/plain": [
       "<IPython.core.display.Javascript object>"
      ]
     },
     "metadata": {},
     "output_type": "display_data"
    },
    {
     "data": {
      "application/javascript": [
       "\n",
       "            setTimeout(function() {\n",
       "                var nbb_cell_id = 25;\n",
       "                var nbb_unformatted_code = \"# Import dependencies that will be used on N-gram\\nfrom IPython.core.debugger import set_trace\\n\\n%reload_ext nb_black\\n\\nimport pandas as pd\\nimport numpy as np\\nimport os\\nimport matplotlib.pyplot as plt\\nimport time\\n\\nplt.style.use(style=\\\"seaborn-v0_8\\\")\\n%matplotlib inline\";\n",
       "                var nbb_formatted_code = \"# Import dependencies that will be used on N-gram\\nfrom IPython.core.debugger import set_trace\\n\\n%reload_ext nb_black\\n\\nimport pandas as pd\\nimport numpy as np\\nimport os\\nimport matplotlib.pyplot as plt\\nimport time\\n\\nplt.style.use(style=\\\"seaborn-v0_8\\\")\\n%matplotlib inline\";\n",
       "                var nbb_cells = Jupyter.notebook.get_cells();\n",
       "                for (var i = 0; i < nbb_cells.length; ++i) {\n",
       "                    if (nbb_cells[i].input_prompt_number == nbb_cell_id) {\n",
       "                        if (nbb_cells[i].get_text() == nbb_unformatted_code) {\n",
       "                             nbb_cells[i].set_text(nbb_formatted_code);\n",
       "                        }\n",
       "                        break;\n",
       "                    }\n",
       "                }\n",
       "            }, 500);\n",
       "            "
      ],
      "text/plain": [
       "<IPython.core.display.Javascript object>"
      ]
     },
     "metadata": {},
     "output_type": "display_data"
    },
    {
     "data": {
      "application/javascript": [
       "\n",
       "            setTimeout(function() {\n",
       "                var nbb_cell_id = 25;\n",
       "                var nbb_unformatted_code = \"# Import dependencies that will be used on N-gram\\nfrom IPython.core.debugger import set_trace\\n\\n%reload_ext nb_black\\n\\nimport pandas as pd\\nimport numpy as np\\nimport os\\nimport matplotlib.pyplot as plt\\nimport time\\n\\nplt.style.use(style=\\\"seaborn-v0_8\\\")\\n%matplotlib inline\";\n",
       "                var nbb_formatted_code = \"# Import dependencies that will be used on N-gram\\nfrom IPython.core.debugger import set_trace\\n\\n%reload_ext nb_black\\n\\nimport pandas as pd\\nimport numpy as np\\nimport os\\nimport matplotlib.pyplot as plt\\nimport time\\n\\nplt.style.use(style=\\\"seaborn-v0_8\\\")\\n%matplotlib inline\";\n",
       "                var nbb_cells = Jupyter.notebook.get_cells();\n",
       "                for (var i = 0; i < nbb_cells.length; ++i) {\n",
       "                    if (nbb_cells[i].input_prompt_number == nbb_cell_id) {\n",
       "                        if (nbb_cells[i].get_text() == nbb_unformatted_code) {\n",
       "                             nbb_cells[i].set_text(nbb_formatted_code);\n",
       "                        }\n",
       "                        break;\n",
       "                    }\n",
       "                }\n",
       "            }, 500);\n",
       "            "
      ],
      "text/plain": [
       "<IPython.core.display.Javascript object>"
      ]
     },
     "metadata": {},
     "output_type": "display_data"
    }
   ],
   "source": [
    "# Import dependencies that will be used on N-gram\n",
    "from IPython.core.debugger import set_trace\n",
    "\n",
    "%reload_ext nb_black\n",
    "\n",
    "import pandas as pd\n",
    "import numpy as np\n",
    "import os\n",
    "import matplotlib.pyplot as plt\n",
    "import time\n",
    "\n",
    "plt.style.use(style=\"seaborn-v0_8\")\n",
    "%matplotlib inline"
   ]
  },
  {
   "cell_type": "code",
   "execution_count": 26,
   "id": "267ae273",
   "metadata": {},
   "outputs": [
    {
     "data": {
      "application/javascript": [
       "\n",
       "            setTimeout(function() {\n",
       "                var nbb_cell_id = 26;\n",
       "                var nbb_unformatted_code = \"# load dataset\\ntrain = pd.read_csv(\\\"train.csv\\\")\\ntest = pd.read_csv(\\\"test.csv\\\")\";\n",
       "                var nbb_formatted_code = \"# load dataset\\ntrain = pd.read_csv(\\\"train.csv\\\")\\ntest = pd.read_csv(\\\"test.csv\\\")\";\n",
       "                var nbb_cells = Jupyter.notebook.get_cells();\n",
       "                for (var i = 0; i < nbb_cells.length; ++i) {\n",
       "                    if (nbb_cells[i].input_prompt_number == nbb_cell_id) {\n",
       "                        if (nbb_cells[i].get_text() == nbb_unformatted_code) {\n",
       "                             nbb_cells[i].set_text(nbb_formatted_code);\n",
       "                        }\n",
       "                        break;\n",
       "                    }\n",
       "                }\n",
       "            }, 500);\n",
       "            "
      ],
      "text/plain": [
       "<IPython.core.display.Javascript object>"
      ]
     },
     "metadata": {},
     "output_type": "display_data"
    },
    {
     "data": {
      "application/javascript": [
       "\n",
       "            setTimeout(function() {\n",
       "                var nbb_cell_id = 26;\n",
       "                var nbb_unformatted_code = \"# load dataset\\ntrain = pd.read_csv(\\\"train.csv\\\")\\ntest = pd.read_csv(\\\"test.csv\\\")\";\n",
       "                var nbb_formatted_code = \"# load dataset\\ntrain = pd.read_csv(\\\"train.csv\\\")\\ntest = pd.read_csv(\\\"test.csv\\\")\";\n",
       "                var nbb_cells = Jupyter.notebook.get_cells();\n",
       "                for (var i = 0; i < nbb_cells.length; ++i) {\n",
       "                    if (nbb_cells[i].input_prompt_number == nbb_cell_id) {\n",
       "                        if (nbb_cells[i].get_text() == nbb_unformatted_code) {\n",
       "                             nbb_cells[i].set_text(nbb_formatted_code);\n",
       "                        }\n",
       "                        break;\n",
       "                    }\n",
       "                }\n",
       "            }, 500);\n",
       "            "
      ],
      "text/plain": [
       "<IPython.core.display.Javascript object>"
      ]
     },
     "metadata": {},
     "output_type": "display_data"
    },
    {
     "data": {
      "application/javascript": [
       "\n",
       "            setTimeout(function() {\n",
       "                var nbb_cell_id = 26;\n",
       "                var nbb_unformatted_code = \"# load dataset\\ntrain = pd.read_csv(\\\"train.csv\\\")\\ntest = pd.read_csv(\\\"test.csv\\\")\";\n",
       "                var nbb_formatted_code = \"# load dataset\\ntrain = pd.read_csv(\\\"train.csv\\\")\\ntest = pd.read_csv(\\\"test.csv\\\")\";\n",
       "                var nbb_cells = Jupyter.notebook.get_cells();\n",
       "                for (var i = 0; i < nbb_cells.length; ++i) {\n",
       "                    if (nbb_cells[i].input_prompt_number == nbb_cell_id) {\n",
       "                        if (nbb_cells[i].get_text() == nbb_unformatted_code) {\n",
       "                             nbb_cells[i].set_text(nbb_formatted_code);\n",
       "                        }\n",
       "                        break;\n",
       "                    }\n",
       "                }\n",
       "            }, 500);\n",
       "            "
      ],
      "text/plain": [
       "<IPython.core.display.Javascript object>"
      ]
     },
     "metadata": {},
     "output_type": "display_data"
    }
   ],
   "source": [
    "# load dataset\n",
    "train = pd.read_csv(\"train.csv\")\n",
    "test = pd.read_csv(\"test.csv\")"
   ]
  },
  {
   "cell_type": "code",
   "execution_count": 27,
   "id": "cbeb68bc",
   "metadata": {},
   "outputs": [
    {
     "data": {
      "text/html": [
       "<div>\n",
       "<style scoped>\n",
       "    .dataframe tbody tr th:only-of-type {\n",
       "        vertical-align: middle;\n",
       "    }\n",
       "\n",
       "    .dataframe tbody tr th {\n",
       "        vertical-align: top;\n",
       "    }\n",
       "\n",
       "    .dataframe thead th {\n",
       "        text-align: right;\n",
       "    }\n",
       "</style>\n",
       "<table border=\"1\" class=\"dataframe\">\n",
       "  <thead>\n",
       "    <tr style=\"text-align: right;\">\n",
       "      <th></th>\n",
       "      <th>0</th>\n",
       "      <th>1</th>\n",
       "      <th>2</th>\n",
       "      <th>3</th>\n",
       "      <th>4</th>\n",
       "    </tr>\n",
       "  </thead>\n",
       "  <tbody>\n",
       "    <tr>\n",
       "      <th>id</th>\n",
       "      <td>1</td>\n",
       "      <td>4</td>\n",
       "      <td>5</td>\n",
       "      <td>6</td>\n",
       "      <td>7</td>\n",
       "    </tr>\n",
       "    <tr>\n",
       "      <th>keyword</th>\n",
       "      <td>NaN</td>\n",
       "      <td>NaN</td>\n",
       "      <td>NaN</td>\n",
       "      <td>NaN</td>\n",
       "      <td>NaN</td>\n",
       "    </tr>\n",
       "    <tr>\n",
       "      <th>location</th>\n",
       "      <td>NaN</td>\n",
       "      <td>NaN</td>\n",
       "      <td>NaN</td>\n",
       "      <td>NaN</td>\n",
       "      <td>NaN</td>\n",
       "    </tr>\n",
       "    <tr>\n",
       "      <th>text</th>\n",
       "      <td>Our Deeds are the Reason of this #earthquake M...</td>\n",
       "      <td>Forest fire near La Ronge Sask. Canada</td>\n",
       "      <td>All residents asked to 'shelter in place' are ...</td>\n",
       "      <td>13,000 people receive #wildfires evacuation or...</td>\n",
       "      <td>Just got sent this photo from Ruby #Alaska as ...</td>\n",
       "    </tr>\n",
       "    <tr>\n",
       "      <th>target</th>\n",
       "      <td>1</td>\n",
       "      <td>1</td>\n",
       "      <td>1</td>\n",
       "      <td>1</td>\n",
       "      <td>1</td>\n",
       "    </tr>\n",
       "  </tbody>\n",
       "</table>\n",
       "</div>"
      ],
      "text/plain": [
       "                                                          0  \\\n",
       "id                                                        1   \n",
       "keyword                                                 NaN   \n",
       "location                                                NaN   \n",
       "text      Our Deeds are the Reason of this #earthquake M...   \n",
       "target                                                    1   \n",
       "\n",
       "                                               1  \\\n",
       "id                                             4   \n",
       "keyword                                      NaN   \n",
       "location                                     NaN   \n",
       "text      Forest fire near La Ronge Sask. Canada   \n",
       "target                                         1   \n",
       "\n",
       "                                                          2  \\\n",
       "id                                                        5   \n",
       "keyword                                                 NaN   \n",
       "location                                                NaN   \n",
       "text      All residents asked to 'shelter in place' are ...   \n",
       "target                                                    1   \n",
       "\n",
       "                                                          3  \\\n",
       "id                                                        6   \n",
       "keyword                                                 NaN   \n",
       "location                                                NaN   \n",
       "text      13,000 people receive #wildfires evacuation or...   \n",
       "target                                                    1   \n",
       "\n",
       "                                                          4  \n",
       "id                                                        7  \n",
       "keyword                                                 NaN  \n",
       "location                                                NaN  \n",
       "text      Just got sent this photo from Ruby #Alaska as ...  \n",
       "target                                                    1  "
      ]
     },
     "execution_count": 27,
     "metadata": {},
     "output_type": "execute_result"
    },
    {
     "data": {
      "application/javascript": [
       "\n",
       "            setTimeout(function() {\n",
       "                var nbb_cell_id = 27;\n",
       "                var nbb_unformatted_code = \"# print dataset\\ntrain.head().T\";\n",
       "                var nbb_formatted_code = \"# print dataset\\ntrain.head().T\";\n",
       "                var nbb_cells = Jupyter.notebook.get_cells();\n",
       "                for (var i = 0; i < nbb_cells.length; ++i) {\n",
       "                    if (nbb_cells[i].input_prompt_number == nbb_cell_id) {\n",
       "                        if (nbb_cells[i].get_text() == nbb_unformatted_code) {\n",
       "                             nbb_cells[i].set_text(nbb_formatted_code);\n",
       "                        }\n",
       "                        break;\n",
       "                    }\n",
       "                }\n",
       "            }, 500);\n",
       "            "
      ],
      "text/plain": [
       "<IPython.core.display.Javascript object>"
      ]
     },
     "metadata": {},
     "output_type": "display_data"
    },
    {
     "data": {
      "application/javascript": [
       "\n",
       "            setTimeout(function() {\n",
       "                var nbb_cell_id = 27;\n",
       "                var nbb_unformatted_code = \"# print dataset\\ntrain.head().T\";\n",
       "                var nbb_formatted_code = \"# print dataset\\ntrain.head().T\";\n",
       "                var nbb_cells = Jupyter.notebook.get_cells();\n",
       "                for (var i = 0; i < nbb_cells.length; ++i) {\n",
       "                    if (nbb_cells[i].input_prompt_number == nbb_cell_id) {\n",
       "                        if (nbb_cells[i].get_text() == nbb_unformatted_code) {\n",
       "                             nbb_cells[i].set_text(nbb_formatted_code);\n",
       "                        }\n",
       "                        break;\n",
       "                    }\n",
       "                }\n",
       "            }, 500);\n",
       "            "
      ],
      "text/plain": [
       "<IPython.core.display.Javascript object>"
      ]
     },
     "metadata": {},
     "output_type": "display_data"
    },
    {
     "data": {
      "application/javascript": [
       "\n",
       "            setTimeout(function() {\n",
       "                var nbb_cell_id = 27;\n",
       "                var nbb_unformatted_code = \"# print dataset\\ntrain.head().T\";\n",
       "                var nbb_formatted_code = \"# print dataset\\ntrain.head().T\";\n",
       "                var nbb_cells = Jupyter.notebook.get_cells();\n",
       "                for (var i = 0; i < nbb_cells.length; ++i) {\n",
       "                    if (nbb_cells[i].input_prompt_number == nbb_cell_id) {\n",
       "                        if (nbb_cells[i].get_text() == nbb_unformatted_code) {\n",
       "                             nbb_cells[i].set_text(nbb_formatted_code);\n",
       "                        }\n",
       "                        break;\n",
       "                    }\n",
       "                }\n",
       "            }, 500);\n",
       "            "
      ],
      "text/plain": [
       "<IPython.core.display.Javascript object>"
      ]
     },
     "metadata": {},
     "output_type": "display_data"
    }
   ],
   "source": [
    "# print dataset\n",
    "train.head().T"
   ]
  },
  {
   "cell_type": "code",
   "execution_count": 28,
   "id": "fcf48fdb",
   "metadata": {},
   "outputs": [
    {
     "data": {
      "text/html": [
       "<div>\n",
       "<style scoped>\n",
       "    .dataframe tbody tr th:only-of-type {\n",
       "        vertical-align: middle;\n",
       "    }\n",
       "\n",
       "    .dataframe tbody tr th {\n",
       "        vertical-align: top;\n",
       "    }\n",
       "\n",
       "    .dataframe thead th {\n",
       "        text-align: right;\n",
       "    }\n",
       "</style>\n",
       "<table border=\"1\" class=\"dataframe\">\n",
       "  <thead>\n",
       "    <tr style=\"text-align: right;\">\n",
       "      <th></th>\n",
       "      <th>0</th>\n",
       "      <th>1</th>\n",
       "      <th>2</th>\n",
       "      <th>3</th>\n",
       "      <th>4</th>\n",
       "    </tr>\n",
       "  </thead>\n",
       "  <tbody>\n",
       "    <tr>\n",
       "      <th>id</th>\n",
       "      <td>0</td>\n",
       "      <td>2</td>\n",
       "      <td>3</td>\n",
       "      <td>9</td>\n",
       "      <td>11</td>\n",
       "    </tr>\n",
       "    <tr>\n",
       "      <th>keyword</th>\n",
       "      <td>NaN</td>\n",
       "      <td>NaN</td>\n",
       "      <td>NaN</td>\n",
       "      <td>NaN</td>\n",
       "      <td>NaN</td>\n",
       "    </tr>\n",
       "    <tr>\n",
       "      <th>location</th>\n",
       "      <td>NaN</td>\n",
       "      <td>NaN</td>\n",
       "      <td>NaN</td>\n",
       "      <td>NaN</td>\n",
       "      <td>NaN</td>\n",
       "    </tr>\n",
       "    <tr>\n",
       "      <th>text</th>\n",
       "      <td>Just happened a terrible car crash</td>\n",
       "      <td>Heard about #earthquake is different cities, s...</td>\n",
       "      <td>there is a forest fire at spot pond, geese are...</td>\n",
       "      <td>Apocalypse lighting. #Spokane #wildfires</td>\n",
       "      <td>Typhoon Soudelor kills 28 in China and Taiwan</td>\n",
       "    </tr>\n",
       "  </tbody>\n",
       "</table>\n",
       "</div>"
      ],
      "text/plain": [
       "                                           0  \\\n",
       "id                                         0   \n",
       "keyword                                  NaN   \n",
       "location                                 NaN   \n",
       "text      Just happened a terrible car crash   \n",
       "\n",
       "                                                          1  \\\n",
       "id                                                        2   \n",
       "keyword                                                 NaN   \n",
       "location                                                NaN   \n",
       "text      Heard about #earthquake is different cities, s...   \n",
       "\n",
       "                                                          2  \\\n",
       "id                                                        3   \n",
       "keyword                                                 NaN   \n",
       "location                                                NaN   \n",
       "text      there is a forest fire at spot pond, geese are...   \n",
       "\n",
       "                                                 3  \\\n",
       "id                                               9   \n",
       "keyword                                        NaN   \n",
       "location                                       NaN   \n",
       "text      Apocalypse lighting. #Spokane #wildfires   \n",
       "\n",
       "                                                      4  \n",
       "id                                                   11  \n",
       "keyword                                             NaN  \n",
       "location                                            NaN  \n",
       "text      Typhoon Soudelor kills 28 in China and Taiwan  "
      ]
     },
     "execution_count": 28,
     "metadata": {},
     "output_type": "execute_result"
    },
    {
     "data": {
      "application/javascript": [
       "\n",
       "            setTimeout(function() {\n",
       "                var nbb_cell_id = 28;\n",
       "                var nbb_unformatted_code = \"# print dataset\\ntest.head().T\";\n",
       "                var nbb_formatted_code = \"# print dataset\\ntest.head().T\";\n",
       "                var nbb_cells = Jupyter.notebook.get_cells();\n",
       "                for (var i = 0; i < nbb_cells.length; ++i) {\n",
       "                    if (nbb_cells[i].input_prompt_number == nbb_cell_id) {\n",
       "                        if (nbb_cells[i].get_text() == nbb_unformatted_code) {\n",
       "                             nbb_cells[i].set_text(nbb_formatted_code);\n",
       "                        }\n",
       "                        break;\n",
       "                    }\n",
       "                }\n",
       "            }, 500);\n",
       "            "
      ],
      "text/plain": [
       "<IPython.core.display.Javascript object>"
      ]
     },
     "metadata": {},
     "output_type": "display_data"
    },
    {
     "data": {
      "application/javascript": [
       "\n",
       "            setTimeout(function() {\n",
       "                var nbb_cell_id = 28;\n",
       "                var nbb_unformatted_code = \"# print dataset\\ntest.head().T\";\n",
       "                var nbb_formatted_code = \"# print dataset\\ntest.head().T\";\n",
       "                var nbb_cells = Jupyter.notebook.get_cells();\n",
       "                for (var i = 0; i < nbb_cells.length; ++i) {\n",
       "                    if (nbb_cells[i].input_prompt_number == nbb_cell_id) {\n",
       "                        if (nbb_cells[i].get_text() == nbb_unformatted_code) {\n",
       "                             nbb_cells[i].set_text(nbb_formatted_code);\n",
       "                        }\n",
       "                        break;\n",
       "                    }\n",
       "                }\n",
       "            }, 500);\n",
       "            "
      ],
      "text/plain": [
       "<IPython.core.display.Javascript object>"
      ]
     },
     "metadata": {},
     "output_type": "display_data"
    },
    {
     "data": {
      "application/javascript": [
       "\n",
       "            setTimeout(function() {\n",
       "                var nbb_cell_id = 28;\n",
       "                var nbb_unformatted_code = \"# print dataset\\ntest.head().T\";\n",
       "                var nbb_formatted_code = \"# print dataset\\ntest.head().T\";\n",
       "                var nbb_cells = Jupyter.notebook.get_cells();\n",
       "                for (var i = 0; i < nbb_cells.length; ++i) {\n",
       "                    if (nbb_cells[i].input_prompt_number == nbb_cell_id) {\n",
       "                        if (nbb_cells[i].get_text() == nbb_unformatted_code) {\n",
       "                             nbb_cells[i].set_text(nbb_formatted_code);\n",
       "                        }\n",
       "                        break;\n",
       "                    }\n",
       "                }\n",
       "            }, 500);\n",
       "            "
      ],
      "text/plain": [
       "<IPython.core.display.Javascript object>"
      ]
     },
     "metadata": {},
     "output_type": "display_data"
    }
   ],
   "source": [
    "# print dataset\n",
    "test.head().T"
   ]
  },
  {
   "cell_type": "code",
   "execution_count": 29,
   "id": "fe7cbb66",
   "metadata": {},
   "outputs": [
    {
     "data": {
      "text/plain": [
       "['i',\n",
       " 'me',\n",
       " 'my',\n",
       " 'myself',\n",
       " 'we',\n",
       " 'our',\n",
       " 'ours',\n",
       " 'ourselves',\n",
       " 'you',\n",
       " \"you're\",\n",
       " \"you've\",\n",
       " \"you'll\",\n",
       " \"you'd\",\n",
       " 'your',\n",
       " 'yours',\n",
       " 'yourself',\n",
       " 'yourselves',\n",
       " 'he',\n",
       " 'him',\n",
       " 'his',\n",
       " 'himself',\n",
       " 'she',\n",
       " \"she's\",\n",
       " 'her',\n",
       " 'hers',\n",
       " 'herself',\n",
       " 'it',\n",
       " \"it's\",\n",
       " 'its',\n",
       " 'itself',\n",
       " 'they',\n",
       " 'them',\n",
       " 'their',\n",
       " 'theirs',\n",
       " 'themselves',\n",
       " 'what',\n",
       " 'which',\n",
       " 'who',\n",
       " 'whom',\n",
       " 'this',\n",
       " 'that',\n",
       " \"that'll\",\n",
       " 'these',\n",
       " 'those',\n",
       " 'am',\n",
       " 'is',\n",
       " 'are',\n",
       " 'was',\n",
       " 'were',\n",
       " 'be',\n",
       " 'been',\n",
       " 'being',\n",
       " 'have',\n",
       " 'has',\n",
       " 'had',\n",
       " 'having',\n",
       " 'do',\n",
       " 'does',\n",
       " 'did',\n",
       " 'doing',\n",
       " 'a',\n",
       " 'an',\n",
       " 'the',\n",
       " 'and',\n",
       " 'but',\n",
       " 'if',\n",
       " 'or',\n",
       " 'because',\n",
       " 'as',\n",
       " 'until',\n",
       " 'while',\n",
       " 'of',\n",
       " 'at',\n",
       " 'by',\n",
       " 'for',\n",
       " 'with',\n",
       " 'about',\n",
       " 'against',\n",
       " 'between',\n",
       " 'into',\n",
       " 'through',\n",
       " 'during',\n",
       " 'before',\n",
       " 'after',\n",
       " 'above',\n",
       " 'below',\n",
       " 'to',\n",
       " 'from',\n",
       " 'up',\n",
       " 'down',\n",
       " 'in',\n",
       " 'out',\n",
       " 'on',\n",
       " 'off',\n",
       " 'over',\n",
       " 'under',\n",
       " 'again',\n",
       " 'further',\n",
       " 'then',\n",
       " 'once',\n",
       " 'here',\n",
       " 'there',\n",
       " 'when',\n",
       " 'where',\n",
       " 'why',\n",
       " 'how',\n",
       " 'all',\n",
       " 'any',\n",
       " 'both',\n",
       " 'each',\n",
       " 'few',\n",
       " 'more',\n",
       " 'most',\n",
       " 'other',\n",
       " 'some',\n",
       " 'such',\n",
       " 'no',\n",
       " 'nor',\n",
       " 'not',\n",
       " 'only',\n",
       " 'own',\n",
       " 'same',\n",
       " 'so',\n",
       " 'than',\n",
       " 'too',\n",
       " 'very',\n",
       " 's',\n",
       " 't',\n",
       " 'can',\n",
       " 'will',\n",
       " 'just',\n",
       " 'don',\n",
       " \"don't\",\n",
       " 'should',\n",
       " \"should've\",\n",
       " 'now',\n",
       " 'd',\n",
       " 'll',\n",
       " 'm',\n",
       " 'o',\n",
       " 're',\n",
       " 've',\n",
       " 'y',\n",
       " 'ain',\n",
       " 'aren',\n",
       " \"aren't\",\n",
       " 'couldn',\n",
       " \"couldn't\",\n",
       " 'didn',\n",
       " \"didn't\",\n",
       " 'doesn',\n",
       " \"doesn't\",\n",
       " 'hadn',\n",
       " \"hadn't\",\n",
       " 'hasn',\n",
       " \"hasn't\",\n",
       " 'haven',\n",
       " \"haven't\",\n",
       " 'isn',\n",
       " \"isn't\",\n",
       " 'ma',\n",
       " 'mightn',\n",
       " \"mightn't\",\n",
       " 'mustn',\n",
       " \"mustn't\",\n",
       " 'needn',\n",
       " \"needn't\",\n",
       " 'shan',\n",
       " \"shan't\",\n",
       " 'shouldn',\n",
       " \"shouldn't\",\n",
       " 'wasn',\n",
       " \"wasn't\",\n",
       " 'weren',\n",
       " \"weren't\",\n",
       " 'won',\n",
       " \"won't\",\n",
       " 'wouldn',\n",
       " \"wouldn't\"]"
      ]
     },
     "execution_count": 29,
     "metadata": {},
     "output_type": "execute_result"
    },
    {
     "data": {
      "application/javascript": [
       "\n",
       "            setTimeout(function() {\n",
       "                var nbb_cell_id = 29;\n",
       "                var nbb_unformatted_code = \"# import stopwords method\\nfrom nltk.corpus import stopwords\\n\\n# List stopword in english\\nstopwords.words(\\\"english\\\")\";\n",
       "                var nbb_formatted_code = \"# import stopwords method\\nfrom nltk.corpus import stopwords\\n\\n# List stopword in english\\nstopwords.words(\\\"english\\\")\";\n",
       "                var nbb_cells = Jupyter.notebook.get_cells();\n",
       "                for (var i = 0; i < nbb_cells.length; ++i) {\n",
       "                    if (nbb_cells[i].input_prompt_number == nbb_cell_id) {\n",
       "                        if (nbb_cells[i].get_text() == nbb_unformatted_code) {\n",
       "                             nbb_cells[i].set_text(nbb_formatted_code);\n",
       "                        }\n",
       "                        break;\n",
       "                    }\n",
       "                }\n",
       "            }, 500);\n",
       "            "
      ],
      "text/plain": [
       "<IPython.core.display.Javascript object>"
      ]
     },
     "metadata": {},
     "output_type": "display_data"
    },
    {
     "data": {
      "application/javascript": [
       "\n",
       "            setTimeout(function() {\n",
       "                var nbb_cell_id = 29;\n",
       "                var nbb_unformatted_code = \"# import stopwords method\\nfrom nltk.corpus import stopwords\\n\\n# List stopword in english\\nstopwords.words(\\\"english\\\")\";\n",
       "                var nbb_formatted_code = \"# import stopwords method\\nfrom nltk.corpus import stopwords\\n\\n# List stopword in english\\nstopwords.words(\\\"english\\\")\";\n",
       "                var nbb_cells = Jupyter.notebook.get_cells();\n",
       "                for (var i = 0; i < nbb_cells.length; ++i) {\n",
       "                    if (nbb_cells[i].input_prompt_number == nbb_cell_id) {\n",
       "                        if (nbb_cells[i].get_text() == nbb_unformatted_code) {\n",
       "                             nbb_cells[i].set_text(nbb_formatted_code);\n",
       "                        }\n",
       "                        break;\n",
       "                    }\n",
       "                }\n",
       "            }, 500);\n",
       "            "
      ],
      "text/plain": [
       "<IPython.core.display.Javascript object>"
      ]
     },
     "metadata": {},
     "output_type": "display_data"
    },
    {
     "data": {
      "application/javascript": [
       "\n",
       "            setTimeout(function() {\n",
       "                var nbb_cell_id = 29;\n",
       "                var nbb_unformatted_code = \"# import stopwords method\\nfrom nltk.corpus import stopwords\\n\\n# List stopword in english\\nstopwords.words(\\\"english\\\")\";\n",
       "                var nbb_formatted_code = \"# import stopwords method\\nfrom nltk.corpus import stopwords\\n\\n# List stopword in english\\nstopwords.words(\\\"english\\\")\";\n",
       "                var nbb_cells = Jupyter.notebook.get_cells();\n",
       "                for (var i = 0; i < nbb_cells.length; ++i) {\n",
       "                    if (nbb_cells[i].input_prompt_number == nbb_cell_id) {\n",
       "                        if (nbb_cells[i].get_text() == nbb_unformatted_code) {\n",
       "                             nbb_cells[i].set_text(nbb_formatted_code);\n",
       "                        }\n",
       "                        break;\n",
       "                    }\n",
       "                }\n",
       "            }, 500);\n",
       "            "
      ],
      "text/plain": [
       "<IPython.core.display.Javascript object>"
      ]
     },
     "metadata": {},
     "output_type": "display_data"
    }
   ],
   "source": [
    "# import stopwords method\n",
    "from nltk.corpus import stopwords\n",
    "\n",
    "# List stopword in english\n",
    "stopwords.words(\"english\")"
   ]
  },
  {
   "cell_type": "code",
   "execution_count": 30,
   "id": "aed932f6",
   "metadata": {},
   "outputs": [
    {
     "data": {
      "application/javascript": [
       "\n",
       "            setTimeout(function() {\n",
       "                var nbb_cell_id = 30;\n",
       "                var nbb_unformatted_code = \"# function for processing\\nfrom nltk.corpus import stopwords\\n\\n\\ndef generate_ngrams(text, n_gram=1, stop=True):\\n    \\\"\\\"\\\"\\n    Simple n-gram generator.\\n    \\\"\\\"\\\"\\n    stop = set(stopwords.words(\\\"english\\\")) if stop else {}\\n\\n    token = [\\n        token for token in text.lower().split(\\\" \\\") if token != \\\"\\\" if token not in stop\\n    ]\\n    z = zip(*[token[i:] for i in range(n_gram)])\\n    ngrams = [\\\" \\\".join(ngram) for ngram in z]\\n    return ngrams\";\n",
       "                var nbb_formatted_code = \"# function for processing\\nfrom nltk.corpus import stopwords\\n\\n\\ndef generate_ngrams(text, n_gram=1, stop=True):\\n    \\\"\\\"\\\"\\n    Simple n-gram generator.\\n    \\\"\\\"\\\"\\n    stop = set(stopwords.words(\\\"english\\\")) if stop else {}\\n\\n    token = [\\n        token for token in text.lower().split(\\\" \\\") if token != \\\"\\\" if token not in stop\\n    ]\\n    z = zip(*[token[i:] for i in range(n_gram)])\\n    ngrams = [\\\" \\\".join(ngram) for ngram in z]\\n    return ngrams\";\n",
       "                var nbb_cells = Jupyter.notebook.get_cells();\n",
       "                for (var i = 0; i < nbb_cells.length; ++i) {\n",
       "                    if (nbb_cells[i].input_prompt_number == nbb_cell_id) {\n",
       "                        if (nbb_cells[i].get_text() == nbb_unformatted_code) {\n",
       "                             nbb_cells[i].set_text(nbb_formatted_code);\n",
       "                        }\n",
       "                        break;\n",
       "                    }\n",
       "                }\n",
       "            }, 500);\n",
       "            "
      ],
      "text/plain": [
       "<IPython.core.display.Javascript object>"
      ]
     },
     "metadata": {},
     "output_type": "display_data"
    },
    {
     "data": {
      "application/javascript": [
       "\n",
       "            setTimeout(function() {\n",
       "                var nbb_cell_id = 30;\n",
       "                var nbb_unformatted_code = \"# function for processing\\nfrom nltk.corpus import stopwords\\n\\n\\ndef generate_ngrams(text, n_gram=1, stop=True):\\n    \\\"\\\"\\\"\\n    Simple n-gram generator.\\n    \\\"\\\"\\\"\\n    stop = set(stopwords.words(\\\"english\\\")) if stop else {}\\n\\n    token = [\\n        token for token in text.lower().split(\\\" \\\") if token != \\\"\\\" if token not in stop\\n    ]\\n    z = zip(*[token[i:] for i in range(n_gram)])\\n    ngrams = [\\\" \\\".join(ngram) for ngram in z]\\n    return ngrams\";\n",
       "                var nbb_formatted_code = \"# function for processing\\nfrom nltk.corpus import stopwords\\n\\n\\ndef generate_ngrams(text, n_gram=1, stop=True):\\n    \\\"\\\"\\\"\\n    Simple n-gram generator.\\n    \\\"\\\"\\\"\\n    stop = set(stopwords.words(\\\"english\\\")) if stop else {}\\n\\n    token = [\\n        token for token in text.lower().split(\\\" \\\") if token != \\\"\\\" if token not in stop\\n    ]\\n    z = zip(*[token[i:] for i in range(n_gram)])\\n    ngrams = [\\\" \\\".join(ngram) for ngram in z]\\n    return ngrams\";\n",
       "                var nbb_cells = Jupyter.notebook.get_cells();\n",
       "                for (var i = 0; i < nbb_cells.length; ++i) {\n",
       "                    if (nbb_cells[i].input_prompt_number == nbb_cell_id) {\n",
       "                        if (nbb_cells[i].get_text() == nbb_unformatted_code) {\n",
       "                             nbb_cells[i].set_text(nbb_formatted_code);\n",
       "                        }\n",
       "                        break;\n",
       "                    }\n",
       "                }\n",
       "            }, 500);\n",
       "            "
      ],
      "text/plain": [
       "<IPython.core.display.Javascript object>"
      ]
     },
     "metadata": {},
     "output_type": "display_data"
    },
    {
     "data": {
      "application/javascript": [
       "\n",
       "            setTimeout(function() {\n",
       "                var nbb_cell_id = 30;\n",
       "                var nbb_unformatted_code = \"# function for processing\\nfrom nltk.corpus import stopwords\\n\\n\\ndef generate_ngrams(text, n_gram=1, stop=True):\\n    \\\"\\\"\\\"\\n    Simple n-gram generator.\\n    \\\"\\\"\\\"\\n    stop = set(stopwords.words(\\\"english\\\")) if stop else {}\\n\\n    token = [\\n        token for token in text.lower().split(\\\" \\\") if token != \\\"\\\" if token not in stop\\n    ]\\n    z = zip(*[token[i:] for i in range(n_gram)])\\n    ngrams = [\\\" \\\".join(ngram) for ngram in z]\\n    return ngrams\";\n",
       "                var nbb_formatted_code = \"# function for processing\\nfrom nltk.corpus import stopwords\\n\\n\\ndef generate_ngrams(text, n_gram=1, stop=True):\\n    \\\"\\\"\\\"\\n    Simple n-gram generator.\\n    \\\"\\\"\\\"\\n    stop = set(stopwords.words(\\\"english\\\")) if stop else {}\\n\\n    token = [\\n        token for token in text.lower().split(\\\" \\\") if token != \\\"\\\" if token not in stop\\n    ]\\n    z = zip(*[token[i:] for i in range(n_gram)])\\n    ngrams = [\\\" \\\".join(ngram) for ngram in z]\\n    return ngrams\";\n",
       "                var nbb_cells = Jupyter.notebook.get_cells();\n",
       "                for (var i = 0; i < nbb_cells.length; ++i) {\n",
       "                    if (nbb_cells[i].input_prompt_number == nbb_cell_id) {\n",
       "                        if (nbb_cells[i].get_text() == nbb_unformatted_code) {\n",
       "                             nbb_cells[i].set_text(nbb_formatted_code);\n",
       "                        }\n",
       "                        break;\n",
       "                    }\n",
       "                }\n",
       "            }, 500);\n",
       "            "
      ],
      "text/plain": [
       "<IPython.core.display.Javascript object>"
      ]
     },
     "metadata": {},
     "output_type": "display_data"
    }
   ],
   "source": [
    "# function for processing\n",
    "from nltk.corpus import stopwords\n",
    "\n",
    "\n",
    "def generate_ngrams(text, n_gram=1, stop=True):\n",
    "    \"\"\"\n",
    "    Simple n-gram generator.\n",
    "    \"\"\"\n",
    "    stop = set(stopwords.words(\"english\")) if stop else {}\n",
    "\n",
    "    token = [\n",
    "        token for token in text.lower().split(\" \") if token != \"\" if token not in stop\n",
    "    ]\n",
    "    z = zip(*[token[i:] for i in range(n_gram)])\n",
    "    ngrams = [\" \".join(ngram) for ngram in z]\n",
    "    return ngrams"
   ]
  },
  {
   "cell_type": "markdown",
   "id": "9053698b",
   "metadata": {},
   "source": [
    "### UNIGRAM"
   ]
  },
  {
   "cell_type": "code",
   "execution_count": 31,
   "id": "ff8a33b8",
   "metadata": {},
   "outputs": [
    {
     "data": {
      "application/javascript": [
       "\n",
       "            setTimeout(function() {\n",
       "                var nbb_cell_id = 31;\n",
       "                var nbb_unformatted_code = \"# create unigram\\nfrom collections import defaultdict\";\n",
       "                var nbb_formatted_code = \"# create unigram\\nfrom collections import defaultdict\";\n",
       "                var nbb_cells = Jupyter.notebook.get_cells();\n",
       "                for (var i = 0; i < nbb_cells.length; ++i) {\n",
       "                    if (nbb_cells[i].input_prompt_number == nbb_cell_id) {\n",
       "                        if (nbb_cells[i].get_text() == nbb_unformatted_code) {\n",
       "                             nbb_cells[i].set_text(nbb_formatted_code);\n",
       "                        }\n",
       "                        break;\n",
       "                    }\n",
       "                }\n",
       "            }, 500);\n",
       "            "
      ],
      "text/plain": [
       "<IPython.core.display.Javascript object>"
      ]
     },
     "metadata": {},
     "output_type": "display_data"
    },
    {
     "data": {
      "application/javascript": [
       "\n",
       "            setTimeout(function() {\n",
       "                var nbb_cell_id = 31;\n",
       "                var nbb_unformatted_code = \"# create unigram\\nfrom collections import defaultdict\";\n",
       "                var nbb_formatted_code = \"# create unigram\\nfrom collections import defaultdict\";\n",
       "                var nbb_cells = Jupyter.notebook.get_cells();\n",
       "                for (var i = 0; i < nbb_cells.length; ++i) {\n",
       "                    if (nbb_cells[i].input_prompt_number == nbb_cell_id) {\n",
       "                        if (nbb_cells[i].get_text() == nbb_unformatted_code) {\n",
       "                             nbb_cells[i].set_text(nbb_formatted_code);\n",
       "                        }\n",
       "                        break;\n",
       "                    }\n",
       "                }\n",
       "            }, 500);\n",
       "            "
      ],
      "text/plain": [
       "<IPython.core.display.Javascript object>"
      ]
     },
     "metadata": {},
     "output_type": "display_data"
    },
    {
     "data": {
      "application/javascript": [
       "\n",
       "            setTimeout(function() {\n",
       "                var nbb_cell_id = 31;\n",
       "                var nbb_unformatted_code = \"# create unigram\\nfrom collections import defaultdict\";\n",
       "                var nbb_formatted_code = \"# create unigram\\nfrom collections import defaultdict\";\n",
       "                var nbb_cells = Jupyter.notebook.get_cells();\n",
       "                for (var i = 0; i < nbb_cells.length; ++i) {\n",
       "                    if (nbb_cells[i].input_prompt_number == nbb_cell_id) {\n",
       "                        if (nbb_cells[i].get_text() == nbb_unformatted_code) {\n",
       "                             nbb_cells[i].set_text(nbb_formatted_code);\n",
       "                        }\n",
       "                        break;\n",
       "                    }\n",
       "                }\n",
       "            }, 500);\n",
       "            "
      ],
      "text/plain": [
       "<IPython.core.display.Javascript object>"
      ]
     },
     "metadata": {},
     "output_type": "display_data"
    }
   ],
   "source": [
    "# create unigram\n",
    "from collections import defaultdict"
   ]
  },
  {
   "cell_type": "code",
   "execution_count": 32,
   "id": "ef676e59",
   "metadata": {},
   "outputs": [
    {
     "data": {
      "application/javascript": [
       "\n",
       "            setTimeout(function() {\n",
       "                var nbb_cell_id = 32;\n",
       "                var nbb_unformatted_code = \"# defaultdict process\\ndisaster_unigrams = defaultdict(int)\\nnondisaster_unigrams = defaultdict(int)\";\n",
       "                var nbb_formatted_code = \"# defaultdict process\\ndisaster_unigrams = defaultdict(int)\\nnondisaster_unigrams = defaultdict(int)\";\n",
       "                var nbb_cells = Jupyter.notebook.get_cells();\n",
       "                for (var i = 0; i < nbb_cells.length; ++i) {\n",
       "                    if (nbb_cells[i].input_prompt_number == nbb_cell_id) {\n",
       "                        if (nbb_cells[i].get_text() == nbb_unformatted_code) {\n",
       "                             nbb_cells[i].set_text(nbb_formatted_code);\n",
       "                        }\n",
       "                        break;\n",
       "                    }\n",
       "                }\n",
       "            }, 500);\n",
       "            "
      ],
      "text/plain": [
       "<IPython.core.display.Javascript object>"
      ]
     },
     "metadata": {},
     "output_type": "display_data"
    },
    {
     "data": {
      "application/javascript": [
       "\n",
       "            setTimeout(function() {\n",
       "                var nbb_cell_id = 32;\n",
       "                var nbb_unformatted_code = \"# defaultdict process\\ndisaster_unigrams = defaultdict(int)\\nnondisaster_unigrams = defaultdict(int)\";\n",
       "                var nbb_formatted_code = \"# defaultdict process\\ndisaster_unigrams = defaultdict(int)\\nnondisaster_unigrams = defaultdict(int)\";\n",
       "                var nbb_cells = Jupyter.notebook.get_cells();\n",
       "                for (var i = 0; i < nbb_cells.length; ++i) {\n",
       "                    if (nbb_cells[i].input_prompt_number == nbb_cell_id) {\n",
       "                        if (nbb_cells[i].get_text() == nbb_unformatted_code) {\n",
       "                             nbb_cells[i].set_text(nbb_formatted_code);\n",
       "                        }\n",
       "                        break;\n",
       "                    }\n",
       "                }\n",
       "            }, 500);\n",
       "            "
      ],
      "text/plain": [
       "<IPython.core.display.Javascript object>"
      ]
     },
     "metadata": {},
     "output_type": "display_data"
    },
    {
     "data": {
      "application/javascript": [
       "\n",
       "            setTimeout(function() {\n",
       "                var nbb_cell_id = 32;\n",
       "                var nbb_unformatted_code = \"# defaultdict process\\ndisaster_unigrams = defaultdict(int)\\nnondisaster_unigrams = defaultdict(int)\";\n",
       "                var nbb_formatted_code = \"# defaultdict process\\ndisaster_unigrams = defaultdict(int)\\nnondisaster_unigrams = defaultdict(int)\";\n",
       "                var nbb_cells = Jupyter.notebook.get_cells();\n",
       "                for (var i = 0; i < nbb_cells.length; ++i) {\n",
       "                    if (nbb_cells[i].input_prompt_number == nbb_cell_id) {\n",
       "                        if (nbb_cells[i].get_text() == nbb_unformatted_code) {\n",
       "                             nbb_cells[i].set_text(nbb_formatted_code);\n",
       "                        }\n",
       "                        break;\n",
       "                    }\n",
       "                }\n",
       "            }, 500);\n",
       "            "
      ],
      "text/plain": [
       "<IPython.core.display.Javascript object>"
      ]
     },
     "metadata": {},
     "output_type": "display_data"
    }
   ],
   "source": [
    "# defaultdict process\n",
    "disaster_unigrams = defaultdict(int)\n",
    "nondisaster_unigrams = defaultdict(int)"
   ]
  },
  {
   "cell_type": "code",
   "execution_count": 33,
   "id": "158631ba",
   "metadata": {},
   "outputs": [
    {
     "data": {
      "application/javascript": [
       "\n",
       "            setTimeout(function() {\n",
       "                var nbb_cell_id = 33;\n",
       "                var nbb_unformatted_code = \"# Retrieve data from the dataset feature to display a list dictionary\\nfor text in train[train.target == 1].text:\\n    for word in generate_ngrams(text):\\n        disaster_unigrams[word] += 1\\n\\nfor text in train[train.target == 0].text:\\n    for word in generate_ngrams(text):\\n        nondisaster_unigrams[word] += 1\";\n",
       "                var nbb_formatted_code = \"# Retrieve data from the dataset feature to display a list dictionary\\nfor text in train[train.target == 1].text:\\n    for word in generate_ngrams(text):\\n        disaster_unigrams[word] += 1\\n\\nfor text in train[train.target == 0].text:\\n    for word in generate_ngrams(text):\\n        nondisaster_unigrams[word] += 1\";\n",
       "                var nbb_cells = Jupyter.notebook.get_cells();\n",
       "                for (var i = 0; i < nbb_cells.length; ++i) {\n",
       "                    if (nbb_cells[i].input_prompt_number == nbb_cell_id) {\n",
       "                        if (nbb_cells[i].get_text() == nbb_unformatted_code) {\n",
       "                             nbb_cells[i].set_text(nbb_formatted_code);\n",
       "                        }\n",
       "                        break;\n",
       "                    }\n",
       "                }\n",
       "            }, 500);\n",
       "            "
      ],
      "text/plain": [
       "<IPython.core.display.Javascript object>"
      ]
     },
     "metadata": {},
     "output_type": "display_data"
    },
    {
     "data": {
      "application/javascript": [
       "\n",
       "            setTimeout(function() {\n",
       "                var nbb_cell_id = 33;\n",
       "                var nbb_unformatted_code = \"# Retrieve data from the dataset feature to display a list dictionary\\nfor text in train[train.target == 1].text:\\n    for word in generate_ngrams(text):\\n        disaster_unigrams[word] += 1\\n\\nfor text in train[train.target == 0].text:\\n    for word in generate_ngrams(text):\\n        nondisaster_unigrams[word] += 1\";\n",
       "                var nbb_formatted_code = \"# Retrieve data from the dataset feature to display a list dictionary\\nfor text in train[train.target == 1].text:\\n    for word in generate_ngrams(text):\\n        disaster_unigrams[word] += 1\\n\\nfor text in train[train.target == 0].text:\\n    for word in generate_ngrams(text):\\n        nondisaster_unigrams[word] += 1\";\n",
       "                var nbb_cells = Jupyter.notebook.get_cells();\n",
       "                for (var i = 0; i < nbb_cells.length; ++i) {\n",
       "                    if (nbb_cells[i].input_prompt_number == nbb_cell_id) {\n",
       "                        if (nbb_cells[i].get_text() == nbb_unformatted_code) {\n",
       "                             nbb_cells[i].set_text(nbb_formatted_code);\n",
       "                        }\n",
       "                        break;\n",
       "                    }\n",
       "                }\n",
       "            }, 500);\n",
       "            "
      ],
      "text/plain": [
       "<IPython.core.display.Javascript object>"
      ]
     },
     "metadata": {},
     "output_type": "display_data"
    },
    {
     "data": {
      "application/javascript": [
       "\n",
       "            setTimeout(function() {\n",
       "                var nbb_cell_id = 33;\n",
       "                var nbb_unformatted_code = \"# Retrieve data from the dataset feature to display a list dictionary\\nfor text in train[train.target == 1].text:\\n    for word in generate_ngrams(text):\\n        disaster_unigrams[word] += 1\\n\\nfor text in train[train.target == 0].text:\\n    for word in generate_ngrams(text):\\n        nondisaster_unigrams[word] += 1\";\n",
       "                var nbb_formatted_code = \"# Retrieve data from the dataset feature to display a list dictionary\\nfor text in train[train.target == 1].text:\\n    for word in generate_ngrams(text):\\n        disaster_unigrams[word] += 1\\n\\nfor text in train[train.target == 0].text:\\n    for word in generate_ngrams(text):\\n        nondisaster_unigrams[word] += 1\";\n",
       "                var nbb_cells = Jupyter.notebook.get_cells();\n",
       "                for (var i = 0; i < nbb_cells.length; ++i) {\n",
       "                    if (nbb_cells[i].input_prompt_number == nbb_cell_id) {\n",
       "                        if (nbb_cells[i].get_text() == nbb_unformatted_code) {\n",
       "                             nbb_cells[i].set_text(nbb_formatted_code);\n",
       "                        }\n",
       "                        break;\n",
       "                    }\n",
       "                }\n",
       "            }, 500);\n",
       "            "
      ],
      "text/plain": [
       "<IPython.core.display.Javascript object>"
      ]
     },
     "metadata": {},
     "output_type": "display_data"
    }
   ],
   "source": [
    "# Retrieve data from the dataset feature to display a list dictionary\n",
    "for text in train[train.target == 1].text:\n",
    "    for word in generate_ngrams(text):\n",
    "        disaster_unigrams[word] += 1\n",
    "\n",
    "for text in train[train.target == 0].text:\n",
    "    for word in generate_ngrams(text):\n",
    "        nondisaster_unigrams[word] += 1"
   ]
  },
  {
   "cell_type": "code",
   "execution_count": 34,
   "id": "3c53b04f",
   "metadata": {},
   "outputs": [
    {
     "data": {
      "text/plain": [
       "defaultdict(int,\n",
       "            {'deeds': 1,\n",
       "             'reason': 7,\n",
       "             '#earthquake': 19,\n",
       "             'may': 47,\n",
       "             'allah': 4,\n",
       "             'forgive': 1,\n",
       "             'us': 40,\n",
       "             'forest': 44,\n",
       "             'fire': 150,\n",
       "             'near': 47,\n",
       "             'la': 17,\n",
       "             'ronge': 1,\n",
       "             'sask.': 1,\n",
       "             'canada': 4,\n",
       "             'residents': 7,\n",
       "             'asked': 1,\n",
       "             \"'shelter\": 1,\n",
       "             \"place'\": 1,\n",
       "             'notified': 1,\n",
       "             'officers.': 1,\n",
       "             'evacuation': 38,\n",
       "             'shelter': 5,\n",
       "             'place': 12,\n",
       "             'orders': 9,\n",
       "             'expected': 9,\n",
       "             '13,000': 1,\n",
       "             'people': 93,\n",
       "             'receive': 2,\n",
       "             '#wildfires': 5,\n",
       "             'california': 88,\n",
       "             'got': 29,\n",
       "             'sent': 4,\n",
       "             'photo': 7,\n",
       "             'ruby': 1,\n",
       "             '#alaska': 1,\n",
       "             'smoke': 11,\n",
       "             'pours': 1,\n",
       "             'school': 29,\n",
       "             '#rockyfire': 4,\n",
       "             'update': 8,\n",
       "             '=>': 1,\n",
       "             'hwy.': 4,\n",
       "             '20': 9,\n",
       "             'closed': 15,\n",
       "             'directions': 1,\n",
       "             'due': 23,\n",
       "             'lake': 8,\n",
       "             'county': 26,\n",
       "             '-': 389,\n",
       "             '#cafire': 2,\n",
       "             '#flood': 4,\n",
       "             '#disaster': 6,\n",
       "             'heavy': 18,\n",
       "             'rain': 22,\n",
       "             'causes': 9,\n",
       "             'flash': 17,\n",
       "             'flooding': 31,\n",
       "             'streets': 2,\n",
       "             'manitou,': 1,\n",
       "             'colorado': 9,\n",
       "             'springs': 3,\n",
       "             'areas': 7,\n",
       "             \"i'm\": 41,\n",
       "             'top': 13,\n",
       "             'hill': 5,\n",
       "             'see': 23,\n",
       "             'woods...': 1,\n",
       "             \"there's\": 15,\n",
       "             'emergency': 65,\n",
       "             'happening': 5,\n",
       "             'building': 15,\n",
       "             'across': 13,\n",
       "             'street': 18,\n",
       "             'afraid': 3,\n",
       "             'tornado': 21,\n",
       "             'coming': 14,\n",
       "             'area...': 2,\n",
       "             'three': 19,\n",
       "             'died': 21,\n",
       "             'heat': 30,\n",
       "             'wave': 21,\n",
       "             'far': 14,\n",
       "             'haha': 4,\n",
       "             'south': 20,\n",
       "             'tampa': 2,\n",
       "             'getting': 18,\n",
       "             'flooded': 4,\n",
       "             'hah-': 1,\n",
       "             'wait': 2,\n",
       "             'second': 11,\n",
       "             'live': 26,\n",
       "             'gonna': 11,\n",
       "             'fvck': 1,\n",
       "             '#flooding': 3,\n",
       "             '#raining': 1,\n",
       "             '#florida': 2,\n",
       "             '#tampabay': 1,\n",
       "             '#tampa': 1,\n",
       "             '18': 5,\n",
       "             '19': 1,\n",
       "             'days.': 3,\n",
       "             \"i've\": 6,\n",
       "             'lost': 13,\n",
       "             'count': 2,\n",
       "             'bago': 2,\n",
       "             'myanmar': 10,\n",
       "             '#we': 1,\n",
       "             'arrived': 2,\n",
       "             'damage': 25,\n",
       "             'bus': 26,\n",
       "             '80': 3,\n",
       "             'multi': 1,\n",
       "             'car': 51,\n",
       "             'crash': 64,\n",
       "             '#breaking': 6,\n",
       "             '@bbcmtd': 1,\n",
       "             'wholesale': 3,\n",
       "             'markets': 3,\n",
       "             'ablaze': 11,\n",
       "             'http://t.co/lhyxeohy6c': 1,\n",
       "             '#africanbaze:': 1,\n",
       "             'breaking': 9,\n",
       "             'news:nigeria': 1,\n",
       "             'flag': 18,\n",
       "             'set': 22,\n",
       "             'aba.': 1,\n",
       "             'http://t.co/2nndbgwyei': 1,\n",
       "             'inec': 2,\n",
       "             'office': 8,\n",
       "             'abia': 2,\n",
       "             'http://t.co/3imaomknna': 1,\n",
       "             'barbados': 1,\n",
       "             '#bridgetown': 1,\n",
       "             'jamaica': 3,\n",
       "             '\\x89ûò': 20,\n",
       "             'two': 71,\n",
       "             'cars': 14,\n",
       "             'ablaze:': 1,\n",
       "             'santa': 4,\n",
       "             'cruz': 3,\n",
       "             '\\x89ûó': 10,\n",
       "             'head': 6,\n",
       "             'st': 15,\n",
       "             'elizabeth': 1,\n",
       "             'police': 93,\n",
       "             'superintende...': 1,\n",
       "             'http://t.co/wdueaj8q4j': 1,\n",
       "             'west': 19,\n",
       "             'burned:': 2,\n",
       "             'thousands': 7,\n",
       "             'wildfires': 5,\n",
       "             'alone': 4,\n",
       "             'http://t.co/vl5tbr3wbr': 1,\n",
       "             'deputies:': 2,\n",
       "             'man': 45,\n",
       "             'shot': 17,\n",
       "             'brighton': 1,\n",
       "             'home': 34,\n",
       "             'http://t.co/gwnrhmso8k': 1,\n",
       "             'wife': 5,\n",
       "             'get': 66,\n",
       "             'six': 4,\n",
       "             'years': 50,\n",
       "             'jail': 1,\n",
       "             'setting': 7,\n",
       "             'niece\\nhttp://t.co/ev1ahoucza': 1,\n",
       "             'police:': 8,\n",
       "             'arsonist': 6,\n",
       "             'deliberately': 1,\n",
       "             'black': 14,\n",
       "             'church': 4,\n",
       "             'north': 22,\n",
       "             'carolinaåêablaze': 1,\n",
       "             'http://t.co/pcxarbh9an': 1,\n",
       "             '#kurds': 1,\n",
       "             'trampling': 1,\n",
       "             'turkmen': 2,\n",
       "             'later': 6,\n",
       "             'others': 9,\n",
       "             'vandalized': 1,\n",
       "             'offices': 1,\n",
       "             'front': 6,\n",
       "             '#diyala': 1,\n",
       "             'http://t.co/4izfdyc3cg': 1,\n",
       "             'truck': 29,\n",
       "             ':': 31,\n",
       "             'r21.': 1,\n",
       "             'voortrekker': 1,\n",
       "             'ave.': 1,\n",
       "             'outside': 11,\n",
       "             'tambo': 1,\n",
       "             'intl.': 1,\n",
       "             'cargo': 1,\n",
       "             'section.': 1,\n",
       "             'http://t.co/8kscqkfkkf': 1,\n",
       "             '#california': 4,\n",
       "             'http://t.co/icsjgz9te1': 1,\n",
       "             '#climate': 2,\n",
       "             '#energy': 1,\n",
       "             'http://t.co/9fxmn0l0bd': 1,\n",
       "             '@navista7': 1,\n",
       "             'steve': 2,\n",
       "             'fires': 60,\n",
       "             'something': 10,\n",
       "             'else!': 1,\n",
       "             'tinderbox': 1,\n",
       "             'clown': 1,\n",
       "             \"'hood\": 1,\n",
       "             '@news24680': 1,\n",
       "             '@nxwestmidlands': 1,\n",
       "             'huge': 12,\n",
       "             'http://t.co/rwzbfvnxer': 1,\n",
       "             'accident': 50,\n",
       "             'i-24': 1,\n",
       "             'w': 4,\n",
       "             '#nashvilletraffic.': 1,\n",
       "             'traffic': 16,\n",
       "             'moving': 10,\n",
       "             '8m': 1,\n",
       "             'slower': 2,\n",
       "             'usual.': 2,\n",
       "             'https://t.co/0ghk693egj': 1,\n",
       "             'center': 13,\n",
       "             'lane': 3,\n",
       "             'blocked': 5,\n",
       "             '#santaclara': 1,\n",
       "             'us-101': 1,\n",
       "             'nb': 2,\n",
       "             'great': 14,\n",
       "             'america': 7,\n",
       "             'pkwy': 2,\n",
       "             '#bayarea': 1,\n",
       "             '#traffic': 3,\n",
       "             'http://t.co/pmlohzurwr': 1,\n",
       "             'reported': 13,\n",
       "             'motor': 3,\n",
       "             'vehicle': 11,\n",
       "             'curry': 1,\n",
       "             'herman': 1,\n",
       "             'rd': 15,\n",
       "             'stephenson': 1,\n",
       "             'involving': 5,\n",
       "             'overturned': 1,\n",
       "             'vehicle.': 1,\n",
       "             'please': 23,\n",
       "             'use...': 1,\n",
       "             'http://t.co/ybjezkurw1': 1,\n",
       "             'bigrigradio': 1,\n",
       "             'awareness': 2,\n",
       "             'i-77': 4,\n",
       "             'mile': 5,\n",
       "             'marker': 3,\n",
       "             '31': 8,\n",
       "             'mooresville': 2,\n",
       "             'iredell': 2,\n",
       "             'ramp': 1,\n",
       "             '8/6': 2,\n",
       "             '1:18': 2,\n",
       "             'pm': 34,\n",
       "             'n': 11,\n",
       "             'cabrillo': 1,\n",
       "             'hwy/magellan': 1,\n",
       "             'av': 5,\n",
       "             'mir': 1,\n",
       "             '(08/06/15': 1,\n",
       "             '11:03:58)': 1,\n",
       "             '40': 32,\n",
       "             'congestion': 1,\n",
       "             'pastor': 1,\n",
       "             'scene': 8,\n",
       "             'accident......who': 1,\n",
       "             'owner': 4,\n",
       "             'range': 2,\n",
       "             'rover': 2,\n",
       "             '?': 9,\n",
       "             'horrible': 14,\n",
       "             'past': 9,\n",
       "             'sunday.': 1,\n",
       "             'finally': 2,\n",
       "             'able': 3,\n",
       "             'around.': 1,\n",
       "             'thank': 6,\n",
       "             'god??': 1,\n",
       "             '#truckcrash': 1,\n",
       "             'overturns': 1,\n",
       "             '#fortworth': 1,\n",
       "             'interstate': 2,\n",
       "             'http://t.co/rs22lj4qfp': 1,\n",
       "             'click': 2,\n",
       "             'crash&gt;http://t.co/ld0uniyw4k': 1,\n",
       "             '#ashville': 1,\n",
       "             '23': 1,\n",
       "             'sb': 3,\n",
       "             'sr': 1,\n",
       "             '752': 1,\n",
       "             'http://t.co/hylmo0wgfi': 1,\n",
       "             'carolina': 1,\n",
       "             'accident:': 5,\n",
       "             'motorcyclist': 9,\n",
       "             'dies': 11,\n",
       "             'i-540': 1,\n",
       "             'crossed': 2,\n",
       "             'median:': 1,\n",
       "             'motorcycle': 4,\n",
       "             'rider': 3,\n",
       "             'traveling...': 1,\n",
       "             'http://t.co/p18lzrlmy6': 1,\n",
       "             'fyi': 2,\n",
       "             'cad:fyi:': 2,\n",
       "             ';accident': 4,\n",
       "             'property': 8,\n",
       "             'damage;nhs;999': 1,\n",
       "             'piner': 2,\n",
       "             'rd/horndale': 2,\n",
       "             'dr': 2,\n",
       "             'rt': 41,\n",
       "             'naayf:': 1,\n",
       "             'first': 48,\n",
       "             'years.': 1,\n",
       "             'turning': 1,\n",
       "             'onto': 8,\n",
       "             'chandanee': 1,\n",
       "             'magu': 1,\n",
       "             'mma.': 1,\n",
       "             'taxi': 1,\n",
       "             'rammed': 2,\n",
       "             'halfway': 1,\n",
       "             'turned.': 1,\n",
       "             'everyone': 13,\n",
       "             'conf\\x89û_': 1,\n",
       "             'left': 10,\n",
       "             '#manchester': 3,\n",
       "             '293': 1,\n",
       "             'eddy': 1,\n",
       "             'stop': 16,\n",
       "             'go': 25,\n",
       "             'back': 31,\n",
       "             'nh-3a': 1,\n",
       "             'delay': 2,\n",
       "             '4': 32,\n",
       "             'mins': 2,\n",
       "             'damage;': 1,\n",
       "             'damage;wpd;1600': 1,\n",
       "             '17th': 1,\n",
       "             '8/6/2015@2:09': 1,\n",
       "             'pm:': 23,\n",
       "             'injury': 7,\n",
       "             '2781': 1,\n",
       "             'willis': 1,\n",
       "             'foreman': 1,\n",
       "             'http://t.co/vckit6edev': 1,\n",
       "             'aashiqui': 1,\n",
       "             'actress': 2,\n",
       "             'anu': 1,\n",
       "             'aggarwal': 1,\n",
       "             'near-fatal': 1,\n",
       "             'http://t.co/6otfp31lqw': 1,\n",
       "             'suffield': 1,\n",
       "             'alberta': 2,\n",
       "             'https://t.co/bptmlf4p10': 1,\n",
       "             '9': 4,\n",
       "             'backup': 1,\n",
       "             'south...accident': 1,\n",
       "             'blocking': 4,\n",
       "             'right': 22,\n",
       "             '2': 67,\n",
       "             'lanes': 5,\n",
       "             'exit': 6,\n",
       "             'langtree': 1,\n",
       "             'rd...consider': 1,\n",
       "             'nc': 5,\n",
       "             '115': 1,\n",
       "             '150': 2,\n",
       "             '16': 9,\n",
       "             'alternate': 1,\n",
       "             '#breaking:': 3,\n",
       "             'deadly': 7,\n",
       "             'happened': 10,\n",
       "             '#hagerstown': 1,\n",
       "             'today.': 6,\n",
       "             \"i'll\": 8,\n",
       "             'details': 4,\n",
       "             '5': 18,\n",
       "             '@your4state.': 1,\n",
       "             '#whag': 1,\n",
       "             'even': 19,\n",
       "             'week': 9,\n",
       "             'fucking': 6,\n",
       "             '..': 3,\n",
       "             'mfs': 2,\n",
       "             \"can't\": 19,\n",
       "             'drive': 8,\n",
       "             '.': 7,\n",
       "             '.@norwaymfa': 1,\n",
       "             '#bahrain': 1,\n",
       "             'previously': 4,\n",
       "             'road': 23,\n",
       "             'killed': 92,\n",
       "             'explosion': 24,\n",
       "             'https://t.co/gfjfgtodad': 1,\n",
       "             'experts': 17,\n",
       "             'france': 10,\n",
       "             'begin': 8,\n",
       "             'examining': 10,\n",
       "             'airplane': 26,\n",
       "             'debris': 50,\n",
       "             'found': 43,\n",
       "             'reunion': 31,\n",
       "             'island:': 8,\n",
       "             'french': 9,\n",
       "             'air': 31,\n",
       "             'o...': 3,\n",
       "             'http://t.co/yvvpznzmxg': 1,\n",
       "             '#news': 48,\n",
       "             'strict': 2,\n",
       "             'liability': 2,\n",
       "             'context': 2,\n",
       "             'pilot': 6,\n",
       "             'error': 1,\n",
       "             'common': 1,\n",
       "             'component': 1,\n",
       "             'aviation': 2,\n",
       "             'cr...': 1,\n",
       "             'http://t.co/6cz3bohrd4': 1,\n",
       "             'wedn...': 2,\n",
       "             'http://t.co/bkpfpogysi': 1,\n",
       "             '@alexalltimelow': 1,\n",
       "             'awwww': 1,\n",
       "             \"they're\": 6,\n",
       "             'die': 7,\n",
       "             'cuties': 1,\n",
       "             '????': 22,\n",
       "             'good': 19,\n",
       "             'job!': 2,\n",
       "             'family': 23,\n",
       "             'members': 10,\n",
       "             'osama': 1,\n",
       "             'bin': 9,\n",
       "             'laden': 8,\n",
       "             'ironic': 2,\n",
       "             '??????': 10,\n",
       "             'mhmmm': 1,\n",
       "             'gov': 2,\n",
       "             'shit': 16,\n",
       "             'suspect': 35,\n",
       "             'goes': 7,\n",
       "             'engine': 3,\n",
       "             'http://t.co/tyjxrfd3st': 1,\n",
       "             'via': 117,\n",
       "             '@youtube': 18,\n",
       "             'wings': 6,\n",
       "             '(29-07-2015)': 3,\n",
       "             'http://t.co/i7kztevb2v': 1,\n",
       "             'cessna': 1,\n",
       "             'ocampo': 1,\n",
       "             'coahuila': 2,\n",
       "             'mexico': 3,\n",
       "             'july': 3,\n",
       "             '29': 2,\n",
       "             '2015': 18,\n",
       "             'four': 10,\n",
       "             'men': 13,\n",
       "             'including': 6,\n",
       "             'state': 30,\n",
       "             'government': 16,\n",
       "             'official.': 1,\n",
       "             '#horrible': 1,\n",
       "             '#accident': 4,\n",
       "             '#watchthevideo': 1,\n",
       "             'http://t.co/p64xrvgjik': 1,\n",
       "             'island': 22,\n",
       "             'http://t.co/lsmx2vwr3j': 1,\n",
       "             'wednesday\\x89û_': 1,\n",
       "             'wednesday': 10,\n",
       "             'began': 5,\n",
       "             't...': 12,\n",
       "             '#kca': 3,\n",
       "             '#votejkt48id': 3,\n",
       "             'mbataweel:': 1,\n",
       "             '#rip': 2,\n",
       "             '#binladen': 1,\n",
       "             \"airplane's\": 1,\n",
       "             'on...': 2,\n",
       "             'http://t.co/tagzbcxfj0': 1,\n",
       "             '#mlb': 2,\n",
       "             'unbelievably': 1,\n",
       "             'insane.\\n#man': 1,\n",
       "             '#airport': 1,\n",
       "             '#airplane': 2,\n",
       "             '#aircraft': 2,\n",
       "             '#aeroplane': 1,\n",
       "             '#runway': 1,\n",
       "             '#freaky\\x89û_': 1,\n",
       "             'https://t.co/cezhq7czll': 1,\n",
       "             '|': 51,\n",
       "             'airplaneåê(29-07-2015)': 1,\n",
       "             'http://t.co/wq3wjsgphl': 1,\n",
       "             'http://t.co/tfcdronra6': 1,\n",
       "             'usama': 1,\n",
       "             'ladins': 1,\n",
       "             'dead': 56,\n",
       "             'crash.': 2,\n",
       "             'naturally': 1,\n",
       "             'accident.': 2,\n",
       "             'plane': 28,\n",
       "             'festival': 2,\n",
       "             'https://t.co/kq9ae6ap2b': 1,\n",
       "             '#crash': 2,\n",
       "             '#pilot': 1,\n",
       "             '#death': 1,\n",
       "             '#carfest': 1,\n",
       "             'http://t.co/gibyqhhkpk': 1,\n",
       "             'dtn': 4,\n",
       "             'brazil:': 2,\n",
       "             'exp...': 2,\n",
       "             'http://t.co/m9ig3wq8lq': 1,\n",
       "             'http://t.co/v4smaeslk5': 1,\n",
       "             '\\x89ûïairplane\\x89û\\x9d': 1,\n",
       "             '29-07-2015.': 1,\n",
       "             'wtf': 5,\n",
       "             'can\\x89ûªt': 1,\n",
       "             'believe': 11,\n",
       "             'eyes': 4,\n",
       "             '\\x89ûò...': 1,\n",
       "             'http://t.co/6ffylajwps': 1,\n",
       "             '+': 5,\n",
       "             'nicole': 1,\n",
       "             'fletcher': 1,\n",
       "             'one': 63,\n",
       "             'victim': 11,\n",
       "             'crashed': 21,\n",
       "             'times': 21,\n",
       "             'ago.': 3,\n",
       "             '\\n\\nthe': 1,\n",
       "             'little': 15,\n",
       "             'bit': 5,\n",
       "             'trauma': 17,\n",
       "             'her.': 2,\n",
       "             'although': 1,\n",
       "             '\\n\\n+': 1,\n",
       "             'omg': 6,\n",
       "             'airplane.': 1,\n",
       "             'http://t.co/xdxdprcpns': 1,\n",
       "             '#omg!': 1,\n",
       "             'this.': 1,\n",
       "             'bro\\n#airplane': 1,\n",
       "             '#jetengine': 1,\n",
       "             '#turbojet': 1,\n",
       "             '#boing': 1,\n",
       "             '#g90': 1,\n",
       "             'http://t.co/kxxnszp6nk': 1,\n",
       "             'crashes': 4,\n",
       "             'house': 20,\n",
       "             'colombia': 1,\n",
       "             '12': 4,\n",
       "             'https://t.co/zhjlflbhzl': 1,\n",
       "             'shooting': 20,\n",
       "             'https://t.co/iecc1jdoub': 1,\n",
       "             'could': 37,\n",
       "             'drone': 5,\n",
       "             'cause': 20,\n",
       "             'accident?': 1,\n",
       "             'pilots': 5,\n",
       "             'worried': 4,\n",
       "             'use': 13,\n",
       "             'drones': 3,\n",
       "             'esp.': 2,\n",
       "             'close': 8,\n",
       "             'vicinity': 2,\n",
       "             'airports': 1,\n",
       "             'http://t.co/kz35rgngjf': 1,\n",
       "             '#': 2,\n",
       "             'early': 11,\n",
       "             'wake': 15,\n",
       "             'call': 14,\n",
       "             'sister': 3,\n",
       "             'begging': 1,\n",
       "             'come': 15,\n",
       "             '&amp;': 105,\n",
       "             'ride': 1,\n",
       "             'w/her': 1,\n",
       "             'ambulance': 22,\n",
       "             'hospital': 5,\n",
       "             '#rodkiai': 1,\n",
       "             'http://t.co/ay6zzcupnz': 1,\n",
       "             'twelve': 14,\n",
       "             'feared': 22,\n",
       "             'pakistani': 16,\n",
       "             'helicopter': 23,\n",
       "             'http://t.co/sc9dns41mc': 1,\n",
       "             'ambulances': 2,\n",
       "             'serious': 10,\n",
       "             'lorry': 1,\n",
       "             '...': 105,\n",
       "             'http://t.co/9pfeaqeski': 1,\n",
       "             'http://t.co/fntg70rnkx': 1,\n",
       "             '#emsne\\x89û_': 1,\n",
       "             'reuters': 10,\n",
       "             'http://t.co/mdnugvubwn': 1,\n",
       "             '#yugvani': 3,\n",
       "             'anyone': 7,\n",
       "             'travelling': 2,\n",
       "             'aberystwyth-shrewsbury': 1,\n",
       "             'incident.': 1,\n",
       "             'services': 16,\n",
       "             'halt': 2,\n",
       "             'shrews.': 1,\n",
       "             'scene.': 3,\n",
       "             'http://t.co/xum8ylcb4q': 1,\n",
       "             '@20skyhawkmm20': 1,\n",
       "             '@traplord_29': 1,\n",
       "             '@fredosantana300': 1,\n",
       "             '@lilreese300': 1,\n",
       "             'hella': 2,\n",
       "             'crazy': 8,\n",
       "             '3': 26,\n",
       "             'fights': 2,\n",
       "             'couple': 8,\n",
       "             'mosh': 1,\n",
       "             'pits': 1,\n",
       "             '??': 30,\n",
       "             'http://t.co/bfes5twbzt': 1,\n",
       "             '#til_now': 2,\n",
       "             '#dna': 1,\n",
       "             'http://t.co/7xglah10zl': 1,\n",
       "             'http://t.co/thmblaatzp': 1,\n",
       "             'pakistan': 13,\n",
       "             'kills': 34,\n",
       "             'nine': 5,\n",
       "             'http://t.co/8e7ry8ebmf': 1,\n",
       "             'http://t.co/fcqmkffflw': 1,\n",
       "             'http://t.co/vayaymbngu': 1,\n",
       "             'http://t.co/3brme6sn4t': 1,\n",
       "             'know': 25,\n",
       "             'way': 19,\n",
       "             '&lt;&lt;': 1,\n",
       "             '#reuters': 3,\n",
       "             'http://t.co/shzpyiqok5': 1,\n",
       "             'http://t.co/pwwpum6rbj': 1,\n",
       "             'http://t.co/yspon4d6qo': 1,\n",
       "             'http://t.co/fuerk0gwui': 1,\n",
       "             'http://t.co/mv7ggglmvc': 1,\n",
       "             'http://t.co/x5yeuylt1x': 1,\n",
       "             'http://t.co/2ugrmd1z1n': 1,\n",
       "             'http://t.co/th9ywbbeet': 1,\n",
       "             '#worldnews': 7,\n",
       "             'http://t.co/x2qsjod40u': 1,\n",
       "             'http://t.co/j8tyt1xrrk': 1,\n",
       "             'http://t.co/9d4nazoi94': 1,\n",
       "             'annihilated': 6,\n",
       "             'abs': 1,\n",
       "             'http://t.co/1xpw292tje': 1,\n",
       "             'cop': 5,\n",
       "             'pulls': 5,\n",
       "             'drunk': 5,\n",
       "             'driver': 12,\n",
       "             'safety': 8,\n",
       "             'seconds': 4,\n",
       "             'hit': 28,\n",
       "             'train.': 5,\n",
       "             'http://t.co/thrhkhogcuåê': 1,\n",
       "             'http://t.co/tzszmf2qxe': 1,\n",
       "             '@viralspell': 3,\n",
       "             'http://t.co/c0nkgp6w03åê': 1,\n",
       "             'http://t.co/imwmfdjssn': 1,\n",
       "             '@violentfeminazi': 1,\n",
       "             'guess': 4,\n",
       "             \"that's\": 19,\n",
       "             'ok': 10,\n",
       "             'armenians': 1,\n",
       "             'since': 28,\n",
       "             \"we've\": 6,\n",
       "             'spent': 2,\n",
       "             'history': 7,\n",
       "             '70': 38,\n",
       "             '100000': 1,\n",
       "             'instantly': 1,\n",
       "             'became': 3,\n",
       "             'aware': 4,\n",
       "             'ability': 2,\n",
       "             'annihilate': 1,\n",
       "             'whole': 16,\n",
       "             'humanity': 4,\n",
       "             '1960s': 1,\n",
       "             'oryx': 1,\n",
       "             'symbol': 1,\n",
       "             'arabian': 4,\n",
       "             'peninsula': 1,\n",
       "             'hunters.': 1,\n",
       "             '\\nhttp://t.co/yangeqbuqw': 1,\n",
       "             'http://t.co/jq2eh5kglt': 1,\n",
       "             'ready': 8,\n",
       "             'bucs': 1,\n",
       "             'game': 6,\n",
       "             '@philipduncan': 1,\n",
       "             '@breakfastone': 1,\n",
       "             \"'annihilated\": 1,\n",
       "             'last': 27,\n",
       "             'nights': 1,\n",
       "             \"weather'...\": 1,\n",
       "             'really': 16,\n",
       "             'philip': 1,\n",
       "             'thought': 8,\n",
       "             'would': 34,\n",
       "             'forecast': 5,\n",
       "             'that...': 1,\n",
       "             '@tomcatarts': 1,\n",
       "             'thus': 1,\n",
       "             'explaining': 1,\n",
       "             'annihilated.': 1,\n",
       "             'case': 11,\n",
       "             'survivor': 1,\n",
       "             'evolved': 1,\n",
       "             'godlike': 1,\n",
       "             'http://t.co/f1bakpnyn6åê': 1,\n",
       "             'http://t.co/lzxwoaye4x': 1,\n",
       "             'damascus:': 1,\n",
       "             'syrian': 4,\n",
       "             'army': 42,\n",
       "             'grinds': 1,\n",
       "             '\\x89û÷alloosh': 1,\n",
       "             'gang': 5,\n",
       "             'manure': 1,\n",
       "             'pile\\nhttp://t.co/7rakhp3bwm': 1,\n",
       "             '@rvfriedmann': 1,\n",
       "             'hell': 6,\n",
       "             'fraction': 2,\n",
       "             'belief': 1,\n",
       "             'total': 5,\n",
       "             'annihilation': 8,\n",
       "             'destruction': 10,\n",
       "             'usa': 5,\n",
       "             '@lodisilverado': 1,\n",
       "             '@ritzy_jewels': 1,\n",
       "             'annihilating': 1,\n",
       "             'quarterstaff': 1,\n",
       "             ':starmade:': 1,\n",
       "             ':stardate': 1,\n",
       "             '3:': 3,\n",
       "             ':planetary': 1,\n",
       "             'annihilation::': 1,\n",
       "             'http://t.co/i2hhviumtm': 1,\n",
       "             'u.s': 4,\n",
       "             'national': 19,\n",
       "             'park': 6,\n",
       "             'tonto': 3,\n",
       "             'forest:': 3,\n",
       "             'salt': 5,\n",
       "             'river': 14,\n",
       "             'wild': 31,\n",
       "             'horse...': 3,\n",
       "             'https://t.co/sw1sbua3mn': 1,\n",
       "             '@change': 4,\n",
       "             'http://t.co/kpqk0c4g0m': 1,\n",
       "             '@calfreedommom': 1,\n",
       "             '@steph93065': 1,\n",
       "             'mention': 3,\n",
       "             'major': 16,\n",
       "             'contributor': 1,\n",
       "             'israel': 10,\n",
       "             '@willienelson': 1,\n",
       "             'need': 16,\n",
       "             'help!': 1,\n",
       "             'horses': 1,\n",
       "             'die!please': 1,\n",
       "             'sign': 4,\n",
       "             'petition!take': 1,\n",
       "             'stand': 4,\n",
       "             'voice': 1,\n",
       "             'them!': 1,\n",
       "             '#gilbert23': 1,\n",
       "             'https://t.co/e8dl1lncvu': 1,\n",
       "             'horses!': 1,\n",
       "             'http://t.co/wvobvvtxkg': 1,\n",
       "             'world': 29,\n",
       "             'vs': 2,\n",
       "             'self': 2,\n",
       "             'transformation': 1,\n",
       "             'http://t.co/pyehwodwun': 1,\n",
       "             'aliens': 1,\n",
       "             'attack': 47,\n",
       "             'exterminate': 1,\n",
       "             'humans': 1,\n",
       "             'http://t.co/8jxql8cv8z': 1,\n",
       "             'http://t.co/sb5r7shccj': 1,\n",
       "             'ohh': 2,\n",
       "             'fukurodani': 1,\n",
       "             'survive': 11,\n",
       "             'apocalypse': 5,\n",
       "             'bokuto': 1,\n",
       "             'feels': 2,\n",
       "             'poor': 11,\n",
       "             'boy': 29,\n",
       "             'ppor': 1,\n",
       "             'child': 8,\n",
       "             'another': 31,\n",
       "             'hour!': 1,\n",
       "             'august': 22,\n",
       "             '05': 14,\n",
       "             '08:02pm': 1,\n",
       "             \"here's\": 4,\n",
       "             'red': 11,\n",
       "             'zombie': 1,\n",
       "             '2014!': 1,\n",
       "             'http://t.co/cf9e6tu3g7': 1,\n",
       "             '#internetradio': 1,\n",
       "             '#collegeradi\\x89û_': 1,\n",
       "             'question': 3,\n",
       "             'interpretation': 1,\n",
       "             'apocalypse.': 1,\n",
       "             'called': 16,\n",
       "             'https://t.co/my8q1uwijn': 1,\n",
       "             'begins..': 1,\n",
       "             'day': 24,\n",
       "             'snow': 4,\n",
       "             'dad': 4,\n",
       "             'bought': 3,\n",
       "             'dvd': 1,\n",
       "             'looks': 18,\n",
       "             'like': 91,\n",
       "             'science': 3,\n",
       "             'doc': 1,\n",
       "             'read': 15,\n",
       "             'actually': 9,\n",
       "             'impending': 1,\n",
       "             'biblical': 1,\n",
       "             'storm': 69,\n",
       "             'cairo': 2,\n",
       "             'latest': 17,\n",
       "             \"'x-men\": 1,\n",
       "             \"apocalypse'\": 1,\n",
       "             'https://t.co/fs012trudg': 1,\n",
       "             '@yahootv': 1,\n",
       "             '@bryansinger': 1,\n",
       "             'reveals': 2,\n",
       "             '#storm': 1,\n",
       "             'queen': 3,\n",
       "             '#apocalypse': 1,\n",
       "             '@rupaul': 1,\n",
       "             '@alexshipppp': 1,\n",
       "             'http://t.co/oqw8jx6rts': 1,\n",
       "             'shadow': 5,\n",
       "             'boxing': 1,\n",
       "             'short': 4,\n",
       "             'reading\\n\\napocalypse': 1,\n",
       "             '21:1023': 1,\n",
       "             '\\n\\nin': 1,\n",
       "             'spirit': 1,\n",
       "             'angel': 1,\n",
       "             'took': 5,\n",
       "             'enormous': 1,\n",
       "             'high': 16,\n",
       "             'mountain': 7,\n",
       "             'and...': 4,\n",
       "             'http://t.co/v8aftd9zez': 1,\n",
       "             '#pbban': 1,\n",
       "             '(temporary:300)': 1,\n",
       "             'hyider_ghost2': 1,\n",
       "             \"@'armageddon\": 1,\n",
       "             'kill': 19,\n",
       "             'flags': 1,\n",
       "             'fast': 7,\n",
       "             \"xp'\": 1,\n",
       "             'armageddon': 1,\n",
       "             'https://t.co/ucsudk3q1d': 1,\n",
       "             'vladimir': 2,\n",
       "             'putin': 3,\n",
       "             'issues': 24,\n",
       "             'warning': 40,\n",
       "             'late': 5,\n",
       "             'escape': 13,\n",
       "             'armageddon?\\nhttp://t.co/gbxafy1m1c': 1,\n",
       "             '@erker': 1,\n",
       "             'again??': 1,\n",
       "             'eep!': 1,\n",
       "             'yesterday': 2,\n",
       "             'saw': 21,\n",
       "             'scary': 2,\n",
       "             'hail.': 1,\n",
       "             '#armageddon?': 1,\n",
       "             'paul': 1,\n",
       "             'craig': 1,\n",
       "             'roberts': 2,\n",
       "             'http://t.co/nvfkzv5fex': 1,\n",
       "             '#brics': 1,\n",
       "             '#roberts': 1,\n",
       "             '#russia': 2,\n",
       "             'salvation': 2,\n",
       "             'hosts': 1,\n",
       "             'rally': 4,\n",
       "             'reconnect': 1,\n",
       "             'fathers': 2,\n",
       "             'children:': 2,\n",
       "             'hosting': 2,\n",
       "             'rally\\x89û_': 1,\n",
       "             'http://t.co/rdjpor3azg': 1,\n",
       "             'build': 2,\n",
       "             '100': 4,\n",
       "             'dogs': 5,\n",
       "             'leader': 5,\n",
       "             'lion': 3,\n",
       "             'fight': 14,\n",
       "             'lion.': 1,\n",
       "             'direction': 3,\n",
       "             'pick': 4,\n",
       "             'http://t.co/q2eblokeve': 1,\n",
       "             'fan': 4,\n",
       "             '#directioners': 1,\n",
       "             'http://t.co/encmhz6y34': 1,\n",
       "             'x1392': 1,\n",
       "             'victorinox': 1,\n",
       "             'swiss': 3,\n",
       "             'date': 5,\n",
       "             \"women's\": 2,\n",
       "             'rubber': 2,\n",
       "             'mop': 1,\n",
       "             'watch': 48,\n",
       "             '241487': 1,\n",
       "             'http://t.co/yfy3nkkcoh': 1,\n",
       "             'http://t.co/knehvvohvk': 1,\n",
       "             '@ap': 3,\n",
       "             'violent': 25,\n",
       "             'country': 12,\n",
       "             'involved': 3,\n",
       "             'help': 20,\n",
       "             'control': 9,\n",
       "             'killings': 2,\n",
       "             'bring': 5,\n",
       "             'peace': 11,\n",
       "             'people.': 5,\n",
       "             'spokane': 1,\n",
       "             'authorities': 5,\n",
       "             'say': 36,\n",
       "             'struggling': 1,\n",
       "             'solve': 2,\n",
       "             'arson': 19,\n",
       "             'cases': 8,\n",
       "             \"today's\": 7,\n",
       "             'hamilton.': 1,\n",
       "             'http://t.co/qbs2k01wzk': 1,\n",
       "             'http://t.co/mvlziysgll': 1,\n",
       "             'attend': 1,\n",
       "             'organized': 1,\n",
       "             'protesting': 1,\n",
       "             'life': 20,\n",
       "             'http://t.co/bvckd9pdti': 1,\n",
       "             'fake': 3,\n",
       "             'hate': 5,\n",
       "             'crime': 9,\n",
       "             'lesbians': 1,\n",
       "             'burn': 5,\n",
       "             'down.': 3,\n",
       "             'else': 4,\n",
       "             'new': 52,\n",
       "             ':http://t.co/66obqmximb': 1,\n",
       "             'los': 2,\n",
       "             'angeles': 2,\n",
       "             'times:': 4,\n",
       "             'linked': 10,\n",
       "             '30': 14,\n",
       "             'caught': 16,\n",
       "             'northern': 62,\n",
       "             'http://t.co/xwms1aww8m': 1,\n",
       "             '#newsintweets': 2,\n",
       "             'http://t.co/te2yerugsi': 1,\n",
       "             'mourning': 4,\n",
       "             'notices': 5,\n",
       "             'stabbing': 4,\n",
       "             'victims': 12,\n",
       "             'stir': 4,\n",
       "             '\\x89û÷politics': 4,\n",
       "             'grief\\x89ûª': 4,\n",
       "             'http://t.co/eug6zhciun': 1,\n",
       "             'http://t.co/kkbxiblah7': 1,\n",
       "             'http://t.co/ej2ghnafhy': 1,\n",
       "             'trial': 2,\n",
       "             'charged': 34,\n",
       "             'burglary': 1,\n",
       "             'http://t.co/wftcrlz32p': 1,\n",
       "             'death': 30,\n",
       "             'palestinian': 9,\n",
       "             'toddler': 4,\n",
       "             'arson\\nattack': 1,\n",
       "             'cracks': 1,\n",
       "             'jewish': 4,\n",
       "             'teen': 4,\n",
       "             'amid': 21,\n",
       "             'protests': 2,\n",
       "             'http://t.co/okvsimogic': 1,\n",
       "             '#kisii': 2,\n",
       "             'kisii': 4,\n",
       "             'hunt': 4,\n",
       "             'students': 3,\n",
       "             'failed': 5,\n",
       "             'plot:': 2,\n",
       "             'students...': 2,\n",
       "             'http://t.co/m5sbfrrsn7': 1,\n",
       "             '#countynews': 2,\n",
       "             'mariah': 1,\n",
       "             'thick': 2,\n",
       "             ...})"
      ]
     },
     "execution_count": 34,
     "metadata": {},
     "output_type": "execute_result"
    },
    {
     "data": {
      "application/javascript": [
       "\n",
       "            setTimeout(function() {\n",
       "                var nbb_cell_id = 34;\n",
       "                var nbb_unformatted_code = \"# Displays a unigram dictioary list from disaster\\ndisaster_unigrams\";\n",
       "                var nbb_formatted_code = \"# Displays a unigram dictioary list from disaster\\ndisaster_unigrams\";\n",
       "                var nbb_cells = Jupyter.notebook.get_cells();\n",
       "                for (var i = 0; i < nbb_cells.length; ++i) {\n",
       "                    if (nbb_cells[i].input_prompt_number == nbb_cell_id) {\n",
       "                        if (nbb_cells[i].get_text() == nbb_unformatted_code) {\n",
       "                             nbb_cells[i].set_text(nbb_formatted_code);\n",
       "                        }\n",
       "                        break;\n",
       "                    }\n",
       "                }\n",
       "            }, 500);\n",
       "            "
      ],
      "text/plain": [
       "<IPython.core.display.Javascript object>"
      ]
     },
     "metadata": {},
     "output_type": "display_data"
    },
    {
     "data": {
      "application/javascript": [
       "\n",
       "            setTimeout(function() {\n",
       "                var nbb_cell_id = 34;\n",
       "                var nbb_unformatted_code = \"# Displays a unigram dictioary list from disaster\\ndisaster_unigrams\";\n",
       "                var nbb_formatted_code = \"# Displays a unigram dictioary list from disaster\\ndisaster_unigrams\";\n",
       "                var nbb_cells = Jupyter.notebook.get_cells();\n",
       "                for (var i = 0; i < nbb_cells.length; ++i) {\n",
       "                    if (nbb_cells[i].input_prompt_number == nbb_cell_id) {\n",
       "                        if (nbb_cells[i].get_text() == nbb_unformatted_code) {\n",
       "                             nbb_cells[i].set_text(nbb_formatted_code);\n",
       "                        }\n",
       "                        break;\n",
       "                    }\n",
       "                }\n",
       "            }, 500);\n",
       "            "
      ],
      "text/plain": [
       "<IPython.core.display.Javascript object>"
      ]
     },
     "metadata": {},
     "output_type": "display_data"
    },
    {
     "data": {
      "application/javascript": [
       "\n",
       "            setTimeout(function() {\n",
       "                var nbb_cell_id = 34;\n",
       "                var nbb_unformatted_code = \"# Displays a unigram dictioary list from disaster\\ndisaster_unigrams\";\n",
       "                var nbb_formatted_code = \"# Displays a unigram dictioary list from disaster\\ndisaster_unigrams\";\n",
       "                var nbb_cells = Jupyter.notebook.get_cells();\n",
       "                for (var i = 0; i < nbb_cells.length; ++i) {\n",
       "                    if (nbb_cells[i].input_prompt_number == nbb_cell_id) {\n",
       "                        if (nbb_cells[i].get_text() == nbb_unformatted_code) {\n",
       "                             nbb_cells[i].set_text(nbb_formatted_code);\n",
       "                        }\n",
       "                        break;\n",
       "                    }\n",
       "                }\n",
       "            }, 500);\n",
       "            "
      ],
      "text/plain": [
       "<IPython.core.display.Javascript object>"
      ]
     },
     "metadata": {},
     "output_type": "display_data"
    }
   ],
   "source": [
    "# Displays a unigram dictioary list from disaster\n",
    "disaster_unigrams"
   ]
  },
  {
   "cell_type": "code",
   "execution_count": 35,
   "id": "da942684",
   "metadata": {},
   "outputs": [
    {
     "data": {
      "text/plain": [
       "dict_items([('deeds', 1), ('reason', 7), ('#earthquake', 19), ('may', 47), ('allah', 4), ('forgive', 1), ('us', 40), ('forest', 44), ('fire', 150), ('near', 47), ('la', 17), ('ronge', 1), ('sask.', 1), ('canada', 4), ('residents', 7), ('asked', 1), (\"'shelter\", 1), (\"place'\", 1), ('notified', 1), ('officers.', 1), ('evacuation', 38), ('shelter', 5), ('place', 12), ('orders', 9), ('expected', 9), ('13,000', 1), ('people', 93), ('receive', 2), ('#wildfires', 5), ('california', 88), ('got', 29), ('sent', 4), ('photo', 7), ('ruby', 1), ('#alaska', 1), ('smoke', 11), ('pours', 1), ('school', 29), ('#rockyfire', 4), ('update', 8), ('=>', 1), ('hwy.', 4), ('20', 9), ('closed', 15), ('directions', 1), ('due', 23), ('lake', 8), ('county', 26), ('-', 389), ('#cafire', 2), ('#flood', 4), ('#disaster', 6), ('heavy', 18), ('rain', 22), ('causes', 9), ('flash', 17), ('flooding', 31), ('streets', 2), ('manitou,', 1), ('colorado', 9), ('springs', 3), ('areas', 7), (\"i'm\", 41), ('top', 13), ('hill', 5), ('see', 23), ('woods...', 1), (\"there's\", 15), ('emergency', 65), ('happening', 5), ('building', 15), ('across', 13), ('street', 18), ('afraid', 3), ('tornado', 21), ('coming', 14), ('area...', 2), ('three', 19), ('died', 21), ('heat', 30), ('wave', 21), ('far', 14), ('haha', 4), ('south', 20), ('tampa', 2), ('getting', 18), ('flooded', 4), ('hah-', 1), ('wait', 2), ('second', 11), ('live', 26), ('gonna', 11), ('fvck', 1), ('#flooding', 3), ('#raining', 1), ('#florida', 2), ('#tampabay', 1), ('#tampa', 1), ('18', 5), ('19', 1), ('days.', 3), (\"i've\", 6), ('lost', 13), ('count', 2), ('bago', 2), ('myanmar', 10), ('#we', 1), ('arrived', 2), ('damage', 25), ('bus', 26), ('80', 3), ('multi', 1), ('car', 51), ('crash', 64), ('#breaking', 6), ('@bbcmtd', 1), ('wholesale', 3), ('markets', 3), ('ablaze', 11), ('http://t.co/lhyxeohy6c', 1), ('#africanbaze:', 1), ('breaking', 9), ('news:nigeria', 1), ('flag', 18), ('set', 22), ('aba.', 1), ('http://t.co/2nndbgwyei', 1), ('inec', 2), ('office', 8), ('abia', 2), ('http://t.co/3imaomknna', 1), ('barbados', 1), ('#bridgetown', 1), ('jamaica', 3), ('\\x89ûò', 20), ('two', 71), ('cars', 14), ('ablaze:', 1), ('santa', 4), ('cruz', 3), ('\\x89ûó', 10), ('head', 6), ('st', 15), ('elizabeth', 1), ('police', 93), ('superintende...', 1), ('http://t.co/wdueaj8q4j', 1), ('west', 19), ('burned:', 2), ('thousands', 7), ('wildfires', 5), ('alone', 4), ('http://t.co/vl5tbr3wbr', 1), ('deputies:', 2), ('man', 45), ('shot', 17), ('brighton', 1), ('home', 34), ('http://t.co/gwnrhmso8k', 1), ('wife', 5), ('get', 66), ('six', 4), ('years', 50), ('jail', 1), ('setting', 7), ('niece\\nhttp://t.co/ev1ahoucza', 1), ('police:', 8), ('arsonist', 6), ('deliberately', 1), ('black', 14), ('church', 4), ('north', 22), ('carolinaåêablaze', 1), ('http://t.co/pcxarbh9an', 1), ('#kurds', 1), ('trampling', 1), ('turkmen', 2), ('later', 6), ('others', 9), ('vandalized', 1), ('offices', 1), ('front', 6), ('#diyala', 1), ('http://t.co/4izfdyc3cg', 1), ('truck', 29), (':', 31), ('r21.', 1), ('voortrekker', 1), ('ave.', 1), ('outside', 11), ('tambo', 1), ('intl.', 1), ('cargo', 1), ('section.', 1), ('http://t.co/8kscqkfkkf', 1), ('#california', 4), ('http://t.co/icsjgz9te1', 1), ('#climate', 2), ('#energy', 1), ('http://t.co/9fxmn0l0bd', 1), ('@navista7', 1), ('steve', 2), ('fires', 60), ('something', 10), ('else!', 1), ('tinderbox', 1), ('clown', 1), (\"'hood\", 1), ('@news24680', 1), ('@nxwestmidlands', 1), ('huge', 12), ('http://t.co/rwzbfvnxer', 1), ('accident', 50), ('i-24', 1), ('w', 4), ('#nashvilletraffic.', 1), ('traffic', 16), ('moving', 10), ('8m', 1), ('slower', 2), ('usual.', 2), ('https://t.co/0ghk693egj', 1), ('center', 13), ('lane', 3), ('blocked', 5), ('#santaclara', 1), ('us-101', 1), ('nb', 2), ('great', 14), ('america', 7), ('pkwy', 2), ('#bayarea', 1), ('#traffic', 3), ('http://t.co/pmlohzurwr', 1), ('reported', 13), ('motor', 3), ('vehicle', 11), ('curry', 1), ('herman', 1), ('rd', 15), ('stephenson', 1), ('involving', 5), ('overturned', 1), ('vehicle.', 1), ('please', 23), ('use...', 1), ('http://t.co/ybjezkurw1', 1), ('bigrigradio', 1), ('awareness', 2), ('i-77', 4), ('mile', 5), ('marker', 3), ('31', 8), ('mooresville', 2), ('iredell', 2), ('ramp', 1), ('8/6', 2), ('1:18', 2), ('pm', 34), ('n', 11), ('cabrillo', 1), ('hwy/magellan', 1), ('av', 5), ('mir', 1), ('(08/06/15', 1), ('11:03:58)', 1), ('40', 32), ('congestion', 1), ('pastor', 1), ('scene', 8), ('accident......who', 1), ('owner', 4), ('range', 2), ('rover', 2), ('?', 9), ('horrible', 14), ('past', 9), ('sunday.', 1), ('finally', 2), ('able', 3), ('around.', 1), ('thank', 6), ('god??', 1), ('#truckcrash', 1), ('overturns', 1), ('#fortworth', 1), ('interstate', 2), ('http://t.co/rs22lj4qfp', 1), ('click', 2), ('crash&gt;http://t.co/ld0uniyw4k', 1), ('#ashville', 1), ('23', 1), ('sb', 3), ('sr', 1), ('752', 1), ('http://t.co/hylmo0wgfi', 1), ('carolina', 1), ('accident:', 5), ('motorcyclist', 9), ('dies', 11), ('i-540', 1), ('crossed', 2), ('median:', 1), ('motorcycle', 4), ('rider', 3), ('traveling...', 1), ('http://t.co/p18lzrlmy6', 1), ('fyi', 2), ('cad:fyi:', 2), (';accident', 4), ('property', 8), ('damage;nhs;999', 1), ('piner', 2), ('rd/horndale', 2), ('dr', 2), ('rt', 41), ('naayf:', 1), ('first', 48), ('years.', 1), ('turning', 1), ('onto', 8), ('chandanee', 1), ('magu', 1), ('mma.', 1), ('taxi', 1), ('rammed', 2), ('halfway', 1), ('turned.', 1), ('everyone', 13), ('conf\\x89û_', 1), ('left', 10), ('#manchester', 3), ('293', 1), ('eddy', 1), ('stop', 16), ('go', 25), ('back', 31), ('nh-3a', 1), ('delay', 2), ('4', 32), ('mins', 2), ('damage;', 1), ('damage;wpd;1600', 1), ('17th', 1), ('8/6/2015@2:09', 1), ('pm:', 23), ('injury', 7), ('2781', 1), ('willis', 1), ('foreman', 1), ('http://t.co/vckit6edev', 1), ('aashiqui', 1), ('actress', 2), ('anu', 1), ('aggarwal', 1), ('near-fatal', 1), ('http://t.co/6otfp31lqw', 1), ('suffield', 1), ('alberta', 2), ('https://t.co/bptmlf4p10', 1), ('9', 4), ('backup', 1), ('south...accident', 1), ('blocking', 4), ('right', 22), ('2', 67), ('lanes', 5), ('exit', 6), ('langtree', 1), ('rd...consider', 1), ('nc', 5), ('115', 1), ('150', 2), ('16', 9), ('alternate', 1), ('#breaking:', 3), ('deadly', 7), ('happened', 10), ('#hagerstown', 1), ('today.', 6), (\"i'll\", 8), ('details', 4), ('5', 18), ('@your4state.', 1), ('#whag', 1), ('even', 19), ('week', 9), ('fucking', 6), ('..', 3), ('mfs', 2), (\"can't\", 19), ('drive', 8), ('.', 7), ('.@norwaymfa', 1), ('#bahrain', 1), ('previously', 4), ('road', 23), ('killed', 92), ('explosion', 24), ('https://t.co/gfjfgtodad', 1), ('experts', 17), ('france', 10), ('begin', 8), ('examining', 10), ('airplane', 26), ('debris', 50), ('found', 43), ('reunion', 31), ('island:', 8), ('french', 9), ('air', 31), ('o...', 3), ('http://t.co/yvvpznzmxg', 1), ('#news', 48), ('strict', 2), ('liability', 2), ('context', 2), ('pilot', 6), ('error', 1), ('common', 1), ('component', 1), ('aviation', 2), ('cr...', 1), ('http://t.co/6cz3bohrd4', 1), ('wedn...', 2), ('http://t.co/bkpfpogysi', 1), ('@alexalltimelow', 1), ('awwww', 1), (\"they're\", 6), ('die', 7), ('cuties', 1), ('????', 22), ('good', 19), ('job!', 2), ('family', 23), ('members', 10), ('osama', 1), ('bin', 9), ('laden', 8), ('ironic', 2), ('??????', 10), ('mhmmm', 1), ('gov', 2), ('shit', 16), ('suspect', 35), ('goes', 7), ('engine', 3), ('http://t.co/tyjxrfd3st', 1), ('via', 117), ('@youtube', 18), ('wings', 6), ('(29-07-2015)', 3), ('http://t.co/i7kztevb2v', 1), ('cessna', 1), ('ocampo', 1), ('coahuila', 2), ('mexico', 3), ('july', 3), ('29', 2), ('2015', 18), ('four', 10), ('men', 13), ('including', 6), ('state', 30), ('government', 16), ('official.', 1), ('#horrible', 1), ('#accident', 4), ('#watchthevideo', 1), ('http://t.co/p64xrvgjik', 1), ('island', 22), ('http://t.co/lsmx2vwr3j', 1), ('wednesday\\x89û_', 1), ('wednesday', 10), ('began', 5), ('t...', 12), ('#kca', 3), ('#votejkt48id', 3), ('mbataweel:', 1), ('#rip', 2), ('#binladen', 1), (\"airplane's\", 1), ('on...', 2), ('http://t.co/tagzbcxfj0', 1), ('#mlb', 2), ('unbelievably', 1), ('insane.\\n#man', 1), ('#airport', 1), ('#airplane', 2), ('#aircraft', 2), ('#aeroplane', 1), ('#runway', 1), ('#freaky\\x89û_', 1), ('https://t.co/cezhq7czll', 1), ('|', 51), ('airplaneåê(29-07-2015)', 1), ('http://t.co/wq3wjsgphl', 1), ('http://t.co/tfcdronra6', 1), ('usama', 1), ('ladins', 1), ('dead', 56), ('crash.', 2), ('naturally', 1), ('accident.', 2), ('plane', 28), ('festival', 2), ('https://t.co/kq9ae6ap2b', 1), ('#crash', 2), ('#pilot', 1), ('#death', 1), ('#carfest', 1), ('http://t.co/gibyqhhkpk', 1), ('dtn', 4), ('brazil:', 2), ('exp...', 2), ('http://t.co/m9ig3wq8lq', 1), ('http://t.co/v4smaeslk5', 1), ('\\x89ûïairplane\\x89û\\x9d', 1), ('29-07-2015.', 1), ('wtf', 5), ('can\\x89ûªt', 1), ('believe', 11), ('eyes', 4), ('\\x89ûò...', 1), ('http://t.co/6ffylajwps', 1), ('+', 5), ('nicole', 1), ('fletcher', 1), ('one', 63), ('victim', 11), ('crashed', 21), ('times', 21), ('ago.', 3), ('\\n\\nthe', 1), ('little', 15), ('bit', 5), ('trauma', 17), ('her.', 2), ('although', 1), ('\\n\\n+', 1), ('omg', 6), ('airplane.', 1), ('http://t.co/xdxdprcpns', 1), ('#omg!', 1), ('this.', 1), ('bro\\n#airplane', 1), ('#jetengine', 1), ('#turbojet', 1), ('#boing', 1), ('#g90', 1), ('http://t.co/kxxnszp6nk', 1), ('crashes', 4), ('house', 20), ('colombia', 1), ('12', 4), ('https://t.co/zhjlflbhzl', 1), ('shooting', 20), ('https://t.co/iecc1jdoub', 1), ('could', 37), ('drone', 5), ('cause', 20), ('accident?', 1), ('pilots', 5), ('worried', 4), ('use', 13), ('drones', 3), ('esp.', 2), ('close', 8), ('vicinity', 2), ('airports', 1), ('http://t.co/kz35rgngjf', 1), ('#', 2), ('early', 11), ('wake', 15), ('call', 14), ('sister', 3), ('begging', 1), ('come', 15), ('&amp;', 105), ('ride', 1), ('w/her', 1), ('ambulance', 22), ('hospital', 5), ('#rodkiai', 1), ('http://t.co/ay6zzcupnz', 1), ('twelve', 14), ('feared', 22), ('pakistani', 16), ('helicopter', 23), ('http://t.co/sc9dns41mc', 1), ('ambulances', 2), ('serious', 10), ('lorry', 1), ('...', 105), ('http://t.co/9pfeaqeski', 1), ('http://t.co/fntg70rnkx', 1), ('#emsne\\x89û_', 1), ('reuters', 10), ('http://t.co/mdnugvubwn', 1), ('#yugvani', 3), ('anyone', 7), ('travelling', 2), ('aberystwyth-shrewsbury', 1), ('incident.', 1), ('services', 16), ('halt', 2), ('shrews.', 1), ('scene.', 3), ('http://t.co/xum8ylcb4q', 1), ('@20skyhawkmm20', 1), ('@traplord_29', 1), ('@fredosantana300', 1), ('@lilreese300', 1), ('hella', 2), ('crazy', 8), ('3', 26), ('fights', 2), ('couple', 8), ('mosh', 1), ('pits', 1), ('??', 30), ('http://t.co/bfes5twbzt', 1), ('#til_now', 2), ('#dna', 1), ('http://t.co/7xglah10zl', 1), ('http://t.co/thmblaatzp', 1), ('pakistan', 13), ('kills', 34), ('nine', 5), ('http://t.co/8e7ry8ebmf', 1), ('http://t.co/fcqmkffflw', 1), ('http://t.co/vayaymbngu', 1), ('http://t.co/3brme6sn4t', 1), ('know', 25), ('way', 19), ('&lt;&lt;', 1), ('#reuters', 3), ('http://t.co/shzpyiqok5', 1), ('http://t.co/pwwpum6rbj', 1), ('http://t.co/yspon4d6qo', 1), ('http://t.co/fuerk0gwui', 1), ('http://t.co/mv7ggglmvc', 1), ('http://t.co/x5yeuylt1x', 1), ('http://t.co/2ugrmd1z1n', 1), ('http://t.co/th9ywbbeet', 1), ('#worldnews', 7), ('http://t.co/x2qsjod40u', 1), ('http://t.co/j8tyt1xrrk', 1), ('http://t.co/9d4nazoi94', 1), ('annihilated', 6), ('abs', 1), ('http://t.co/1xpw292tje', 1), ('cop', 5), ('pulls', 5), ('drunk', 5), ('driver', 12), ('safety', 8), ('seconds', 4), ('hit', 28), ('train.', 5), ('http://t.co/thrhkhogcuåê', 1), ('http://t.co/tzszmf2qxe', 1), ('@viralspell', 3), ('http://t.co/c0nkgp6w03åê', 1), ('http://t.co/imwmfdjssn', 1), ('@violentfeminazi', 1), ('guess', 4), (\"that's\", 19), ('ok', 10), ('armenians', 1), ('since', 28), (\"we've\", 6), ('spent', 2), ('history', 7), ('70', 38), ('100000', 1), ('instantly', 1), ('became', 3), ('aware', 4), ('ability', 2), ('annihilate', 1), ('whole', 16), ('humanity', 4), ('1960s', 1), ('oryx', 1), ('symbol', 1), ('arabian', 4), ('peninsula', 1), ('hunters.', 1), ('\\nhttp://t.co/yangeqbuqw', 1), ('http://t.co/jq2eh5kglt', 1), ('ready', 8), ('bucs', 1), ('game', 6), ('@philipduncan', 1), ('@breakfastone', 1), (\"'annihilated\", 1), ('last', 27), ('nights', 1), (\"weather'...\", 1), ('really', 16), ('philip', 1), ('thought', 8), ('would', 34), ('forecast', 5), ('that...', 1), ('@tomcatarts', 1), ('thus', 1), ('explaining', 1), ('annihilated.', 1), ('case', 11), ('survivor', 1), ('evolved', 1), ('godlike', 1), ('http://t.co/f1bakpnyn6åê', 1), ('http://t.co/lzxwoaye4x', 1), ('damascus:', 1), ('syrian', 4), ('army', 42), ('grinds', 1), ('\\x89û÷alloosh', 1), ('gang', 5), ('manure', 1), ('pile\\nhttp://t.co/7rakhp3bwm', 1), ('@rvfriedmann', 1), ('hell', 6), ('fraction', 2), ('belief', 1), ('total', 5), ('annihilation', 8), ('destruction', 10), ('usa', 5), ('@lodisilverado', 1), ('@ritzy_jewels', 1), ('annihilating', 1), ('quarterstaff', 1), (':starmade:', 1), (':stardate', 1), ('3:', 3), (':planetary', 1), ('annihilation::', 1), ('http://t.co/i2hhviumtm', 1), ('u.s', 4), ('national', 19), ('park', 6), ('tonto', 3), ('forest:', 3), ('salt', 5), ('river', 14), ('wild', 31), ('horse...', 3), ('https://t.co/sw1sbua3mn', 1), ('@change', 4), ('http://t.co/kpqk0c4g0m', 1), ('@calfreedommom', 1), ('@steph93065', 1), ('mention', 3), ('major', 16), ('contributor', 1), ('israel', 10), ('@willienelson', 1), ('need', 16), ('help!', 1), ('horses', 1), ('die!please', 1), ('sign', 4), ('petition!take', 1), ('stand', 4), ('voice', 1), ('them!', 1), ('#gilbert23', 1), ('https://t.co/e8dl1lncvu', 1), ('horses!', 1), ('http://t.co/wvobvvtxkg', 1), ('world', 29), ('vs', 2), ('self', 2), ('transformation', 1), ('http://t.co/pyehwodwun', 1), ('aliens', 1), ('attack', 47), ('exterminate', 1), ('humans', 1), ('http://t.co/8jxql8cv8z', 1), ('http://t.co/sb5r7shccj', 1), ('ohh', 2), ('fukurodani', 1), ('survive', 11), ('apocalypse', 5), ('bokuto', 1), ('feels', 2), ('poor', 11), ('boy', 29), ('ppor', 1), ('child', 8), ('another', 31), ('hour!', 1), ('august', 22), ('05', 14), ('08:02pm', 1), (\"here's\", 4), ('red', 11), ('zombie', 1), ('2014!', 1), ('http://t.co/cf9e6tu3g7', 1), ('#internetradio', 1), ('#collegeradi\\x89û_', 1), ('question', 3), ('interpretation', 1), ('apocalypse.', 1), ('called', 16), ('https://t.co/my8q1uwijn', 1), ('begins..', 1), ('day', 24), ('snow', 4), ('dad', 4), ('bought', 3), ('dvd', 1), ('looks', 18), ('like', 91), ('science', 3), ('doc', 1), ('read', 15), ('actually', 9), ('impending', 1), ('biblical', 1), ('storm', 69), ('cairo', 2), ('latest', 17), (\"'x-men\", 1), (\"apocalypse'\", 1), ('https://t.co/fs012trudg', 1), ('@yahootv', 1), ('@bryansinger', 1), ('reveals', 2), ('#storm', 1), ('queen', 3), ('#apocalypse', 1), ('@rupaul', 1), ('@alexshipppp', 1), ('http://t.co/oqw8jx6rts', 1), ('shadow', 5), ('boxing', 1), ('short', 4), ('reading\\n\\napocalypse', 1), ('21:1023', 1), ('\\n\\nin', 1), ('spirit', 1), ('angel', 1), ('took', 5), ('enormous', 1), ('high', 16), ('mountain', 7), ('and...', 4), ('http://t.co/v8aftd9zez', 1), ('#pbban', 1), ('(temporary:300)', 1), ('hyider_ghost2', 1), (\"@'armageddon\", 1), ('kill', 19), ('flags', 1), ('fast', 7), (\"xp'\", 1), ('armageddon', 1), ('https://t.co/ucsudk3q1d', 1), ('vladimir', 2), ('putin', 3), ('issues', 24), ('warning', 40), ('late', 5), ('escape', 13), ('armageddon?\\nhttp://t.co/gbxafy1m1c', 1), ('@erker', 1), ('again??', 1), ('eep!', 1), ('yesterday', 2), ('saw', 21), ('scary', 2), ('hail.', 1), ('#armageddon?', 1), ('paul', 1), ('craig', 1), ('roberts', 2), ('http://t.co/nvfkzv5fex', 1), ('#brics', 1), ('#roberts', 1), ('#russia', 2), ('salvation', 2), ('hosts', 1), ('rally', 4), ('reconnect', 1), ('fathers', 2), ('children:', 2), ('hosting', 2), ('rally\\x89û_', 1), ('http://t.co/rdjpor3azg', 1), ('build', 2), ('100', 4), ('dogs', 5), ('leader', 5), ('lion', 3), ('fight', 14), ('lion.', 1), ('direction', 3), ('pick', 4), ('http://t.co/q2eblokeve', 1), ('fan', 4), ('#directioners', 1), ('http://t.co/encmhz6y34', 1), ('x1392', 1), ('victorinox', 1), ('swiss', 3), ('date', 5), (\"women's\", 2), ('rubber', 2), ('mop', 1), ('watch', 48), ('241487', 1), ('http://t.co/yfy3nkkcoh', 1), ('http://t.co/knehvvohvk', 1), ('@ap', 3), ('violent', 25), ('country', 12), ('involved', 3), ('help', 20), ('control', 9), ('killings', 2), ('bring', 5), ('peace', 11), ('people.', 5), ('spokane', 1), ('authorities', 5), ('say', 36), ('struggling', 1), ('solve', 2), ('arson', 19), ('cases', 8), (\"today's\", 7), ('hamilton.', 1), ('http://t.co/qbs2k01wzk', 1), ('http://t.co/mvlziysgll', 1), ('attend', 1), ('organized', 1), ('protesting', 1), ('life', 20), ('http://t.co/bvckd9pdti', 1), ('fake', 3), ('hate', 5), ('crime', 9), ('lesbians', 1), ('burn', 5), ('down.', 3), ('else', 4), ('new', 52), (':http://t.co/66obqmximb', 1), ('los', 2), ('angeles', 2), ('times:', 4), ('linked', 10), ('30', 14), ('caught', 16), ('northern', 62), ('http://t.co/xwms1aww8m', 1), ('#newsintweets', 2), ('http://t.co/te2yerugsi', 1), ('mourning', 4), ('notices', 5), ('stabbing', 4), ('victims', 12), ('stir', 4), ('\\x89û÷politics', 4), ('grief\\x89ûª', 4), ('http://t.co/eug6zhciun', 1), ('http://t.co/kkbxiblah7', 1), ('http://t.co/ej2ghnafhy', 1), ('trial', 2), ('charged', 34), ('burglary', 1), ('http://t.co/wftcrlz32p', 1), ('death', 30), ('palestinian', 9), ('toddler', 4), ('arson\\nattack', 1), ('cracks', 1), ('jewish', 4), ('teen', 4), ('amid', 21), ('protests', 2), ('http://t.co/okvsimogic', 1), ('#kisii', 2), ('kisii', 4), ('hunt', 4), ('students', 3), ('failed', 5), ('plot:', 2), ('students...', 2), ('http://t.co/m5sbfrrsn7', 1), ('#countynews', 2), ('mariah', 1), ('thick', 2), ('shoulders', 1), ('girl.', 1), ('relaxinpr:', 1), ('miprv:', 1), ('latimes:', 1), ('http://t.co/ylhayfaoou', 1), ('leaders', 3), ('prayed', 1), ('treated', 1), ('http://t.co/wf8itk2kvx', 1), ('@huffpostrelig', 1), ('http://t.co/5bdrfu1duo', 1), ('http://t.co/q4l7dg56jm', 1), ('http://t.co/gbluhrrlto', 1), ('chicago-area', 1), ('gay', 1), ('bar', 4), ('admits', 1), ('scheme', 1), ('http://t.co/zpxe3fmyng', 1), ('#lgbt', 1), ('http://t.co/wnuqqatttp', 1), ('(via', 4), ('@latimes)', 1), ('tennessee', 4), ('lesbian', 1), ('faked', 1), ('destroyed', 11), ('arson\\x89û_', 1), ('http://t.co/10muey8pxj', 1), ('#lesbian', 1), ('http://t.co/prrb4fhxtv', 1), ('http://t.co/u1fuwrgk5u', 1), ('@_301dc', 1), ('@cloudy_goldrush', 1), ('white', 13), ('mo', 3), ('alleged', 6), ('east', 17), ('bay', 7), ('serial', 4), ('arrested', 12), ('http://t.co/wr48aqtum7', 1), ('suspected', 8), ('calif.', 5), ('http://t.co/pzotpdgaki', 1), ('http://t.co/mmgsyahdzb', 1), ('#arsonist', 1), ('many', 32), ('fires.', 15), ('tonight\\x89ûªs', 1), ('#headlines:', 1), ('http://t.co/sqgogj3s5r.', 1), ('#nightbeat', 1), ('@veronicadlcruz', 1), ('#2minutemix', 1), ('#sanfrancisco', 1), ('http://t.co/ojuhfkhvb2', 1), ('sets', 2), ('nyc', 5), ('vegetarian', 1), ('restaurant', 1), ('fire:', 3), ('#newyork', 4), ('http://t.co/nr7ust3uh8', 1), ('big', 12), ('burning', 60), ('true', 7), ('story', 16), ('missing', 35), ('girl', 9), ('\\x89û_', 25), ('http://t.co/qxh1h61cwd', 1), ('stay', 8), ('vigilent.', 1), ('civil', 3), ('liberties', 1), ('constant', 2), ('attack.', 3), ('#nativehuman', 1), ('#myreligion', 1), ('https://t.co/wwu070tjej', 1), ('http://t.co/ptkrxtzjtv', 1), ('nashville', 6), ('theater', 15), ('attack:', 12), ('gun', 12), ('grabbers', 3), ('demand', 4), ('\\x89ûïhatchet', 3), ('control?\\x89û\\x9d', 3), ('breaking:', 5), ('terror', 13), ('on\\npolice', 1), ('post', 18), ('#udhampur', 2), ('scares', 1), ('versions', 1), ('nuclear', 63), ('warnings', 7), ('knowing', 2), ('governments', 2), ('still', 56), ('prepare', 8), ('isil', 2), ('claims', 13), ('suicide', 103), ('bombing', 62), ('saudi', 35), ('mosque', 29), ('least', 25), ('15', 25), ('http://t.co/y8icf89h6w', 1), ('http://t.co/t9msnzv1kb', 1), ('horrific', 4), ('muslim', 4), ('italy', 3), ('http://t.co/ny3l1orzqb', 1), ('liveleak', 1), ('\\x89ûª93', 1), ('blasts', 4), ('accused', 2), ('yeda', 1), ('yakub', 1), ('karachi', 1), ('heart', 10), ('http://t.co/mfkqyxd8xg', 1), ('#mumbai', 3), ('@etribune', 1), ('4-suspected', 1), ('militants', 16), ('waziristan', 1), ('@acebreakingnews', 1), ('https://t.co/jb038rdfak', 1), ('psychological', 3), ('http://t.co/3huhzxliig', 1), ('udhampur;', 2), ('spos', 9), ('injured', 37), ('livemint', 1), ('http://t.co/rptouz2ijs', 1), ('http://t.co/69mlhfefhr', 1), ('#allthenews', 1), ('obama', 52), ('officials', 25), ('gave', 5), ('terrorist', 26), ('weapon', 15), ('used', 10), ('texas', 12), ('http://t.co/qi8qdw5dfg', 1), ('delhi', 1), ('provide', 3), ('free', 9), ('treatment', 2), ('acid', 3), ('private', 2), ('hospitals', 2), ('http://t.co/h6pm1w7ell', 1), ('@darkreading', 1), ('http://t.co/8eijdxapnp', 1), ('smb', 1), ('relay', 1), ('steals', 1), ('user', 1), ('credentials', 1), ('internet', 4), ('israeli', 27), ('forces', 4), ('raid', 4), ('http://t.co/3gvus8nppy', 1), ('#palestine', 3), ('#volleyball', 1), ('ii', 3), ('volleyball', 1), ('training', 3), ('machine', 3), ('simulation', 1), ('http://t.co/dcdecfv934', 1), ('http://t.co/dwbc1duvdk', 1), (\"notley's\", 1), ('tactful', 1), ('yet', 6), ('direct', 1), ('response', 8), (\"harper's\", 1), (\"alberta's\", 1), (\"gov't.\", 1), ('yeah', 7), ('premier!', 1), ('http://t.co/rzsulzmokx', 1), ('#ableg', 1), ('#cdnpoli', 1), ('assailant', 1), ('movie', 18), ('theatre', 4), ('homeless', 3), ('http://t.co/zdcvlyq6qk', 1), ('http://t.co/onpnbx0zex', 1), ('http://t.co/um5icn5et2', 1), ('india', 12), ('shud', 1), ('give', 7), ('evidence', 2), ('pak.they', 1), ('share', 5), ('terrorists', 7), ('next', 15), ('attack.share', 1), ('oth', 1), ('contries', 1), ('https://t.co/qiopbtiuvu', 1), ('illegal', 3), ('alien', 2), ('released', 28), ('obama/dhs', 1), ('rape', 3), ('murder', 26), ('maria', 1), ('ca', 6), ('woman', 10), ('prior', 4), ('offenses', 1), ('http://t.co/mqp4hf9gpo', 1), ('strongly', 1), ('condemn', 2), ('ary', 1), ('news', 63), ('team', 6), ('karachi.', 2), ('cowardly', 1), ('act', 6), ('simply', 2), ('trying', 6), ('http://t.co/oyogii97yh', 1), ('fact', 4), ('atomic', 56), ('bombs', 14), (\"'little\", 2), (\"boy'\", 2), (\"'fat\", 1), (\"man'\", 1), ('says', 29), ('lot', 5), ('mentality', 1), ('went', 13), ('dayton-area', 1), ('org', 1), ('tells', 3), ('cyber', 1), ('http://t.co/7lhkjz0ivo', 1), ('[infowars]', 1), ('http://t.co/n3yjb8tcpm', 1), ('#nwo', 1), ('gunfight', 1), ('udhampur', 9), ('post:', 2), ('attacked', 26), ('i...', 8), ('http://t.co/2h0dpmv2ef', 1), ('helicopters', 1), ('civilians', 4), ('gaza', 7), ('completed', 1), ('exercises', 1), ('greece.', 1), ('christian', 18), ('muslims', 17), ('temple', 18), ('mount', 18), ('waving', 15), ('pamela', 15), ('geller', 15), ('http://t.co/5qyczywkgg', 1), ('http://t.co/u0keoe5fmt', 1), ('http://t.co/f5miuhqaby', 1), ('#pt:', 1), ('unit', 6), ('responsible', 2), ('targeting', 2), ('scholars', 1), ('imprisoning', 1), ('youth.', 1), ('http://t.co/f4lhfmehzh', 1), ('telnet', 1), ('124.13.172.40', 1), ('(streamyx-home-southern', 1), ('my)', 1), ('http://t.co/wgwiqmicl1', 1), ('http://t.co/nhxse3rthx', 1), ('http://t.co/lhbzhwq4b9', 1), ('kelly', 1), ('osbourne', 1), ('racist', 2), ('donald', 2), ('trump', 3), ('remark', 1), ('latinos', 1), ('view', 6), ('http://t.co/7nagdsadwp', 1), ('http://t.co/mxz7yx8ld1', 1), ('http://t.co/e4ydbm4dx6', 1), ('http://t.co/t1aa5ov7eg', 1), ('http://t.co/emdjnnltp0', 1), ('http://t.co/a6wmbnr51s', 1), ('http://t.co/etg0prbp4g', 1), ('http://t.co/yubkhf9iyh', 1), ('tv', 5), ('program', 5), ('said', 26), ('flew', 3), ('uranium', 2), ('mine', 4), ('fukushima', 10), ('student', 4), ('digging', 2), ('it.', 8), ('http://t.co/e4wk8uri8a', 1), ('http://t.co/1pdjoq4jc1', 1), ('driving', 6), ('avalanche', 3), ('tank', 3), ('chiasson', 1), ('sens', 1), ('deal', 9), ('#coloradoavalanche', 1), ('#avalanche', 2), ('http://t.co/2bk7lagma9', 1), ('http://t.co/bkdgcfsuiq', 1), ('city', 38), ('sunset', 3), ('http://t.co/48h3tlvlxr', 1), ('#nowplay', 1), ('#listen', 1), ('#radio', 1), ('chevrolet', 1), ('lt', 2), ('2011', 3), ('5.3', 1), ('l', 2), ('v', 3), ('8', 18), ('automatic', 2), ('wd', 1), ('pickup', 1), ('premium', 1), ('b\\x89û_', 1), ('http://t.co/obky8pc89h', 1), ('http://t.co/dxirntdsrd', 1), ('star', 4), ('wars', 2), ('power', 19), ('jedi', 1), ('collection', 2), ('1', 17), ('battle', 6), ('droid', 1), ('hasbro', 1), ('full', 9), ('ebay', 1), ('http://t.co/xfguklrltf', 1), ('http://t.co/fegu8hwmc4', 1), ('war', 55), ('general', 5), ('bull', 1), ('run', 12), ('hero', 3), ('colonel', 1), ('2nd', 8), ('hampshire', 1), ('letter', 1), ('signed', 2), ('!', 5), ('http://t.co/ot0tffpbyb', 1), ('http://t.co/zarbwep9ld', 1), ('indeed!!', 1), ('fully', 6), ('battle!', 1), ('support', 12), ('fight!!', 1), ('https://t.co/mctjnzx4h8', 1), ('eye', 3), ('9:', 1), ('space', 3), ('occurred', 5), ('m27329', 1), ('fleets', 1), ('totaling', 1), ('1236', 1), ('ships', 3), ('7', 8), ('young', 8), ('german', 1), ('stormtrooper', 1), ('engaged', 1), ('somme', 1), ('1916.', 1), ('[800', 1), ('ìñ', 1), ('582', 1), (']', 2), ('http://t.co/yxvmiflvc4', 1), ('news:', 12), ('fedex', 19), ('longer', 14), ('transport', 14), ('bioterror', 18), ('germs', 12), ('anthrax', 14), ('lab', 17), ('mishaps', 12), ('http://t.co/xtezgjfs8a', 1), ('http://t.co/hqsu8lwlth', 1), ('@usatoday', 4), ('jacksonville', 3), ('busines', 1), ('stops', 4), ('shipping', 3), ('potential', 7), ('pathogens', 5), ('http://t.co/shzsymausi', 1), ('.@aphl', 1), ('responds:', 1), ('http://t.co/cgdj3drso9', 1), ('(say', 1), ('what?):', 1), ('åêfedex', 1), ('no...', 2), ('http://t.co/k0y7xfxmxa', 1), ('#tcot', 4), ('transporting', 2), ('mishaps:', 1), ('stopped', 4), ('certain', 3), ('research', 7), ('http://t.co/y3dm9ulqxg', 1), ('energy', 2), ('&amp;amp;', 1), ('commerce', 1), ('subcommittee', 1), ('hold', 2), ('7/28', 1), ('hearing', 5), ('cdc', 4), ('oversight', 1), ('labs', 3), ('mishaps.', 1), ('htt\\x89û_', 1), ('willing', 2), ('specimens', 1), ('http://t.co/cm8uni1mrg', 1), ('#world', 9), ('http://t.co/wvexjjrg6e', 1), ('http://t.co/p96rgbbayl', 1), ('#phone', 1), ('#apple', 1), ('#mobile', 1), ('hmm...this', 1), ('problem', 3), ('researchers:', 1), ('select', 1), ('agents', 3), ('http://t.co/9viibxgjav', 1), ('http://t.co/pwamg8ozj4', 1), ('ship', 7), ('corp.', 1), ('(nyse:', 1), ('fdx)', 1), ('deliver', 2), ('packages', 1), ('http://t.co/2kdq56xtws', 1), ('#nowplaying', 1), ('#orchardalley', 1), ('#les', 1), ('#nyc', 3), (\"'bioterror-\", 1), ('manufactured', 2), ('fear', 10), (\"repression'\", 1), ('@abcnorio', 1), ('#gardens', 1), ('http://t.co/ba2rrxugsg', 1), ('[jax', 1), ('biz', 1), ('journal]', 1), ('http://t.co/r33ncvjovc', 1), ('usatoday:', 2), ('#frontpage:', 2), ('#bioterror', 2), ('faced', 3), ('secret', 3), ('sanctions.', 2), ('#rickperry', 2), ('make', 20), ('cut', 8), ('foxnew\\x89û_', 2), ('http://t.co/5ukohk7sob', 1), ('http://t.co/c0p3sesqwm', 1), ('http://t.co/tkeoaedqkq', 1), ('#trucking', 1), ('http://t.co/mqbyravk6h', 1), ('#fedex', 1), ('http://t.co/s4sicmyrmh', 1), ('http://t.co/xfhh2xf9ga', 1), ('http://t.co/4m5uheyfdo', 1), ('bioterrorism', 10), ('sir.', 3), ('liked', 7), ('video', 37), ('http://t.co/xo2zbpbjb3', 1), ('fema', 1), ('region', 10), ('iii', 1), ('targeted', 1), ('!!!', 1), ('nasa', 3), ('japan', 37), ('rocket', 1), ('launch', 2), ('lithium', 1), ('#anthrax', 1), ('#bioterrorism', 3), ('carry', 2), ('extensive', 1), ('review', 3), ('pathogen', 1), ('handling', 2), ('procedures', 1), ('http://t.co/bclqpwfdod', 1), ('@cagov', 1), ('90blks&amp;8whts', 3), ('colluded', 3), ('take', 19), ('wht', 4), ('f', 3), ('@usagov', 5), ('auth', 4), ('hostage&amp;2', 3), ('look', 27), ('blk', 4), ('w/bioterrorism&amp;use', 3), ('lgl/org', 3), ('idis', 3), ('id', 5), ('hers?@vp', 1), ('@darrellissa', 1), (\"'great\", 1), ('iran', 22), (\"deal'\", 1), ('cover', 3), ('bioterrorism?', 2), ('terrible', 3), ('them.', 2), ('keep', 10), ('work.', 1), ('tale', 1), ('pox', 1), ('body', 12), ('horrors', 2), ('http://t.co/w2ixt1k0ab', 1), ('#virus', 1), ('#infectiousdiseases', 1), ('public', 7), ('health', 6), ('superbug', 1), ('biolabs', 1), ('epidemics', 1), ('biosurveillance', 1), ('outbreaks', 1), ('homeland', 1), ('security', 20), ('wire', 2), ('http://t.co/cvhygwcbzv', 1), ('@o_magazine', 1), (\"satan's\", 1), ('daughter', 2), ('warrior', 1), ('50ft', 1), ('women', 10), ('aka', 2), ('transgender', 1), ('mode', 1), ('ps', 1), ('fold', 1), ('extra', 3), ('@drrichardbesser', 1), ('yes.', 2), ('think', 20), ('not.', 1), ('college', 1), ('88-92', 1), ('difficult', 2), ('bc', 7), (\"'dispersed.'\", 1), ('volunteers', 1), ('needed', 4), ('participate', 1), ('preparedness', 2), ('drill', 4), ('simulating', 1), ('disaster:', 3), ('http://t.co/nwv2rvghf3', 1), ('@hvnewsnetwork', 1), ('@meyerbjoern', 1), ('@thelonevirologi', 1), ('@mackayim', 1), ('american', 17), ('newspaper', 1), ('running', 7), ('series', 3), ('going', 27), ('2/n', 1), ('pretty', 4), ('cool', 9), ('list', 1), (':3', 1), ('concerned', 4), ('possible', 22), ('using', 8), ('gm', 1), ('organisms:', 1), ('scientists', 3), ('the...', 9), ('http://t.co/sume5pro0f', 1), ('@stationcdrkelly', 1), ('sys', 1), ('taken', 10), ('hostage', 18), ('clergyforced', 1), ('exist', 2), ('younger&amp;grossly', 1), ('disfigured', 1), ('bioterrorism?@ap', 1), ('@aphiabeta1907', 1), ('w/ugliness', 1), (\"'ugly'@amesocialaction\", 1), (\"frat's\", 1), (\"bioterrorismi'm\", 1), (\"who's\", 1), ('@fbi', 1), ('u', 22), (\"$tolewant'g\", 1), ('home.@abc', 1), ('@howardu', 1), ('hers?', 2), ('@cspanwj', 1), ('#irandeal', 4), ('covers', 1), ('activity.', 1), ('broken', 4), ('27', 3), ('agreements.', 1), ('threat', 4), ('http://t.co/q6oxzq45ve', 1), ('@cdcgov', 2), ('allay', 1), ('#glanders', 1), ('fears', 10), ('ahead', 5), ('rio', 2), ('olympic', 3), ('equestrian', 1), ('test', 3), ('event', 8), ('http://t.co/uotpnsqpz5', 1), ('@horsetalknz', 1), ('pendleton', 2), ('media', 16), ('base', 2), ('horno', 1), ('blaze.', 1), ('love', 10), ('living', 8), ('own.', 1), ('blaze', 5), ('inside', 15), ('apt', 2), ('balcony', 1), ('losses', 4), ('wildfire', 49), ('nearly', 14), ('double', 3), ('week-old', 2), ('rages', 1), ('http://t.co/e0uusnpsq5', 1), ('firefighters', 11), ('battling', 4), ('cary', 1), ('condo', 1), ('http://t.co/mim8hh2ce6', 1), ('rages:', 1), ('fire\\x89û_', 2), ('http://t.co/msdizftz2g', 1), ('montgomery', 1), ('blazing', 2), ('hot', 8), ('weather...stay', 1), ('stds.', 1), ('rejected', 1), ('slogan.', 1), ('stab', 3), ('promise', 1), ('bleeding', 4), ('waited', 1), ('2.5', 1), ('hours', 7), ('cab', 1), ('feet', 1), ('@katramsland', 1), ('yes', 4), ('liberal.', 1), ('@beckyfeigin', 1), ('defs', 1), ('bleeding!', 1), ('@benjm1', 1), ('@tourofutah', 1), ('@b1grego', 1), ('pileup', 2), ('racing', 1), ('@benkin97', 1), ('@mili_5499', 1), ('remember', 10), ('4-0', 1), ('blew', 2), ('game?', 1), ('probs', 1), ('kings', 1), ('cup', 2), ('fireball', 1), ('falling', 7), ('earth?', 1), ('up.', 7), ('@todd_calfee', 1), ('@mattburgener', 1), ('wanted', 5), ('info', 4), ('blight', 2), ('#palestinian', 2), ('#refugee', 1), ('tragedy', 20), ('shame', 3), ('every', 15), ('#israeli', 1), ('https://t.co/gaae0no5du', 1), ('@ashayo', 1), ('@msmiggi', 1), ('hi', 3), ('ashayo!', 1), ('vods', 1), ('youtube', 2), ('presentation', 1), ('nothing', 8), ('seeing', 2), (':)', 3), ('#tweet4taiji', 1), ('dolphin', 1), ('worship', 1), ('group', 24), ('based', 3), ('superstitions!', 1), ('tweets!', 1), ('@bubblycuteone', 1), ('??????????', 1), ('okayyyyyy', 1), ('ima', 1), ('....bout', 1), ('blizzard', 2), ('tho', 3), ('blizzard?', 1), ('#tattoo', 1), ('there..', 1), ('allowed', 2), ('donate', 2), ('blood', 10), ('well', 12), ('not?', 1), ('mid', 3), (\"20's\", 1), ('pressure.', 1), ('stressful.', 1), ('#decisionsondecisions', 1), (\"ain't\", 4), ('hoe', 1), ('thirsty', 2), ('night?sad', 1), (\"rock'n\", 1), ('roll?', 1), ('#??', 18), ('wasnt', 1), ('deep', 4), ('theres', 2), ('everwhe', 1), ('@tradcatknight', 1), ('(1)', 1), ('russia', 11), ('played', 4), ('link', 3), ('bs.', 1), ('okanowa', 1), ('bloody', 7), ('mainline', 1), ('invasion', 3), ('looked', 3), ('insomnia', 1), ('again!', 3), ('grrrr!!', 1), ('#insomnia', 1), (\"'i\", 2), ('came', 15), ('indians...for', 1), (\"fun':\", 1), ('smirking', 1), ('remorseless', 1), ('killer', 3), ('shows', 10), ('boasting.', 1), ('http://t.co/fpjlwoxklg', 1), ('(supposedly', 1), ('representing', 1), (\"america's\", 2), ('values', 1), (')', 1), ('gets', 4), ('blown', 6), ('cgi', 1), ('strike.....', 1), ('lmfaoooo!!!!!!!!!!!!', 1), ('#thisdayinhistory', 1), ('1862', 1), ('confederate', 1), ('crew.', 1), ('http://t.co/iw7elszifz', 1), ('@history', 1), (\"'if\", 1), ('truckload', 1), ('soldiers', 8), ('nobody', 2), ('panics', 1), ('loses', 1), (\"mind'\\nhttp://t.co/wjntaokdhf\", 1), ('though', 5), ('bsg', 1), ('sufficiently', 1), ('hyped', 1), ('somehow', 1), ('delayed', 2), ('watching', 10), ('utterly', 2), ('away.', 2), ('@hopefulbatgirl', 1), ('beaten', 1), ('thing', 8), ('ra', 1), ('al', 2), ('ghul', 1), ('brought', 2), ('escaped', 1), ('a---', 1), ('ladies', 2), ('shoulder', 2), ('tote', 1), ('#handbag', 1), ('faux', 1), ('leather', 1), ('hobo', 1), ('purse', 1), ('cross', 5), ('bag', 1), ('#womens', 1), ('http://t.co/zujwuiomb3', 1), ('http://t.co/iap4lwvqsw', 1), ('@fuckyeahcarey', 1), ('@bornverified', 1), ('drake', 2), ('killing', 9), ('dude', 5), ('tea', 1), ('bagging', 4), ('point', 10), ('@yankees', 1), ('one.', 1), ('done', 10), (\"one.'\", 1), ('nigga', 2), ('meek.', 2), ('\\x89ûï@macdaddy_leo:', 1), ('caption', 1), ('??.', 1), ('freshman...', 1), ('http://t.co/k8ughv2aif\\x89û\\x9dmy', 1), ('stacey', 3), ('niggas!', 1), ('aubrey', 1), ('body-bagging', 1), ('@foxnews', 8), ('@jengriffinfnc', 1), ('report', 17), ('dangerous', 3), ('activity', 2), ('tell', 9), ('em', 1), ('bags', 1), ('arrival.', 1), ('the_af', 1), ('comments', 1), (\"'new\", 1), (\"japan's\", 5), ('effort', 2), ('atom', 1), ('bomb', 66), ('end', 16), (\"wwii'\", 1), ('http://t.co/hctxghr2yf', 1), ('hiroshima', 59), ('prepares', 2), ('dropped', 6), ('http://t.co/ojhcgzxlst', 1), ('guardian', 3), ('legacy:', 2), ('editorial:', 2), ('longs', 2), ('cas...', 2), ('http://t.co/rhxmghspd7', 1), ('documents', 5), ('pointing', 2), ('wwii', 6), ('http://t.co/iucpcsfbmt', 1), ('@smallforestelf', 1), ('umm', 1), ('gunman', 11), ('carrying', 11), ('bomb!', 2), ('http://t.co/m9mowcmvnj', 1), ('marks', 18), ('http://t.co/3u6mdlk7di', 1), ('crew', 2), ('#enolagay', 1), ('board', 6), ('disarmed.', 1), ('#hiroshima', 21), ('arm', 2), ('http://t.co/jb25fhke6q', 1), ('fall', 11), ('god', 8), ('@praiz8', 1), ('always', 10), ('known', 2), ('dat', 3), ('2008', 1), ('bigger', 23), ('pray', 4), ('sir', 2), ('idea', 3), ('fragrance', 1), ('concept', 1), ('bath', 2), ('enemies.', 1), ('bathe', 1), ('in.', 2), ('@swellyjetevo', 1), ('disneyland!', 1), ('tacos', 1), ('detroit?:', 1), ('thursday', 12), ('70-year', 1), ('anniversary', 33), ('united', 8), ('s...', 6), ('http://t.co/6sy44kyysd', 1), ('hatchet-wielding', 2), ('pepper', 2), ('spray', 2), ('bomb?!?!?', 1), ('oops.\\nh', 1), ('miles', 5), ('okinawan', 1), ('coast.\\nfell', 1), ('1965.\\nhttp://t.co/yvsjyzwxjr', 1), ('http://t.co/ct2jutvytg', 1), ('@sweetiebirks', 1), ('@mirrorlady2', 1), ('@slatukip', 1), ('name', 5), ('countries', 5), ('invaded/bombed', 1), ('aside', 1), ('libya', 9), ('africa', 2), ('years.....', 1), ('u.s.', 28), ('bombed', 14), ('ago', 12), ('changed', 1), ('since:', 1), ('http://t.co/uqnj6nk9y3', 1), ('http://t.co/qlnnmxzfqk', 1), ('islamic', 10), ('target', 5), ('syria', 4), ('taking', 7), ('turkey:', 2), ('armed', 3), ('targe...', 1), ('http://t.co/m0dap5xlwo', 1), ('@cyhitheprynce', 1), ('kanye', 1), ('#elephantintheroom', 1), ('????????', 5), ('majority', 4), ('ground', 5), ('jet', 3), (\"city's\", 2), ('main', 9), ('dramatically', 1), ('plummeted', 1), ('hour', 4), ('a-bombed', 1), ('therein', 1), ('200000', 1), ('civilians.', 3), ('never', 16), ('forget', 5), ('repeat.', 2), ('1st', 4), ('#turkish', 1), ('jets', 1), ('village', 19), ('zergele', 1), ('qendil', 1), ('wounded', 34), ('@nicklee8', 1), ('london3', 1), ('families', 81), ('bathroom', 2), ('loo', 1), ('whats', 1), ('yr', 3), (\"'the\", 11), ('third', 2), ('generation', 1), (\"survivor'\", 1), ('exhibition', 2), ('11:00', 2), ('18:00', 1), ('8/6.', 1), ('\\n#??', 1), ('http://t.co/gvaipmlsl0', 1), ('shadowflame', 1), ('wraith:', 1), ('http://t.co/ldbao0rsuz', 1), ('@amazon', 1), ('@whitehouse', 1), ('@potus', 6), ('cos', 4), ('germany', 1), ('invaded', 1), ('poland', 3), ('pearl', 1), ('harbor', 4), ('pre-emptive', 1), ('http://t.co/i2aag6lp6w', 1), ('http://t.co/wmnonhxeir', 1), (\"'nagasaki\", 1), ('forever', 3), (\"weapon.'\", 1), ('#bannukes', 1), ('.@vagersedolla', 1), ('visits', 2), ('villages', 4), ('recently', 2), ('turkey', 25), ('finds', 2), ('fed', 3), ('pkk', 31), ('http://t.co/uuweikd7sp', 1), ('@antpips67', 1), ('@johnejefferson', 1), ('obviously', 1), ('fleeing', 2), ('conflict', 4), (\"'redskins\", 1), ('wr', 1), ('belly-bombed', 1), (\"'\", 5), ('@teamstream', 1), ('http://t.co/gbcvvevdty', 1), ('today', 34), ('yrs', 6), ('(a)', 1), ('cities', 3), ('120000', 1), ('worry', 6), ('http://t.co/fcixk23xqh', 1), ('notice', 1), ('background', 1), ('floatin', 1), ('#bombed', 1), ('http://t.co/ja0wgp8spe', 1), ('states', 5), ('japan.', 2), ('ri', 1), ('worse', 6), ('hurricane.', 1), ('city&amp;3others', 1), ('hardest', 1), ('hit.', 1), ('yard', 1), ('bombed.', 1), ('around', 14), ('20000k', 1), ('without', 12), ('kingdom', 1), ('daesh', 2), ('voltaire', 1), ('network', 2), ('http://t.co/zyssobxntc', 1), ('(and', 2), ('hour)', 1), ('hiroshima.', 1), (\"let's\", 3), ('time', 24), ('remember.', 1), ('cryptic', 3), ('words', 5), ('guided', 3), ('mission', 4), ('http://t.co/fce0k1ihti', 1), ('70th', 16), ('senior', 3), ('official', 6), ('washington', 12), ('ever', 12), ('schedule\\x89û_', 2), ('visited', 3), ('humbled', 1), ('november', 1), ('2013', 7), ('http://t.co/acc1z5q9zw', 1), ('@moscow_ghost', 1), ('@sayed_ridha', 1), ('@amin_akh', 1), ('congratulations', 1), ('capturing', 1), ('besieged', 1), ('months', 4), ('indiscriminate', 1), ('land', 20), ('claiming', 1), ('moral', 2), ('bombs.', 2), ('#banthebomb\\nhttp://t.co/6g49ywwsqj', 1), ('http://t.co/nss5l64cvr', 1), ('#canada', 2), ('#setting4success', 1), ('bells', 3), ('toll', 6), ('#smallbusiness', 1), ('#entrepreneur', 1), ('#australia', 2), (';', 2), ('#japan', 10), ('http://t.co/7ad0l7cgee', 1), ('more;', 1), ('http://t.co/hhzql9tznp', 1), ('@nbcnews', 3), ('yea', 2), ('#pearlharbor', 1), ('idea!', 1), ('http://t.co/39iabcc5pk', 1), ('marked', 4), ('http://t.co/1mgvd4x5oe', 1), ('http://t.co/93vqkdfgnr', 1), ('http://t.co/cqlm9jojop', 1), ('http://t.co/3ev07ppapn', 1), ('http://t.co/jzgxwrgfqg', 1), ('@rinkydnk2', 1), ('@zaibatsunews', 1), ('@neoprogressive1', 1), ('push2left', 1), (\"talk='ecology'&amp;'human\", 1), (\"rts'&amp;'democracy'.\", 1), (\"afghetc='left'\", 1), ('humanitarian', 1), ('justified:', 1), ('americans', 2), ('hindustan', 1), ('http://t.co/cc9z5asvzh', 1), ('@snapharmony', 1), ('http://t.co/ypvvqz8jzt', 1), ('http://t.co/a2ss7pr4gw', 1), ('(from', 1), ('@ap)', 1), ('http://t.co/qreinwg0gs', 1), (\"'sanitised\", 1), (\"narrative'\", 1), (\"hiroshima's\", 1), ('http://t.co/gkpanz7vg0', 1), ('hiroshima\\nhttp://t.co/lgrocbxpqo', 1), ('bombing:', 1), ('tolled', 1), ('70\\x89û_', 1), ('http://t.co/nbzikcjphp', 1), ('#generalnews', 2), ('http://t.co/m9o08gurt4', 1), ('@ameenshaikh3', 2), ('ur.', 1), ('logic', 1), ('bridge', 31), ('didnt', 1), ('collapse', 47), ('train', 71), ('@sanjaynirupam', 1), ('@sureshprabhu', 1), (\"australia's\", 4), ('ashes', 7), ('disaster', 97), ('unfolded', 2), ('trent', 8), ('bridge...', 1), ('http://t.co/dq3ddgvgbf\\n', 1), ('#cricket', 1), ('sioux', 1), ('lead', 1), ('cement', 1), ('roll', 2), ('siouxland', 1), ('matters:', 1), ('siouxlan...', 1), ('http://t.co/sztgmbkohg', 1), ('2015:', 3), ('australia\\x89ûªs', 1), ('among', 4), ('worst', 10), ('history:', 1), ('england', 3), ('bundled', 1), ('australia', 4), ('60', 14), ('http://t.co/985dwwpdet', 1), ('central', 14), ('http://t.co/khf0ih05a9', 1), ('knew', 2), ('relationship', 1), ('btwn', 3), ('kansas', 1), ('hyatt', 1), (\"aia's\", 1), ('cote.', 1), ('http://t.co/ths9iqswp3', 1), ('@huffpostarts', 1), ('fuck', 6), ('bridge?!', 1), ('reminds', 4), (\"england's\", 1), ('caribbean', 1), ('90s...', 1), ('kosher', 1), ('hotel', 2), ('injures', 1), ('five', 6), ('http://t.co/txiestox5n', 1), ('@jewishpress', 1), ('natural', 26), ('calamity', 3), ('man-made:', 1), ('mpp', 1), ('lambasts', 1), ('congress', 3), ('kanglaonline', 1), ('http://t.co/jp9xyla3c5', 1), ('giant', 15), ('cranes', 12), ('holding', 11), ('nearby', 10), ('homes', 55), ('http://t.co/oqpsvrgbjc', 1), ('icymi', 1), ('#ashes', 1), ('twitter', 8), ('reacted', 2), ('http://t.co/gl6eejyjky', 1), ('http://t.co/wqtdnp3w5a', 1), ('warne', 2), ('shocked', 2), ('epic', 3), ('bridge:', 2), ('johannesburg', 2), ('aug', 14), ('06', 4), ('(ani):', 2), ('legendary', 2), ('australian...', 2), ('http://t.co/lwwojxttiv', 2), ('http://t.co/umanaahwmi', 1), ('fox', 4), ('latino', 1), ('http://t.co/l0unafly0y', 1), ('http://t.co/5t69ev0xti', 1), ('http://t.co/nyp8oq2z9t', 1), ('#traintragedy', 1), ('mp', 9), ('long', 5), ('distance', 3), ('http://t.co/jthusynjah', 1), ('http://t.co/jbjrg3ep1q', 1), ('http://t.co/gskjqwyi2d', 1), ('#computers', 1), ('#gadgets', 1), ('http://t.co/uziwgzryny', 1), ('#slingnews', 1), ('telegraph', 2), ('http://t.co/6fynermusg', 1), ('@followlasg', 1), ('urgentthere', 1), ('currently', 6), ('storey', 1), ('b/stop', 1), ('oworoshoki', 1), ('mainland', 1), ('likely', 2), ('http://t.co/lsqe7nu6kl', 1), ('http://t.co/q5q1x5vcqk', 1), ('http://t.co/ik7mgidvbm', 1), ('http://t.co/af1yzus8ln', 1), ('mexico:', 1), ('construction', 2), ('killsåêone', 1), ('http://t.co/i2c00fcowb', 1), ('http://t.co/jaagcfartw', 1), ('restoring', 1), ('dutch', 3), ('town', 11), ('alphen', 1), ('aan', 1), ('den', 1), ('rijn', 1), ('buildings', 59), ('rescuers', 32), ('searching', 23), ('http://t.co/9asc1hhfnj', 1), ('wont', 3), ('upgrade', 1), ('infrastructure?', 1), (\"http://t.co/ngehhg9yga'\", 1), ('bad', 8), ('situation', 7), ('ugly', 1), ('quickly', 6), ('#usa', 4), ('#sustainability', 1), ('@sureshpprabhu', 1), ('made', 10), ('lying', 1), ('collapse.', 2), (\"'i'm\", 2), (\"gemini'\", 1), ('*children', 1), ('screaming', 6), ('sirens', 6), ('distance*', 2), ('mmmmmm', 1), ('burning....', 1), ('building....', 1), ('oooooohhhh', 1), ('oooh', 1), ('ooh...', 1), ('@dougmartin17', 1), ('fireman', 1), ('ed', 1), ('runs', 5), ('doug', 1), ('deserves', 2), ('respect??????', 1), ('@themagickidraps', 2), ('upset', 6), ('businesses', 4), ('executing', 2), ('cops', 5), ('etc', 2), ('@_minimehh', 2), ('@cjoyner', 2), ('must', 17), ('overlooking', 2), ('buildings?', 5), ('#blacklivesmatter', 2), ('@fewmoretweets', 2), ('lives', 26), ('matter.', 2), ('stealing', 5), ('neighbors', 2), (\"'protest'\", 2), ('rocky', 10), ('threatening', 5), ('7000', 1), ('buildings.', 6), ('largest', 2), ('#9newsmornings', 1), ('messi:', 1), ('tattoos', 1), ('blood\\nronaldo:', 1), ('save', 13), ('#respect', 1), ('probably', 3), ('skip', 1), ('basic', 2), ('maintenance', 2), ('things', 8), ('(cut', 1), ('streets)', 1), ('@1acd4900c1424d1', 1), ('rioting', 17), ('looting.', 1), ('(2/2)', 1), ('schools', 2), ('western', 10), ('uganda', 4), ('strikes....strikes', 2), ('lit', 2), ('literally..', 2), ('@doctorfluxx', 1), ('@stefanejones', 1), ('@spinnellii', 1), ('@themermacorn', 1), ('rob', 1), ('riot.', 2), ('embarrassing', 1), ('ruining', 2), ('nation.', 1), ('losing', 1), ('disgusting.', 1), ('bradford.', 1), ('best.', 1), ('weep', 1), ('leeds.', 1), ('https://t.co/olnfzb86zb', 1), ('@epcotexplorer', 1), ('jealous', 1), ('tears', 3), ('thousand', 3), ('ransacked', 1), ('awesomeeeeeeee', 1), ('@zourryart', 1), ('forgot', 1), ('add', 2), ('babies', 4), ('sinking', 11), ('objects', 1), ('old', 37), ('us.', 2), ('music', 3), ('want', 13), ('real', 10), ('action', 12), ('chases', 1), ('weak', 2), ('ben', 3), ('winston', 2), ('outrage?', 2), ('http://t.co/phixznv1yn', 2), ('buildings\\n\\n-loses', 1), ('followers-', 1), ('https://t.co/8sp8xlbbdr', 1), ('witness', 1), ('explode', 2), ('behind', 7), ('afternoon', 8), ('http://t.co/cgmjlseylo', 1), ('@mikecroninwmur', 1), ('xela', 1), ('struggle', 1), ('night', 8), ('w/', 7), ('equipment', 4), ('makes', 3), ('grateful', 4), ('dcfd', 1), ('@chr3lyc', 1), ('@iaff36', 1), ('http://t.co/wrb7xd8w5y\\ncroydon', 1), ('riots-', 1), ('day:', 3), ('crowds', 1), ('reeves', 1), ('corner\\ncroydonization\\naugust', 1), ('hazard', 10), ('associated', 3), ('installation', 1), ('non-compliant', 1), ('external', 1), ('cladding', 1), ('http://t.co/btpqdehl3p', 1), ('@www.cbplawyers', 1), ('.@greenbuildermag', 1), ('@nfpa', 1), ('webinar', 1), ('#wildfire', 8), ('mitigation', 4), ('8/19', 1), ('2pm', 2), ('et.', 1), ('http://t.co/xmsvohkccp', 1), ('@firewise', 1), ('@michele_nfpa', 1), ('video:', 24), ('burns', 6), ('apartment', 5), ('blows', 3), ('manchester', 4), ('http://t.co/5bgcw3ezb5', 1), ('destroys', 11), ('http://t.co/tqh5amoknd', 1), ('multiple', 3), ('downtown', 11), ('hinton', 2), ('http://t.co/p6kdh0p0sp', 1), ('http://t.co/waetkgsza9', 1), ('business', 4), ('meeting', 3), ('#thestrain', 1), ('ton', 1), ('160', 1), ('ross', 2), ('auburn.', 1), ('several', 7), ('trucks', 1), ('http://t.co/ahvymsqhqc', 1), ('detectors', 1), ('required', 1), ('buildings:', 2), ('shevlin-hixon', 1), ('fire.', 17), ('we...', 1), ('http://t.co/z6ee1jvhni', 1), ('someone:', 1), ('mentions', 2), ('gansey', 1), ('fire\\nme', 1), ('busting', 1), ('brick', 1), ('walls', 2), ('seven', 3), ('different', 4), ('beautiful', 7), ('architecture', 1), ('routes', 1), ('#newyork\\x89û_', 1), ('https://t.co/fw1ptaelgv', 1), ('#tweetlikeitsseptember11th2001', 2), ('in:', 1), ('#kenya:', 1), ('dam', 2), ('estate', 1), ('#langata', 1), ('2:22pm.', 1), ('evacuating', 2), ('area', 21), ('20.', 1), ('confirmation', 2), ('shootings', 1), ('explosions', 1), ('hand', 5), ('grenades', 2), ('thrown', 1), ('houses', 15), ('vehicles', 4), ('baffles', 1), ('me.is', 1), ('sweden?', 1), ('displaces', 1), ('damages', 4), ('troy:', 1), ('broke', 1), ('fourth', 1), ('in\\x89û_', 2), ('http://t.co/6hkw5qlppt', 1), ('#albany', 1), ('#ny', 1), ('reports', 14), ('missing?', 1), ('etc.', 7), ('videos?', 1), ('#ppsellsbabyparts', 1), ('https://t.co/wzc5r4xoqz', 1), ('http://t.co/3sth9lrbun:', 1), ('photos:', 7), ('flames', 22), ('rage', 4), ('3-alarm', 2), ('http://t.co/jqxm4gcqz3', 1), ('#nh1news', 1), ('@bigsim50', 1), ('nah', 2), ('philly', 3), ('pundits', 1), ('half', 16), ('cause.', 1), ('mafireems:', 1), ('wmur9:', 1), ('#manchester.', 1), ('wmur9', 1), ('http://t.co/qufwxrjiql', 1), ('kcarosawmur', 1), ('wsls:', 1), ('#montgomery', 1), ('co', 2), ('tips', 2), ('childcare', 1), ('less', 4), ('expensive', 1), ('rain.', 4), ('join', 1), ('@jennasjems', 1), ('@patrickwsls', 1), ('paper', 1), ('towns', 1), ('?????', 1), ('hope', 19), ('lighting', 2), ('charred', 1), ('remains', 5), ('nh', 1), ('rips', 1), ('damaging', 3), ('neighboring', 1), ('http://t.co/ja3w1s3tmr', 1), ('three-alarm', 1), ('residential', 5), ('n.h.', 1), ('sunday', 3), ('http://t.co/rvkyj3yuvk', 1), ('1943:', 1), ('work', 17), ('party', 4), ('prisoners', 1), ('nazi', 2), ('camp', 8), ('treblinka', 1), ('rebelled', 1), ('seizing', 1), ('small', 6), ('arms', 1), ('#history', 1), ('17', 7), ('displaced', 23), ('tore', 1), ('manchester.', 1), ('--', 6), ('http://t.co/nzqwtcyidv', 1), ('#mht', 1), ('confirm', 4), ('street.', 2), (\"we're\", 8), ('@okcfox', 1), ('burned', 7), ('300', 3), ('acres:', 2), ('drifting', 1), ('temecula.', 1), ('http://t.co/zr5rgbgh03', 1), ('sports', 2), ('riots', 4), ('google', 3), ('couches', 1), ('burned..', 1), ('fr', 1), ('gotta', 3), ('https://t.co/p1amginsys', 1), ('129', 1), ('calories', 1), ('24', 5), ('minutes', 4), ('walking', 4), ('3.5', 1), ('mph', 12), ('brisk', 1), ('pace', 1), ('#myfitnesspal', 1), ('dog', 5), ('http://t.co/pqrjvgvgxg', 1), ('mad', 5), ('complex', 6), ('14028', 1), ('acres', 4), ('8%', 1), ('contained:', 1), ('trinity', 1), ('http://t.co/lfnippnoto', 1), ('fool', 2), ('coverage', 1), ('year.', 5), ('all-pro', 1), ('practice', 1), ('squad', 5), ('material', 2), ('metal', 4), ('cutting', 2), ('sparks', 4), ('brush', 3), ('brighton:', 1), ('sparked', 3), ('landowner', 1), ('10\\x89û_', 1), ('http://t.co/rj7m42atws', 1), ('501', 1), ('sky', 5), ('mandem', 1), ('totteham', 1), ('maddddd', 1), ('dem', 2), ('ting', 1), ('dere', 1), ('bulletproof', 1), ('funeral;', 1), ('cold.', 1), ('http://t.co/uqssnaattu', 1), ('.@stacdemon', 1), ('questions', 2), ('chris', 2), ('mullin', 1), ('st.', 2), ('john\\x89ûªs', 1), ('2015-16:', 1), ('http://t.co/nmrvthkvah', 1), ('#sjubb', 1), ('#zionism', 2), ('#babies', 1), ('https://t.co/6xysdn2xz0', 1), ('visible', 1), ('tucson', 1), ('mountains:', 1), ('lightning-caused', 2), ('steep', 1), ('terrain', 1), ('mountains\\x89û_', 1), ('http://t.co/zrtrpl77qv', 1), ('neon', 1), ('lights??????', 1), ('@michael5sos', 3), ('balls', 1), ('off????', 1), ('#?x?:', 1), (':and', 1), ('counter', 2), ('acts', 3), ('alexandrian', 1), ('library.', 1), (\"'california\", 1), (\"burning:'\", 2), ('gov.', 3), ('jerry', 2), ('brown', 7), ('told', 8), ('reporters', 1), ('press', 3), ('conference', 2), ('experiencing...', 1), ('http://t.co/arzemsr7fq', 1), ('planned', 5), ('parenthood', 2), (\"where's\", 1), ('demonstrations', 1), ('looting', 2), ('pp', 1), ('matter', 1), ('mv', 1), ('strutting', 1), ('mean', 5), ('bg', 1), ('everywhere', 4), ('@louis_tomlinson', 1), ('incredible?', 1), ('children', 11), ('dancing', 1), ('@foxnewsvideo', 1), ('@aiiamericangiri', 1), ('@anhqdc', 1), ('rioters', 2), ('looters', 2), ('buildings????', 1), ('matter!!!!!!', 1), ('forestservice', 1), ('dhsscitech:', 1), ('#firefighters', 1), ('buildings\\x89ûówe', 1), ('#tech', 3), ('t\\x89û_', 1), ('http://t.co/kybqcsvrza)', 1), ('http://t.co/ih49kymsmp', 1), (\"magic's\", 1), ('fine', 2), ('police.', 2), ('proud', 1), ('large', 10), ('causing', 5), ('evacuations', 2), ('hinton:', 1), ('http://t.co/mtmkimwiyy', 1), ('pouring', 1), ('port', 4), ('coquitlam', 1), ('http://t.co/geqkdao4cv', 1), ('http://t.co/dg0bgzecgm', 1), ('strikers', 2), ('phalaborwa', 1), ('striking', 1), ('chinese', 5), ('jobs.', 1), ('attacking', 2), ('2...', 2), ('http://t.co/08lngclzsj', 1), ('rendered', 1), ('kitten', 1), ('buildings\\nhttps://t.co/9cpwiecegv', 1), ('http://t.co/rzlytnez2u', 1), ('@kshllcenterpri1', 1), ('@progress4ohio', 1), ('burnt', 1), ('churches?', 1), ('dudes', 2), ('thoroughly', 1), ('express', 9), ('stupid', 3), ('ppl', 7), ('r', 1), ('brutality', 1), ('nvr', 1), ('mistreated.', 1), ('picture', 5), ('basement', 1), ('streetlight.', 1), (\"\\n\\ni'm\", 1), ('drinking', 2), ('problem\\na', 1), ('hole', 1), ('sky.', 1), ('pledge', 1), ('allegiance', 1), ('p.o.p.e.', 1), ('city.', 1), ('riots?', 1), ('crap', 1), ('when...', 2), ('http://t.co/1qochspybw', 1), ('insane', 2), ('bush', 15), ('california.', 7), ('safe.', 1), ('https://t.co/jslxtq3nqs', 1), ('explain', 1), ('volcanoes', 2), ('spouting', 1), ('co2', 1), ('air?', 1), ('@marcoarment', 1), ('middle', 7), ('winter', 1), ('sydney', 4), ('78', 2), ('degree', 3), ('days', 10), ('week.', 2), ('keeps', 5), ('toes', 1), ('sure.', 1), ('omfg', 1), ('tiny', 1), ('island.', 2), ('freaking', 1), ('slash-and-burn', 1), ('blamed', 1), ('thomas', 1), ('http://t.co/5dj6chjfzp', 1), ('drought', 20), ('fuels', 2), ('http://t.co/zdtdqqbahc', 1), ('http://t.co/psqcnsvfgp', 1), ('@jamaicaobserver', 2), ('@cnewslive', 2), ('https://t.co/6zgef8j8bm', 1), ('@doricreates', 1), ('@alhanda', 1), ('seems', 4), ('moonbeam', 1), ('tokes', 1), ('blames', 3), ('traumatised', 3), ('#appreciativeinquiry', 1), ('turn', 5), ('around?', 1), ('http://t.co/soea1ggbkj', 1), ('californian', 1), ('http://t.co/rjdx29wosp', 1), ('28', 2), ('oct', 1), ('1895:', 1), (\"'bush\", 1), (\"fires.'\", 1), ('http://t.co/zckxtfc9pt', 1), ('@dacherryontop13', 1), ('spain', 1), ('year', 23), ('swimming', 3), ('planes', 1), ('water', 28), ('scary....even', 1), ('scarier', 1), ('http://t.co/0ymf6txfch', 1), ('http://t.co/3i3d2ngent', 1), ('https://t.co/jyiekeo2he', 1), ('@johnfromcranber', 1), ('pleas', 1), ('global', 13), ('warming', 2), ('/', 18), ('catastrophic', 24), (\"'bush'\", 1), ('smh', 2), ('photographer', 1), ('wolter', 1), ('peeters', 1), ('line', 16), ('nsw', 1), ('rural', 1), ('service', 21), ('crews', 21), ('la\\x89û_', 1), ('http://t.co/gxe7nhwz3e', 1), ('http://t.co/srbqlmuwbv', 1), ('apparently', 2), ('weekend', 2), ('totally', 7), ('oblivious', 1), ('to...', 1), ('evacuate', 24), ('affected', 32), ('asap', 1), ('govts', 1), ('advised', 1), ('http://t.co/ubvevuuach', 1), ('??\\nwarfighting', 1), ('robots', 4), ('reduce', 6), ('civilian', 9), ('casualties', 21), ('calling', 5), ('ban', 6), ('premature', 3), ('ieee', 1), ('spectrum', 1), ('http://t.co/tzr58b86qz', 1), ('attack..close', 1), ('time.', 4), ('thankful', 2), ('casualties.', 5), ('cannot', 5), ('allow', 4), ('evil', 1), ('win!', 1), ('rise', 9), ('afghan', 5), ('intensifies', 2), ('2015--', 1), ('http://t.co/nnylxhinpx', 1), ('sees', 5), (\"'sharp\", 1), (\"rise'\", 1), ('female', 3), ('http://t.co/4hcywrwn6l', 1), ('http://t.co/2twxz6vxbx', 1), ('warfighting', 3), ('a...', 22), ('http://t.co/9dvu1ridz3', 1), ('afghanistan:', 2), ('u.n.', 2), (\"'record-high\", 1), (\"levels'\", 1), ('casualties\\n', 1), ('\\nin', 2), ('afghanistan', 5), ('united...', 1), ('http://t.co/ymczyvkfme', 1), ('bottling', 1), ('everything', 2), ('eventually', 3), ('explodes', 2), ('higher', 3), ('countless', 2), ('globe', 1), ('orchestrated', 1), ('corners', 2), ('planet', 2), ('[on', 1), ('levels]', 1), ('http://t.co/g1bwl3dqqk', 1), ('disinfo:', 1), ('-...', 1), ('http://t.co/yuinmerq2s', 1), ('#criticalmedia', 1), ('poignant', 1), ('reminder', 2), ('http://t.co/mwmt3bdr5l', 1), ('might', 6), ('tomorrow', 7), (\"'american\", 1), ('weapons', 13), ('fueling', 1), (\"yemen'\", 1), ('http://t.co/7ageakvn2x', 1), ('laughing', 1), ('face', 10), ('sorrow', 1), ('thinking', 3), ('throwin', 1), ('away', 8), ('@catwoman1775', 1), ('crazier', 1), ('glad', 5), ('shooter', 1), ('sutherland', 1), ('australian', 3), ('lone', 2), ('pine', 1), ('gallipoli\\n', 1), ('http://t.co/d50orfxofb', 1), ('@theleadernews', 1), ('sharp', 4), ('un', 4), ('http://t.co/0cxm5tkz8y', 1), ('http://t.co/v5amdovhot', 1), ('@flyopinemonkey', 1), (';-)', 1), ('\\nalso', 1), ('follow-up', 1), ('honshu', 1), ('operation', 4), ('coronet.', 1), ('all:', 1), ('1m', 1), ('allied', 1), ('30m', 1), ('japanese', 10), ('dead.', 1), ('@alcoholandmetal', 1), ('anything', 6), ('fix', 2), ('that.', 2), ('trusted', 1), ('charles', 2), ('reach', 2), ('record', 10), ('http://t.co/r8ptvfuh5x', 1), ('http://t.co/npckk0tleq', 1), ('@countermoonbat', 1), ('@voodoo_ben', 1), ('heard', 11), ('purple', 2), ('hearts', 1), ('expected.', 2), ('passed', 2), ('thankfully', 2), ('command', 1), ('confirmed', 19), ('in...', 5), ('http://t.co/mfsw0tysta', 1), ('wrap:', 1), ('warns', 5), ('http://t.co/vsvy1qe69t', 1), ('#pbs', 1), ('#iraq', 2), ('revise', 1), ('scenario?', 1), ('\\n\\nwhile', 1), ('500', 3), ('iranian', 4), ('suspected!!!', 1), ('http://t.co/drlkebeypi', 1), ('#afghanistan:', 1), ('#2015', 1), ('http://t.co/ldywd4ydt9', 1), ('#civilian', 1), ('highest', 2), ('number', 4), ('2009', 1), ('@washingtonpost', 1), ('http://t.co/xtf5dvgrvh', 1), ('http://t.co/lzff4pt4az', 1), ('#ftsn', 1), ('#ftsnnewsdesk', 1), ('#\\x89û_', 4), ('@irishspy', 1), ('allies', 2), ('sucked', 1), ('million', 8), ('casualties?', 1), ('http://t.co/3sqsergni2', 1), ('derailment:', 21), ('patna', 2), ('casualty', 13), ('http://t.co/yg697fcqgr', 1), ('property/casualty', 1), ('insurance', 6), ('rates', 1), ('1%', 1), ('july:', 1), ('movement', 1), ('commercial', 1), ('property/casu...', 1), ('http://t.co/kclkokqi8a', 1), ('sanity', 1), ('brings', 1), ('reward', 3), ('score...', 1), ('cord...', 1), ('sad', 6), ('ocean', 8), ('casualty-gray', 1), ('whale', 1), ('population', 5), ('pacific', 4), ('listed', 1), ('critically', 1), ('#endangered', 1), ('(#drone', 1), ('video)', 1), ('https://t.co/vwz3vzpmfb', 1), ('@thomashcrown', 1), ('grandfather', 1), ('groups', 1), ('marines', 1), ('olympic.', 1), ('95%', 2), ('rate', 3), ('predictions', 1), ('benzema', 1), ('increasingly', 1), (\"benitez's\", 1), ('squad.', 1), ('arsenal', 2), ('bound?', 1), ('50-50', 1), ('chance', 5), ('unpredictable', 1), ('disconnected', 1), ('social', 2), ('favorites', 1), ('@northbayhealth', 1), ('shines', 1), ('multi-casualty', 1), ('http://t.co/21b6skpdur', 1), ('http://t.co/wbcb3sytj7', 1), ('@scriptettesar', 1), ('@katiecool447', 1), ('btw', 1), ('30th', 1), ('6th', 1), ('september', 4), ('1986', 1), ('2016', 1), ('@avbronstein', 1), ('@popehat', 1), ('@instapundit', 1), ('@kurtschlichter', 2), ('also', 10), ('estimates', 2), ('islands?', 1), ('@greenharvard:', 1), ('documenting', 1), ('climate', 9), (\"change's\", 1), ('http://t.co/4q4zd7ou34', 1), ('@greenharvard', 1), ('@reriellechan', 1), ('lich', 1), (\"king's\", 1), ('block', 1), ('you!', 3), ('http://t.co/0gidg9u45j', 1), ('nuke', 4), ('(albeit', 1), ('unsuccessful)', 1), ('tens', 1), ('millions.', 3), ('@mackinnon08', 1), ('#nowplaying:', 1), ('dubstep', 1), ('hardstyle', 1), ('trap', 1), ('messy', 1), ('mix', 3), ('(event', 2), ('recording)', 1), ('@mixify', 1), ('http://t.co/m203ul6o7p', 2), ('http://t.co/hdvmhsqxhm', 1), ('.@robdelaney', 1), ('catastrophe', 4), ('but!', 1), ('literally', 6), ('unable', 1), ('ejaculating.', 1), ('@peterjukes', 2), ('grounds', 2), (\"'political\", 1), ('military', 17), (\"catastrophe'\", 2), ('committed', 2), ('individuals.', 1), ('#boy', 1), ('#mix', 1), ('ultimate', 3), ('#preparedness', 3), ('library:', 2), ('http://t.co/o207jyabyz', 1), ('catastrophe.', 4), ('10', 6), ('http://t.co/cjctb2ocxg', 1), ('update:', 17), ('mac', 1), ('pros', 1), ('company', 6), ('failures', 1), ('requiring', 1), ('repair!', 1), ('chances', 1), ('wow', 4), ('needs', 6), ('evolve.', 1), ('vanilla', 1), ('anymore', 2), ('#nar', 1), ('#phuket', 1), ('http://t.co/qyaendvdgc', 1), ('http://t.co/3zp6ahnsxn', 1), ('bbc', 9), ('r5live', 1), ('studio', 1), ('discussion', 1), ('poor.', 1), ('sheer', 1), ('*luck*', 1), ('cold', 3), ('result', 7), ('=', 3), ('herring.', 1), ('#scraptrident', 1), ('learning', 8), ('legacy', 6), ('eruption', 7), ('http://t.co/rbmucurs2f', 1), ('following', 12), ('acute', 3), ('medical', 4), ('care', 8), ('takes', 11), ('precedent.', 1), ('ptsd', 1), ('often', 2), ('follows', 3), ('undetected...', 1), ('http://t.co/bzkqpl6r0a', 1), ('effects', 8), ('nagasaki', 12), ('bombings', 7), ('felt', 7), ('http://t.co/ou1m9chznq', 1), ('http://t.co/tzxeg4gokd', 1), ('http://t.co/1krpz3j1eu', 1), (\"'invading\", 1), ('iraq', 4), (\"mistake'.\\n\\ndiplomacy\", 1), ('replace', 2), ('israel:\\n\\nhttp://t.co/yqjpn3quux', 1), ('http://t.co/25sy9y295l', 1), ('@newyorker', 2), ('http://t.co/wc8aqxedf7', 1), ('destructive', 2), ('volcanic', 1), ('thirty-five', 1), ('later:', 1), ('http://t.co/kkjp9ksbst', 1), ('http://t.co/tgcr5vofj3', 1), ('@apano55', 1), ('@jamesmelville', 1), ('99%', 1), ('don\\x89ûªt', 4), ('man-made', 1), ('deluded', 1), ('do.', 1), ('yorker', 3), ('http://t.co/y8yqpbe4t9', 1), ('http://t.co/pgxfocghqg', 1), ('http://t.co/qvlxpyyycd', 1), ('better', 3), ('our\\x89û_', 1), ('https://t.co/5yrbegzafx', 1), ('http://t.co/rnqebaycvm', 1), ('http://t.co/t344phnpy9', 1), ('coming:', 1), ('tune', 1), ('out?', 2), ('http://t.co/a8jz5a26wi', 1), (\"'kessler\", 1), (\"syndrome'\", 1), ('exponential', 1), ('proliferation', 1), ('satellites.', 1), ('#gravitymovie', 1), ('http://t.co/vmwtouyohm', 1), ('#illinois:', 1), ('units', 6), ('simulate', 4), ('chemical', 15), ('nu', 2), ('https://t.co/rd10ex6hvt', 1), ('@sharethis', 3), ('#hazmat', 1), (\"fema's\", 1), ('weeklong', 1), ('biological', 2), ('radioactive', 3), ('russian', 12), ('nuclear-biological-chemical', 1), ('(nbc)', 1), ('brigade', 1), (\"'emergency\", 2), (\"response'\", 1), ('exercise', 1), ('southern', 5), ('md', 7), ('http://t.co/ul5xdblmbk', 1), ('http://t.co/vjhpvlnbaw', 1), ('#krefeld:', 1), ('incident', 8), ('industry', 6), ('park!', 1), ('operations', 1), ('underway!', 1), ('reportly', 1), ('collapsed!', 2), ('@cnnbrk', 1), ('@ntvde', 1), ('usa:', 1), ('spill/evacuations/red', 1), ('http://t.co/007npen6lg', 1), ('respond', 5), ('spill', 41), ('beaumont', 1), ('#benews', 1), ('http://t.co/pme0hojvya', 1), ('site', 19), ('leads', 3), ('krefeld', 1), ('germany.', 1), ('scene;', 1), ('avoid', 6), ('area.', 7), ('#ijetalerts', 1), ('loot', 1), ('riot', 8), ('pipe', 3), ('gas', 12), ('ricin', 1), ('leak', 2), ('violence', 3), ('drugs', 2), ('cartel', 1), ('cocaine', 2), ('marijuana', 2), ('heroine', 1), ('kidnap', 1), ('bust', 1), ('nu:', 2), ('suppose', 2), ('northwestern\\x89û_', 2), ('http://t.co/0nr4dpjgyl', 1), ('http://t.co/exitlxgisj', 1), ('cleanup', 4), ('videos', 2), ('lab.', 1), ('http://t.co/umqbyrupbd', 1), ('evanston', 2), ('http://t.co/kfyebhb3di', 1), ('mod', 4), ('v4.5.2', 1), ('#6', 1), ('area!:', 1), ('http://t.co/ulupxyzjwv', 1), ('responders', 11), ('hazmat', 1), ('training.', 1), ('http://t.co/q9zixci8e6', 1), ('lindenow:', 1), ('3:15pm\\nemergency', 1), ('2leezy', 1), ('cliff', 9), ('grabbing', 1), ('palms', 3), ('sweaty', 1), ('bruh?', 1), ('https://t.co/grwdr4kuf3', 1), ('along', 7), ('dignity', 1), ('#funnynews', 1), ('#business', 3), ('moment', 7), ('collapses', 4), ('chunks', 3), ('rock', 5), ('china', 8), ('http://t.co/lci3pljx25', 1), ('https://t.co/4vwsl2gfp0', 1), ('accidentally', 3), ('87', 1), ('snap', 2), ('streak', 5), ('wanna', 5), ('????????????????????', 1), ('landslide', 15), ('fall...', 1), ('http://t.co/gabd0cjmag', 1), ('china:', 1), ('r...', 1), ('http://t.co/eeewo207mx', 1), ('627%', 1), ('lower', 3), ('striked', 1), ('gone', 5), ('otm.', 1), ('cliff.', 1), ('runaway', 1), ('minion', 1), ('dublin', 2), ('http://t.co/u2kwof3wtj', 1), ('paramedic', 1), ('that?', 1), ('leave', 13), ('someone', 9), ('collapse/blow', 1), ('up?', 1), ('@halloikbenwill', 1), ('terrifying', 2), ('homes:', 1), ('row', 1), ('seconds.', 1), ('http://t.co/g38y8h1tjt', 1), ('interview', 2), ('materialism', 1), ('best', 6), ('#talkradio', 1), ('listen', 3), ('live:', 4), ('http://t.co/sdxzhjco0x', 1), ('economic', 4), ('investing:', 1), ('specific', 1), ('actions', 5), ('strategies', 1), ('securing', 1), ('lasting', 1), ('wealth', 1), ('financial', 4), ('blowout.', 1), ('http://t.co/jzwrisxepf', 1), ('eurocrisis', 1), (\"greece's\", 2), ('tax', 3), ('revenues', 3), ('debt', 4), ('crisis', 20), ('continues:', 1), ('talks', 2), ('continue', 7), ('proposed', 2), ('\\x89ââ...', 1), ('http://t.co/bbm9sr1wow', 1), (\"'theatre\", 1), (\"+shooting'\", 1), ('spike', 1), ('30min', 1), ('$ckec', 1), ('http://t.co/uubovy9gqi', 1), ('correction:', 2), ('tent', 4), ('http://t.co/s7vygenjuv', 1), ('http://t.co/jxs50fkvik', 1), ('today..', 1), ('exhaustion', 1), (\"#greece's\", 1), ('continues', 5), ('@guardian', 2), ('#bailout', 1), ('http://t.co/cjvbqxw83s', 1), ('^mp', 1), ('batting', 1), ('#theashes', 1), ('continues\\nhttp://t.co/uxp6poqjlb', 1), ('economy', 2), ('gary', 1), ('chicago', 7), ('entrances', 1), ('collapsed', 10), ('let', 9), ('@organicallyrude', 1), ('@1rockstar62', 1), ('#wish', 1), ('mattingly', 1), ('bundy', 1), ('mcgwire', 1), ('standing', 1), ('roof', 3), ('bowling', 1), ('alley', 1), ('community', 2), ('@kezi9', 1), ('http://t.co/sahbhlxssh', 1), ('parade', 1), ('50', 11), ('collapsed.', 2), ('#oneheartonemindonecss', 1), ('pain', 2), ('awful', 2), ('burst', 4), ('lungs', 2), ('district', 2), ('coaches', 17), ('learn', 5), ('cpr', 1), ('course:', 1), ('panama', 1), ('athlete', 1), ('field.', 1), ('coaches...', 1), ('http://t.co/kfkaosh0kh', 1), ('@durrellb', 1), ('prices', 1), ('insane.', 1), ('dollar', 2), ('punishing', 1), ('thanks', 7), ('info.', 1), ('entity', 1), ('forced', 6), ('montego', 1), ('sewer', 1), ('#tvjnews', 1), ('british', 10), ('bake', 1), (\"off's\", 1), (\"dorret's\", 1), ('chocolate', 1), ('gateau', 1), ('jan', 3), ('moir', 1), ('http://t.co/2sgdofsmrq', 1), ('http://t.co/xlegc6uora', 1), ('@flickershowell', 1), ('oh', 9), ('im', 10), ('crying', 1), ('part', 14), ('ok.', 3), ('@xdescry', 1), ('wrong', 2), ('trusty', 1), ('actually..', 1), ('considering', 4), ('spontaneously', 2), ('trusty.', 1), ('petition', 2), ('heartless', 1), ('whipped', 1), ('horse', 2), ('animal!', 1), ('now!', 3), ('http://t.co/87efcbiczm', 1), ('@tackettdc', 1), ('worlds', 1), ('collide', 3), ('......', 1), ('houston', 1), ('collide.', 1), ('@pageparkescorp', 1), ('@chloeunguyen', 1), ('@laurensicle', 1), ('@charstevens97', 1), ('@tiara_marei', 1), ('#gemma', 1), ('#bowe\\x89û_', 1), ('http://t.co/9wowps78vd', 1), ('#thedoolinggroup', 1), ('buses', 10), ('åê', 1), ('slams', 1), ('bordento...', 1), ('http://t.co/yqhfio9xqm', 1), ('investigating', 12), ('e-bike', 4), ('collided', 25), ('portugal.', 2), ('suffered', 2), ('non-life', 2), ('injuries.', 5), ('#newswatch:', 2), ('lock', 2), ('lansdowne', 2), ('sts', 2), ('#ptbo.', 2), ('emerg', 2), ('scored', 1), ('111020', 1), ('points', 4), ('punch', 1), ('quest', 1), ('squeaky', 1), ('bat', 2), ('skull.', 1), ('http://t.co/aetgbxm1pl', 1), ('monsoon', 4), ('rains', 6), ('hard', 6), ('season.', 2), ('trains', 20), ('http://t.co/a7zf6n7vrl', 1), ('eau', 1), ('claire', 1), ('suv', 2), ('sentenced', 1), ('chippewa', 1), ('county:', 3), ('http://t.co/kqpky7dthj', 1), ('india.', 2), ('rescuers.', 1), ('shotgun', 1), ('denton', 1), ('http://t.co/0r03c6njli', 1), ('life-threatening', 2), ('injuries', 11), ('closes', 3), ('highway:', 1), ('18-wheeler', 2), ('then\\x89û_', 1), ('http://t.co/ajtxuafoem', 1), (\"'car\", 1), ('harwich', 2), (\"port'\", 1), ('5:30', 1), ('p.m.', 3), ('happen\\x89û_', 1), ('http://t.co/ljxce1qw2p', 1), ('hadnt', 1), (\"would've\", 2), ('too.', 2), ('#butgod', 1), ('26', 4), ('http://t.co/jmbvpanxr3', 1), ('junction', 1), ('looking.', 1), ('kept', 3), ('towards', 4), ('till', 8), ('beep', 1), ('horn', 1), ('ssp', 1), ('aeg', 1), ('061', 1), ('driven', 1), (\"akram's\", 1), ('carhot', 1), ('exchanged', 1), ('firing', 1), ('air1bullet', 1), ('tyre', 1), ('pple', 1), ('rescued', 19), ('ferry', 1), ('200', 2), ('fishing', 3), ('boat.#news', 1), ('building:', 1), ('intersection', 2), ('crashing\\x89û_', 1), ('http://t.co/tpuu3eatb3', 1), ('bicycle-suv', 1), ('mesick:', 1), ('bicyclist', 8), ('entered', 1), ('m-115', 1), ('boat...', 1), ('http://t.co/a9gtopyzk8', 1), ('http://t.co/ybyp68ievn', 1), ('journey', 1), ('home!', 1), ('cows', 1), ('track!', 1), ('working', 6), ('restore', 1), ('southwest', 1), ('omaha', 1), ('utility', 1), ('pole.', 1), ('http://t.co/dan0gkx28l', 1), ('stepkans', 1), ('boat', 27), ('l.victoria', 1), ('http://t.co/ingu6ztyg4', 1), ('cyclist', 4), ('runner', 2), ('roanoke', 2), ('greenway', 1), ('wins', 1), ('$300000', 1), ('verdict', 2), ('c...', 1), ('http://t.co/e2wfgp8jhk', 1), ('pvris', 1), ('denver', 9), ('collision', 20), ('broadway:', 5), ('local\\x89û_', 3), ('http://t.co/2acrgdqhj0', 1), ('@zojadelin', 1), ('almost', 11), ('knob', 1), ('sac', 5), ('elkhorn', 2), ('blvd', 6), ('walerga', 2), ('**trfc', 7), ('collision-1141', 3), ('enrt**', 3), ('http://t.co/w4ofcc99wq', 1), ('beat:g3', 1), ('rainier', 1), ('8/5/2015', 3), ('6:08', 1), ('call#', 2), ('15000270653', 1), ('beat:b2', 1), ('35', 3), ('fremont', 1), ('6:52', 1), ('15000270364', 1), ('florin', 1), ('franklin', 1), ('http://t.co/es1b3lyway', 1), ('collision:', 3), ('#hwy401', 1), ('eb', 4), ('hwy', 5), ('#cambridge', 1), ('single', 2), ('lane.', 3), ('#opp', 1), ('enroute.', 1), ('^ag', 2), ('http://t.co/wlmsq3mtho', 1), ('head-on', 1), ('kenai', 1), ('spur', 1), ('highway', 5), ('http://t.co/hbbgy2vzyt', 1), ('http://t.co/ozk1qhjvfh', 1), ('baltimore', 1), ('i-95', 2), ('54.8', 2), ('(fort', 2), ('mchenry', 2), ('tunnel', 3), ('bore', 2), ('nort...', 1), ('i-405', 1), ('southbound', 3), ('coal', 1), ('creek', 1), ('i580', 2), ('e', 8), ('flynn', 1), ('onr', 1), ('collision-no', 3), ('inj**', 4), ('http://t.co/in8lys7v5l', 1), ('westminister', 1), ('sr22', 1), ('knott', 1), ('http://t.co/eumlca1edw', 1), ('saturn', 1), ('anymore.', 1), ('starting', 2), ('estimate', 6), ('$4000.', 1), ('worth.', 1), ('broadway', 2), ('http://t.co/uppwxda4yd', 1), ('valley', 4), ('i405', 2), ('us101', 1), ('con', 1), ('collision-unkn', 1), ('http://t.co/js9ehp88wq', 1), ('@missjadebrown', 1), ('tragic', 2), ('mid-morning', 1), ('claimed', 2), ('riding', 2), ('motorcycle.', 1), ('https://t.co/rpda60aoni', 1), ('two-vehicle', 2), ('fowlers', 1), ('frank', 1), ('rd.', 2), ('road:', 1), ('opp.', 1), ('minor', 2), ('occupants.', 1), ('favorite', 2), ('lady', 3), ('volunteer', 1), ('meeting\\nhopefully', 1), ('joining', 1), ('youth', 17), ('excite', 1), ('http://t.co/ij0wq490cs', 1), ('#colorado', 1), ('tak...', 1), ('http://t.co/2iafpmqjep', 1), ('enroute:', 1), ('sacramento', 1), ('http://t.co/5qhqo6ejtu', 1), ('7:13pm', 1), ('#mapleridge', 1), ('lougheed', 1), ('203rd', 1), ('dewdney', 1), ('trunk', 1), ('collision.', 1), ('eto', 1), ('8:00', 2), ('9:00', 2), ('pm.', 2), ('solano', 1), ('sr37', 1), ('skaggs', 1), ('http://t.co/mylieruxk1', 1), ('injury:', 2), ('i5', 7), ('43rd', 3), ('ave', 10), ('offramp', 2), ('http://t.co/ct9ejxolpu', 2), ('cleared:', 3), ('#qew', 1), ('fort', 1), ('erie', 1), ('bound', 3), ('approaching', 2), ('405', 1), ('#niagara.vehicles', 1), ('removed.', 1), ('http://t.co/zl7ojdaj3u', 1), ('http://t.co/241cn8yxjq', 1), ('@kierannicholson', 1), ('ofr', 1), ('http://t.co/gpxqbyzyu4', 1), ('html5', 1), ('beginners', 1), ('course', 3), ('http://t.co/y32owbrovf', 1), ('#course', 2), ('http://t.co/vr2u4cerw8', 1), ('bestival', 1), ('michael', 2), ('molloy', 1), ('21st', 1), ('http://t.co/bikr8zzbha', 1), ('hamilton', 2), ('i-75', 1), ('mm', 1), ('459.', 1), ('value:', 1), ('cash', 1), ('source', 2), ('http://t.co/st5fgblsye', 1), ('http://t.co/0uk0h9hozn', 1), ('pikin', 1), ('#incident\\ncrash', 1), ('pascoe', 1), ('vale', 1), ('outbound', 1), ('tullamarine', 1), ('fwy', 5), ('(citylink)', 1), ('moreland', 1), ('delays.', 2), ('https://t.co/jq2ib1ob1x', 1), ('@_chelsdelong12', 1), ('@kendra_leigh13', 1), (\"'fatal\", 1), ('johns', 1), (\"island'\", 1), ('http://t.co/d2i9bl89zo', 1), ('find', 7), (\"'suspected\", 1), (\"heroin'\", 1), ('http://t.co/ojoecw29qa', 1), ('akilah', 1), ('http://t.co/vn2fnmy7li', 1), ('barrington', 1), ('hills:', 1), ('hoffman', 1), ('estates', 1), ('single-car', 1), ('afte...', 1), ('http://t.co/b6nphxorzg', 1), ('maj', 2), ('muzzamil', 2), ('offr', 2), ('mi-17', 2), ('mansehra', 3), ('http://t.co/kl4r1ccwct', 1), ('http://t.co/igxrqpotm7', 1), (\"'avoiding\", 7), ('microlight', 7), ('landi...', 1), ('http://t.co/3kpbu6hgt5', 1), ('#peritoengrafoscopia', 1), ('neil_eastwood77:', 1), ('knobhead!!', 1), ('landing', 15), ('http://t.co/duvuzhmvut', 1), (\"runway':\", 2), ('http://t.co/mfjxh4p51u', 1), ('@brianroemmele', 1), ('ux', 1), ('fail', 1), ('emv', 1), ('insert', 1), ('remove', 3), ('pump', 3), ('stripe', 1), ('reader.', 1), ('person', 8), ('pos', 1), ('hamayun', 1), ('shaheed', 1), ('mi-7', 1), ('heli', 1), ('http://t.co/2z8ubsy5m8', 1), ('#uk', 3), ('http://t.co/fqj0squ3lg', 1), ('&gt;', 3), ('runway...', 1), ('http://t.co/tu9cglmgvr', 1), ('#rochdale', 1), ('#heywood', 1), ('ipod', 2), ('crashed.....', 1), ('\\n#weloveyoulouis', 1), ('\\n#mtvhottest', 1), ('intact+mh370+part+lifts+odds+plane+glided+not+crashed+into+sea', 1), ('http://t.co/mjtn3qbgos', 1), ('@yahoofinance#hope', 1), ('answers.', 1), ('pak', 4), ('mansehra.', 2), ('bug', 1), ('euro', 1), ('http://t.co/kgkz50q8tk', 1), (\"country's\", 2), ('restive', 2), ('northwest', 2), ('http://t.co/qv1rmzi3j1', 1), (\"runway'\", 2), ('http://t.co/x9mdhocpda', 1), ('guy', 3), ('tuesday', 2), ('knocked', 1), ('door', 1), ('yday', 1), ('ran', 2), ('2day', 1), ('text', 1), ('asking', 2), ('send', 11), ('log', 1), ('book????????', 1), ('almighty', 1), ('strength', 1), ('bear', 1), ('loss', 4), ('http://t.co/ei1k01zab3', 1), ('sources', 2), ('persons', 4), ('doctors', 1), ('weather', 31), ('f496d', 1), ('mhtw4fnet\\n\\npakistan', 1), ('ttw', 1), ('http://t.co/bumzvmwam3', 1), ('#skh', 1), ('radio', 2), ('car.', 2), ('@5sos', 1), ('@ashton5sos', 1), ('@luke5sos', 1), ('@calum5sos', 1), ('mh370:', 39), ('intact', 1), ('lifts', 1), ('odds', 1), ('glided', 1), ('sea', 7), ('http://t.co/8pdnhh6tzh', 1), (\"'@jorrynja:\", 1), ('6.', 1), ('@', 9), ('bf/gf/crush', 1), (\"??'\", 1), ('@ter_ell', 1), ('ina', 1), ('buted', 1), ('crush??', 1), ('ron', 1), ('fez', 1), (\"dave's\", 1), ('crush', 1), ('https://t.co/an3w16c8f6', 1), ('sevenfigz', 1), ('crush:', 1), ('http://t.co/20b3pnqxmd', 1), ('crushed', 2), ('http://t.co/crpo9dkw9v', 1), ('diamond', 1), ('piece', 9), ('charcoal', 1), ('handled', 1), ('stress', 1), ('exceptionally', 1), ('well.', 2), ('pressed', 1), ('side', 5), ('crushed.2', 1), ('cor4:8', 1), ('holy', 1), ('moly', 1), ('crushed.', 1), ('commenters', 1), ('saying', 1), ('dothraki', 2), ('westeros...nah', 1), ('bro', 1), ('underestimate', 1), ('ara', 1), ('reporting', 2), ('fighters', 3), ('infiltrated', 1), ('ashrafiyah', 1), ('afrin', 1), ('aim', 6), ('attacks.', 1), ('ypg', 1), ('imposed', 1), ('curfew', 3), ('teenagers', 2), ('violations', 2), ('stolen', 2), ('bicycles:', 1), ('cus...', 1), ('#chicago', 1), ('@emmychappy', 1), (\"o'clock\", 1), ('mom', 3), ('curfew.', 1), ('@scotrail', 1), ('seen', 5), ('blind', 3), ('bloke', 1), ('smoking', 2), (\"cos'its\", 1), ('worth', 3), (\"hassle'\", 1), ('free...from', 1), ('obligations', 1), ('family....', 1), ('damn', 7), ('curfew...', 1), ('ten', 5), ('annual', 4), ('football', 2), ('cyclone', 18), ('hoops', 1), ('recruiting', 1), (\"nuggets'\", 1), ('tropical', 5), ('forming', 1), ('guam.\\n\\nonce', 1), ('formed', 1), (\"'molave'.\", 1), ('@xhnews', 1), ('plants', 1), ('seasons', 1), ('retract', 2), ('false', 6), ('pam', 3), ('http://t.co/tbbobvcotj', 1), ('@wordpressdotcom', 2), ('condition', 2), ('easton', 1), ('softball', 1), ('fastpitch', 1), ('(-9)', 1), ('29/20', 1), ('sk398', 1), ('http://t.co/ra2majpkq2', 1), ('http://t.co/y7ghhyk05b', 1), ('severe', 47), ('bulletin', 3), ('no.', 6), ('5\\nfor:', 1), ('typhoon', 29), ('\\x89ûï#hannaph\\x89û\\x9d', 2), ('(soudelor)\\ntropical', 1), ('cyclone:', 2), ('warning\\n\\nissued', 1), ('5:00', 2), ('06...', 2), ('http://t.co/qhwe5k7xuw', 1), ('derives', 1), ('powers', 1), ('calm', 3), ('center.', 2), (\"person.'\", 1), ('norman', 2), ('vincent', 1), ('peale', 1), ('@roughdeal1', 1), ('ante', 2), ('hudhud', 1), ('chandrababu', 1), ('valle', 1), ('ne', 3), ('ga?', 1), ('komen', 1), ('devastates', 1), ('today:', 4), ('http://t.co/fcujsioyqo', 1), ('#6\\ntropical', 1), ('warning:', 1), (\"'hanna'\", 1), ('\\nissued', 1), ('august...', 1), ('http://t.co/fqv47ob8ge', 1), ('future', 2), ('#vanuatu', 1), ('encouraged', 1), ('traditional', 3), ('ways', 4), ('living:\\nhttp://t.co/afmkcfn1tl', 1), ('http://t.co/6qzxfk2lfs', 1), ('http://t.co/cihc8nrc9h', 1), ('talent:', 1), ('misdirection', 1), ('pass', 3), ('ignite', 1), ('vanishing', 1), ('phantom', 1), ('#kurokobot', 1), ('#comdev', 1), ('#asia:', 1), ('stations', 1), ('#bangladesh', 2), ('broadcasting', 1), ('#programs', 1), ('?to', 1), ('address', 2), ('upcoming', 1), ('#komen', 1), ('http://t.co/iovr4ymlkp', 1), ('imperialism', 1), ('spins', 1), ('globe;', 1), ('militarism', 1), ('crushes', 1), ('peoples', 1), ('sucks', 1), ('http://t.co/n3vbtc6nca', 1), ('1970', 1), ('mercury', 1), ('gt', 1), ('quarter', 2), ('panel', 2), ('d/s', 1), ('rear', 1), ('trim', 1), ('moulding', 1), ('cobra', 1), ('429cj', 1), ('http://t.co/wqul8pg5px', 1), ('http://t.co/4ykxt3kd62', 1), ('[tropical', 1), ('info]', 1), ('soudelor', 18), ('945hpa', 1), ('maximum', 5), ('wind', 18), ('speed:', 2), ('45m/s', 1), ('gust', 2), ('60m/s', 1), ('http://t.co/nbd5ot9iew', 1), ('wfp', 2), ('delivers', 5), ('food', 11), ('165000', 1), ('bangladesh', 1), ('flood', 28), ('komen:', 1), ('dhaka', 1), ('\\x89ûòthe', 1), ('na...', 1), ('http://t.co/fukbbedfgx', 1), ('#rohingya', 6), ('#kyee', 1), ('nockthie', 1), ('hamlet', 1), ('taungbazar', 1), ('buthidaung', 1), ('severely', 1), ('damaged', 8), ('@kasitaroch', 1), ('@vivianunhcr', 1), ('fyi:', 1), ('damage;3460', 1), ('limestone', 1), ('ln;col;yellowstone', 1), ('way;fieldstone', 1), ('dr;08/05/2015', 1), ('19:36:35', 1), ('#ny35', 1), ('ny', 2), ('http://t.co/90l2lb5wmr', 1), ('hey', 3), ('#royals', 1), ('outs.', 1), ('@drothvader', 1), ('@cm_nevalistis', 1), ('please!!!!!', 1), ('arachys\\n', 1), ('[2', 1), ('pieces]', 1), ('deals', 1), ('4000%', 1), ('(up', 2), ('2500%)', 1), ('@bradleybrad47', 1), ('extremely', 2), ('the-', 1), ('@joedawg42', 1), ('tor', 2), ('only.', 1), ('enhanced', 1), ('wording', 1), ('key', 3), ('imo', 1), ('@hfxstanfield', 1), ('@beelievedc', 1), ('@discoverycntr', 1), ('hear', 9), ('runway', 1), ('contractor.', 1), ('trillion', 1), ('crosses', 1), ('3rd', 1), ('field-wide', 1), ('instant', 1), ('inmates', 1), ('calgary', 23), ('remand', 1), ('centre', 8), ('http://t.co/1osmiuxkhw', 1), ('#pt', 1), ('cross-sectarian', 1), ('protest.', 1), ('powerful', 2), ('shia', 1), ('cleric', 2), ('militias', 1), (\"withdraw:'ur\", 1), ('fightin', 1), ('isis', 13), ('uve', 1), ('ur', 6), (\"ppl'\", 1), ('homeowners', 1), ('damage?', 1), ('know.', 2), ('http://t.co/0usdi5jcho', 1), ('http://t.co/xyg7jhrjof', 1), ('beach', 6), ('reported:', 1), ('run-in', 1), ('roadway-property', 1), ('15901', 1), ('statesville', 1), ('#glaucoma', 1), ('occurs', 2), ('fluid', 1), ('builds', 1), ('pressure', 2), ('#eye', 1), ('level', 5), ('optic', 1), ('nerve', 1), ('#eyefacts', 1), ('#jsunnews', 1), ('madison', 2), ('thunderstorm', 34), ('ar...', 1), ('http://t.co/s7nbowa7tp', 1), ('http://t.co/3f7owdecy7)', 1), ('s61.231a', 1), ('puncture', 1), ('wound', 2), ('foreign', 3), ('index', 1), ('finger', 1), ('nail', 1), ('initial', 3), ('encounter', 3), ('#icd10', 1), ('@michaelwestbiz', 1), ('standard', 4), ('@gettinglost', 1), ('@jennellensbb', 1), ('@muncle_jim', 1), ('superficial', 1), ('wounds', 10), ('damage.', 2), ('sign-up', 2), ('open', 3), ('danger', 9), ('release', 4), ('blast', 14), ('tour.', 1), ('here:...', 1), ('http://t.co/hbdo22nqpz', 1), ('dry', 3), ('thunderstorms', 8), ('http://t.co/ugzu9iqprw', 1), ('#weather', 4), ('#cawx', 2), ('@nwsbayarea', 1), ('this?', 2), ('indian', 11), ('govt.', 1), ('concern', 2), ('safety.', 1), ('now.', 6), ('https://t.co/yx1ukbmtqb', 1), ('@bluebirddenver', 1), ('#fettilootch', 1), ('#slanglucci', 1), ('oppressions', 1), ('greatest', 3), ('soon', 3), ('album', 1), ('\\nhttps://t.co/moll5vd8yd', 1), ('yall', 1), ('dehydration', 1), ('danger.', 1), ('http://t.co/a5gnzbusqq', 1), ('honestly', 3), ('modibo', 1), ('maiga', 1), ('fucktard', 1), ('#coyi', 1), ('aircraft', 22), ('crashes:', 1), ('remote', 1), ('http://t.co/ki9ehjhl8y', 1), ('watched', 1), ('emmerdale', 1), ('nd', 4), ('slightly', 2), ('attractive', 1), ('named', 2), ('beat', 2), (\"he's\", 6), ('beforeitsnews', 3), ('hundreds', 33), ('libyan', 1), ('migrant', 6), ('capsizes', 8), ('rescue', 20), ('http://t.co/mjoeebdlxn)', 1), ('http://t.co/fven1ex0ps', 1), ('perspectives', 2), ('dead:', 2), ('critical', 1), ('writings', 1), ('(contributions', 1), ('study', 2), ('http://t.co/fmu0fnumxf', 1), ('http://t.co/aggryhvxkr', 1), ('taiwan', 7), ('http://t.co/bhsuxvq6nf', 1), ('demi', 1), (\"moore's\", 1), ('pool!', 1), ('http://t.co/octnpyueei', 1), ('val', 1), ('suing', 1), ('rep', 1), ('jets.', 1), ('adult', 1), ('plague', 2), ('http://t.co/yohvuwumzs', 1), ('gainesville', 1), ('http://t.co/lma39zrwoy', 1), ('seemeth', 1), ('unto', 1), ('thereof', 1), ('death.', 1), ('@kellkane', 1), ('narrowly', 1), ('averted', 2), ('fun', 2), ('@allahsfinest12', 1), ('...death', 1), ('ted', 1), ('bashes', 1), ('comparison', 2), ('gop', 1), ('iranians', 1), ('shouting', 1), (\"'death\", 1), (\"america'\", 1), ('http://t.co/txetcysm1h', 1), ('#cyprus:', 1), ('analysis:', 1), ('mullah', 1), (\"omar's\", 1), ('split', 1), (\"taliban's\", 1), ('ranks', 1), (\"..omar's\", 1), ('demise', 1), ('certainly', 1), ('lead...', 1), ('http://t.co/ajkmcuswho', 1), ('new:', 1), (\"legionnaires'\", 31), ('disease', 8), ('rises', 5), ('http://t.co/nql21ajmiv', 1), ('#follow', 2), ('(http://t.co/18xq3fmuge)', 1), ('#vaxshill', 1), ('deaths', 28), ('measles', 2), ('complications', 2), ('looses', 2), ('shit.', 3), ('legionnaires', 3), ('month', 4), ('crickets', 2), ('i77', 1), ('south...', 1), ('wreck', 13), ('airlift', 1), ('maybe', 5), ('completely', 2), ('\\x89ûï@lolgop:', 1), ('2.2', 1), ('voter', 1), ('fraud', 1), ('\\nwe', 1), ('laws!\\n\\n83', 1), ('day.', 1), ('\\nwho', 2), ('laws', 1), ('amirite?\\n\\n#vra50\\x89û\\x9d', 1), ('silence.', 1), ('#palermo', 1), ('#shipwreck', 1), ('#children', 1), ('#deaths', 1), ('http://t.co/tm9zbhjcyf', 1), ('bsf', 1), ('jawans', 1), ('fidayeen', 1), ('aks', 1), ('#insas!', 1), ('insas', 1), ('rifles', 1), ('blame', 1), (\"soldiers'\", 1), ('http://t.co/1lk1eqwyuw', 1), ('1/2', 4), ('red-light', 3), ('pedestrians', 2), ('bicyclists', 1), ('occupants', 2), ('runners.', 1), ('@truediagnosis:', 1), ('250k', 1), ('per', 2), ('#physician', 1), ('error:', 1), ('http://t.co/dutyzqr2p7åê', 1), ('them:', 1), ('http://t.co/oznsxxvx\\x89û_', 1), ('#cdcwhistleblower', 1), ('foodborne', 1), ('illness...', 1), ('@frackfreelancs', 1), ('dears...', 1), ('@deccgovuk', 1), ('@frackfree_eu', 1), ('@tarleton_sophie', 1), ('http://t.co/jsccx8k0ja', 1), ('[comment]', 1), ('older', 2), ('data', 6), ('#us?', 1), ('http://t.co/p8yr2po6jn\\n', 1), ('#nghlth', 1), ('http://t.co/xrja0xpl40', 1), ('@eazzy_p', 1), ('govt', 8), ('seemed', 1), ('beliefs', 1), ('warranted', 1), ('innocent', 1), ('japs', 1), ('magic', 2), ('life:\\n\\nwomen', 1), ('ohio', 1), ('focus', 5), ('fbi', 1), ('probe', 3), ('strange', 1), ('http://t.co/6m0ynjwbc9', 1), ('constitute', 1), ('epidemic.', 1), ('http://t.co/jblrrnmdsm', 1), ('#plague', 1), ('#health', 2), ('#publichealth', 1), ('weyburn', 1), ('warn', 1), ('fentanyl', 1), ('province', 1), ('http://t.co/8bqjtp6id5', 1), ('http://t.co/8kjs7zqajs', 1), ('http://t.co/iladqebxpn', 1), ('cancers', 2), ('equate', 2), ('25%', 2), ('#blackpool.', 2), ('\\n\\nkowing', 2), ('signs', 23), ('life:', 2), ('http://t.co/5lnidvobff\\n#beclearoncancer', 1), ('@highqualitybird', 1), ('reverse', 1), ('(lol', 1), ('9/11?)', 1), ('specifically', 1), ('utilized', 1), ('political', 4), ('@mathew_is_angry', 1), ('@z3ke_sk1', 1), ('@saladinahmed', 1), ('trapped', 14), ('risk.', 1), ('fco', 1), ('minister', 5), ('@tobias_ellwood', 1), ('condemns', 1), ('arabia', 6), ('resulted', 4), ('http://t.co/c3w95h0ozz', 1), ('http://t.co/11dvqjvxpo\\n#beclearoncancer', 1), ('critters', 1), ('http://t.co/dxkt2shuj2', 1), ('1940', 1), ('angela', 1), ('sanders', 1), ('born', 2), ('roundhouse', 1), ('kick', 1), ('related', 7), ('increased', 4), ('13000', 3), ('percent.', 1), ('2010', 1), ('beluga', 1), ('#seaworld', 1), ('average', 1), ('age', 1), ('#opseaworld', 1), ('http://t.co/mzk5ujlfcv', 1), ('bigamist', 1), (\"'first'\", 1), (\"'second'\", 1), ('pregnant', 1), ('mothe...', 1), ('http://t.co/rteugb5tnv', 1), ('@mayoroflondon', 1), ('pls', 1), ('compulsory', 1), ('code', 1), ('uses', 1), ('road.', 1), ('#notrocketscience', 1), ('#aerospace', 1), ('#exec', 1), ('mh370', 20), ('wing', 2), ('th...', 4), ('http://t.co/s2wm8lh7oo', 1), ('malaysia', 46), ('airlines', 13), ('flight', 17), ('370', 4), ('disappeared', 2), ('17months', 1), ('http://t.co/nrhurysypd', 1), ('#???', 23), ('http://t.co/mrvxbzywd4', 1), ('discovered', 3), ('http://t.co/7fsn1gewux', 1), ('http://t.co/q1glk8plud', 1), ('confirms', 9), ('washed', 4), ('http://t.co/bmxsndx14g', 1), ('#????', 3), ('http://t.co/hhwv0eudfv', 1), ('jet\\x89ûªs', 1), ('floated', 3), ('rì©union', 7), ('york', 13), ('http://t.co/pnnunrnqja', 1), ('surely', 2), ('http://t.co/gyqlaoz3l2', 1), ('http://t.co/vfbw3nyo9l', 1), ('#mh370.', 3), ('mystery', 1), ('disappearance', 1), ('novel.', 1), ('http://t.co/otsm38xmas', 1), ('[reuters]', 1), ('mh370;', 4), ('relatives', 7), ('discovery', 4), ('http://t.co/dfyasvj7nf', 1), ('nbcnightlynews:', 1), ('malaysian', 8), ('billneelynbc', 1), ('reports:', 2), ('http://t.co/foutpwgfwy', 1), ('#sad', 1), ('#tragedy', 1), ('#innocent', 1), ('#mh370', 4), ('#love', 1), ('#food', 1), ('#fun', 1), ('prime', 4), ('najib', 1), ('razak', 1), ('isla...', 1), ('http://t.co/fk1l4nozig', 1), ('seem', 1), ('france.\\n\\nplane', 1), ('http://t.co/exznmxbinj', 1), ('@billneelynbc', 1), ('http://t.co/r6kzsqdghz', 1), ('http://t.co/zxcorq0a3a', 1), ('comes', 4), ('http://t.co/f75qwyeeec', 1), ('http://t.co/x3rcchkago', 1), ('irony', 1), (\"'reunion\", 1), (\"island'.\", 1), ('abc', 21), ('online', 5), ('http://t.co/c5jutfxbm9', 1), ('http://t.co/6ime8kjacv', 1), ('http://t.co/ba4pusvjln', 1), ('http://t.co/ys3walzvjg', 1), ('#kamindoz', 1), ('http://t.co/xrdwr8cdvm', 1), ('http://t.co/fxtffl4axy', 1), ('belongs', 2), ('http://t.co/jkc0diqvxc', 1), ('site:', 1), ('breakth...', 1), ('http://t.co/mgyvglenks', 1), ('onlinemh370:', 1), ('...abc', 1), ('onlinea', 1), ('http://t.co/1beegwrsis', 1), ('@scmp_news', 1), ('http://t.co/drculiyp0t', 1), ('http://t.co/rlftjmhhvt', 1), ('@reuters', 3), ('#video', 2), ('http://t.co/kxy56fr8vm', 1), ('onlin...', 1), ('http://t.co/n3lndjkyo3', 1), ('g', 2), ('#malaysia', 2), ('interesting:', 1), ('http://t.co/950xijhnvh', 1), ('nation', 3), ('http://t.co/hes0bpu60y', 1), ('@nlm_dimrc:', 1), ('deluge', 5), ('resources', 2), ('#floods', 2), ('providers', 1), ('workers', 2), ('at:', 1), ('http://t.co/auoeyirqe6', 1), ('towboat', 1), ('trek', 1), ('sympathy', 3), ('falls:', 1), ('vtc', 1), ('http://t.co/eaaqumkkc9', 1), ('deluge.', 1), ('surf', 2), ('motion.', 1), ('therapy', 1), ('programme', 1), ('kicked', 1), ('for...', 3), ('http://t.co/vjsaqpxngn', 1), ('perhaps', 1), (\"'historic'\", 2), ('applied', 1), ('exposed', 1), ('#childsexabuse', 1), ('truly', 4), ('scale', 1), ('cover-up', 1), ('search', 8), ('content', 7), ('improve', 1), ('frustrated', 1), (\"'quantit\\x89û_https://t.co/64cymg1ltg\", 1), ('uk', 6), ('canadian', 1), ('themed', 1), ('tops', 2), ('around...the', 1), ('timing', 1), ('perfect.', 1), ('quite', 3), ('mad.', 1), ('#glimpses:', 1), ('hyderabad', 2), ('deluged', 6), ('rainfall', 3), ('http://t.co/dctv1ujlhc', 1), ('http://t.co/qox1jnqsau', 1), ('low', 5), ('self-image?', 2), ('quiz:', 2), ('http://t.co/xspqdoriqj', 1), ('http://t.co/cqyvfr4ucy', 1), ('tarp', 1), ('protecting', 1), ('outfield', 1), ('moved.', 1), ('infield', 1), ('deluged.', 1), ('eu', 1), ('squabble', 1), ('immigration.', 1), ('uk-france', 1), ('eurotunnel', 2), ('migrants.', 1), (\"'thousands\", 2), (\"storm'\", 2), ('http://t.co/vf6cklmcsx', 1), ('invoices.', 1), ('colour', 1), ('shape', 2), (\"pay'\", 1), ('pileq', 1), ('alerts', 2), ('glimpses:', 1), (\"they've\", 3), ('back!!', 1), ('&gt;&gt;', 1), ('flying', 3), ('ant', 1), ('capital', 2), ('swarm', 2), ('winged', 1), ('insects', 1), ('http://t.co/mnkoyz76cp', 1), ('rand', 1), (\"paul's\", 1), ('debate', 1), ('strategy', 5), (\"'demolish\", 1), ('ideas', 1), ('em...', 1), ('http://t.co/qzdqrbr4lh', 1), ('enugu', 5), ('demolish', 4), ('structures', 2), ('international', 3), ('http://t.co/ouylwuixcs', 1), ('abbswinston:', 4), ('#zionist', 4), ('#terrorist', 4), ('jordan', 2), ('http://t.co/rg3bndkxjx\\n\\x89û_', 1), ('http://t.co/bq90pfzmrp', 1), ('#avigdorliberman', 1), ('calls', 5), ('#susiya', 1), ('beheadings!', 1), ('http://t.co/li8otxt8hh', 1), (\"drake's\", 1), ('ghostwriting', 1), ('rihanna', 1), ('door.', 1), ('gamer', 1), ('troll', 1), ('demolished', 9), ('kid', 1), ('toronto', 1), ('mlb', 1), ('#backtoback', 1), ('#chargedup', 1), ('#media420', 1), ('silent', 1), ('#papicongress', 1), ('journo', 1), ('@pragnik', 1), ('\\x89ûï@splottdave:', 1), ('@teampalestina', 1), ('28700', 1), ('1967', 1), ('0', 5), ('#bbsnews', 1), ('#israel', 2), ('palestinians', 1), ('kidnapped', 7), ('bank', 4), ('hebron', 1), ('http://t.co/gne1fw0xhe', 1), ('@stallion150', 1), ('@kbeastx', 1), ('genisys', 1), ('film', 5), ('90%', 2), ('agreed', 3), ('http://t.co/9lpf4v4hmq', 1), ('unrecognized', 1), ('arab', 1), ('http://t.co/ik8m4yi9t4', 1), ('epa', 1), ('begins', 3), ('demolition', 9), ('toxic', 1), ('#buffalo', 3), ('http://t.co/norkxbrs6g', 1), ('saving', 4), ('town:', 1), ('159', 1), ('burton', 1), ('http://t.co/fjddx43ewj', 1), ('@messnermatthew', 1), ('@newcity', 1), ('mistakes', 1), ('#download', 1), ('#watch', 1), ('frog', 1), ('(2002)', 1), ('http://t.co/81neizeknm', 1), ('#movie', 1), ('means', 2), ('progress:', 1), ('flint', 1), ('michigan', 4), ('fate', 1), ('metropolis', 1), ('highsmith', 1), ('https://t.co/zvobmdxhgp', 1), (\"delmont's\", 1), (\"'onion\", 1), (\"house'\", 1), ('purchased', 1), ('plans', 12), ('http://t.co/yojkfqej6s', 1), ('#gop', 2), ('#potus', 1), ('#isis', 5), ('https://t.co/nmgp7imeii', 1), ('kaduna', 2), ('lands\\nhttp://t.co/77ciwxabva\\x89û_t-school-lands/', 1), ('christians', 2), ('detained', 1), ('widespread', 2), ('anger', 1), ('http://t.co/65xr1p9soo', 1), ('here\\x89ûªs', 4), ('caused', 27), ('metro', 8), ('derail', 17), ('d.c.', 4), ('http://t.co/imtygds5qo', 1), ('rail', 8), ('crash:', 14), ('madhya', 17), ('pradesh', 16), ('http://t.co/wgmzmj5imd', 1), ('dr.', 4), ('gridlock:', 1), ('http://t.co/pm2tnnfdww', 1), ('#washingtonpost', 2), ('@temecafreeman', 1), ('gm!', 1), ('enemy', 1), ('destiny', 1), ('lord', 3), ('floods', 32), ('w/heavenly', 1), ('blessings', 1), ('simultaneous', 2), ('#india', 7), ('#mumbai...', 2), ('http://t.co/4kbwpcmmbm', 1), ('http://t.co/fu1btuq1et', 1), (\"tonight's\", 1), ('#gopdebate', 1), ('yeah.', 1), ('dallas', 3), ('http://t.co/ao4ju9vmmf', 1), ('at...', 1), ('smithsonian?', 2), ('http://t.co/wmutcdg36b', 1), ('25', 13), ('kamayani', 1), ('janata', 1), ('pradesh;', 1), ('ex', 3), ('gratia', 1), ('announced', 2), ('http://t.co/6sdtzsgelq', 1), ('dozens', 7), ('http://t.co/zkkn6mse1n', 1), ('http://t.co/fzhjf8bxld', 1), ('http://t.co/b0zwi0qptu', 1), ('21', 2), ('http://t.co/2fs649qdwx', 1), ('indiahttp://www.informationng.com/?p=309943', 1), ('http://t.co/meisnkv5tb', 1), ('sound', 7), ('judgement', 1), ('mpc', 1), ('recovery', 3), ('http://t.co/fvlgu1nayr', 1), ('@ohmygoshi', 1), ('@unsuckdcmetro', 3), ('expect', 10), ('metrobus', 1), ('derailed.', 2), ('happy', 2), ('hurt', 1), ('#wmata', 5), ('much', 13), ('http://t.co/7cehnv3dky', 1), ('@fox5newsdc', 1), ('dc', 1), ('media:', 1), ('tip', 1), ('updates', 5), ('derailed', 22), ('ask', 2), ('change', 7), ('subject!', 1), ('@jozerphine', 1), ('up!', 1), ('smithsonian', 3), ('everythign', 1), ('shut', 6), ('federal', 2), ('sw', 4), ('mcpherson', 1), ('@trustymclusty', 1), ('passengers', 12), ('morning', 8), ('commute', 3), ('fcked.', 1), ('home.', 2), ('crocodile', 1), ('wash', 1), ('gravy', 1), ('#kidscompany', 1), ('http://t.co/bcpmvylsih', 1), ('@epic_insanity', 1), ('grimrail', 1), ('depot...', 1), ('[update]', 1), ('no-passenger', 1), ('derails', 3), ('delays', 3), ('morning:', 1), ('hell\\x89û_', 1), ('http://t.co/blcbabm7a1', 1), ('@stury', 1), ('note', 1), ('morning.', 2), ('whoa', 1), ('acting', 1), ('chief', 3), ('jack', 2), ('requa', 1), ('six-car', 1), ('1000', 2), ('2000', 2), ('cars.', 1), ('#metro', 2), ('blue', 4), ('orange', 2), ('lines', 2), ('reopen.', 1), ('empty', 2), ('passenger', 3), ('~', 14), ('a.m.', 1), ('7000-series.', 1), ('@cqnow', 1), ('breakfast', 1), ('links:', 1), ('home:', 3), ('derailed:', 1), ('suspending', 1), ('ser...', 1), ('http://t.co/id4qgqdnjq', 1), ('eve', 1), ('jon', 1), ('stewart', 1), ('leaving', 5), ('daily', 7), ('show', 5), ('wmata', 1), ('honored', 1), ('letting', 1), ('crippling', 1), ('service.', 1), ('starbs', 1), ('degrees', 3), ('@adamtuss', 1), ('5000', 2), ('chance.', 1), ('wheel', 1), ('climbing', 1), ('re:', 1), ('1/2007', 1), ('mt.', 1), ('vern', 1), ('sq', 1), ('derailment', 17), ('instead', 7), ('relief', 7), ('survivors', 27), ('janta', 1), ('reaches', 3), ('mumbai', 3), ('@firstpostin', 1), ('http://t.co/cznxhutasx', 1), ('@wmata', 1), ('orange/blue', 1), ('dc?', 1), ('avengers', 1), ('mess', 2), ('ya', 1), ('realize', 1), ('already', 6), ('transit', 2), ('closest', 2), ('work??', 1), ('https://t.co/qyx5thkrbh', 1), ('.@unsuckdcmetro', 1), ('half-derailed', 1), ('half-railed?', 1), ('#deepthoughts', 1), ('biker', 3), ('beatdown', 1), ('pro-democracy', 1), ('@nypdnews', 1), ('undercover:', 1), ('http://t.co/ihhrkg4v1s.', 1), ('http://t.co/aryu5qngjj', 1), ('@itsqueenbaby', 1), ('bunch', 1), ('cnn', 3), ('...\\nvideo', 1), ('youtube?...', 1), ('http://t.co/mmiye1k8zz', 1), ('@gerryconnolly', 1), ('@repdonbeyer', 1), ('@timkaine', 1), ('debacle', 1), ('w/derailed', 1), ('non-passenger', 1), ('clearly', 3), ('mgr', 1), ('ceo!', 1), ('@ohyayyyyay', 1), ('saved', 19), ('green', 8), ('resumed', 1), ('earlier', 2), ('garfield', 1), ('residual', 1), ('railway', 3), ('track:', 1), ('blame?:', 1), ('common.', 1), ('http://t.co/jdkqc12tid', 1), ('http://t.co/fctrawjcyl', 1), ('#ndtv', 1), ('\\x89û÷it\\x89ûªs', 2), ('freakiest', 7), ('freak', 9), ('accidents\\x89ûª:', 1), ('\\n\\nmp', 1), ('http://t.co/uhxodsc7wi', 1), ('#teamfollowback', 1), ('#followback', 1), ('#modiministry', 3), ('http://t.co/yvmphd0z9x', 1), ('box', 4), ('alarm', 7), ('61st', 2), ('calumet', 2), ('struck', 5), ('2-1-21.', 1), ('#chicagoscanner', 1), ('consent', 2), ('order', 12), ('underway', 2), ('csx', 3), ('knoxville', 2), ('sentinel', 4), ('http://t.co/giesomgwtr', 1), ('http://t.co/nmfsgkf1za', 2), ('lives:', 3), ('villagers', 3), (\"passengers'\", 3), ('train...', 3), ('lives\\nhttp://t.co/ltyefjdm3a', 1), ('#indiatv', 1), ('http://t.co/0la1aw9uud', 1), ('@greateranglia', 1), ('cow', 2), ('fault', 1), ('fd\\nstill', 1), ('alarm/ems', 1), ('plan', 18), ('\\n', 6), ('el', 7), ('derailment\\ncins/tg', 1), ('@raishimi33', 1), ('sounds', 6), ('applaud', 1), ('prabhu', 4), ('http://t.co/ocxbwgyft8', 1), (\"'it's\", 6), (\"accidents'\", 5), ('express:', 2), ('indi...', 2), ('http://t.co/ildbeje225', 1), ('#indiannews', 2), ('@alvinnelson07', 1), ('withstand', 1), ('collisions!', 1), ('immediate', 1), ('derailment.', 1), ('fucked.', 1), ('http://t.co/4y4ytwhd74', 1), ('suresh', 1), ('harda', 1), ('calamity;', 1), ('feel', 9), ('ignored:', 1), ('regr...', 1), ('http://t.co/q5mlbodvm4', 1), ('twin', 3), ('http://t.co/dnu5hwsxo2', 1), ('mumbai24x7', 1), ('helping', 7), ('hand:', 2), ('ttes', 2), ('charge', 4), ('helpline', 2), ('anxious', 2), ('ind...', 1), ('http://t.co/tuaryijpqu', 1), ('http://t.co/cedcugeuws', 3), ('#topstories', 2), ('http://t.co/sjxllzosw7', 1), ('http://t.co/bagef9lfgt', 1), ('http://t.co/bvxqa3kfrx', 1), ('http://t.co/cuvkf5ykax', 1), ('cottage', 1), ('grove', 2), ('garfield:', 1), ('http://t.co/4d9cd4mnvh', 1), ('http://t.co/unhqcq6bex', 1), ('http://t.co/tl41olpakz', 1), ('http://t.co/yh5vetm0yz', 1), ('http://t.co/17wgug8z0m', 1), ('track', 3), ('bit...', 1), ('@cta', 1), ('@ctafails', 1), ('http://t.co/1udz0nvoeh', 1), ('mp.my', 1), ('deepest', 1), ('condolences', 1), ('loved', 1), ('ones', 4), ('mishap', 1), ('@officeofrg', 1), ('derailment..', 1), ('cta', 2), ('63rd/prairie', 1), ('http://t.co/zz5udilrea', 1), ('http://t.co/xszx9mwxyp', 1), ('http://t.co/b9kuylcxg4', 1), ('mumbaitimes', 1), ('roadworks', 1), ('tube', 3), ('strike', 8), ('disruptive', 1), ('enough', 5), ('walk', 5), ('desolate', 2), ('route', 3), ('tottenham', 1), ('.....', 1), ('law', 4), ('(ib:', 1), ('@sauldale305)', 1), ('(vine', 2), ('@naturalexample)', 1), ('https://t.co/tl29lnu44o', 1), ('agree.', 2), ('destroy', 10), ('desolate.', 2), ('happen', 6), ('swells.', 1), ('https://t.co/twcds433yi', 1), ('unexercised', 1), ('honda', 1), ('run-down', 1), ('neighborhood', 2), ('desolate:', 1), ('psqd', 1), ('@binellithresa', 1), ('ty', 1), ('follow', 2), ('http://t.co/uan05tnksw', 1), ('brutally', 3), ('abused+desolate&amp;lost', 1), ('lovely', 1), ('mum', 2), ('dies..is', 1), ('murder?', 2), ('@bill_roose', 1), ('just...depressing', 1), ('@corleonedaboss', 1), ('risky', 1), ('costly', 1), ('there.', 1), ('weekend:', 1), ('stockholm', 1), ('sweden', 2), ('copperfields', 1), ('http://t.co/6un7xc9sve', 1), ('ep03', 1), ('desolation', 2), ('set.', 1), ('tuned', 3), ('finalise', 1), ('schedule.', 1), ('#alt', 1), ('#electro', 1), ('#rock', 1), ('#comingsoon', 1), ('camping', 1), ('returned', 2), ('song', 2), ('recorded', 1), ('tomorrow.', 1), ('wait!', 1), ('#desolation', 1), ('#theconspiracytheory', 1), ('#newep', 1), ('kurtkamka:', 1), ('desolation.', 1), ('coyotes', 1), ('lizards', 1), ('sun.', 1), ('#phoenix', 4), ('#ariz\\x89û_', 1), ('http://t.co/0z1pvjvdpf', 1), ('redo', 1), ('nails', 2), ('scenes', 1), ('smaug', 1), ('ayyy', 1), ('fotoset:', 1), ('elanorofrohan:', 1), ('10th', 3), ('december', 1), ('carpet', 2), ('zurich', 1), ('premiere', 1), ('desolation...', 1), ('http://t.co/bq3p7n7w06', 1), ('desperation', 1), ('dislocation\\nseparation', 1), ('condemnation\\nrevelation', 1), ('temptation\\nisolation', 1), ('desolation\\nlet', 1), ('fandom', 1), ('anthonys', 1), ('bed', 3), ('everytime', 1), ('asleep.', 1), ('flatliners', 1), ('creativity-balance-longevity', 1), ('truth', 1), ('lucifer', 1), ('https://t.co/wcfpznsn9u', 1), ('super', 2), ('strong', 8), ('magnets', 1), ('everyday', 3), ('objects:', 1), ('http://t.co/btus5jejuy', 1), ('http://t.co/zrtfxluk6r', 1), ('@beyonce', 1), ('@nicolekidman', 1), ('@oprah', 1), ('money', 5), ('grubbing', 1), ('kikes', 1), ('cluei', 1), ('telekinesis.', 1), ('watch.', 1), ('@sarniamakchris', 1), ('@hromadske', 1), ('@kasiadear33', 1), ('silly', 1), ('5/6', 1), ('reg', 1), ('c', 2), ('competitiveness.', 1), ('entire', 6), ('b', 3), ('over-saturated.', 1), ('brockton', 1), ('$12m', 1), ('regc', 1), ('commonwealth', 2), ('ppc', 1), ('(sj', 1), ('gist):', 1), ('148', 1), ('farm', 1), ('produce', 1), ('destroy...', 1), ('http://t.co/dkrgs2awex', 1), ('#streetjamzdotnet', 1), ('https://t.co/mr9kcgpiwm', 1), ('politics', 2), ('preschool', 1), ('attitude:', 1), ('like.', 1), ('hunger', 1), ('world?', 1), ('#everydaynaija', 1), ('flood:', 4), ('http://t.co/nonm8c6l8p', 1), ('kaduna:', 3), ('reportedly', 4), ('ut...', 2), ('http://t.co/bdsgf1cfax', 1), ('@freemurphy', 1), (\"canada's\", 2), ('hitchhiking', 1), ('garbage-bot', 1), ('(destroyed', 1), ('philly)', 1), ('sorely', 1), ('needed.', 1), ('an...', 5), ('http://t.co/kee1tytz15', 1), ('#semasirtalks', 1), ('#abomb', 1), ('destroyd', 1), ('#hiroshima\\x89ûó#bbc', 1), ('#survived', 1), ('http://t.co/dlgnuuuuyn', 1), ('#cnv', 1), ('vigils:', 1), ('http://t.co/jvkyzndtja', 1), ('http://t.co/jixscpmdud', 1), ('@davidvitter', 1), ('david', 2), ('2003', 1), ('prevent', 3), ('ford', 1), ('starts', 3), ('drives', 3), ('tornado!', 1), ('http://t.co/ixjjlp1lvo', 1), ('frontlines', 2), ('human', 10), ('rights', 1), ('abuses', 1), ('fashion.:', 1), ('http://t.co/tydxauuenq', 1), ('#putin', 1), ('decree', 1), ('results', 1), ('tons', 2), ('imported', 2), ('cheese', 2), ('russia-ukraine', 1), ('border.', 1), ('@independent', 1), ('http://t.co/k3pnnktlxh', 1), ('planners', 1), ('singled', 1), ('http://t.co/b5okgpspbh', 1), ('@hassanrouhani', 1), ('doomed', 1), ('invest', 1), (\"iran's\", 1), ('rss:', 1), ('mass', 46), ('illegally', 1), ('http://t.co/r6jdj9kigm', 1), ('un-imaginable', 1), ('destruction.', 1), ('detonate', 8), ('backpack', 1), ('antioch', 2), ('tenn.', 1), ('@tennessean', 1), ('http://t.co/eb74iieiwn', 1), ('apollo', 4), ('ft.', 2), ('m.o.p-', 1), ('http://t.co/omfgv9ma1w', 1), ('(feat.', 1), ('m.o.p.)', 2), ('http://t.co/fllabzgcrc', 1), ('#boulder', 1), ('deputies', 2), ('waiting', 4), ('grenade', 3), ('stearns', 1), ('http://t.co/7cadm3lnko', 1), ('@bldrcosheriff', 1), (\"'younger'\", 1), ('era', 1), ('earlier.', 2), (\"they'll\", 1), ('tonight.', 7), ('@cbsdenver', 1), ('52.214904', 1), ('5.139055', 1), ('please.', 1), ('hilversum', 1), ('800', 1), ('meters', 1), ('surface.', 1), (\"@channelstv:that's\", 1), ('terrorism', 14), ('intel', 1), ('moves', 4), ('(ft.', 1), ('https://t.co/nljvp3vfyz', 1), ('#fiya!', 1), ('@sourmashnumber7', 1), ('@tomfromireland', 1), ('@rfcgeom66', 1), ('@bbctalkback', 1), ('succeed', 1), ('either.', 1), ('detonate&amp;shots', 1), ('missed.', 1), ('#hiphop', 1), ('#indie', 1), ('\\x89ûïdetonate\\x89û\\x9d', 1), ('m.o.p.', 1), ('&lt;a', 1), (\"href='http://t.co/wnowfvcbms...\", 1), ('http://t.co/jxwojxqndc', 1), ('ignition', 5), ('knock', 5), ('(detonation)', 5), ('sensor-senso', 4), ('ks94', 2), ('http://t.co/ihphzckm41', 1), ('http://t.co/wuicdttuhf', 1), ('dorman', 1), ('917-033', 1), ('sensor', 1), ('connector', 2), ('http://t.co/wxces39zte', 1), ('http://t.co/pygkssscfr', 1), ('fits', 1), ('01-06', 1), ('bmw', 1), ('325ci', 1), ('2.5l-l6', 1), ('http://t.co/gbvdnczjou', 1), ('http://t.co/c211hise0r', 1), ('http://t.co/dy1ersdcrh', 1), ('http://t.co/m4cpmxmurk', 1), ('beck/arnley', 1), ('158-0853', 1), ('http://t.co/odmx36wdhm', 1), ('http://t.co/gaheujruju', 1), ('miss', 2), (\"#appy's\", 1), ('detonation', 4), ('myths', 1), ('obscuring', 1), ('month.', 1), ('@salon', 1), ('http://t.co/dlp8kpkt2k', 1), ('fashionable', 1), ('mountaineering', 1), ('electronic', 1), ('water-resistant', 1), ('couples', 1), ('leisure', 1), ('tab\\x89û_', 1), ('http://t.co/7dyoglhmre', 1), ('http://t.co/hkm3rtd4zf', 1), ('hiroshima.\\ntoday', 1), ('bomb.', 3), ('consequences', 1), ('@icrc', 1), ('http://t.co/bkh7z6cwwl', 1), ('currensy', 1), ('talkin', 1), ('talk...', 1), (\"i'd\", 5), ('devastated', 6), ('ghostwriter', 1), ('anybody', 1), ('else....', 1), ('\\x89ûïrichmond', 3), ('mr', 3), ('sitting\\x89û_:', 3), ('jam...', 3), ('http://t.co/y5yhbb0hkf', 1), ('zayn', 2), ('malik', 2), ('perrie', 1), ('edwards', 1), ('engagement:', 1), ('she\\x89ûªs', 1), ('\\x89û÷devastated\\x89ûª', 1), ('http://t.co/gedoxsppl9', 1), ('http://t.co/aczruorytd', 1), ('@un', 1), ('#gujaratriot', 1), ('#mumbairiot92-93', 1), ('1000&amp;1000', 1), ('indianperpetrated', 1), ('#modi', 1), ('#chawalchorbjp', 1), ('@un_women', 1), ('@unnewsteam', 1), ('(#losdelsonido)', 2), ('declares', 26), ('typhoon-devastated', 25), ('saipan:', 22), ('declaration', 19), ('ma...', 3), ('(#ivanberroa)', 2), ('president', 7), ('barack', 2), ('declared', 3), ('of...', 1), ('http://t.co/4k8olzv9bv', 1), ('saipan', 3), ('http://t.co/9nyxjndora', 1), ('marians', 14), ('http://t.co/jcszcjihlh', 1), ('http://t.co/shkimonmlw', 1), ('http://t.co/1i19cuov7l', 1), ('http://t.co/dialta6t69', 1), ('http://t.co/u8ykr63b1g', 1), ('http://t.co/a1moejxqya', 1), ('abcnews', 2), ('northern...', 2), ('http://t.co/mg5eajelul', 2), (\"'er\", 1), ('indoors', 2), ('devastated.', 1), ('rip', 1), ('arfur.', 1), ('#georgecole', 1), ('@argentings', 1), ('aaaaaaallll', 1), ('i\\x89ûªm', 2), ('season', 4), ('http://t.co/m6lvkxl9ii', 1), ('http://t.co/xdt4vhfn7b', 1), ('@wesleylowery', 1), ('devastation?', 1), ('utter', 2), ('shock', 1), ('devastation', 24), ('feeling', 4), ('fragile', 1), ('alternatives', 1), ('https://t.co/zwvyisyp2b', 1), ('kalmikya', 1), ('astrakhan', 1), ('volgagrad', 1), ('dagestan', 1), ('locusts\\n\\n', 1), ('http://t.co/79fw9zwxtp', 1), ('@timeworld', 1), ('struggles', 12), ('past:', 11), ('wrought', 13), ('b...', 10), ('http://t.co/pms4pmur0q', 1), ('http://t.co/iqowzgvznl', 1), ('#latestnews', 1), ('#cnbc', 1), ('#cnn\\n\\nthe', 1), ('c\\x89û_', 1), ('http://t.co/ohndh2ri0v', 1), ('http://t.co/itbj6dkrzi', 1), ('@cllrraymogford', 1), ('indeed', 1), ('ray', 1), ('comprehensive', 1), ('wartime', 1), ('wroug...', 1), ('http://t.co/efsa6pbemc', 1), ('http://t.co/ag65u29sgo', 1), ('classic', 2), ('www', 1), ('hiroshima/nagasaki:', 1), ('hidden', 1), ('decades:', 1), ('http://t.co/plo2qkrwhu', 1), ('http://t.co/ltvvpflsg8', 1), ('#hungerarticles:', 1), ('nepal:', 1), ('rebuilding', 1), ('livelihoods', 1), ('quake', 1), ('http://t.co/lrouwjmbix', 1), ('http://t.co/5wfxbaqmbk', 1), ('the\\x89û_', 3), ('http://t.co/1erd2fpryp', 1), ('@pam_palmater', 1), ('agree', 3), ('@perrybellegarde', 1), ('vote.', 1), ('@pmharper', 2), ('#firstnations', 1), ('#idlenomore', 1), ('#cndpoli', 1), ('#yyj', 1), ('http://t.co/bs6xaqhsim', 1), ('#thorium', 1), ('weapons.', 5), ('scandals', 1), ('murders', 2), ('environmental', 1), ('devastation:', 1), ('http://t.co/mly7sdn6ev', 1), ('http://t.co/o6aa0nwlha', 1), ('http://t.co/targ56igbz', 1), ('subject', 3), ('bombing?', 1), ('hint-devastation.', 1), ('#beyondthebomb', 1), ('http://t.co/3nkculgvmw', 1), ('$10m', 1), ('settlement', 3), ('attained', 1), ('illustrations', 1), ('jurors', 2), ('understand', 3), ('internal', 1), ('injuries:', 1), ('http://t.co/2baxg1wdpp', 1), ('http://t.co/vfctrzaok2', 1), ('#newyear', 1), ('come...', 1), ('http://t.co/yuo7jdnijx', 1), ('2006.', 1), ('incredible', 4), ('place.', 1), ('model', 1), ('http://t.co/gid6jqn8ug', 1), ('charts', 1), ('risk', 5), ('terms', 2), ('devastation\\x89û_', 1), ('pandemic', 1), ('http://t.co/nbcvbso9nm', 1), ('urgent', 2), ('http://t.co/5cm0lfzhxn', 1), ('#jakartapost', 1), (\"å¬'only\", 1), ('knows', 1), (\"dead'\", 1), ('@msf_sea', 1), ('#mediterranean', 1), ('turned', 4), ('massgrave', 1), ('http://t.co/m0utldif77', 1), ('@tim_a_roberts', 1), ('w/o', 1), ('giving', 4), ('nana', 1), ('iraq.', 2), ('restlessness', 1), ('leading', 5), ('strengthening', 2), ('partnerships', 1), ('#afterhaiyan', 1), ('http://t.co/ga14egplw9', 1), ('#haiyan', 1), ('#yolandaph', 1), ('#philippines', 3), ('#livelihood', 1), ('#disasterrecovery', 1), ('cw500:', 1), ('dealing', 1), ('http://t.co/jq9nj6gko3', 1), ('bell', 2), ('return', 8), ('listeria', 1), ('disaster...', 1), ('#theneeds', 1), ('#recipes', 1), ('http://t.co/f56v61ampt', 1), ('jeff', 1), ('locke.', 1), ('wreck.', 1), (\"f'in\", 1), ('disaster.', 3), ('fortunately', 1), ('pirates', 1), ('acquired', 1), ('quality', 1), ('starter', 2), ('j.a...', 1), ('wait.', 2), ('#blowltan', 1), ('#metepec', 1), ('#mexico', 1), ('?night', 1), ('disaster?...e(oficial)', 1), ('#nitclub', 1), ('#mì¼sica', 2), ('http://t.co/wtfjf9jjzs', 1), ('averted:', 2), (\"'hoax\", 2), (\"device'\", 2), ('cinema', 6), ('http://t.co/tdhn9zy0er', 1), ('#foxnews', 1), ('tv:', 1), ('vitaly', 1), ('churkin', 1), ('briliantly', 1), ('exposes', 1), ('hypocrisy', 1), (\"ukraine's\", 1), ('fm', 1), ('klimkin', 1), ('mh17', 1), ('http://t.co/tt4kvmvujq', 1), ('illinois', 2), ('slipped', 2), ('radar', 4), ('http://t.co/zhgu8ye1bj', 1), ('insurer', 3), ('lack', 6), ('http://t.co/sdgoutwntb', 2), ('@smh', 3), ('@gurmeetramrahim', 1), ('#msgdoing111welfareworks', 1), ('welfare', 2), ('force', 6), ('ke', 2), ('appx', 1), ('65000', 1), ('har', 1), ('ki', 1), ('liye', 1), ('tyar', 1), ('hai....', 1), ('askin', 1), ('means\\nnot', 1), ('answers\\nplus', 1), ('thing\\nthis', 1), ('http://t.co/94sxki7kvx', 1), ('#myanmar', 5), ('#sittwe', 5), ('http://t.co/cgf61fpmr0', 2), ('#prison', 3), ('conditions', 5), ('#genocide', 3), ('ihhen', 2), ('msf', 3), ('refugees', 20), ('boarding', 1), ('windows', 1), ('galleria', 1), ('apts.', 1), ('55', 2), ('am.', 2), ('http://t.co/nmpn2mqzge', 1), ('.potus', 4), ('#strategicpatience', 4), ('#genocide;', 4), ('refugees;', 4), ('idp', 4), ('internally', 8), ('people;', 5), ('horror;', 4), ('https://t.co/8owc41fmbr', 1), ('300000', 1), ('1200000', 1), ('11000000', 1), ('#syria', 2), ('visit', 4), ('http://t.co/prci76howu', 1), ('#us', 3), ('http://t.co/rtcufag0au', 1), (\"'s\", 3), ('http://t.co/gsa4o1mjnm', 1), ('prison-like', 1), ('conditionsprivation', 1), ('http://t.co/i5ma6ewuwc', 1), ('12news:', 2), ('fired', 4), ('housed', 2), ('90th', 2), ('osborn.', 2), ('extinguished', 2), ('i\\x89û_', 3), ('@i_amtalia', 1), ('@sgc72', 1), ('displaced/injured/killed', 1), ('opportunity', 1), (\"restaurants!'\", 1), ('philippines', 4), ('protect', 3), ('expert', 4), ('http://t.co/xlzwtzgqtc', 1), ('180', 2), ('reliefweb', 1), ('http://t.co/0abgfglh7x', 1), ('9000', 2), ('photographs', 1), (\"1800's\", 1), ('mandate', 1), ('palestine', 2), ('trace', 1), (\"'palestinians'\", 1), ('http://t.co/x8i0mhyrmn', 1), ('https://t.co/rqwuoy1fm4', 3), ('historic', 1), ('asia', 2), ('leaves', 2), ('millions', 5), ('displaced:', 1), ('http://t.co/4roisyxjlw', 1), ('http://t.co/3r8qozjt7t', 1), ('angry', 7), ('openly', 1), ('accuses', 1), ('nema', 3), ('materials', 2), ('meant', 1), ('idps:', 1), ('wom...', 1), ('http://t.co/teq7sri57p', 1), ('http://t.co/qegmrhsms2', 1), ('@ihhen', 1), ('@msf', 1), ('@refugees', 1), ('diplomat', 1), ('http://t.co/v0yrfh9dkc', 1), ('township', 7), ('http://t.co/uelz59wvom', 1), ('pennlive', 1), ('mechanicsburg', 1), ('http://t.co/ohyd7hhcpe', 1), ('killed/displaced', 1), ('systematic', 1), ('torture', 1), ('carried', 2), ('out.', 7), ('look.', 1), ('grahamwp', 1), ('gun!', 1), ('arrest', 3), ('him!', 3), (\"'@phelimkine:\", 1), ('http://t.co/8go68kje4b', 1), (\"http://t.co/0krw1zyahm'\", 1), (\"billboard's\", 1), ('chart', 1), ('social-media-driven', 1), ('charts?', 1), ('http://t.co/wvlah8jrxe', 1), ('stories.', 1), ('suffering.', 1), ('#displaced', 1), ('#refugeesmatter', 1), ('https://t.co/oez7o9ab2c', 1), ('elem', 2), ('pomo', 2), ('consider!\\nelem', 2), ('http://t.co/dydfvz7amj', 2), ('@gofundme', 2), (\"#nevada's\", 1), ('\\x89û÷exceptional\\x89ûª', 1), ('#drought', 5), ('steady', 1), ('~11%;', 1), ('#nv', 2), ('drought:', 3), ('http://t.co/nyo1xuebfa', 1), ('@droughtgov', 1), ('http://t.co/w0a1mjorhy', 1), ('hurricane', 22), ('http://t.co/8jvqi9uspl', 1), ('drought.', 3), ('http://t.co/fe9hivfmxq', 1), ('affect', 2), ('you?', 1), ('extreme', 4), ('weather:', 2), ('dampen', 1), ('economy?', 1), ('http://t.co/fdzzumyw8i', 1), ('llf', 2), ('talk', 3), ('http://t.co/oqeq4uegf8', 1), ('http://t.co/vymnrnsthg:', 1), ('http://t.co/1mvsqg0xke', 1), ('w--=-=-=-[', 1), ('nigerians', 1), ('http://t.co/5uoophsqu3', 1), ('#makewaterwork', 1), ('okanagan!', 1), ('rating', 2), ('maxed', 1), ('okanagan', 3), ('http://t.co/txrbdaubnn', 1), ('http://t.co/ue78c7egox', 1), ('#westerncanadadrought', 1), ('links', 1), ('http://t.co/jevrcwudpm', 1), ('relentless:', 1), ('91å¡f', 1), ('humidity', 1), ('55%', 1), ('+\\nrelentless', 1), ('too:', 1), ('dominicana.', 1), ('places.', 1), ('treasures', 1), ('revealed', 1), ('drains', 1), ('lakes', 1), ('http://t.co/kah1kmtrj7', 1), ('issued', 17), ('(columbia', 1), ('trib)', 1), ('suspended', 1), ('sep', 1), ('http://t.co/r4yzhxk7lw', 1), ('it\\x89ûªs', 2), ('drought.check', 1), ('#cloud', 1), ('#iot', 1), ('conserve', 1), ('http://t.co/nnv3zwvant', 1), ('blog:', 1), ('worsen:', 1), ('charlotte', 2), ('surrounding', 2), ('have\\x89û_', 2), ('http://t.co/olzavtjfkh', 1), ('#weed', 1), ('making', 7), ('monitor', 1), ('http://t.co/2sz7okjrxi', 1), ('#droughtmonitor:', 1), ('moderate', 2), ('~27%', 1), ('contig', 1), ('usa;', 1), ('affects', 1), ('~80m', 1), ('http://t.co/ybe9jqoznr', 1), ('http://t.co/328szfletz', 1), ('neat', 1), ('website', 1), ('https://t.co/uaodoquda1', 1), ('issue?', 1), ('attitude', 1), ('californians', 1), (\"africa's\", 1), ('sahel', 1), ('desert', 3), ('finding', 1), ('chore.', 1), ('http://t.co/ysg9vsrt4g', 1), ('that\\x89û_', 1), ('meets', 2), ('drought-fueled', 1), ('crews..', 1), ('articles:', 3), ('http://t.co/rkdzb0tgc3', 1), ('spreading', 2), ('rapidly', 2), ('ga.', 1), ('#macon', 1), ('#warnerrobins', 1), ('#dublin', 1), ('#milledgeville', 1), ('#gawx', 2), ('http://t.co/phnez60cwe', 1), ('@_ashj?', 1), ('http://t.co/v4br5gjmiy', 1), ('@_gaabyx', 1), ('activist', 1), ('happily', 1), ('mydrought', 1), ('project', 2), ('bringing', 3), ('water\\x89û_', 1), ('https://t.co/2zvhx41i9v', 1), (\"'california's\", 1), ('http://t.co/mkqsvp8e0g', 1), ('http://t.co/ml8irhwg7o', 1), ('.@karijobe', 1), ('band', 1), ('loud', 10), ('drown', 4), ('tambourine', 1), ('me.....', 1), ('@codycarnes', 1), ('@ag_usa', 1), ('demons', 1), ('swim', 1), ('jonesboro', 1), ('school.', 1), ('caution', 1), ('drown!', 1), ('drowned', 12), ('child?!', 1), ('http://t.co/7s1gfnebgt', 1), ('sadly', 3), ('ursula', 1), ('drool', 1), ('protoshoggoth', 1), ('sort', 1), ('loved.', 1), ('#dw', 1), ('libya:', 2), ('migrants', 38), ('are\\x89û_', 1), ('http://t.co/vox99fwkcx', 1), ('@dw_english', 1), ('http://t.co/cubc0nq6fd', 1), ('#ufo4ublogeurope', 1), ('#libya', 2), ('http://t.co/t4pv0nroov', 1), ('http://t.co/pseylyzck4', 1), ('visting', 1), ('georgina', 1), ('rat', 1), ('cafe.....awful', 1), ('view!!', 1), ('http://t.co/pylfb3ti9u', 1), ('room', 6), ('fetch', 1), ('pyjamas', 1), ('http://t.co/k9asktwxfl', 1), ('swam', 1), ('drowned.', 1), ('bottom', 2), ('bounced', 1), ('twice', 2), ('suffice', 1), ('different.', 1), ('bands', 1), ('together', 2), ('memorial', 3), ('http://t.co/tilgurkv7z', 1), ('mediterranean', 8), ('asylum', 2), ('seeker', 1), ('http://t.co/zsykzj2bzg', 1), ('????????????', 1), ('125', 1), ('dollars', 1), ('#alameda', 1), ('.....now', 1), ('#coke', 1), ('http://t.co/ppji1tcnml', 1), ('calais\\x89û_', 1), ('http://t.co/py4mtw5xpm', 1), ('grace:', 3), ('bicycles', 1), ('fences', 1), ('trees', 7), ('fly', 2), ('idiots', 1), ('drowning', 8), ('swollen', 1), ('rivers...', 1), ('london', 6), ('iiii', 1), ('riveeeeeer', 1), (\"'drowning'\", 1), ('acrylic', 1), ('08.05.15', 1), ('https://t.co/x17fubqbgg', 1), ('@_jeesss_', 1), ('@ethereal_7', 1), ('hello', 2), ('911', 2), ('medic', 1), ('http://t.co/7giglwdmhy', 1), ('@heyimbeeyt', 1), ('skin', 1), ('within', 3), ('sweat...fyi', 1), ('http://t.co/9y0paj8sxd', 1), ('mourns', 1), (\"'superhero'\", 1), ('rare', 3), ('epilepsy', 1), ('tribune', 2), ('http://t.co/oldjsowky5', 1), ('@nigeltanner1', 1), ('here.', 1), ('newly', 1), ('planted', 2), ('maple', 1), ('drowning.', 1), ('saves', 1), ('autistic', 2), ('brother', 4), ('drowning:', 1), ('nine-year-old', 1), ('maine', 1), ('dove', 1), ('pool', 2), ('sods', 1), ('arriving', 2), ('amman', 1), (\"yesterday's\", 1), ('dust', 23), ('diverted', 1), ('gurion', 1), ('airport:', 1), ('http://t.co/jkpjpch9i6', 1), ('kids', 8), ('disappear', 2), ('atmospheric', 2), ('aussie', 2), ('thriller', 2), ('http://t.co/0mnpcer9no', 1), ('@newz_sacramento', 2), ('modis', 1), ('image:', 1), ('morocco', 1), ('straits', 1), ('gibraltar', 1), ('http://t.co/qwqnni7vmz', 1), ('#duststorm', 1), ('totoooooo!', 1), (\"totoooooooooo!\\n'@historicalmages:\", 1), ('stratford', 1), ('18th', 1), ('april', 1), ('1935.', 1), (\"http://t.co/4awc16uuwb'\", 1), ('weakening', 2), ('se', 4), ('lubbock', 2), ('outflow', 2), ('boundary', 2), ('create', 4), ('gusts', 5), ('http://t.co/pw3tzu0tay', 1), ('answer', 2), ('friend', 4), ('blowing', 3), (\"wind-it's\", 1), ('yelling!', 1), ('-how', 1), ('http://t.co/9nwajli9cr', 2), ('http://t.co/tkmotaeaco', 1), ('http://t.co/tpoaprjudp', 1), ('http://t.co/0yl3yt4ylh', 1), (\"'en\", 1), (\"route'\", 1), ('alice', 1), ('uluru', 1), ('http://t.co/4ilt6fxu45', 1), ('@retiredfilth', 1), ('woke', 2), ('storm..like', 1), ('unreal.', 1), ('brewing', 1), ('dark', 1), ('clouds', 2), ('thunder', 18), ('dust.', 1), ('interesting.', 1), ('i-90', 1), ('vantage:', 1), ('backups', 1), ('eastbound', 2), ('visibility', 1), ('bridge.', 1), ('day!!!', 1), ('geyser', 1), ('plus', 4), ('storm!', 1), ('http://t.co/l5vaklr59m', 1), ('riyadh', 2), ('....', 2), ('headed', 5), ('idaho', 1), ('falls', 5), ('winds', 9), ('mph.', 4), ('i15', 1), ('#idwx', 1), ('http://t.co/0cr74m1uxm', 1), ('storm.', 7), ('http://t.co/sruj5zljgl', 1), ('learned', 1), ('economics', 1), ('dakota', 1), ('college.', 1), ('-hubert', 1), ('humphrey', 1), ('raw', 2), ('rolls', 2), ('http://t.co/qllkofdyzx', 1), ('http://t.co/rgjjumnnah', 1), ('wind:', 1), ('@82ndabndiv', 1), ('paratroopers', 1), ('move', 9), ('loading', 1), ('zone', 7), ('fury:', 1), ('http://t.co/ugesklcn8m', 1), ('wall', 7), ('noise', 1), ('dust?', 1), ('60mph?', 1), ('away!', 1), ('http://t.co/j4ni4n0yfz', 1), ('@deadlydemi', 1), ('staying', 1), ('barrier', 2), ('tìüp', 1), ('passing', 1), ('fest?', 1), ('goggles', 1), ('circle', 1), ('pit', 2), ('http://t.co/ka1hbjlqvw', 1), ('#sismo', 9), ('1.4', 1), ('4km', 1), ('interlaken', 1), ('california:', 8), ('time2015-08-06', 9), ('00:52:25', 1), ('utc2015-08-05', 11), ('17:52:25', 1), ('-07...', 1), ('http://t.co/wa5c77f8vq', 1), ('1.43', 1), ('earthquake', 25), ('helens', 1), ('09:36', 1), ('utc!', 3), ('http://t.co/2xmdidgpnr', 1), ('contruction', 2), ('upgrading', 2), ('ferries', 2), ('standards', 2), ('vashon', 2), ('mukilteo', 1), ('q13', 1), ('http://t.co/e981dgskab', 1), ('#earthquakenews', 1), ('#3novices', 1), ('renison', 2), ('seismic', 14), ('http://t.co/2i4eoggo5j', 1), (\"tasmania's\", 2), ('tin', 1), ('created', 3), ('tem\\x89û_', 1), ('2.0', 1), ('sicily', 4), ('#iphone', 3), ('users', 5), ('download', 3), ('app', 6), ('information', 7), ('http://t.co/v3azwoamzk', 3), ('usgs', 6), ('eq:', 4), ('1.2', 2), ('23km', 2), ('twentynine', 2), ('time2015-08-05', 3), ('23:54:09', 2), ('16:...', 1), ('http://t.co/t97jmbzobo', 1), ('aftershocks', 1), ('earthquake.~', 1), ('http://t.co/hkbpqdncba', 1), ('ml', 1), ('2.4', 1), ('coast', 11), ('magnitudeåêåêml', 1), ('2.4regionåêåênear', 1), ('turkey...', 1), ('http://t.co/0wdazlcm90', 1), ('#cs', 1), ('0.6', 1), ('8km', 1), ('ssw', 2), ('anza', 2), ('01:26:24', 1), ('18:26:24', 1), ('-07:0...', 2), ('http://t.co/3bwwnlsxhb', 1), ('1.9', 8), ('15km', 3), ('anchorage', 4), ('alaska', 1), ('00:11', 1), ('#anchorage', 1), ('http://t.co/qfyy5azifx', 1), ('raffi_rc:', 1), ('sustainourearth:', 1), ('oklahoma', 9), ('limit', 2), ('oil', 44), ('wells', 1), ('scoopit', 1), ('http://t.co/yru4nphdrf', 1), ('loving', 3), ('thi\\x89û_', 1), ('#usgs', 4), ('0.9', 1), ('01:50:25', 2), ('utc2015-08-06', 1), ('utc', 3), ('epicenter...', 2), ('http://t.co/mbo6oaniqi', 1), ('#earthtwerk', 1), ('#scseestapreparando', 1), ('light', 6), ('mag.', 1), ('4.4', 1), ('73km', 1), ('khuzdar', 1), ('wednes...', 1), ('http://t.co/i6lmccclv5', 1), ('@volcanodiscover', 1), ('16:54:09', 1), ('http://t.co/kf0qybkzol', 1), ('#sm', 2), ('nepal', 2), ('on:', 1), ('abuse', 2), ('https://t.co/icttz0divr', 1), ('@@loupascale', 1), ('m1.94', 4), ('5km', 8), ('volcano', 20), ('hawaii', 4), ('8/6/15', 2), ('1:04:01', 2), ('http://t.co/njd28pg9xv', 2), ('#quake', 2), ('gns', 1), ('unnecessary', 1), ('resulting', 1), ('legislation', 1), ('http://t.co/4ryzmzsgdw', 1), ('($)', 1), (\"'there\", 2), ('emily', 1), ('rossum', 2), (\"fine'\", 2), ('#difficultpeople', 1), ('alaska:', 2), ('00:11:16', 2), ('16:11:16', 2), ('-08:0...', 1), ('http://t.co/ojq0kfg5ub', 1), ('-08:00', 1), ('http://t.co/z0ver1hvm9', 1), ('mukilteo:', 1), ('upgrades', 1), ('vulnera...', 1), ('http://t.co/au5jwgt0ar', 1), ('m1.57', 1), ('[01:11', 1), ('utc]?3km', 1), ('nnw', 2), ('henshaw', 1), ('http://t.co/f9kqksosw3', 1), ('atm', 1), ('@darchambau', 1), ('thx', 3), ('encouragement', 1), ('http://t.co/cybksxhf7d', 3), ('apocalyptic', 2), ('tsunami', 12), ('(emsc):', 1), ('2.9', 1), ('http://t.co/6aimd1uway', 1), ('http://t.co/9cgbjwmhii', 1), ('emmy', 1), ('sure', 5), ('#megaquake', 1), ('sense', 4), ('panic', 3), ('is:', 1), ('change?', 1), ('http://t.co/9f3rdn9n3d', 1), ('3.4', 1), ('96km', 1), ('brenas', 1), ('puerto', 1), ('rico:', 1), ('10:34:24', 1), ('06:34:24', 1), ('-04:00', 1), ('at\\x89û_', 3), ('http://t.co/sdzrrfzhmy', 1), ('scared', 5), ('seattle', 2), ('predicted', 4), ('beard', 2), ('any1', 1), ('prison?', 1), ('hideous', 1), ('electrocute', 1), ('\\n#uglypeople', 1), ('#pakistan#news#', 2), ('pakpattan', 1), ('electrocuted', 13), ('correspondent', 2), ('pakpattan:', 1), ('electrocuted...', 1), ('http://t.co/frpbnhvpyi', 1), ('khulna', 1), ('http://t.co/3enyndxppm', 1), ('https://t.co/gqpi7jmkan', 1), ('factory', 2), ('worker', 1), ('pays', 1), ('$17000', 1), ('penalty', 1), ('#columbus', 1), ('http://t.co/n8ezfctfce', 1), ('talking', 4), ('#rowysolouisville', 1), ('http://t.co/hxvfmouhdm', 1), ('barn', 1), ('shot!', 1), ('stung', 1), ('stepped', 1), ('http://t.co/x6asgrjswc', 1), ('mt', 4), ('@earths_voice', 1), ('#tigers', 1), ('#china', 2), ('appalling:', 1), ('businessmen', 1), ('eaten', 1), ('http://t.co/jlwhaowfqa', 1), ('#saveti...', 1), ('blow', 3), ('drying', 1), ('hair', 1), ('cable', 1), ('realized.', 1), ('sockets?', 1), ('wondering', 2), ('survived', 12), ('childhood.', 1), ('zotar(50', 1), ('skeleton', 1), ('alchemist)', 1), ('atamathon', 1), ('golem', 2), ('graveyard', 1), ('1.\\nhttp://t.co/gpwrc1kz5i', 1), ('nankana', 2), ('sahib', 1), ('sahib:', 1), ('electr...', 1), ('http://t.co/werk9qibvv', 1), ('#mumbailocals', 1), ('definitely', 2), ('lesson..', 1), ('learn!!', 1), ('#lessonforlife', 1), ('#marinelines', 1), ('worked', 1), ('pressing', 1), ('designs', 1), ('t-shirts', 1), ('\\nd/t', 1), ('faulty', 1), ('ground.', 1), ('boss', 1), ('docked', 1), ('pay', 1), ('er', 2), ('#worstsummerjob', 1), ('campus', 2), ('http://t.co/ryah8fni5q', 1), ('survival', 3), ('kit', 3), ('whistle', 1), ('cree', 3), ('torch', 1), ('blanket', 1), ('knife', 1), ('re\\x89û_', 2), ('http://t.co/cm7hqwwulz', 1), ('http://t.co/kdwazhqtov', 1), ('flow', 1), ('http://t.co/lh9mrypdrj', 1), ('mp3', 1), ('http://t.co/pqhuthss3i', 1), ('rar', 1), ('http://t.co/0iw6drf5x9', 1), ('alaska\\x89ûªs', 1), ('prince', 2), ('wales', 1), ('#archipelagowolves', 1), ('nearing', 1), ('#extinction.', 1), ('protection!', 1), ('#standforwolves', 1), ('http://t.co/hbwoivjqkd', 1), ('kuwait', 2), ('diverts', 1), ('declaring', 1), ('http://t.co/5aiexcbkfq', 1), ('indiana', 1), ('reopening', 2), ('i-65', 2), ('lafayette', 1), ('repairs', 2), ('hours.', 1), ('sf', 1), ('asian', 2), ('(415)', 1), ('751-0880.', 1), ('shelter/support', 1), ('non-english', 1), ('speaking', 2), ('children.', 1), ('floods:', 3), ('childfund', 1), ('https://t.co/pqhq4jnztt\\n', 1), ('https://t.co/fx0w2sq05f', 1), ('aust', 1), ('@careemergencies', 1), ('appeals', 1), ('aul', 1), ('dental', 2), (\"appointment'\", 1), ('excuse', 1), ('tooth', 1), (\"'peacetime\", 1), (\"emergency.'\", 1), ('former', 12), ('heroin', 1), ('addict', 1), ('shares', 1), ('alarm:', 4), ('teams', 3), ('responded', 3), ('http://t.co/gzxipmoknb', 1), ('mine..enjoy..#fire', 1), ('#firemen', 1), ('#firetruck', 1), ('#emergency', 3), ('#rescue', 1), ('#911', 1), ('#summertime', 1), ('#sirens\\x89û_', 1), ('http://t.co/hcyajsacfj', 1), ('denali', 1), ('wolf', 1), ('declined', 2), ('143', 1), ('2007', 1), ('48', 2), ('2015.', 2), ('reinstate', 1), ('buffer', 1), ('#protectdenaliwolves', 1), ('@alaska', 1), ('@adndotcom', 1), ('@chowtaxis', 1), ('newport', 1), ('jackie', 1), ('bristol', 1), ('messages', 1), ('appreciated', 1), ('odai', 1), ('bucharest', 1), ('romania', 1), ('600', 11), ('dying!they', 1), ('hungry', 1), ('eat', 1), ('other!', 1), ('http://t.co/pjigxpvpl0', 1), ('dec.', 1), ('http://t.co/dywwnbbyvj', 1), ('h20', 1), ('transport.', 1), ('deploy', 1), ('troops?', 1), ('poconorecord', 1), ('@emergencymgtmag', 1), ('households', 1), ('plan?', 1), ('http://t.co/7zlsumiess', 1), ('http://t.co/tdcch01n7q', 1), ('builder', 1), ('emergency.', 3), ('ruined', 1), ('emotionally', 2), ('blackmail', 1), ('bump.', 1), ('\\n\\ncity', 1), ('activated', 3), ('municipal', 10), ('plan\\n\\nthe', 1), ('emergency...', 1), ('http://t.co/ha5boppejy', 1), ('.@cityofcalgary', 1), ('activates', 4), ('http://t.co/pc7s8nxj6q', 1), ('#yyc', 9), ('#abstorm', 9), ('http://t.co/9xohmmlmdy', 1), ('http://t.co/iys9xwpvmk', 1), ('plan.', 2), ('primarily', 1), ('311', 1), ('http://t.co/ch6e7vtatr', 1), ('660', 1), ('http://t.co/kfbjvjivqb', 1), ('http://t.co/bn7xpzqdm0', 1), ('calgary!!', 1), ('important', 1), ('news!!', 1), ('advised!!!', 1), ('http://t.co/arktj9qn4s', 1), ('b/c', 1), ('costs', 4), ('sick', 7), ('rooms?...grrrr....', 1), ('http://t.co/vfbbchwrfd', 1), ('\\x89ûï@based_georgie:', 1), ('yo', 2), ('forreal', 1), ('incase', 1), ('becomes', 2), ('president\\x89û\\x9d\\nwhipe', 1), ('lil', 1), ('baby', 9), ('#biztip', 1), ('recommend', 1), ('alternative', 1), ('electricity.', 1), ('#solar', 3), ('batteries.', 1), ('plan!', 1), (\"body's\", 1), (\"'go\", 1), ('sleep', 2), (\"sami'\", 1), (\"mind's\", 1), (\"'make\", 1), (\"go'\", 1), ('senators', 1), ('housing:', 1), ('boxer', 1), ('feinstein', 2), ('#homeless', 1), ('vets', 2), ('va', 3), ('http://t.co/gm80x3vutf', 1), ('#cochrane.', 1), ('@cityofcalgary', 1), ('enacted', 1), ('stupid.', 1), ('@cbccalgary', 1), ('underpasses', 1), ('enacts', 1), ('issue', 2), ('undone', 1), ('adverse', 1), ('hits.', 1), ('@gotriangle', 1), ('https://t.co/s7xdxuudcy', 1), ('approach', 2), ('http://t.co/8ihuco4glw', 1), ('effect.', 1), ('safe', 2), ('everyone!', 1), ('http://t.co/14cicptkna', 1), ('concludes', 1), (\"calgary's\", 1), ('deactivated', 1), ('http://t.co/93iaeec26t', 1), ('@chrisroth98', 1), ('@chaselabsports', 1), ('@tflbusalerts', 3), ('ilford', 1), ('stuck.', 1), ('@glenstannard', 1), ('@essexweather', 1), ('abouts', 1), ('sustainability', 1), ('task', 1), ('presents', 1), ('levy', 1), ('fund', 2), ('wdtv', 1), ('http://t.co/2fibe2haxc', 1), ('#nursing', 2), ('alert:', 1), ('department', 5), ('psychiatric', 2), ('rn', 2), ('(.90', 1), ('fte', 1), ('day)', 1), ('providence', 1), ('#olympia', 1), ('wa', 3), ('http://t.co/yu6nue7gfb', 1), ('served', 2), ('http://t.co/pl2vzlrkvk', 1), ('#hiring!', 1), ('apply:', 1), ('ii/emergency', 1), ('services/ft/7p-7a', 1), ('http://t.co/nv3uxv9imx', 1), ('#houston', 1), ('tx', 1), ('http://t.co/ej30ihrea9', 1), ('removing', 1), ('coast:', 1), ('karen', 1), ('robinson', 1), ('enviromental', 1), ('manager', 1), ('http://t.co/1meeo3wjco', 1), ('trained', 1), ('http://t.co/urjwsvr311', 1), ('http://t.co/7jfreteii4', 1), ('shutdown', 1), ('systems', 1), ('edmonton', 1), ('http://t.co/f8gvwkfqox', 1), ('goulburn', 2), ('henry', 1), ('van', 4), ('bilsen', 1), ('missing:', 1), ('his\\x89û_', 1), ('http://t.co/z99pkjztrp', 1), ('returning', 1), ('normal', 3), ('#southline', 1), ('yennora', 1), ('cabramatta', 1), ('engulfed', 18), ('hahah', 1), (\"parley's\", 7), ('canyon', 9), ('http://t.co/p6cylz5lpt', 1), ('http://t.co/jpu9gips9f', 1), ('http://t.co/cyzlshlqhg', 1), ('http://t.co/ndis8f1vzt', 1), ('#trafficalert', 1), ('210', 1), ('freeway', 1), ('citrus', 1), ('azusa.', 1), ('motorcycles', 1), ('http://t.co/ldgwsyowss', 1), ('http://t.co/cnyvvy4wat', 1), ('tribal', 3), ('i.e.', 2), ('madinah.', 2), ('#prophetmuhammad', 2), ('#islam', 4), ('travel', 5), ('chaos:', 2), ('cross-london', 1), ('accepte...', 1), ('http://t.co/vg8hrbebda', 1), ('inåêchaos', 1), ('http://t.co/xkonkz0zl6', 1), ('http://t.co/dxvtgi1bvo', 1), ('http://t.co/tfan6qq2ys', 1), ('http://t.co/rakwwritpo', 1), ('@godsfirstson1', 1), ('wrapped', 2), ('coat', 1), ('herself.', 1), ('practically', 1), ('#raheelsharif', 1), ('manifesting', 1), ('helm', 1), ('dark-stormy-tidal-sea.', 1), ('done.', 1), ('garage', 1), ('propane', 1), ('tanks', 1), ('inside.', 1), ('sunnymeade', 1), ('backs', 1), ('parley\\x89ûªs', 1), ('summit', 1), ('http://t.co/rmucfjcazr', 1), ('http://t.co/zevan9kjzl', 1), ('http://t.co/uuzfs1l5kt', 1), ('http://t.co/yfavsuogvl', 1), ('http://t.co/isi1rllct0', 1), ('http://t.co/fxdh3u8bq3', 1), ('http://t.co/yzhvobgocq', 1), (\"'tube\", 1), (\"chaos'\", 1), ('&lt;-', 1), ('genuine', 1), ('baffling', 1), ('headline', 1), ('lucas', 1), ('duda', 1), ('ghost', 1), ('rider.', 1), ('nic', 1), ('cage', 1), ('version', 1), ('actual', 1), (\"'engulfed\", 1), (\"flames'\", 1), ('badass.', 1), ('#mets', 1), ('@calestous:', 1), ('tanzania', 1), ('elephant', 2), ('60%', 1), ('census', 1), ('http://t.co/8zy9n6fx9t', 1), ('http://t.co/itz9masbvz', 1), ('mkayla', 1), ('cee', 1), ('petty', 1), ('childish', 1), ('(ap)', 3), ('organizers', 1), ('lollapalooza', 2), ('prompted', 2), ('http://t.co/bgerljamte', 1), ('#ca', 2), ('#ut', 1), ('#co', 1), ('#or', 1), ('http://t.co/spuhuvgasy', 1), ('studying', 1), ('tidal', 1), ('warnings.[900037]', 1), ('zehrs', 1), ('decide', 1), ('everyone..', 1), ('&amp;#039;monster&amp;#039;', 1), ('20%', 1), ('contained', 2), ('http://t.co/aptap6yx1r', 1), ('cannon', 1), ('ball', 1), ('evacuate.', 2), ('firefigthers', 1), ('northampton', 1), ('http://t.co/hppld1jhtz', 1), ('gold', 5), ('tram', 7), ('powerlines', 6), ('fell', 2), ('carriage.', 1), ('#tennews', 1), ('5pm', 2), ('http://t.co/hfyrloqy8q', 1), ('disregard', 1), ('speak.', 1), ('#evacuate', 1), ('condemnation', 1), ('replacing', 1), ('aimlessly', 1), ('dryer', 1), ('detersion', 1), ('de:', 1), ('hlg', 1), ('efak', 2), ('designed', 1), ('assembly', 1), ('sites', 3), ('@joonma_', 1), ('dealbreaker', 2), ('s.o.s.', 1), ('abandon', 1), (\"store's\", 1), ('alarms', 2), (\"'omg!!\", 1), ('i.s.i.s.', 1), (\"happening!!!!'\", 1), ('letters', 1), ('telling', 1), ('mygc:', 1), ('suspend', 1), ('http://t.co/6e7hhferz4', 1), ('sooo', 1), ('dispatch', 1), ('shoot', 1), ('walmart', 3), ('rutherford', 2), ('refuses', 2), ('1000s', 1), ('yemen', 1), ('https://t.co/wqy3jokumh', 1), ('#yemen', 1), ('#evacuation', 1), ('#abandoned', 1), ('@ahhtheenikki', 1), ('tell-', 1), ('shot.', 2), ('evacuate:', 1), ('http://t.co/gfsl2kwt5h', 1), ('@pantalonesfuego', 1), ('grew', 2), ('l.a.', 1), ('times.', 1), ('@meetkakarotto', 1), (\"'don't\", 1), ('bother', 1), ('offline', 1), ('managed', 1), ('hinata', 1), ('cause--', 1), ('tonight', 8), ('interesting...', 1), ('system', 4), ('building.', 1), ('emilee', 1), ('milkshake', 1), ('supposed', 3), ('fam', 1), ('#murfreesboro', 1), ('#walmart', 1), ('evacuated', 26), ('evening?', 1), ('@dnj_com', 1), ('disrupted', 1), ('evacuated.', 2), ('http://t.co/6ezkoof2xt', 1), ('http://t.co/facm78eg7k', 1), ('gc', 1), ('highway.', 2), ('@9newsbrisbane', 1), ('@9newsgoldcoast', 2), ('http://t.co/kd3qsakbi5', 1), ('re-opens', 1), ('bickleton', 1), ('roosevelt', 9), ('wildfire.', 1), ('#liveonk2', 2), ('ordered', 3), ('wash.', 5), ('http://t.co/sqsyueh4yi', 2), ('#koin6news', 3), ('http://t.co/199t7nd0pm', 2), ('mall.', 1), ('again.', 2), ('campers', 1), ('blazes', 1), ('http://t.co/wwgadpffkw', 1), ('trafford', 4), ('fans', 5), ('odeon', 4), ('http://t.co/dzlense1gw', 1), ('homes.', 1), ('http://t.co/tb52o146tx', 1), ('http://t.co/tsbtigdsdt', 1), ('http://t.co/pfmn63vnam', 1), ('http://t.co/vkwqbojfjc', 1), ('swells', 2), ('60000', 2), ('acres;', 2), ('12000', 14), ('http://t.co/42gw2i2q41', 1), ('portland', 4), ('#miami', 3), ('#atlanta', 3), ('#casper', 3), ('of\\x89û_', 5), ('http://t.co/pzeixi4xk7', 1), ('103', 1), ('bukidnon:', 1), ('http://t.co/z0hsckvysn', 1), (\"they're.\", 1), ('fallen', 3), ('g:link', 2), ('tram:', 2), ('tr...', 3), ('http://t.co/eysvvza7qm', 2), ('http://t.co/zzweeezjug', 1), ('alert!', 1), ('sandy', 1), ('hook', 1), ('elementary', 1), ('\\x89û÷bomb', 1), ('threat\\x89ûª', 1), ('http://t.co/lwlexxjus8', 1), ('lifted', 7), ('http://t.co/e2hltyyfak', 1), ('http://t.co/pmxezuo4ay', 1), ('thoughts', 1), ('local', 4), ('residents!', 1), ('rain!!!', 1), ('http://t.co/x3g2ox6k8r', 1), ('twi...', 1), ('http://t.co/ryeqmxirj8', 1), ('#manchesterlite', 1), ('safely', 1), ('derails.', 1), ('http://t.co/kzbsohtwb4', 1), ('shore', 1), ('norfolk', 1), ('http://t.co/6x0xhlbxji', 1), ('@115film', 1), ('doctor', 2), ('immediately', 1), ('core', 1), ('unstable...the', 1), ('research.', 2), ('need...', 1), ('http://t.co/kue48nmjxh', 1), ('http://t.co/wxhmp5ppjq', 1), ('http://t.co/cmweiojj55', 1), ('katunews:', 1), ('#sr14', 1), ('1700', 1), ('http://t.co/qposkp3mwj', 1), ('http://t.co/mtqjsvupwy', 1), ('legit', 1), ('mall', 2), ('evacuated!!', 1), ('seclusion', 1), ('class', 4), ('compliance?', 1), ('#morevoices', 1), ('http://t.co/mtfnbhryzq', 1), ('powerlines:', 1), ('af...', 1), ('http://t.co/xppqnyhiwc', 1), ('travellers', 1), ('surfers', 1), ('http://t.co/qsheu3yf0w', 1), ('faan', 7), ('abandoned', 7), ('mma:', 2), ('noted', 2), ('become', 7), ('necessary', 1), ('re...', 1), ('http://t.co/zuqgvjneqa', 1), ('mandatory', 2), ('#roosevelt', 1), ('http://t.co/fijapxykrq', 1), ('humboldt', 1), ('cty', 1), (\"sheriff's\", 1), ('advisory', 8), ('residence', 1), ('lassics', 1), ('http://t.co/eruzbuqzyu', 1), ('mma', 2), ('http://t.co/gsomtdpmoj', 1), ('vietnam', 6), ('patch', 1), ('71st', 1), ('highland', 1), ('medics', 1), ('http://t.co/kif7m3fqlx', 1), ('http://t.co/oz6vlwwtnr', 1), ('@veldfest', 1), ('announces', 1), ('refunds', 1), (\"two's\", 1), ('evacuation:', 1), ('http://t.co/pp05etlk7t', 1), ('http://t.co/3ol8mhhpma', 1), ('@markoturner', 1), ('@annaciclismo', 1), ('http://t.co/5kfovovjso', 1), ('bend', 3), ('fd', 2), ('roofing', 1), ('co.', 1), ('half-hr', 1), ('swayback', 1), ('ridge', 8), ('area..voluntary-inciweb:mad', 1), ('announcement', 1), ('http://t.co/vn73o4sgzj', 1), ('#calfires', 1), ('indexing', 1), ('remedial', 1), ('angioplasty', 1), ('dissertation', 1), ('elite', 1), ('dismayed:\\x89û_', 1), ('http://t.co/vgvjgr8zoo', 1), ('ifak', 1), (\"'individual\", 1), ('aid', 7), (\"kit'\", 1), ('treat', 2), ('roofers', 1), ('prompt', 1), ('http://t.co/6mf7eyzoaw', 1), ('neces...', 1), ('http://t.co/tls40nqipn', 1), ('@todayngr', 1), ('gives', 1), ('owners', 2), ('ultimatum', 1), ('http://t.co/zzpojgngaj', 1), ('@dailytimesngr.', 1), ('too!', 1), ('updated', 2), ('map', 5), ('(red)', 1), ('(yellow)', 1), ('evac', 1), ('centers', 1), ('(green)', 1), ('https://t.co/gzegjoakkw', 1), ('gnwt', 1), ('voluntary', 2), ('cabin', 2), ('pickerel', 2), ('reid...', 1), ('http://t.co/rvsyxwj9cp', 1), ('warned', 1), ('http://t.co/na0ptn0dtr', 1), ('#lolla', 1), ('https://t.co/yrfz5wj7r2', 1), ('\\x89ûïa', 2), ('recommended', 1), ('time\\x89û\\x9d', 1), ('cabins', 1), ('#reidlake', 1), ('maca', 1), ('#nwt', 1), ('#yzf', 1), ('ibrahimmisau', 1), ('http://t.co/5zcje7arci', 1), ('http://t.co/havxobcsvu)', 1), ('roosevelt:', 2), ('http://t.co/edyfo6e2pu', 2), ('http://t.co/m5kxlpkfa1', 2), ('http://t.co/wmmkirj0hw', 1), ('reid', 1), ('prompts', 2), ('campground', 1), ('http://t.co/jbodkm6rbu', 1), ('misses', 2), ('komo', 1), ('http://t.co/qcpmktgllr', 1), ('saint', 1), ('john', 2), ('http://t.co/e1vkc2efst', 1), ('#nb', 1), ('http://t.co/beua507iug', 1), ('crash?\\ndid', 1), ('die?\\ndid', 1), ('explode?', 1), ('knows.', 1), ('http://t.co/lthmwtl5fp', 1), ('kendall', 1), ('jenner', 1), ('nick', 1), ('jonas', 1), ('dating', 1), ('http://t.co/pfvzvpxqgr', 1), ('@allen_enbot', 1), ('explode...', 1), ('chick', 1), ('masturbates', 1), ('exploded', 9), ('http://t.co/5qhoehe9hf', 1), ('kakeru', 1), ('teduka:', 1), ('bfore', 1), ('70years', 1), ('bomd.', 1), ('day.http://t.co/8vzl1ns2io', 1), ('@kopiteluke1892', 1), ('exploded.', 1), ('dress', 2), ('memes', 1), ('officially', 1), ('http://t.co/3drsmxw3cr', 1), ('final', 3), ('#medinah', 1), ('105.', 1), ('49', 1), ('(exploded', 1), ('a)', 1), ('56', 1), ('back.', 1), ('#imkeepingmydayjob', 1), ('(pic', 1), ('famous', 1), ('#17)', 1), ('http://t.co/kcmbbwwp8g', 1), ('junko', 1), ('13', 8), ('6', 13), ('1945.', 2), ('http://t.co/lspnycvolo', 1), ('http://t.co/nh5pkfbfqm', 1), ('kai', 1), ('forbath', 1), ('station', 2), ('field', 3), ('missed', 2), ('goal.', 1), ('bits.', 1), ('charging', 2), ('sparking', 1), ('akxbskdn', 1), ('#science', 5), ('warship', 5), ('1665', 1), ('sailors', 1), ('recycling', 2), ('artillery', 1), ('cartridges...', 1), ('http://t.co/r4wgxra59m', 1), ('#life', 3), ('ee', 2), ('recalls', 4), ('phone', 5), ('chargers', 1), ('register', 1), ('http://t.co/lhtvkcoiso', 1), ('mechanical', 1), ('explosion:', 2), (\"'pharaoh'\", 1), ('http://t.co/o82yvxbztv', 1), ('http://t.co/n5kmxuverg', 1), ('report:', 12), ('corey', 1), ('brewer', 1), ('drug', 2), ('tested', 1), ('51-point', 1), ('http://t.co/hhllqckcep', 1), ('dancer', 1), ('attendance', 1), ('gmmbc', 1), ('saturday.', 1), ('inspiring!', 1), ('http://t.co/tmmorvxswz', 1), ('germany...', 1), ('http://t.co/xbznu0qkvs', 1), ('http://t.co/bgaj2oax1p', 1), ('2500fps', 1), ('slow', 4), ('guys', 6), ('rocks', 6), ('aluminum', 1), ('plant', 1), ('southeast', 2), ('missouri', 1), ('re:naomi-no', 1), ('logo', 1), ('http://t.co/0wdseihyqu', 1), ('gaelite', 1), ('greg', 2), ('[top', 1), ('3rd]', 1), ('[0', 3), ('out]', 1), ('balls]', 1), ('strikes]', 1), ('[p:', 1), ('#16', 1), ('morgan', 1), ('orchard]', 1), ('[b:', 1), ('tie', 2), ('dye', 2), ('ig', 1), ('me.', 7), ('exploring', 1), ('worlds:', 1), ('moments', 1), ('miì©ville', 1), ('http://t.co/otrwz1t9sp', 1), ('http://t.co/xvlkfcvfx5', 1), ('more--&gt;osha', 1), ('officers', 3), ('siteinvestigating', 1), ('noranda', 1), ('-kfvs12', 1), ('cape', 2), ('girardeau', 1), ('carbondale', 1), ('poplar', 1), ('bluff', 1), ('http://t.co/pxyh7zo7vt', 1), ('time-lapse', 1), ('1945', 4), ('isao', 1), ('hashimoto', 1), ('#war', 2), ('#atomicbomb', 1), ('\\nhttps://t.co/v0t8h4iecc', 1), ('@colinhoffman29', 1), ('does.', 1), ('pyrotechnic', 1), ('artwork', 1), ('cai', 1), ('guo-qiang', 1), ('blossom', 1), ('steps', 1), ('philadelphia...', 1), ('http://t.co/orovzfsku2', 1), ('@lordrsbiscuits', 1), ('explosion.', 1), ('battery', 1), ('packs', 1), (\"student's\", 1), ('bedroom', 1), ('http://t.co/ekwtihlwuf', 1), ('kindermorgan', 1), ('sunflower', 1), ('walk.', 1), ('http://t.co/vlnmklwwby', 1), ('http://t.co/p769eo49fj', 1), ('invited', 1), ('expo', 1), ('summer', 12), ('2015!', 1), ('\\nwhen:', 1), ('14th', 1), ('friday', 3), ('2015\\nwhere:', 1), ('keith...', 1), ('http://t.co/yh4r7ug21a', 1), ('gusto', 1), ('persist', 1), ('amongst', 3), ('empty-pated', 1), ('communication', 1), ('hpssjd', 1), ('eyewitness', 12), ('accounts', 1), ('gleaned', 1), ('a\\nnumber', 1), ('oral', 1), ('projects', 2), ('https://t.co/yrqgnblkac', 1), ('crane', 2), ('demolishes', 1), ('houses:', 1), ('dramatic', 5), ('captures', 10), ('hoisting...', 1), ('http://t.co/dyy7ml2nzj', 1), ('account', 6), ('http://t.co/njaffyjarz', 1), ('http://t.co/1xhsuewqn4', 1), ('interesting', 2), ('video.', 1), ('ferguson', 2), ('http://t.co/vecsosrler', 1), ('http://t.co/fiuogj6hef', 1), ('#climatechange', 2), ('11', 6), ('posts', 2), ('http://t.co/czpdn9obit', 1), ('#anarchy', 1), ('survivor:', 1), ('redwing', 1), ('heroes', 1), ('seal', 2), ('team\\x89û_', 1), ('http://t.co/nxtwxjcavh', 1), ('http://t.co/ol8esfrgle', 1), ('\\x89ûïlittle', 1), ('boy\\x89û\\x9d', 1), ('testimonials', 1), ('http://t.co/muanfwcrw9', 1), ('schoolboy\\x89ûªs', 1), ('http://t.co/pq0d7mh3qr', 1), ('http://t.co/quedv2xxxx', 1), ('kern', 1), ('mornings', 1), ('airing', 1), ('kbak', 1), ('cbs29.', 1), ('http://t.co/rorktmpqns', 1), ('#liveonkbak', 1), ('http://t.co/edznx6goud', 1), ('illustrated', 1), ('timeline', 1), ('bombings.', 1), ('particularly', 2), ('horrifying', 1), ('http://t.co/gzib0mawmn', 1), ('patrickjbutler:', 1), ('excellent', 1), ('damiengayle', 1), ('closure:', 1), (\"'you\", 1), ('drop', 2), ('expect\\x89û_', 1), ('http://t.co/phh1vmlfoo', 1), (\"'food\", 13), (\"crematoria'\", 13), ('provoke', 14), ('outrage', 15), ('famine', 22), ('memories:', 2), ('moscow', 2), ('(reuters)', 5), ('http://t.co/mphog0qddn', 1), ('memories...', 2), ('http://t.co/fabvlvn5ms', 1), ('w/soaring', 1), ('poverty', 2), ('+soviet', 1), ('memory', 2), ('http://t.co/vymouzjzre', 1), ('http://t.co/enrjh5qkve', 1), ('memories', 16), ('http://t.co/o4xljnav8f', 1), ('perished', 1), ('holodomor', 1), ('erected', 1), ('capital.', 1), ('http://t.co/dj1lwznieh', 1), ('http://t.co/i9mxxkzhbl', 1), ('exporting', 1), ('problem.', 2), ('africans', 1), ('solving', 1), ('wars.', 1), ('https://t.co/uttanbigrx', 1), ('http://t.co/resxavgpyj', 1), ('article:', 1), ('http://t.co/9hieifhsmc', 1), ('#bluebell', 1), ('http://t.co/p9rymfjcux', 1), ('http://t.co/gyh00mrkjm', 1), ('hungry.', 1), ('government.\\nhttp://t.co/zonnqgsxyw', 1), ('@financialtimes', 1), ('ethiopian', 1), ('regimes', 1), ('receiving', 1), ('eastern', 4), ('ethiopia', 1), ('https://t.co/2fggzqn1v4', 1), ('reuters:', 1), ('http://t.co/si02qrguka', 1), ('http://t.co/0c1y8g7e9p', 1), ('\\x89û÷food', 1), ('crematoria\\x89ûª', 1), ('famineåêmemories', 1), ('http://t.co/sgecnkfthu', 1), ('bolshevik', 1), ('monopolized', 1), ('supply', 1), ('seize', 1), ('hunhry', 1), ('population.', 1), ('artificial', 1), ('https://t.co/0xouv7dhwz', 1), ('http://t.co/h6z7hxuqtu', 1), ('@yahoonews', 2), ('experienced', 2), ('smell', 1), ('rotting', 1), ('potatoes', 1), ('smelled', 1), ('http://t.co/x1x6d5enef', 1), ('http://t.co/xhehjfft7g', 1), ('@savagenation', 1), ('peasants', 1), (\"stalin's\", 1), (\"'redistribute\", 1), (\"wealth'.\", 1), ('famine/death', 1), ('1-russian', 1), ('*', 3), ('society', 1), ('recal...', 1), ('http://t.co/j2erzbmjqd', 1), ('adventures', 1), ('mineness', 1), ('#9', 2), ('http://t.co/spymiqnecj', 1), ('memories\\nhttp://t.co/felr5a1hbp', 1), ('#russian', 1), ('crematoria', 1), ('provokes', 1), ('http://t.co/fjeafgbzfj', 1), ('maratha', 1), ('raiders', 1), ('scorched', 1), ('lands', 2), ('punjab', 2), ('refused', 3), ('1943', 1), ('wonder', 3), ('bengalis', 1), (\"'hard\", 1), (\"feelings'\", 1), ('images', 3), ('christ', 1), ('blog', 2), ('happens', 3), ('http://t.co/9bliddngtf', 1), ('#hopeinchrist', 1), ('@lifelettercafe', 1), ('yahoo', 1), ('http://t.co/6siirlnv6z', 1), ('11-year-old', 21), ('manslaughter', 23), ('toddler:', 10), ('fatal', 53), ('sh...', 10), ('elijah', 2), ('walker:', 1), ('appeared', 1), ('http://t.co/gtcffacvam', 1), ('apd', 1), ('http://t.co/qyccvuubkr', 1), ('investigators', 36), ('shift', 8), ('waimate', 4), ('http://t.co/c9dvdssofn', 1), ('30s', 1), ('vermont', 3), ('st.:', 1), ('http://t.co/htez4z48od', 1), ('http://t.co/eq4rxc9bb3', 1), ('winnipeg', 1), ('seek', 4), ('witnesses', 1), ('arlington', 1), ('william', 1), ('http://t.co/n2bcf4m64v', 1), ('dubbo', 1), ('bail', 2), ('http://t.co/hdbmfovutz', 1), ('@dailyliberal', 1), ('facing', 1), (\"sunday's\", 1), ('wrong-way', 1), ('http://t.co/1vz3rmjhy4:', 1), ('ca...', 1), ('http://t.co/xevueefqbz', 1), ('stockton', 1), ('drive-by', 1), ('stockton\\n', 1), ('http://t.co/j3x0doy7r3', 1), ('dispute', 1), ('http://t.co/oazghozgya', 1), ('#gunfail', 1), ('#nra', 1), ('cops:', 1), ('immigrant', 1), ('arrests', 1), ('sex', 3), ('http://t.co/bl59fw4sys', 1), ('http://t.co/a6ro9bmxcy', 1), ('walker', 2), ('http://t.co/huriivfdkc', 1), ('#crimes', 1), ('franklin:', 1), ('d...', 2), ('http://t.co/9h0ym9ofsv', 1), ('#justice', 1), ('#courts', 1), ('http://t.co/adsvdpnp3r', 1), ('3-year-old', 1), ('http://t.co/fj7kcrlir7', 1), ('http://t.co/goetjgihop', 1), ('exclusive:', 1), ('179', 1), ('fatalities', 22), ('on-duty', 1), ('nypd', 1), ('3åê\\x89û_', 1), ('http://t.co/cn1jommugh', 1), ('city:', 1), ('eight', 1), ('adults', 1), ('with...', 1), ('http://t.co/iqj1z3jxx8', 1), ('unprepared', 1), ('emp', 1), ('possess', 1), ('fatalities.', 2), ('pushing', 2), ('them?', 3), ('implores', 1), ('motorists', 1), ('speed', 1), ('animal', 2), ('nature', 2), ('reserves\\n-&gt;', 1), ('http://t.co/hikf8mkjsn', 1), ('market.', 1), ('engines', 1), ('6-month', 1), ('mark', 1), ('662', 1), ('114', 1), ('||', 1), ('http://t.co/reoz7h3em8', 1), (\"#seattle's\", 1), ('deadliest', 2), ('intersections', 1), ('revealed\\n', 1), ('http://t.co/ghk9xup6e0', 1), ('rails.', 1), ('1/13/82', 1), ('interlocking', 1), ('illnesses', 1), ('numbers', 4), ('http://t.co/1uo1atrbbj', 1), ('#saudi', 3), ('arabia:', 1), ('#abha:', 1), ('mosque;', 1), ('http://t.co/1xw0z8zeqw', 1), ('-??-\\n;', 1), ('kitana\\n?', 1), ('slay', 1), ('me\\n\\x89ûókody?', 1), ('@kombatfans33)', 1), ('https://t.co/umajwsnluf', 1), ('osp', 1), ('mounting', 1), ('http://t.co/ymp0ginwza', 1), ('http://t.co/fyioqvioif', 1), ('estimated', 3), ('hiroshima-sized', 1), ('hometown', 1), ('http://t.co/bsrerjby0i', 1), ('#hiroshima70', 2), ('rcmp', 2), ('tch', 2), ('whitbourne.', 1), ('allocating', 1), ('1.3', 2), ('bn', 1), ('action:', 1), ('stage', 1), ('veneto', 1), ('http://t.co/w3esx6ud8t', 1), ('http://t.co/43sxg9z6xh', 1), ('tremor', 1), ('joke!!', 1), ('[tremor', 1), ('dlc]', 1), ('[fatalities/x-ray]', 1), (\"'among\", 1), ('factors', 2), ('pedestrian', 2), ('failing', 1), ('yield', 1), (\"car'\", 1), ('http://t.co/dgul7ffjt2', 1), ('las', 1), ('vegas', 1), ('http://t.co/kc8o81bchg', 1), ('whitbourne', 1), ('http://t.co/0rokdutyun', 1), ('...american', 1), ('400000\\x89ûò800000', 1), (\"fatalities.'\", 1), ('https://t.co/txzxcnudr8', 1), ('8th', 2), ('despite', 1), ('4%', 1), ('increase', 4), ('journeys', 1), ('http://t.co/suilzs2s95', 1), ('@healthandsafety', 1), ('policylab', 1), (\"@cecanf's\", 1), ('neglect', 1), ('http://t.co/n2cy3z4tpb', 1), ('.@kurtschlichter', 1), ('yep', 1), ('*millions*', 1), ('projected', 21), ('downfall.', 1), ('@_freemarketeer', 1), ('@dibang', 1), ('#shipping', 1), ('#logistics', 1), ('enca', 1), ('med', 6), ('onboard:', 1), ('capsized', 3), ('http://t.co/dno7qxcffh', 1), ('message', 6), ('boards', 1), ('display', 1), ('582)', 1), ('beginning', 1), ('616', 1), ('workers.', 1), ('irish', 3), ('roads', 3), ('cyclists', 1), ('http://t.co/e7ojhpdfg2', 1), ('@truly_stings', 1), ('dm', 1), ('dying', 3), ('lyme', 1), ('disease:', 4), ('fatality', 8), ('100%', 1), ('http://t.co/rgt9ghodpw', 1), ('@hrips_k', 1), ('corpse', 1), ('jittering', 1), ('101', 1), ('rig', 1), ('wow.', 2), ('sick.', 1), ('kosciusko', 1), ('http://t.co/jilfbr0ufp', 1), ('soldier', 1), ('highest-ranking', 1), ('http://t.co/sihqpluidw', 1), ('https://t.co/gf5qjgoyci', 1), ('40w', 1), ('us70', 1), ('lebanon', 2), ('fatality.', 1), ('sad.', 1), ('@lindasocvat', 1), ('apparently.', 1), ('sadly.', 1), ('loretta', 1), ('fuddy', 1), ('authenticating', 1), ('birth', 1), ('certificate', 1), ('sole', 1), ('http://t.co/mzrhfojt2j', 1), ('opposite', 2), ('why\\nhttp://t.co/r5bxzzhxkm', 1), ('@cowgirllawyer', 1), ('refuse', 1), ('unawares', 3), ('intoxicated', 1), ('&amp;/or', 1), ('horror', 5), ('films', 1), ('incredibly', 1), ('creative', 1), ('artists.', 1), ('interviewed', 1), ('depth', 4), ('anatomy', 1), ('fear.', 3), ('http://t.co/j6mpdsx9lk', 1), ('risks.', 1), ('spin', 1), ('23rd', 1), ('@miss_homasttopa', 1), ('now..', 1), ('nowwwwww', 1), ('option', 1), ('put', 7), (\"'flood\", 1), (\"fire'\", 2), ('list.', 1), ('https://t.co/p5jpjgiipw', 1), ('http://t.co/drf3mmrbyx', 1), ('https://t.co/itfbbz9xyc', 1), ('shaking...catching', 1), ('fire....and', 1), ('overcharging', 1), ('rent', 1), ('150+', 1), ('nowhere.', 1), ('catalinas.', 1), ('kinda', 3), ('cool.', 1), ('justice.', 1), ('https://t.co/n0tawgezjx', 1), ('charlie', 1), ('daniels', 1), (\"'fire\", 2), ('boys', 2), (\"run.'\\x89û_\", 1), ('https://t.co/fz1haej255', 1), ('checked', 1), ('in!', 1), ('@zomatoaus', 1), ('#lovefood', 1), ('http://t.co/9l5kqykrbg', 1), ('smelling', 1), ('bon', 1), ('sitting', 3), (\"s'mores\", 1), ('call:', 1), ('brant', 1), ('drummond', 1), ('*structure', 1), ('single.', 1), ('units:', 1), ('http://t.co/eudwnfyuem', 1), ('#reno', 1), ('trailer', 2), ('catches', 3), ('reno', 4), ('http://t.co/k5fijankjb', 1), ('pugwash', 1), ('-population:6', 1), (\"'an\", 1), ('spinning', 1), (\"over'\", 1), ('http://t.co/kmpfhglhoo', 1), ('sigalert', 1), ('#3***n-133', 1), ('ufn***-', 1), ('trash', 2), ('@brooktekle_', 1), ('assistance', 1), ('langley', 2), ('http://t.co/l90dcpv9zu', 1), ('philippines:', 2), ('assistant', 1), ('pat', 1), ('spen...', 1), ('http://t.co/r6yjw4xcky', 1), ('@kapokekito', 1), ('northgate', 1), ('taco', 1), ('pull', 1), ('bay.', 1), ('wompppp', 1), ('k3', 1), ('phase', 2), ('3.', 1), (\"everyone's\", 1), ('okay.', 2), ('#prayforsaipan', 1), ('#sigalert:', 2), ('133', 4), ('irvine', 2), ('chp', 2), ('detouring', 2), ('traffic.', 2), ('@eeenice221', 1), ('fire?', 1), ('reopened.', 1), ('closed.', 2), ('s.', 3), ('cleanup.', 1), ('@knx1070', 1), ('1952', 1), ('dodge', 1), ('wayne', 1), ('bodied', 1), ('window', 3), ('bus.', 1), ('libby', 1), ('truck.', 1), ('ori\\x89û_', 1), ('http://t.co/mcejzzxgh8', 1), ('monster', 1), ('racer', 1), ('fair', 1), ('clogs', 1), ('http://t.co/jrdwyy0ax4', 1), ('rgj:', 1), ('http://t.co/kaf3wdrmtn', 1), ('cebu', 1), ('philippi...', 1), ('http://t.co/al28rvkqpq', 1), ('58', 1), ('awesome', 1), ('truck!', 1), ('jade', 1), ('fl...', 1), ('https://t.co/ybdsljw7c1', 1), ('#njturnpike', 2), ('å_', 1), ('reopens', 1), ('in?', 1), ('http://t.co/oabjztbvyz', 1), ('http://t.co/gpbxrrdc07', 1), ('@mnpdnashville', 3), ('@nashvillefd', 1), ('acted', 1), ('swiftly', 1), ('\\x89û÷we', 1), ('help\\x89ûª', 1), ('firefighter', 3), ('curb', 2), ('responder', 2), ('http://t.co/wtafaepukz', 1), ('carmike', 1), ('cinemas', 1), ('shooting:', 1), (\"'we\", 2), (\"grateful'\", 1), ('staff', 1), (\"'highest\", 1), (\"priority'\", 1), ('http://t.co/behfhsppud', 1), ('added', 3), (\"'sandy\", 1), (\"homes'\", 1), ('vip', 1), ('page', 2), ('@vimeo:', 1), ('https://t.co/lkxi6uxjaq', 1), ('especially', 3), ('antioch!', 1), ('kirsten', 1), ('gillibrand', 1), ('http://t.co/amea3lamdj', 1), ('extend', 1), (\"help'\", 1), ('http://t.co/avv6hpnpch', 1), ('@iafflocal4416', 1), ('except', 3), ('protecting?', 1), ('#999day', 1), ('display!', 1), ('brave', 1), ('safe!', 1), ('dart', 1), ('participating', 1), ('intensive', 1), ('technical', 1), ('animal...', 1), ('http://t.co/tl93aod3er', 1), ('gains', 1), ('heading', 3), ('meet', 3), ('@starbucks', 1), ('coffee', 3), ('firefighters.', 1), ('antiochhickoryhollow#tn', 1), ('(giant', 1), ('pantofel)', 1), ('info/order', 1), ('sms:087809233445', 1), ('pin:23928835', 1), ('http://t.co/dthneezupe', 1), ('pic.twitter.com/pnpizody', 1), ('@gilderoy', 1), ('wish', 1), ('@tadhgtgmtel', 1), ('maryland', 5), ('mansion', 5), ('plug', 5), ('christmas', 5), ('tree', 9), ('flames...', 3), ('http://t.co/ucudwiu3an', 1), ('\\x89ûïyou', 1), ('shocking.\\x89ûï', 1), ('benstracy', 1), ('rp', 1), ('silo', 1), ('260th', 1), ('hartford', 1), ('flames.', 1), ('flames:', 2), (\"firefighter's\", 1), ('bravery...', 1), ('http://t.co/p1wmkxa9d8', 1), ('@selmoooooo', 1), ('@_edvinnn', 1), ('@imtariik', 1), ('@dzafic_haris', 1), ('selmo', 1), ('catching', 1), ('witnessing', 1), ('slaughter', 1), ('@aisumage', 1), ('@akumareisu', 1), ('--just', 1), ('gray', 1), ('ophelia', 1), ('area--', 1), ('soloquiero', 1), ('firefighte...', 1), ('http://t.co/lkjfabqzb3', 1), ('flattened', 5), ('#nagasaki', 2), ('crimes', 2), ('(august', 1), ('6th)', 1), ('a-bomb', 1), ('hiroshima.70000', 1), ('outright', 1), ('@grabakahitman', 1), ('@izi_garcia', 1), ('machida...did', 1), ('lose', 2), ('fight..nope', 1), ('thee', 1), ('striker', 1), ('@satanaofhell', 1), ('far.', 2), ('dreamy', 1), ('ears', 1), ('started', 5), ('slowly', 1), ('toward', 4), ('her.*', 1), (\"you'd-\", 1), ('jkl', 2), ('cancels', 2), ('harlan', 1), ('knox', 1), ('[ky]', 1), ('http://t.co/4ry6zhcpoq', 1), ('#wx', 7), ('spot', 4), ('combo', 1), ('53inch', 1), ('300w', 1), ('curved', 1), ('led', 2), ('4x4', 1), ('offroad', 2), ('fog', 1), ('lamp', 3), ('http://t.co/xxkhjysn0p', 1), ('http://t.co/jevhknjgbx', 1), ('[small]', 1), ('bigåêconsequences', 1), ('https://t.co/cvpdvhxd1r', 1), ('http://t.co/fdmxp4fcmo', 1), ('homecoming', 1), ('prom', 1), ('waters!', 1), ('#socialnews', 5), ('http://t.co/vmkexjtyg4', 1), (\"@robertbenglund's\", 1), ('mentions.', 1), ('work!', 1), ('2pcs', 1), ('18w', 1), ('mining', 1), ('4wd', 1), ('beam', 1), ('rea\\x89û_', 1), ('http://t.co/apwxs5mm44', 1), ('http://t.co/ds76lozlsu', 1), ('iembot_hfo', 1), ('10:00', 2), ('hana', 1), ('[maui', 1), ('hi]', 1), ('coastal', 1), ('http://t.co/gg0dzsvbz7)', 1), ('http://t.co/kbe91arcdw', 1), ('basics:', 1), ('defective', 1), ('intertissue', 1), ('soul', 2), ('mate', 2), ('milk', 1), ('trench', 22), ('host:', 1), ('guabxfv', 1), ('http://t.co/uzsqzycb8x', 1), ('bmx', 1), ('areal', 1), ('shelby', 3), ('[al]', 1), ('cdt', 14), ('http://t.co/62oddekvli', 1), ('effect', 5), ('#alwx', 1), ('http://t.co/gtqmgsgcsb', 1), ('grant_factory:', 1), ('#grants', 1), ('#funds', 1), ('weymouth', 1), ('seawalls', 1), ('grants', 1), ('http://t.co/th2wlilbmo', 1), ('4:28pm', 1), ('edt', 8), ('nws', 9), ('http://t.co/d02sbm0ojs', 1), ('#wxky', 1), ('prone', 1), ('waterways', 1), ('westchester', 1), ('eligible', 1), ('http://t.co/xsr2vujyiz', 1), ('arrives', 1), ('http://t.co/nosvu0zx4x', 1), ('sittway', 1), ('http://t.co/5mjzjnkpfn', 1), ('7:10pm', 1), ('8:00pm', 1), ('nws:', 6), ('...the', 4), ('urban', 1), ('http://t.co/semw5cq7dg', 1), ('elk', 1), ('monday\\x89ûªs', 1), ('while\\x89û_', 1), ('http://t.co/8j19fvu7qa', 1), ('cuban', 3), ('extends', 2), ('http://t.co/xlq8g6vb2r', 1), ('sponge', 1), ('docks', 1), ('flooding:', 3), ('http://t.co/5pmikavykl', 1), ('mid-south', 2), ('midwest', 2), ('http://t.co/uahicwpih4', 1), ('#environment', 1), ('#nature', 2), ('11:30a', 1), ('showers/storms', 1), ('areas-minor', 1), ('#hunwx', 1), ('http://t.co/e3l1jqjh2u', 1), ('http://t.co/wveo9ed10e', 1), ('166', 4), ('displace', 3), ('analysis', 3), ('http://t.co/9mj8ouj3vt', 1), ('http://t.co/kkoovbkndp', 1), ('#laos', 1), ('-10', 1), ('underwater', 1), ('vision', 1), ('responding', 1), ('http://t.co/8fvqrizoux', 1), ('#ukfloods', 1), ('trekkers', 1), ('himalayas:', 1), ('http://t.co/nsfzkfgznj', 1), ('http://t.co/qcyxwr2rdv', 1), ('waves', 7), ('shore\\nand', 1), (\"anymore\\nthat's\", 1), ('http://t.co/tdaktglu5p', 1), ('mold', 1), ('growth', 2), ('@proudgreenhome', 1), ('http://t.co/kavaovjz2v', 1), ('http://t.co/xjkrxrnwnv', 1), ('tracks', 5), ('sa', 1), ('#insubcontinent', 1), ('@insubcontinent', 1), ('http://t.co/jlwgshyy3n', 1), ('iraqi', 1), ('seekers', 1), ('ndetention', 1), ('w/unscreened', 1), ('muslims:', 1), ('http://t.co/b4k0r4gga8', 1), ('@dcclothesline', 1), ('@netkicorp', 1), ('dinner', 2), ('guests!', 1), ('all!', 1), ('https://t.co/eltne5v1qn', 1), ('#valleywx', 1), ('\\x89ûï@bbcengland:', 1), ('birmingham', 2), ('http://t.co/q4kgftc2am', 1), ('http://t.co/6w6a2l4qae\\x89û\\x9d', 1), ('omg.', 1), ('#vietnam', 1), ('no.2', 1), ('http://t.co/hvxu1zcvau', 1), ('http://t.co/ijmccmhh5g', 1), ('apartments', 1), ('nycha', 1), ('ny1:', 1), ('ny1burst', 1), ('http://t.co/w7siidujoh', 1), ('myanmar:', 2), ('assisting', 2), ('decades', 2), ('hits', 2), ('parts', 5), ('http://t.co/pijg5w2l2u', 1), ('engineers', 1), ('options', 1), ('#ocnj...', 1), ('http://t.co/jzprciqa9d', 1), ('prompting', 1), ('http://t.co/r7vpaklhvi', 1), ('unveiled', 1), ('travis', 2), ('deputy', 2), ('sept.', 1), ('sheriff', 2), ('joined\\x89û_', 1), ('http://t.co/eo2f96wxpz', 1), ('http://t.co/icfql7i9op\\n\\nat', 1), ('lakh\\x89û_', 1), ('slip', 1), ('sliding', 1), ('writers', 1), ('w/tony', 1), ('nester', 1), ('@sonoranrattler', 1), ('#writingtips', 1), ('http://t.co/slttorrlhs', 1), ('tornadoes', 2), ('floods.', 2), ('change.', 1), ('plaguing', 1), ('her\\n', 1), ('\\n#farrakhan', 1), ('#quote', 1), ('landsli...', 1), ('http://t.co/9tg7a5oqfp', 1), ('119000', 1), ('966', 1), ('camps', 2), ('#floods:', 1), ('http://t.co/eu8jypizsd', 1), ('hail', 15), ('tornados', 2), ('ontario.', 1), (\"god's\", 1), ('you.', 3), ('@ictyosaur', 1), ('90', 2), ('heat\\nnext', 1), ('floods..', 1), ('granted', 1), ('whatever', 1), ('@cyberdemon531', 1), ('dew', 1), ('erodes', 1), ('throat', 1), ('stunned', 2), ('http://t.co/jrgj17oamt', 1), ('bengal', 2), ('cm', 2), ('mamata', 2), ('banerjee', 2), ('dvc', 2), ('bjp', 2), ('http://t.co/bozlwr716z', 1), ('69', 3), ('naypyidaw', 1), ('(prensa', 1), ('latina)', 1), ('rose', 1), ('myanmar...', 1), ('http://t.co/jods9a32pi', 1), ('approaches', 6), ('http://t.co/njmidysxof', 1), ('@abc7chicago', 1), ('@casewrites', 1), ('nj', 1), ('otherwise', 1), ('grief', 1), ('taxes.', 1), ('@contactenergy', 1), ('yep.', 1), ('1999', 2), ('clyde', 1), ('releasing', 1), ('could.', 1), ('speccy!', 1), ('ev', 1), ('way?', 1), ('bamenda', 1), ('animals', 1), ('birds', 2), ('http://t.co/wnamtxlfmt', 1), ('http://t.co/6coidv11qv', 1), ('apc', 8), ('chieftain', 1), ('tasks', 1), ('dickson', 1), ('n15b', 1), ('donation', 1), ('bayelsa', 10), ('http://t.co/lqgoe7psxp', 1), ('pagasa', 1), ('7:12am:', 1), ('yellow', 1), ('panay', 1), ('guimaras', 1), ('negros.', 1), ('low-lying', 2), ('landslides', 1), ('mountainous', 1), ('areas.', 1), ('rt:', 2), ('40hourfamine:', 1), ('#worldvision', 1), ('m\\x89û_', 1), ('http://t.co/xqdvghz8g6', 1), ('#paraguay', 1), ('http://t.co/aw23wxtyjb', 1), ('http://t.co/abgct9vfua', 1), ('etp', 1), ('funds:', 1), ('w...', 1), ('http://t.co/hszjafxrvi', 1), ('suffering', 1), ('#pakistan', 3), ('floods!', 1), ('#dua', 1), (\"'double\", 1), ('http://t.co/0jfnvaxfph', 1), ('250000', 1), ('http://t.co/lxjjgyv86a', 1), ('https://t.co/u9x3perxco', 1), ('philippines\\x89û_', 1), ('http://t.co/8rdxcfgqem', 1), ('#typhoon', 1), ('memphis', 1), ('http://t.co/a2myutpdiq', 1), ('05.08.2015', 1), ('http://t.co/xrskt0s9lz', 1), ('e1.1.2', 1), ('particulate=break', 1), ('solid', 1), ('combust', 1), ('fossil', 1), ('fuel', 4), ('voltaic', 1), ('active', 1), ('voc=petroleum', 1), ('ch4', 1), ('bacteria', 1), ('decomposition', 1), ('careful', 3), ('beaverton.', 1), ('playlist', 2), ('http://t.co/bcjylerryx', 1), ('ori', 1), ('bind', 1), ('ep', 1), (\"death'\", 1), ('careless', 1), ('match', 2), ('start', 6), ('campfire?', 1), ('wardens', 1), ('http://t.co/aprensss3x', 1), ('pisgah', 3), ('grows', 7), ('375', 3), ('http://t.co/d7zxz42qw1', 1), ('ashenforest', 1), ('floorburnt', 1), ('manzanita', 1), ('timber', 1), ('johnson', 1), ('1.', 2), ('#routecomplex', 2), ('http://t.co/fymp4i2wp5', 1), ('@sweet2young', 1), ('-runs', 1), ('bites', 1), ('neck-', 1), ('@hornybigbadwolf', 1), ('-sets', 1), ('fire-', 1), ('column', 1), ('rising', 4), ('blake', 1), ('http://t.co/yqg5pvw5gx', 1), ('http://t.co/3stfmn26r9', 1), ('http://t.co/dao9azeucr', 1), ('5:15p', 1), (\"'nuff\", 1), ('f/me', 1), ('t/make', 1), ('t/the', 1), ('pet', 1), ('store', 2), ('(n).', 1), ('b/home', 1), ('7p.', 1), ('#socal', 1), ('@ybtheprophet', 1), ('#realhiphop', 1), ('https://t.co/zpsnx5iyaj', 1), ('ruhl', 1), ('38', 1), (\"'frog\", 1), ('modoc', 1), ('forest.', 1), ('temporarily', 1), ('reassigned', 1), ('http://t.co/rgyuakc0dr', 1), ('#naturaldisasters', 1), ('costs:', 1), ('\\x89û_...', 1), ('http://t.co/tqwrw3jqwo', 1), ('@gilmanrocks7', 1), ('rest', 2), ('usually', 4), ('sharply', 1), ('http://t.co/dfyrppzkpu', 1), ('http://t.co/iwsdbgd1zq', 1), ('@nycdivorcelaw', 1), ('denier-', 1), ('algae', 1), ('bloom', 1), ('calif', 1), ('alska-', 1), ('seeweed', 1), ('caribean', 1), ('fires-', 1), ('snowball', 1), ('inhofe', 1), ('spends', 1), ('&gt;50%', 1), ('budget', 7), ('fighting', 7), ('http://t.co/srslcxhc2t', 1), ('http://t.co/d62zfzy0mi', 1), ('http://t.co/tft1bb4xaz', 1), ('reddit:', 1), ('http://t.co/utumvaabz6', 1), ('lightning', 21), ('boise', 2), ('/r/stormcoming', 1), ('spread', 1), ('#palmoil', 1), ('destroying', 1), ('#forest', 1), ('throughout', 1), ('#indonesia', 2), ('http://t.co/4zn0mdsrvp', 1), ('photo:', 7), ('@forest.fires', 1), ('source:', 1), ('http://t.co/awxr24zsqh', 1), ('http://t.co/o9a26fn27y', 1), ('salmon:', 1), ('deny.', 1), ('nightmares', 1), ('http://t.co/rbzomwgjee', 1), ('#bcpoli', 1), ('#canpoli', 1), ('#vanpoli', 1), ('8-5-2015', 1), ('4:30', 1), ('progress', 2), ('fires\\nhttp://t.co/6o1mgmghgt', 1), ('http://t.co/wtpo6elrzd', 1), ('florida', 2), ('deployed', 1), ('contain', 1), ('10!', 1), ('http://t.co/fwup9yurzy', 1), ('pray!', 3), ('fires!', 2), ('rain!', 1), ('@bluejays', 1), ('@braves', 1), ('@angels', 1), ('dumping', 1), ('columbia', 2), ('#heartdisease', 1), ('spending', 4), ('http://t.co/kzfigkeeva', 1), ('consequences:', 1), ('http://t.co/k0qtl8aodh', 1), ('http://t.co/zqbxe7x9y7', 1), ('http://t.co/1hlvrkwgip', 1), ('http://t.co/otfw5sekd7', 1), ('inciweb', 1), ('rogue', 1), ('river-siskiyou', 2), ('8/5/15', 1), ('12:00', 1), ('(rogue', 1), ('nf', 1), ('area\\x89û_', 1), ('http://t.co/lkwxu8qv7n', 1), ('@abbyairshow', 1), ('http://t.co/vxjcx8ukmd', 1), ('fires:', 1), ('ian', 2), ('simpson\\x89û_', 1), ('http://t.co/uyyyrkd6q3', 1), ('campsite', 1), ('recommendations', 1), ('\\ntoilets', 1), ('/shower', 1), ('\\npub', 1), ('\\nfires', 1), ('\\nno', 2), ('\\npizza', 1), ('shop', 3), ('\\nforest', 1), ('\\npretty', 1), ('stream', 2), ('midges\\nno', 1), ('snakes\\nthanks', 1), ('tape', 1), ('there...', 1), ('#straightfire', 1), ('firefighting', 1), ('consumes', 1), ('clash:', 2), ('cites', 1), ('increasing', 2), ('cost', 4), ('http://t.co/lswsitnkuk', 1), ('technique', 1), ('camp\\nb1g', 1), ('@bmurph1019', 1), ('\\n@hail_youtsey', 1), ('@termn8r13', 1), ('\\n#goblue', 1), ('#wrestleon', 1), ('http://t.co/oaskgki6qj', 1), ('(hybrid', 1), ('feat.', 1), ('mike', 2), ('szuter):', 1), ('http://t.co/9e2f7bivle', 1), ('##youtube', 1), ('lzk', 1), ('[wind:', 4), ('hail:', 4), ('0.75', 2), ('in]', 4), ('[ar]', 1), ('8:15', 1), ('http://t.co/auxsmdg1un', 1), ('japton', 2), ('poss...', 2), ('#arwx', 3), ('http://t.co/tim8x9bi0f', 1), ('rnk', 1), ('1.00', 1), ('rockingham', 1), ('stokes', 1), ('[nc]', 1), ('cue', 1), ('massive', 4), ('hail!!', 1), ('outage', 1), ('@wxii', 1), ('davidson', 1), ('county.', 1), ('http://t.co/blppzaiboe', 1), ('@modnao23', 1), ('everything.', 1), ('gotten', 1), ('yet.', 1), ('migraine', 1), ('glasses.', 1), ('hills', 3), (\"1'\", 2), ('winds.', 3), ('affecting', 2), ('sturgis', 2), ('#kotaweather', 2), ('http://t.co/1epiyenqyl', 1), ('overhead', 1), ('oakridge', 1), ('melt', 2), ('hail......#yycstorm', 1), ('@heyitsepark', 1), ('@weathernetwork', 2), ('hail!', 1), ('mass.', 1), ('fruit', 2), ('http://t.co/vbffodtp6m', 1), ('http://t.co/qo3vwfelkp', 1), ('unr', 2), ('&lt;.75', 1), ('weston', 2), ('[wy]', 2), ('custer', 2), ('pennington', 2), ('[sd]', 1), ('7:15', 1), ('p\\x89û_', 1), ('pounded', 1), ('storms', 5), ('https://t.co/2be7bwcmpl', 1), ('hi-res', 1), ('doppler', 1), ('showing', 2), ('edmond', 1), (\"1.25'\", 1), ('60mph', 1), ('possible.', 1), ('#okwx', 7), ('http://t.co/lrx0sdsnhm', 1), ('lawrence', 1), ('meade', 1), ('[s\\x89û_', 1), ('outdoor', 2), ('postering', 1), ('@calgaryfringe', 1), ('#mothernature', 1), ('#hailstorm', 5), ('#rain', 1), ('#yycfringe', 1), ('#killhard', 1), ('#boston', 3), ('produces', 1), ('hailstorm', 11), ('auto-body', 1), ('repair', 4), ('specialists.', 1), ('@peterhowenecn', 1), ('6:30/8:30', 1), ('@necn', 1), ('nixon', 2), ('lives!', 2), ('richard', 2), ('m.', 1), ('tricky', 1), ('dicky', 1), ('hiding', 2), ('he...', 1), ('http://t.co/miusvpxqte', 1), ('@adriasimon_:', 1), ('2....', 1), ('#round2', 1), ('#yycstorm', 2), ('http://t.co/fqqi8gvlq4', 1), ('wicked', 2), ('http://t.co/sxwjyr3k3l', 1), ('http://t.co/aewglvqreh', 1), ('#summer', 1), ('#calgary.', 1), ('#crazyweather', 1), ('http://t.co/xqbwnlbbiu', 1), ('pummel', 1), ('boston', 2), ('http://t.co/jkym9edofc', 1), ('maxi', 1), ('http://t.co/erws6ieldg', 1), ('http://t.co/rzagdnwtah', 1), ('http://t.co/uqettagscu', 1), ('bobcats', 2), ('backyards', 2), ('http://t.co/tmzxopvs94', 1), ('http://t.co/w192wkog1m', 1), ('up...', 1), ('errrr', 1), ('nope!!', 1), ('#notgoingoutinthat', 1), ('#alberta', 2), ('@hellonwheelsamc', 1), ('@how_fans', 1), ('@talkinghell', 1), ('http://t.co/9giaxd6jty', 1), ('ig:', 1), ('http://t.co/2wbivkzjip', 1), ('hailing', 1), ('#hail', 1), ('#haildamage', 1), ('#yycweather', 1), ('#calgary', 2), ('#captureyyc', 1), ('#sto\\x89û_', 1), ('http://t.co/kestuuyc4t', 1), ('http://t.co/pzfbb1p1mj', 1), ('tent.', 1), ('only...', 1), ('http://t.co/zct5cchoj0', 1), ('intense', 1), ('[x-post', 1), ('/r/cityporn]', 1), ('[4608ìñ2474]', 1), ('(\\x89û_', 1), ('http://t.co/8e6xuhrbkh', 1), ('http://t.co/qo190n8udd', 1), ('canada:', 2), ('slam', 1), ('knocks', 1), ('20k', 1), ('customers\\nhttp://t.co/sky9eokggb', 1), ('http://t.co/5iyzsda6xb', 1), ('northeast', 3), ('logan', 2), ('county...', 1), ('#cowx', 1), ('http://t.co/xk9owgv1o5', 1), ('@councilscc', 1), ('storm\\n\\n#jamaicaplain', 1), ('#hailstorm\\x89û_', 1), ('https://t.co/mj8rezoxlj', 1), ('stephen', 1), ('flower', 1), ('pots', 1), ('ripped', 1), ('#iamdowntown', 1), ('http://t.co/hbhx0dwkpc', 1), ('grow', 2), ('avoids', 1), ('http://t.co/hlyhdfwsqb', 1), ('http://t.co/gwsnbmmcqf', 1), ('#jamaicaplain', 1), ('#hailstorm...', 1), ('http://t.co/1fhrrhcimh', 1), ('reviewing', 1), ('policy', 4), ('commuters', 1), ('stranded', 4), ('hail\\x89û_', 1), ('http://t.co/ft7orfa52y', 1), ('http://t.co/dv4mmlso1i', 1), ('lrt', 1), (\"tuesday's\", 1), ('http://t.co/vgf41iupkn', 1), ('@leedsrouge', 1), ('picked!', 1), ('playing', 5), ('fifth', 1), ('harm/kid', 1), ('ink', 1), ('vote:', 1), ('http://t.co/0wratka2jl', 1), ('imagine', 4), ('treating', 1), ('#ebola', 2), ('patient', 2), ('placing', 1), (\"harm's\", 1), ('way.', 2), ('http://t.co/dlizfkk30y', 1), ('bullets', 1), ('harm', 2), ('harms', 1), ('pain.', 4), ('sometimes', 2), ('@malistkiss', 1), ('sunnis', 1), ('righteous', 1), ('continually', 2), ('shias.', 1), ('defeats', 1), ('ideals', 1), ('islam.', 1), ('choking', 1), ('recall', 2), ('kraft', 1), ('singles', 1), ('http://t.co/njlqrqcnl9', 1), ('closures', 3), ('remain', 3), ('torching', 1), ('uphill', 1), ('#1', 2), ('confirmed:', 1), ('sanchez', 1), ('bolasie', 1), ('https://t.co/7ct01neptl', 1), ('@dead_dreamer15', 1), ('...because', 1), (\"that'd\", 1), ('8/6/2015@1:32', 1), ('deans', 1), ('http://t.co/itzzkwfhg5', 1), ('@londonfire', 2), ('..is', 1), ('email', 1), (\"s'thing\", 1), ('hazard/dangerous?', 1), ('8/6/2015@1:08', 1), ('1500', 1), ('wrightsboro', 1), ('http://t.co/dduxthvvnr', 1), ('i-10', 1), ('ms', 1), ('offloading', 1), ('hazardous', 20), ('#taiwan', 2), ('mud', 1), ('unstable', 1), ('and/or', 2), ('saturated', 1), ('slide', 1), ('..very', 1), ('hilly/mountain', 1), ('areas...', 1), ('dlh', 2), ('outlook', 7), ('(hwo)', 7), ('http://t.co/wozubxri2p', 1), ('jax', 1), ('http://t.co/u9fcb8dz3h', 1), ('#foodscare', 2), ('#offers2go', 2), ('#nestleindia', 2), ('slips', 2), ('#magginoodle', 2), ('#ban', 2), ('unsafe', 3), ('#humanconsumption', 2), ('skinny', 3), ('jeans', 3), ('health!', 3), ('http://t.co/92pk0hujd8', 1), ('non-hazardous', 1), ('chemicals', 1), ('holland', 1), ('1916', 1), ('strives', 1), ('maintain', 1), ('eco-friendly', 1), ('existence.', 1), ('#dam', 1), ('#gms', 1), ('olap', 2), ('pres:', 2), ('http://t.co/micjnpuhg0', 1), ('recognize', 2), ('waste', 3), ('multidimensional', 1), ('http://t.co/vddi5chktp', 1), ('http://t.co/4e719w6m4v', 1), ('meg', 2), ('http://t.co/ggn39m60tl', 1), ('caution:', 1), ('breathing', 1), ('health.', 1), ('@theblackshag', 1), ('@dannyoneil', 1), ('toxic...cancer....disease...hazardous', 1), ('waste...noxious...', 1), ('http://t.co/3x6rbqjhn3', 1), ('alive.', 2), ('https://t.co/bjzssw4tid', 1), ('http://t.co/rodpt33xfm', 1), ('eversafe', 1), ('auto', 1), ('rush-hour', 1), ('gridlock', 1), ('jumper-ca\\x89û_', 1), ('http://t.co/0bvk5tub4j', 1), ('mtr', 1), ('http://t.co/tglk2uus2z', 1), ('terwilliger', 1), ('[portland', 1), ('#pp15000266858]', 1), ('17:26', 1), ('#pdx911', 1), ('http://t.co/paqanences', 1), ('#psd', 1), ('#special', 1), ('http://t.co/9xo9mkqqsi', 1), ('multidimensi', 1), ('http://t.co/bp03eafewr', 1), ('http://t.co/a0ad8z5vsr', 1), ('http://t.co/ltma9xqxpx', 1), ('@startelegram:', 1), ('vulnerable', 2), ('http://t.co/k9airfq3ql', 1), ('http://t.co/jdbtlymehy', 1), ('thursday.', 1), ('humidity...', 1), ('#lawx', 1), ('http://t.co/u0sykowvwv', 1), ('apocalpytic', 1), ('breaks', 1), ('http://t.co/y8wloctevc', 1), ('surges', 1), ('http://t.co/irpssresrq', 1), ('@waseembadami', 1), ('condemning', 1), ('\\nmay', 1), ('gv', 1), ('patience', 10), ('heirs.', 1), ('http://t.co/itg84q7vii', 1), ('frightening', 1), ('http://t.co/bdotq8dsln', 1), ('@creationsbykole', 1), ('cork', 1), ('ireland...we', 1), ('today...that', 1), ('@hollywarnexx', 1), ('mini', 2), ('apaz', 1), ('arnhem', 2), ('&lt;p&gt;an', 1), ('unrelenting', 2), ('expand', 1), ('states\\x89û_', 1), ('http://t.co/yhaqa5wxok', 1), ('uae', 1), ('mideast', 1), ('heat-wave;', 1), ('[video]\\nncms', 1), ('thundering', 1), ('visibility....', 1), ('http://t.co/tk65ske0zm', 1), ('@klarajoelsson', 1), ('bummer.', 1), ('tho...', 1), (\"43'c!!\", 1), ('prefer', 1), ('rain...', 1), (':p', 2), ('wave.', 1), ('#squad', 1), ('#revitup', 1), ('#pizzarev', 1), ('http://t.co/bp8bm8xsxw', 1), ('#jackson', 1), ('#ms', 1), ('longest', 4), ('triple-digit', 4), ('http://t.co/ih0awv3l1o', 1), ('forecast!', 1), ('next?', 1), ('http://t.co/xxoupfy8nq', 1), ('http://t.co/a3bjabhqhe', 1), ('@wfaaweather', 1), ('pete', 1), ('pass?', 1), ('month?', 1), ('frisco', 1), ('scouts', 1), ('canoe', 1), ('trip', 2), ('okla.', 1), ('not..', 1), ('sun', 1), ('out..', 1), ('enjoying', 3), ('break', 5), ('cooler', 1), ('temps..', 1), ('over??', 1), ('7amdollela', 1), ('3la', 1), ('kulli', 1), ('7aal', 1), ('ending!', 1), ('though...will', 1), ('impact', 1), ('nbc10', 1), ('@rachelcaine', 1), ('weatherit', 1), ('minds', 1), ('wave?', 1), ('wb', 1), ('compensations', 1), ('(report)', 1), ('http://t.co/wmdihdiz1r', 1), ('palinfoen)', 1), ('adding', 1), ('misery', 1), ('internally-displaced', 1), ('gazans', 1), ('http://t.co/jw3hn9ewft', 1), ('@presstv', 1), ('http://t.co/nywrkrq7kn', 1), ('dallas:', 1), ('will...', 1), ('http://t.co/s4srgrmqcz', 1), ('http://t.co/xc96rwuszb', 1), ('http://t.co/xm9stfzcpv', 1), ('warfare', 1), ('founding', 1), ('weather...', 1), ('http://t.co/tgtcru8jio', 1), ('prophet', 2), ('(peace', 2), ('upon', 3), ('him)', 2), (\"'save\", 2), ('hellfire', 3), (\"charity.'\", 2), ('surrounded', 2), ('desires', 2), ('#afterlife', 1), ('@gg_keeponrockin', 1), ('@strawberrysoryu', 1), ('okay', 2), ('suspicious.', 1), ('sorry.', 1), ('check', 7), ('out!', 4), ('#allah', 1), ('describes', 1), ('piling', 1), ('#wealth', 1), ('#forever', 1), ('description', 1), ('#hellfire', 2), ('surah', 1), ('humaza.', 1), ('#reflect', 1), ('fel', 1), ('zakuun', 1), ('#wod', 1), ('http://t.co/x1onv3d5ux', 1), ('hellfire!', 1), ('let\\x89ûªs', 1), ('#islam!', 1), ('tension', 7), ('jonathan', 10), ('hijack', 16), ('pdp', 6), ('http://t.co/comlg0vdbv', 1), ('poll:', 1), ('pdp:', 1), ('http://t.co/86rsyy2tng', 1), ('@dreamoforgonon', 1), ('@teeess', 1), ('bona', 1), ('fide', 1), ('cislady', 1), ('true;', 1), ('incidental', 1), ('homosexuality', 1), ('=/=', 1), ('gay/bi', 1), ('women.', 1), ('posted', 2), ('about:', 1), ('criminals', 6), ('lorries', 4), ('(photo)', 3), ('http://t.co/5ytiex55lh', 1), ('@donjazzy', 1), ('@policeng', 1), ('#humanrights', 1), ('https://t.co/xyfl8wy62g', 1), ('http://t.co/lrtu8rwn2f', 1), ('http://t.co/epabinczmj', 1), ('http://t.co/1sgzgtgfw9', 1), ('ex-president', 1), ('goodluck', 1), ('dame', 1), ('all...', 1), ('http://t.co/hashgqafic', 1), ('http://t.co/rjac5sitep', 1), ('http://t.co/plqf1biks4', 1), ('enugu:', 1), ('according', 4), ('nigerian', 14), ('force...', 1), ('http://t.co/ffkcj8pfj2', 1), ('@music212', 1), ('{:en}tension', 1), ('apcåêpdp{:}', 1), ('http://t.co/w1ufeibala', 1), ('http://t.co/biulqprxke', 1), ('swansea', 2), ('\\x89û÷plot', 2), ('transfer', 2), ('southampton', 3), ('virgil', 2), ('dijk\\x89ûª', 2), ('http://t.co/pvmr38lnva', 2), ('#latestnews:', 1), ('http://t.co/qxxn6rksp6', 1), ('http://t.co/b3x1wqzaor', 1), ('http://t.co/nipzmflibd', 1), ('governor', 11), ('allows', 9), ('parole', 12), ('hijacker', 16), ('http://t.co/jwfiilj8wr', 1), ('liveleakfun', 1), ('http://t.co/ionwarvrfy', 1), ('1976.', 1), ('http://t.co/hdahlgrprl', 1), ('http://t.co/z1s3t77p3l', 1), ('http://t.co/vbqmz5apwj', 1), ('linkury', 2), ('browser', 2), ('http://t.co/c2eyjnybfn', 1), ('http://t.co/gt7gf0fsex', 1), ('hijacker-turned-sat-tutor', 1), ('evaded', 1), ('http://t.co/csxvwxuz6t', 1), ('@slate', 2), ('http://t.co/dzlpnp399x', 1), ('http://t.co/likwqhshhx', 1), ('chills', 1), ('parents', 4), ('given', 3), ('39', 1), ('http://t.co/hmrt98oydj', 1), ('http://t.co/jab541hhk0', 1), ('http://t.co/je6zjwh5ub', 1), ('http://t.co/fdxgmiwaeh', 1), ('http://t.co/u4bdy1w7d4', 1), ('medieval', 2), ('testa:', 1), ('earnings', 1), ('distinction', 1), ('divers:', 1), ('htarvrgly', 1), ('stands', 1), ('http://t.co/kpivxgjnqt', 1), ('#sacramento', 1), ('hijacker:', 1), ('local...', 1), ('http://t.co/tam6aoskoj', 1), ('http://t.co/el24mnfchw', 1), ('\\x89û÷hijacker', 1), ('cops\\x89ûª', 1), ('dock', 1), ('http://t.co/9i5cczd5s0', 1), ('http://t.co/weatrrihe1', 1), ('http://t.co/n71hmvervv', 1), ('weighs', 1), ('http://t.co/yfppifdkqo', 1), ('http://t.co/ajyulmftif', 1), ('http://t.co/fz8ytwqkwv', 1), ('#fresno', 1), ('notexplained:', 1), ('image', 5), ('infamous', 1), ('d.b.', 1), ('cooper.', 1), ('http://t.co/jlzk2hdetg', 1), ('shell:', 1), ('casting', 1), ('deviating:', 1), ('dyxtmrydu', 1), ('http://t.co/taxuxp9qa2', 1), ('murderous', 5), ('america\\x89ûªs', 5), ('hijacking', 14), ('http://t.co/cbps1gskvo', 1), ('#hot', 13), ('funtenna:', 5), ('computers', 5), ('[black', 5), ('hat', 5), ('2015]', 5), ('http://t.co/j2aqs5loxu', 1), ('#prebreak', 13), ('#best', 13), ('hijacking:', 1), ('earnest', 1), ('pletch\\x89ûªs', 1), ('cold-blooded', 1), ('http://t.co/b9jaxx0vcf', 1), ('http://t.co/eyugk6byxr', 1), ('\\x89û÷good', 2), ('samaritans\\x89ûª', 2), ('johannesburg.', 1), ('&amp;mdash;', 1), ('bronville', 1), ('state\\x89û_', 1), ('http://t.co/6jjvcdn4ti', 1), ('http://t.co/qj3pvgavn7', 1), ('koreans', 1), ('performing', 1), ('tokyo', 1), ('games.https://t.co/apksnplxzj', 1), ('vosloorus', 1), ('gauteng', 1), ('2015-08-05', 1), ('23:00', 1), ('toyota', 1), ('conquest', 1), ('bkb066gp', 1), ('http://t.co/odmp01eyzu', 1), ('@drsarwatzaib070', 1), ('on.', 1), ('ik', 1), ('mcourt', 1), ('parliment', 1), ('station.', 1), ('http://t.co/comuiok3mp', 1), ('http://t.co/xv3d9bpjhi', 1), ('http://t.co/jmawrlt7hb', 1), ('http://t.co/v5yuualoqw', 1), ('#263chat', 1), ('#twimbos', 1), ('zimpapersviews', 1), ('http://t.co/lk5uqkop1e', 1), ('http://t.co/umgd92wlja', 1), ('egyptian', 1), ('tied', 1), ('threaten', 2), ('croatian', 3), ('(new', 1), ('times)', 2), ('http://t.co/gtxndnjrrl', 1), ('(1717', 1), ('gmt)', 1), ('threatens', 7), ('\\x89û÷muslim', 1), ('women\\x89ûª', 1), ('aren\\x89ûªt', 1), ('http://t.co/48zg5ynebn...', 1), ('quoted', 1), ('here--&gt;cnn:', 1), ('purported', 1), ('http://t.co/swvuzxi6gt', 1), ('egypt', 4), ('croat', 3), ('http://t.co/nzifztcugl', 1), (\"'isis\", 1), (\"video'\", 1), ('europe', 2), ('http://t.co/wk6b5z803o', 1), ('@evahanderek', 1), ('@marleyknysh', 1), ('held', 4), ('parking', 1), ('lmfao', 1), ('1974', 2), ('british...', 1), ('http://t.co/xcq48ourvl', 1), ('http://t.co/vdgfxyx3bw', 1), ('murfreesboro', 1), ('peeps-', 1), ('lockdown', 1), ('rumor?', 1), ('http://t.co/eioqjwgeix', 1), ('@mylittlepwnies3', 1), ('@early__may', 1), ('@anathemazhiv', 1), ('@tonysandos', 1), ('80s', 1), ('attack/', 1), ('crisis/', 1), ('pan', 1), ('lunch', 1), ('bartender', 1), ('number.', 1), ('@pmarca', 1), ('affiliation', 2), ('fees.', 1), ('behead', 1), ('tlvfaces', 1), ('tlvfaces#auspol', 1), ('http://t.co/a6ppegelox', 1), ('recovered', 1), ('airasia', 1), ('wreckage.', 1), ('hostages', 20), ('unharmed:', 1), ('denied', 1), ('nationals', 1), ('who\\x89û_', 1), ('http://t.co/ex4fnjjl6h', 1), ('c-130', 10), ('specially', 10), ('modified', 10), ('stadium', 10), ('1980', 8), ('http://t.co/wpgvayfkbq', 1), ('http://t.co/6ioabsl6i7', 1), ('@hannahkauthor', 1), ('read:', 1), ('chronicle', 1), ('#freeamirnow', 1), ('#freeallfour', 1), ('#hostages', 4), ('#iran', 3), ('http://t.co/gwnlhneku9', 1), ('http://t.co/jkd7cti2iw', 1), ('http://t.co/lajn2n5e2d', 1), ('stood', 1), ('superiority', 1), ('\\nunconditional', 1), ('surrender', 1), ('putin\\ngame', 1), ('match\\nrelease', 1), ('sinjar', 3), ('massacre', 22), ('yazidis', 2), ('overåêhostages', 1), ('http://t.co/carvv6gsrb', 1), ('http://t.co/lan76zqkxg', 1), ('http://t.co/zlco4ue5oq', 1), ('http://t.co/w0exzad5gc', 1), ('1980...', 1), ('http://t.co/tni92fea3u', 1), ('http://t.co/czbamzq3gl', 1), ('#libya\\n\\nhttp://t.co/exil1bkzmp\\n\\n#india', 1), ('#terrorism', 4), ('#africa', 6), ('#ap', 3), ('#ts', 3), ('#nri', 3), ('#trs', 3), ('#tdp', 3), ('#bjp', 3), ('http://t.co/ehomn68ojb', 1), ('http://t.co/q4q8xsyzob', 1), ('1980:', 1), ('submitt...', 1), ('http://t.co/nbugsmqlrg', 1), ('#aviationaddicts', 1), ('holmgren:', 1), ('referred', 1), (\"situation.'\", 1), (\"lou's\", 1), (\"'hostages.'\", 1), ('barak', 1), ('depends', 1), ('voting', 1), ('hostages.', 1), ('@minhazmerchant', 1), ('job', 2), ('http://t.co/fqwtsxlkrz', 1), ('#sinjar', 2), ('#yazidis', 2), ('http://t.co/jhoahpbpq4', 1), ('#libya\\n\\nhttp://t.co/bjjoifzuhl\\n\\n#india', 1), ('http://t.co/iywzallsn4', 1), ('cruz:', 1), ('\\x89û÷leaves', 1), ('languishing', 1), ('iran\\x89ûª', 1), ('http://t.co/exsqijf4ny', 1), ('#noirandeal', 1), ('#tedcruz2016', 1), ('http://t.co/y7sipkb1kd', 1), ('178', 1), ('boko', 3), ('haram', 3), ('bulletin:', 1), ('florid...', 1), ('http://t.co/kctigymahl', 1), ('#security', 1), ('#libya\\n\\nhttp://t.co/k9fbtccu58\\n\\n#india', 1), ('http://t.co/xyj0rpsai2', 1), ('hostages\\nhttp://t.co/baqocmcjqc', 1), ('http://t.co/flqxd3q5py', 1), ('http://t.co/onvd9d4nkg', 1), (\"cont'd-\", 1), ('#sinjar:', 1), ('referring', 2), ('40-pg', 1), ('document', 1), ('movt', 1), ('#yazidi', 2), ('#is', 1), ('[2]', 1), ('@nervana_1', 1), ('\\nas', 1), ('previous', 2), ('behaviour', 1), ('jan/aq', 1), ('pleasantly', 1), ('div', 1), ('fought', 1), ('jan/aq.', 1), ('@zaynmaiikist', 1), ('guillermo', 3), ('noaa', 3), ('tracking', 3), ('looping', 3), ('wed.aug.5th', 3), ('http://t.co/rjopjkbydr', 1), ('http://t.co/nufdgw9yev', 1), ('http://t.co/2okscwyohc', 1), ('http://t.co/ut7r2ixrjq', 1), ('http://t.co/v3z96ydmvd', 1), ('http://t.co/kxslftz2i5', 1), ('@hurricane_dame', 1), ('@lavapixcom', 1), ('#hurricane', 3), ('#guillermo', 3), ('#meteoearth?', 2), ('http://t.co/mfckpvzfv8', 2), ('@chubbysquirrel_', 1), ('@hurricane_surge', 1), ('&gt;:33333', 1), ('30stm', 1), ('quem', 1), ('lembra', 1), ('hurricane??', 1), ('sick!', 1), ('coral', 1), ('mock', 1), ('http://t.co/gtycqyfuam', 1), ('http://t.co/qwd5pvgjbo', 1), ('https://t.co/bftou2nybw', 1), ('sunburned', 1), (':(', 2), ('@vinustrip', 1), ('levels', 2), ('style..', 1), ('hurricane/typhoon', 1), ('ratings/categories', 1), ('defined', 1), ('http://t.co/odydt9qpk1', 1), ('angelriveralib\\x89û_', 1), ('#snowden', 1), (\"'may\", 1), (\"have'\", 1), ('laws?', 1), ('katrina', 1), ('http://t.co/jaawuiovdc', 1), ('snowden', 1), ('h\\x89û_', 1), ('hwrf', 1), ('absolutely', 2), ('lashes', 1), ('taipei', 1), ('surge', 3), (\"20'\", 1), ('all!!!', 1), ('http://t.co/cnkvile7be', 1), ('@pattonoswalt', 1), ('fecal', 1), ('scifi?', 1), ('turdnado.', 1), ('forgeting', 1), ('lately.', 1), ('http://t.co/aurugjegiq', 1), ('http://t.co/l3w8mipvnt', 1), ('http://t.co/o85m1bjfrw', 1), ('#kick', 1), ('seriously', 2), ('#simple', 1), ('websites:', 1), ('http://t.co/x8w7tf6fhg', 1), ('looking', 2), ('simple', 1), ('http://t.co/9nz9zfm93i', 1), ('@hurricane_dolce', 1), ('prob', 1), ('ashley', 1), ('friday.', 2), ('http://t.co/scefpfvaeu', 1), ('injured\\n\\nsuspected', 1), ('http://t.co/1o0j9fcpbi', 1), ('update:m.e.', 1), ('pulled', 3), ('91', 1), ('edna', 1), ('jefferson&amp;doris', 1), ('sherfield72.', 1), ('http://t.co/l6nslzl7mi', 1), ('unlicensed', 1), ('http://t.co/woc6akehyx', 1), ('urogyn', 1), ('mesh', 1), ('offenders.', 1), ('http://t.co/npoqlkqup9', 1), ('@meshnewsdesk', 1), ('yelp', 1), ('bolsters', 1), ('reviews', 2), ('investigative', 1), ('journalism:', 1), ('patients', 1), ('http://t.co/e8aegofdy2', 1), ('post;', 2), ('http://t.co/lxmdiseucn', 1), ('#yug', 1), ('@suryaray', 1), ('injured:\\x89û_', 1), ('http://t.co/ptq3zmgnck', 1), ('#suryaray', 1), ('stories', 4), ('leveled', 4), ('war\\x89û_', 1), ('http://t.co/p3o71dz992', 1), ('http://t.co/geeknwjjsz', 1), ('http://t.co/qr3ypekfoe', 1), ('\\nseems', 1), ('government..', 1), ('http://t.co/zmwecbwvao', 1), ('blevins', 1), ('curb.', 1), ('pro', 1), ('player', 2), ('injured:', 3), ('p...', 3), ('http://t.co/fphfesemyj', 1), ('offers', 1), ('http://t.co/gl3c1vc88p', 1), ('#8392', 1), ('deluxe', 1), ('toilet', 2), ('support/health/home/bathroom/support/elderly/injured/s\\x89û_', 1), ('http://t.co/vihdoksccc', 1), ('http://t.co/vjxa13n8ap', 1), ('ogun', 1), ('smugglers', 1), ('engage', 1), ('customs', 1), ('shootoutåê:', 1), ('allegedly', 1), ('http://t.co/puxbc2loyk', 1), ('#rt', 2), ('@christiec733', 1), ('cosponsor', 2), ('928', 2), ('9/11', 3), ('responders!', 2), ('#renew911health', 2), ('http://t.co/axxdcakzty', 1), ('http://t.co/l53oabeqc9', 1), ('http://t.co/q3izqdk1n0', 1), ('@thehammers_', 1), ('@tonycottee1986', 1), ('alsowhat', 1), ('players', 1), ('injured?then', 1), ('bilic', 1), ('slated', 1), ('themhe', 1), ('win', 3), ('http://t.co/cekbxjmpbj', 1), ('#breakingnews', 3), ('http://t.co/eqccrtlnbd', 1), ('@wearethenews', 1), ('http://t.co/cwm0ulqu3e', 1), ('girls', 2), ('wreak', 1), ('wearing', 1), ('seatbelt!!!...', 1), ('http://t.co/njqv45nds2', 1), ('attended', 1), ('romford', 1), ('http://t.co/iyjejop2wi', 1), ('peel', 1), ('male', 1), ('southdown', 1), ('royal', 1), ('windsor', 1), ('mississauga.', 1), ('non', 2), ('nyack', 1), ('pineview', 1), ('railroad', 1), ('crossing', 1), ('vs.', 1), ('#nj36', 1), ('cr', 1), ('516/leonardville', 1), ('http://t.co/2xwihy2wsg', 1), ('carterville', 1), ('game-day', 1), ('http://t.co/kkimmbue04', 1), ('@msnbc', 1), ('idiot.', 1), ('hatchet', 2), ('terminated', 1), ('him.', 1), ('sport', 2), ('cycling', 2), ('related:', 1), ('director', 1), ('ns', 1), ('http://t.co/8ddijzynkf', 1), ('#ns', 1), ('http://t.co/52uus4tfn3', 1), ('golf', 1), ('summer?', 1), ('http://t.co/f1r5isbvks', 1), ('cleared:incident', 2), ('injury:i-495', 4), ('inner', 4), ('loop', 4), ('97/georgia', 4), ('silver', 5), ('spring', 9), ('wilshere', 1), ('recordand', 1), ('behaviors', 1), ('help.#arsenal', 1), ('law\\x89ûónegligence', 1), ('fireworks', 1), ('incidents', 1), ('http://t.co/d5w2zynp7b', 1), ('prediction', 2), ('vikings', 1), ('sunday....dont', 1), ('lot.', 1), ('infact', 1), ('zimmer', 1), ('goal', 1), ('is....injury', 1), ('dante', 1), (\"exum's\", 1), ('knee', 2), ('stem', 1), (\"jazz's\", 1), ('hoped-for', 1), ('http://t.co/8pifutrb5u', 1), ('@adamrubinespn', 1), ('familia:', 1), ('case?', 1), ('@sport_en', 1), ('injury.', 1), ('shops', 1), ('inundated', 5), ('dented', 1), ('hail...', 1), ('pays...', 1), ('stuck', 2), ('deductible', 1), ('!\\n#wcvb', 1), ('#bangladeshaffected', 1), ('waters-land', 1), ('rivers', 1), ('tide', 1), ('#bangladeshflood', 1), (\"myanmar's\", 1), ('urged', 1), ('delta', 1), ('coun\\x89û_', 1), ('wonder.', 1), ('pornhub', 1), ('inundated....)', 1), ('http://t.co/gghfx8pzmh', 1), ('@ledofficial1', 1), ('requests', 1), ('samples', 1), (\"we'd\", 1), ('sweets', 1), ('@bilsko', 1), ('suddenly', 2), ('@humofthecity', 1), ('http://t.co/jzwrwlvlsj', 1), ('\\nhttp://t.co/ot3bjjhh8s', 1), ('platform:', 1), ('http://t.co/vulrclw7bd', 1), ('realtime', 1), ('inundation', 1), ('efforts', 3), ('@kemal_atlay', 1), ('.sink', 1), ('holes', 1), ('earth', 1), ('slides', 1), ('avalanches&gt;&gt;https://t.co/xrrlnhelap\\n#allah', 1), ('#sinkhole', 1), ('#landslide', 2), ('#france', 1), ('#emsc', 1), ('@martinmj22', 1), ('@yougov', 1), ('seat', 1), ('36%', 1), ('vote', 2), ('landslide?', 1), ('veteran', 2), ('loose', 3), ('dundee', 3), ('moment:', 1), ('bullets\\x89û_', 1), ('http://t.co/sxmlg3xdvx', 1), ('inbounds/', 1), ('bounds:\\n\\nwhile', 1), ('picked', 2), ('nats', 1), ('nl', 1), ('sit', 1), ('http://t.co/l0deocxu6o', 1), ('11:30bst', 1), ('traffic:', 1), ('a10&gt;paris', 1), ('a40', 1), ('geneva', 2), ('a7', 1), ('mons', 1), ('a1', 1), ('hamburg', 1), ('a2&gt;hanover', 1), ('a5', 2), ('karlsruhe', 1), ('gotthard', 1), ('n/b', 1), ('http://t.co/yoi9tocxiq', 1), ('latest:', 31), ('venice', 2), ('http://t.co/bccca4vy9r', 1), ('freebesieged:', 1), ('.martinmj22', 1), ('yougov', 1), (\"'#tory\", 1), (\"landslide'\", 1), ('possibly', 1), ('wafer-thin', 1), ('#g\\x89û_', 1), ('http://t.co/2q3fuerey5', 1), ('http://t.co/y7rv0til1w', 1), ('method', 1), ('contemplation', 1), ('bridal', 1), ('landslide:', 1), ('wiwnpfxa', 1), ('http://t.co/xysnxum29t', 1), ('sleeper', 1), ('de-railing', 1), ('#flashflood', 1), ('gilgit', 1), ('farmland', 1), ('bridges', 1), ('#365disasters', 1), ('http://t.co/911f3ixrh0', 1), ('italy:', 2), ('italian', 4), ('alps:', 1), ('http://t.co/42mawzb8t9', 1), ('heavyåêrain', 1), ('http://t.co/q3xq8r658r', 1), ('lava', 5), ('lamps.', 1), ('erupting', 1), ('pixar', 1), ('http://t.co/g4schqfest', 1), ('http://t.co/to9viqoofv', 1), ('@youngheroesid', 2), ('dan', 3), ('#pantherattack', 2), ('@cunayyh', 1), ('@taufikcj', 1), ('@mirmanda11', 1), ('@evaaasr', 1), ('pinpoint', 2), ('foothill', 1), ('forecast.', 2), ('http://t.co/ctijdpxabk', 1), ('serious!', 1), ('guthrie', 1), ('evening', 3), ('op.', 1), ('http://t.co/hcwrk81p71', 1), ('evening.', 2), ('assumes', 1), ('type.', 1), ('hmm?', 1), ('@random_tourist', 1), ('rained.', 1), ('jackholes', 1), ('drove', 2), ('streets.', 1), ('gusty', 4), ('downpours', 2), ('http://t.co/jyxafd4knk', 1), ('daily:', 1), ('reshapes', 2), ('reshape', 1), (\"mineral's\", 1), ('crystal', 1), ('http://t.co/tezltqeyw2', 1), ('blink', 1), ('http://t.co/d4c2iqirnu', 1), ('vivid', 1), ('triad', 1), ('http://t.co/jmu5uyamdu', 1), ('vancouveråêisland', 1), ('http://t.co/vdiliicyr5', 1), ('http://t.co/z5cfrwado6', 1), ('http://t.co/idasyjybro', 1), ('http://t.co/gdoaolpq91', 1), ('cell', 1), ('http://t.co/ioq051t5te', 1), ('#629', 1), ('8-pin', 1), ('2.1a', 1), ('charger', 1), ('apple', 1), ('5s', 1), ('5c', 1), ('6+', 1), ('http://t.co/klxaucnp5i', 1), ('book', 1), ('joe', 1), ('autobiography', 1), ('j.', 1), ('lawton', 1), ('collins', 1), ('http://t.co/r4kheh7iaf', 1), ('http://t.co/qszgjfuutu', 1), ('/r/pics', 2), ('http://t.co/idmhswewqw', 2), ('#pics', 2), ('http://t.co/wwxcob52zi', 1), ('http://t.co/l1gh8064yv', 1), ('#scichat', 1), ('@chibi877', 1), ('--head.', 1), ('bang.', 1), (\"'language!'\", 1), ('shouted', 1), ('stay--', 1), ('tianta_:', 1), ('news!', 3), ('unconfirmed!', 3), ('bang', 6), ('nearby.', 3), ('appears', 3), (\"neighbour's\", 3), ('ass.', 4), ('now;', 1), ('me\\x89û_turns', 1), ('glass.', 1), ('jrowah:', 1), ('peacefully', 2), ('daviesmutia:', 1), ('steel', 1), ('cafetiere', 1), ('table', 1), ('clean', 1), ('crockery', 1), ('phone\\ntablet.', 1), ('how?', 1), ('@samanthaturne19', 2), ('was...', 1), ('nagaski', 1), ('sanctioned', 1), ('forgiven', 1), ('won...', 1), ('@tanstaafl23', 1), (\"'impulse'\", 1), ('murder.', 3), ('correlation', 1), ('imply', 1), ('causation.', 1), ('@coldmpress', 1), ('commiting', 1), ('tonight?', 1), ('publicizing', 1), ('helping.', 1), ('iit', 1), ('logically', 1), ('call...', 1), ('maybe...', 1), ('sanction', 1), ('systems.', 1), ('rejects', 1), ('innocents', 1), ('explicitly', 1), ('endorses', 2), ('behavior.', 1), ('https://t.co/qadrkejz9t', 1), ('@doctordryadma', 1), ('owenrbroadhurst', 1), ('juanmthompson:', 1), ('hist\\x89û_', 1), ('http://t.co/odws0waw9q', 1), ('abortion', 1), ('blowjobs', 1), ('cannibalism', 1), ('masturbation', 1), ('genocide.', 1), ('@d1ff3r3nt1sg00d', 1), ('@riceechrispies', 1), ('@tuicruises', 1), ('@aida_de', 1), ('cruise', 1), ('supports', 1), ('whales', 2), ('#faroe', 1), ('islands!!', 1), (\"'everything\", 1), ('(cont)', 1), ('http://t.co/3a3fgzfmzh', 1), (\"history's\", 1), ('examples', 1), ('http://t.co/tmogti6fb4', 1), ('#atombomb', 1), ('weapons?', 1), ('domination', 1), ('coffee.', 1), (\"how's\", 1), ('going?', 1), ('http://t.co/c1h7jecfrv', 2), ('@royalcarribean', 2), ('#faroeislands', 2), ('year?', 2), ('@noah_anyname', 1), ('utopian', 1), ('impulse', 1), ('inevitably', 1), ('ends', 1), ('gulags', 1), ('urgent!', 1), ('#wildhorses!', 1), ('--&gt;', 2), ('http://t.co/14wh0pjj2c', 1), ('@cnn', 1), ('@cbc', 1), ('@flgovscott', 1), ('farrakhan', 1), ('challenge', 2), ('10000', 1), ('males', 1), ('commit', 2), ('miami?', 1), ('http://t.co/gv84wnhb7s', 1), ('@yelllowheather', 1), ('controlled', 1), ('fine.', 1), ('crowd', 2), ('undeserving', 1), (\"isn't.\", 1), ('@re_shrimplevy', 1), ('@jakegint', 1), ('bothered', 1), ('traditionalist.', 1), ('@montalbanony', 1), ('cop.', 1), ('wed', 1), ('make.', 1), ('@billy_hodge', 1), ('aurora', 1), ('trial:', 1), ('notoriety', 1), ('http://t.co/1rpchru72c', 1), ('#debatequestionswewanttohear', 2), ('murder?\\n#wahhabism', 1), ('word', 2), (\"'mass\", 1), (\"murder'\", 1), ('applies', 1), ('horrendous', 1), ('none', 1), ('less.', 1), ('https://t.co/sb3rjqqzix', 1), ('apparent', 2), ('mentally', 1), ('ill', 1), ('blah', 3), ('#antioch', 2), ('hiroshima:', 2), ('history.', 3), ('forget.', 1), ('http://t.co/jlu2j5qs8u', 1), ('kach', 1), ('belonged', 3), ('baruch', 2), ('goldstein', 1), ('murderer', 13), ('1994', 1), ('palestinian\\x89û_', 1), ('http://t.co/bxgnq57xvb', 1), ('@trillac_', 1), ('che', 1), ('guevara', 1), ('greeting', 1), ('korea', 1), (\"http://t.co/gljbnsfgll'\", 1), ('#gunsense', 1), (\"#gfz's:\", 1), ('minuscule', 1), ('https://t.co/qeopmcjbcz', 1), ('#theatershooting', 1), ('defendant/mass', 1), ('chose', 1), ('testify', 1), ('therefore', 1), ('cross-exam', 1), ('jury', 1), ('tirelessly', 1), ('problem?', 1), ('conveniently', 1), (\"'forget'\", 1), ('zionists', 1), ('revere', 1), (\"'honour'\", 1), ('goldstein.', 1), ('https://t.co/3kob7xbea0', 1), ('#movietheatre', 1), ('wanna-be', 1), ('play', 2), ('#615!', 1), ('julian', 1), ('knight', 1), ('@scvsupremecourt', 1), ('dismisses', 1), (\"murderer's\", 1), ('attempt', 1), ('prisoner', 1), ('pay.', 1), ('challenged', 1), ('quantum', 1), ('5%', 1), ('2013.', 1), ('@bettyfreedoms', 1), ('@abninfvet', 1), ('hillary', 1), ('murderer.', 4), ('reminder:', 1), ('supremacist', 1), ('anders', 1), ('breivik', 1), ('unsurprisingly', 1), ('anti-feminist.\\nhttp://t.co/1lxnjvl8tr', 1), ('http://t.co/xpddwh5tem', 1), ('@neanderrebel', 1), ('suit', 1), ('surprised', 1), ('democrat', 1), ('mass-murderer', 1), ('dissuaded', 1), ('murderer?', 1), ('https://t.co/4cog0otiwn', 1), ('@frautrapani', 1), ('chairman', 1), ('vaccine', 1), ('http://t.co/x713omh6ai', 1), ('https://t.co/owpd7vcfs6', 1), ('@blairmcdougall', 1), ('commenting', 1), (\"taylor's\", 1), ('dealings', 1), ('arkan?', 1), ('@afk_10', 1), ('@dr_johanfranzen', 1), ('orchs.', 1), ('tyrant.', 1), ('@cameron_wate\\n', 1), ('copycat', 4), ('massacre\\n\\nhttp://t.co/lvlh3w3awo\\n#antioch\\n\\nhttp://t.co/viwxy1xdyk', 4), ('tunisian', 1), ('bardo', 1), ('museum', 3), ('http://t.co/1fvootqnej', 1), ('surviving', 1), ('http://t.co/qzcut7bvkt', 1), ('@abc3340', 1), ('\\nparents', 3), ('sikh', 1), ('hate-violence', 1), ('prevention', 1), ('@dviyer', 1), ('@colorlines', 1), ('http://t.co/nlbltynv36', 1), ('http://t.co/bjrrqhhohl', 1), ('forgotten', 3), ('?\\nhttp://t.co/wuh1g2blp1\\n#??_????_?????', 1), ('#yazidi_shingal_genocide', 1), ('#ezidigenocide', 1), ('mitigating', 1), ('http://t.co/75vlsw85gi', 1), ('http://t.co/txy3us2ejs', 1), ('uninvestigated', 1), ('years:', 1), ('incite', 1), ('1965', 1), ('indonesia', 1), ('massacre?', 1), ('http://t.co/ezbtg81trz', 1), ('@kabarmesir', 1), ('@badr58', 1), ('\\nnever', 1), ('rabaa', 1), ('revolution', 1), ('observed.\\n#rememberrabaa', 1), ('bestie', 1), ('chainsaw', 1), ('petition/no', 1), ('medals', 2), ('1890', 1), ('justice', 2), ('native', 1), ('americans!', 1), ('http://t.co/uilpg8i1ev', 1), ('http://t.co/m9pxto2kww', 1), ('massacre!!', 1), ('\\nbodies', 1), ('\\nwhat', 1), ('shells', 1), ('\\npicking', 1), ('bones', 1), ('nanking', 1), ('massacre-4', 1), ('eyewitnesses', 1), ('(english):', 1), ('http://t.co/tipndempuz', 1), ('#obama', 2), ('#clinton', 1), ('#bush', 1), ('#abc', 2), ('#cbs', 1), ('#bbc', 2), ('#cnn', 1), ('#wsj', 1), ('#wpo', 1), ('http://t.co/qw8qk165sb', 1), ('tunisia', 1), ('march', 2), ('http://t.co/kurqlxfihl', 1), ('@freddiedeboer', 1), ('@thucydiplease', 1), ('coates', 1), ('charleston', 1), ('walter', 1), ('scott', 3), ('broadly', 1), ('@gigagil', 1), ('iof', 1), ('murdered', 6), ('513', 1), ('(70%', 1), ('12)', 1), ('zionist', 1), ('morality-zionism', 1), ('evil!', 1), ('sousse', 1), ('tunis', 1), ('http://t.co/myhhthsli3', 1), ('@barackobama', 1), ('rescind', 1), (\"'honor'\", 1), ('knee.', 1), ('rt!', 1), ('https://t.co/u4r8driuac', 1), ('@nataliealund', 1), ('@wkrn', 1), ('@martynwaites', 1), ('well-known', 1), (\"valentine's\", 1), ('avoided', 1), (\"'oompah-period'\", 1), ('tom', 1), ('waits.', 1), ('martyrs', 1), ('massacre:', 1), ('young\\x89û_', 1), ('http://t.co/nux5xfpv2d', 1), ('spså¨', 1), ('@itsjustinstuart', 1), ('http://t.co/odv3rqs8ju', 1), ('mayhem!', 1), ('asbury', 1), ('http://t.co/dadz5zfo1g', 1), ('@asburyparkpress', 1), ('http://t.co/h31knuwzz5', 1), (\"ol'\", 1), ('meltdown', 6), ('victory', 2), ('mets.', 1), ('@tinybaby', 1), ('@adultblackmale', 1), ('@mattytalks', 1), ('mwednesday', 1), ('http://t.co/dgatkrdyny', 1), ('@seagull07', 1), ('@aleisstokes', 1), ('@intelligencebar', 1), ('byproduct', 1), ('price', 4), ('http://t.co/czwjw4uv7i', 1), ('opposition', 1), ('http://t.co/c0t7rvotkj', 1), ('@examinercom', 1), ('senator', 3), (\"'alarmed'\", 1), ('harassed:', 1), ('alarmed', 1), ('by\\x89û_', 1), ('http://t.co/sbila2yqjq', 1), ('@univsfoundation', 1), ('experiments', 5), ('731', 5), ('http://t.co/vvplfqv58p', 5), ('http://t.co/rwaph6dauv', 1), ('@kiranahmedd', 1), ('nato', 1), ('talibans', 1), ('@stfxuniversity', 1), ('http://t.co/l5awtundhm', 1), ('@2for1lapdances', 1), ('http://t.co/yompxjpptv', 1), ('courageous', 1), ('honest', 1), ('surrender.', 1), ('https://t.co/vhmtytptgr', 1), ('@universityoflaw', 1), ('http://t.co/eg1fskqbv6', 1), ('@cochisecollege', 1), ('http://t.co/ldx9ukngsk', 1), (\"'it\", 2), (\"mudslide!'\", 1), ('#gbbo', 4), ('belter!', 1), ('sterling-scott', 1), ('fundraiser', 1), (\"'oso\", 1), (\"mudslide'\", 2), ('https://t.co/ma4ra7atql', 1), ('http://t.co/cg579wldne', 1), ('@marc_holl', 1), ('@nennicook', 1), ('@aitchkaycee', 1), ('@vixstuart', 1), ('@benjbeckwith', 1), ('??#disaster', 1), ('#mudslide', 2), ('thing!', 1), ('#greatbritishbakeoff', 1), ('mudslide', 2), ('fjords', 1), ('iceland', 1), ('http://t.co/534q3jg2ov', 1), ('#icelandreview', 1), ('@iceland_review', 1), ('@sophiewisey', 1), (\"couldn't.\", 1), ('@brobread', 1), ('mudslide????', 1), ('@lolly_knickers', 1), ('mudslide.', 1), (\"\\nit's\", 1), ('chewing', 1), ('tyre.\\nand', 1), ('done.\\n#vaginaorcake', 1), ('@urufusanragu', 1), ('mudslide?', 1), ('@new_hart2010', 1), ('#mudslide...', 1), ('nuff', 1), ('oso', 1), ('http://t.co/sbfglqjzfs', 1), ('#gbbo2015', 1), ('physically', 1), ('gasped', 1), ('cake', 1), (\"'mudslide'\", 1), ('invested...', 1), ('@doylech', 1), ('refugees:', 2), (\"'people\", 1), ('persecution', 1), (\"disaster'\", 1), ('sneak', 1), ('spoiled.', 1), ('humble', 1), ('niggas.', 1), ('raì¼l', 2), ('sends', 2), ('condolence', 2), ('http://t.co/bgytmqj3oo', 1), ('@cali74142290', 1), ('lol', 6), ('disaster/hospital', 1), ('rid', 1), ('cast', 1), ('members....', 1), ('year~', 1), ('tattooed', 1), (\"women.'\", 1), ('novel', 1), ('#arkansas', 1), ('#nola', 1), ('behalf', 1), ('http://t.co/emrzicb004', 1), ('prepper:', 1), ('grid...', 1), ('http://t.co/avvsoino8z', 1), ('http://t.co/voyruxcrin', 1), ('colder', 2), ('faster', 2), ('realized', 1), ('newser', 1), ('http://t.co/tb8gzembxu', 1), ('unavoidable', 1), ('consequence', 1), ('socialism', 1), ('tried.\\nhttp://t.co/bbdpnj8xsx', 1), ('suncorp', 1), ('net', 2), ('profit', 1), ('$1.13', 1), ('billion', 1), ('http://t.co/cwz37lndvk', 1), ('professionally', 1), ('unsensibly', 1), ('try', 4), ('outrun', 1), ('disaster!', 2), ('*books', 1), ('burma', 1), ('enduring', 1), ('unrest', 1), ('disaster*', 1), ('cheap', 1), ('ay', 1), ('overrun', 1), ('server!', 1), ('savings', 2), ('sewing', 2), ('guatemala:', 1), ('guatemala.', 1), ('seamstress', 1), ('elvia...', 1), ('http://t.co/jdx9ox2kik', 1), ('patriot', 1), ('guide:', 1), ('happens?', 1), ('http://t.co/qhtoerhdkm', 1), ('executives', 6), ('prosecuted', 6), ('http://t.co/fgvn2vcrrx)', 1), ('http://t.co/kftvnu7nvf', 1), ('alarming', 1), ('marine', 2), ('#fukushima', 6), ('http://t.co/v6h97k688j', 1), ('http://t.co/tjw9bseipw', 1), ('tweet', 3), ('disaster&amp;', 1), ('#chernobyl', 1), ('dont', 3), ('c&gt;', 1), ('http://t.co/macob5xlsu', 1), ('?#fukushima?#tepco?\\nfukushima', 1), ('thyroid', 2), ('cancer', 5), ('integrative', 1), ('answers\\nhttp://t.co/7y2gnva2ev', 1), ('#natural', 1), ('#japanjapan', 1), ('#nuclear', 7), ('inferior', 1), ('standard.#anonymous', 1), ('#nytimes', 3), ('physical', 2), ('helps', 1), ('preserve', 1), ('triple', 4), ('(8/4', 1), ('ajw)', 1), ('http://t.co/x5jgkjv6ma', 1), ('#jishin_e', 1), ('#minamisoma', 1), ('http://t.co/gam7otgisw\\nanother', 1), ('allowing', 1), ('it???', 1), ('@dalailama', 1), ('biggest', 3), ('safer', 1), ('http://t.co/e0lugbl6pb', 1), ('@upi', 1), ('#irannucleardeal', 1), ('http://t.co/zsdvweglf5', 1), ('@emmerdale', 1), ('disaster?', 1), ('http://t.co/gvj7slbelp', 1), ('http://t.co/ftunlh6ddg', 1), ('ignore', 2), ('world.lets', 1), ('peaceful', 1), ('civilization.', 1), ('history...', 1), ('radiation', 5), ('brain', 1), ('damage\\x89û\\x9d', 1), ('http://t.co/y3zfqjsvpz', 1), ('#refugees', 2), ('beyond', 1), ('least.', 1), ('#afp', 1), ('#guardian', 2), ('#wps', 1), ('http://t.co/umjprrwruu', 1), ('closing', 1), ('unaware', 1), ('sanitizing', 1), ('http://t.co/yrvgykdbm6', 1), ('#disaster.\\n\\nthe', 1), ('story:', 3), ('http://t.co/7ufnxxavqs', 1), ('@nytimes', 2), ('impairs', 1), ('mental', 1), ('individuals...', 2), ('http://t.co/zisuwlqrhf', 1), (\"'mutant\", 1), (\"vegetable'\", 1), ('sweep', 1), ('http://t.co/psi35au3pc', 1), ('@mailonline', 1), ('never-ending', 1), ('whack-a-mole.', 1), ('why:', 1), ('http://t.co/6exs23muy3', 1), ('http://t.co/l9idherotj', 1), ('fukushima:', 1), ('http://t.co/ikpngs3dti', 1), ('http://t.co/ljhgsdraez', 1), ('spoke', 1), (\"kennedy's\", 1), ('diplomacy', 1), ('avert', 1), ('bolster', 1), ('pitch', 1), (\"congress'\", 1), ('approval', 1), ('573', 1), ('certified', 1), ('\\x89û÷nuclear', 1), ('disaster-related', 1), ('deaths\\x89ûª', 1), ('http://t.co/jssmmlnaq7', 1), ('wake.', 1), ('http://t.co/ow4gexynbh', 1), ('pretend', 1), ('#global', 1), ('responsibility', 4), ('repeat', 1), ('#failure.\\n#annonymous', 1), ('chernobyl', 1), ('wikipedia', 1), ('encyclopedia', 1), ('technology', 1), ('glorious', 1), ('https://t.co/ghucazjsxb', 1), ('reactor', 12), ('market', 8), ('4.5%', 1), ('2014', 4), ('http://t.co/74jppek6o7', 1), ('salem', 4), ('electrical', 3), ('circuit', 3), ('failure', 23), ('pump:', 1), ('bee...', 1), ('http://t.co/5hkgxzjlmx', 1), ('navy', 2), ('sidelines', 3), ('newest', 2), ('subs', 1), ('http://t.co/guvtizyche:', 1), ('defensenews.comus', 1), ('subsd...', 1), ('http://t.co/sy2whxt0k5', 1), ('#navy', 1), ('@robertharding', 1), ('@repjohnkatko', 1), ('netanyahu', 1), ('argument', 1), ('flush', 1), ('nuclear-deal:', 1), ('indo-japan', 1), ('pact', 1), ('lies', 2), ('reactor-based', 1), ('projects:', 1), ('http://t.co/xkurdr3yev', 1), ('#japanese', 1), ('temperature', 1), ('http://t.co/ys3nmwwyvc', 1), ('http://t.co/alpotnb7q3', 1), ('restart', 1), ('fleet', 1), ('http://t.co/dbaujp29ub', 1), ('mistaken', 1), ('reactor.', 1), ('smart', 1), ('cataclysmic', 1), ('reator', 1), ('melts', 1), ('@stunckle', 1), ('@gordon_r74', 1), ('@crazydoctorlady', 1), (\"...i'm\", 1), ('rods', 1), ('creatures...', 1), ('rolling', 2), ('sandunes', 1), ('gentle', 1), ('lapping', 1), ('gulls', 1), ('#sizewell', 1), ('http://t.co/x9cuihib5n', 1), ('http://t.co/lqjjy1ptwt', 1), ('finnish', 1), ('ministers:', 1), ('fennovoima', 1), ('http://t.co/vb3vfm76ke', 1), ('http://t.co/98o2kc3a1z', 1), ('http://t.co/tgdonttkty', 1), ('@snowywolf5', 1), ('@thegreenparty', 1), ('besides', 1), ('rather', 2), ('turbine', 1), ('time?', 1), ('whereas', 1), ('jez', 1), ('obliterate', 4), ('lots', 3), ('benefits', 1), ('printing', 1), ('money!', 1), ('genius!', 1), ('https://t.co/reffbkvg9r', 1), ('@mccainenl', 1), ('spectacular', 1), ('stonewall', 1), ('house.', 1), ('sarah', 1), ('palin', 1), ('minority', 1), ('women!', 1), ('bb4sp', 1), ('http://t.co/dm0uupqgwy', 1), ('teaching', 1), ('obedience', 1), ('trials', 2), ('sell', 1), (\"jesus's\", 1), (\"theory.'\", 1), ('@breakingnewslh', 1), ('@bree_mars', 1), (\"cnn's\", 1), ('seventies', 1), ('episode.', 1), ('hated', 1), ('obliterated.', 2), ('meals', 1), ('101:', 1), ('cook', 1), ('obliterated', 2), ('http://t.co/m19ivwrdkk', 1), ('wackos', 1), ('#michelebachman', 1), ('predict', 2), ('firey', 1), ('inferno', 1), ('cant', 2), ('accept', 1), ('#globalwarming!!', 1), ('hello!!!', 1), ('@theevilolives', 1), ('structure', 2), ('hypo', 1), ('kontrolled', 1), (\"'us\", 1), ('good.', 1), ('bad.', 1), ('#ww3', 1), (\"bad'.\", 1), ('bs!', 1), ('alone.', 1), ('dice', 1), ('obliteration.', 2), ('#demonization', 1), ('@thatsabinegirl', 1), ('sis.', 1), ('dose', 1), ('@tiggr_', 1), ('obliteration?', 1), ('path', 4), ('obliteration\\nback', 1), ('dead\\nstory', 1), ('@kylewappler', 1), ('@thisishavehope\\n\\n', 1), ('http://t.co/1pdnlsp8xw', 1), ('sb57', 1), ('[new]', 1), ('deepwater', 1), ('horizon', 1), ('distribution', 1), ('funds', 2), ('bp', 3), ('bal...', 1), ('http://t.co/dkpsrkg6pc', 1), ('larger', 3), ('projected:', 3), ('http://t.co/xwxbyhtuzc', 1), ('http://t.co/wzedxefblg', 1), ('refugio', 22), ('costlier', 22), ('plains', 5), ('pipeline', 5), ('http://t.co/yhmregauxz', 1), ('http://t.co/g37hujx6et', 1), (\"'california:\", 2), ('nyt', 2), ('http://t.co/6cx46e7qb7', 1), ('http://t.co/41l8tqcaey', 1), ('http://t.co/rqu5ub8plf', 1), ('http://t.co/osjurfddkt', 1), ('http://t.co/lzob8qoh1b', 1), ('http://t.co/bieyguqpb1', 1), ('bankstown', 2), ('wattle', 2), ('#sydtraffic', 1), ('#trafficnetwork', 1), ('spilled', 2), ('40%', 1), ('crude', 2), ('#ksbynews', 1), ('@lilitan', 1), ('http://t.co/pegibiqk2w', 1), ('syd', 1), ('http://t.co/tzyhdbw9f5', 1), ('wendell', 1), ('berry', 1), ('gulf', 1), ('mexico.\\n\\nit\\x89ûªs', 1), ('birthday...', 1), ('http://t.co/tn1ax1xmbb', 1), ('briefing', 3), ('west:', 2), ('grows:', 3), ('disclos...', 1), ('http://t.co/wbi7laq18e', 1), ('oi...', 1), ('http://t.co/pdosrg8cf7', 1), ('hannah:', 1), (\"'hiroshima\", 1), ('china.', 1), (\"was?'\", 1), ('http://t.co/ap30pszkvx', 1), ('(la', 1), ('http://t.co/tcsolvwhxq', 1), ('disclosed', 1), ('sp...', 1), ('http://t.co/zqihnhdwpv', 1), ('#osi2016', 1), ('http://t.co/gthddzavhg', 1), ('#losangelestimes', 1), ('#latimes', 1), ('http://t.co/htxai05y7b', 1), ('(nyt)', 1), ('percent', 3), ('estimated....', 1), ('http://t.co/wezjqc4cf2', 1), ('@kinder_morgan', 1), (\"can'twon't\", 1), ('@cityofkamloops', 1), (\"they'd\", 1), ('spill.', 1), ('trust', 1), ('sec', 1), ('4.2', 1), ('#kamloops', 1), ('http://t.co/ta6n9szyfp', 1), ('news@@', 1), ('http://t.co/jhpdssvhve', 2), ('plains:', 1), ('estimated.', 1), ('http://t.co/ccvcte3lcw', 1), ('http://t.co/xcolwugfjg', 1), ('http://t.co/fpaoulwu3n', 1), ('@news@', 1), ('http://t.co/sqoa1wv4um', 1), ('http://t.co/gusramzp1s', 1), ('http://t.co/7l6bhexixv', 1), ('https://t.co/emosrmuvqa', 1), ('news@', 1), ('http://t.co/efcn9ivnfg', 1), ('s\\x89û_', 3), ('http://t.co/zdtcw9fsx1', 1), ('http://t.co/1ct0pugz69', 1), ('voices', 1), ('concerns', 2), ('http://t.co/mfsbwpj0ce', 1), ('http://t.co/zdpa4dbtsu', 1), ('sue', 27), ('legionnaires:', 25), ('outbreak', 37), ('disea...', 19), ('http://t.co/02elqlopfk', 1), ('edinburgh', 4), ('http://t.co/8lcbdw7m2z', 1), (\"what's\", 6), ('http://t.co/ajzy19vepu', 1), ('bronx;', 2), ('digits', 1), ('http://t.co/jtzefipdbo', 1), ('comp...', 1), ('http://t.co/vsoxiooy78', 1), ('http://t.co/jgdlx4faw8', 1), ('http://t.co/ivwtynoujk', 1), ('http://t.co/2mwc9ywjzy', 1), ('wow-the', 1), ('#legionnairesdisease', 1), ('pneumonia', 1), ('@americanlegion', 1), ('convention', 1), ('1976--29', 1), (\"'legionnaires'\", 1), (\"outbreak'\", 1), ('http://t.co/fftokd0vts', 1), ('#????_?????', 1), ('http://t.co/81hvv3n3rs', 1), ('http://t.co/2ao97o2a9d', 1), ('http://t.co/3snyoohseq', 1), ('http://t.co/vbsj8tniv1', 1), ('http://t.co/so81ab3a1x', 1), ('legio...', 2), ('http://t.co/ucbfgibfor', 1), ('#muhamadjabal', 1), ('legionna...', 1), ('http://t.co/rsv9atj9vh', 1), ('@senatemajldr', 1), ('http://t.co/ojyw7jkuh5', 1), ('http://t.co/rv9dv6joew', 1), ('outbreak:', 2), (\"legionnaire's\", 1), ('disease?', 1), ('http://t.co/cxi82rfifs', 1), ('http://t.co/1h7zk6uyze', 1), ('http://t.co/mnsy1qr7bq', 1), ('http://t.co/kkdx8zmv4g', 1), ('http://t.co/13w8cyukkz', 1), ('http://t.co/hkxyzhvmqe', 1), ('http://t.co/fjdm8qhyai', 1), ('#sebee', 1), ('worst-ever', 1), ('http://t.co/0ubg9wfyge', 1), ('#losangeles', 1), ('http://t.co/za4axfjsvb', 1), ('http://t.co/rm6cnzkszl', 1), (\"legionnaires'...\", 1), ('http://t.co/zfyqsawvrk', 1), ('http://t.co/3htj2pypsg', 1), ('#check', 1), ('http://t.co/nq77efmf88', 1), ('http://t.co/lfbdhtgqwg', 1), ('fo...', 1), ('http://t.co/7evyelw4lc', 1), ('http://t.co/paje5mxn1z', 1), ('@bi_video', 1), ('http://t.co/erj7yanjxm', 1), ('http://t.co/vbrpeujanl', 1), ('digits\\nhttp://t.co/txrswi0efg', 1), ('pandemonium', 7), ('aba', 4), ('(photos)....', 1), ('http://t.co/lyxnjlxl8s', 1), ('http://t.co/cxyfqn3ue4', 1), ('(photos)', 2), ('http://t.co/c5u9qshhnb', 1), ('sfa', 1), ('soon....#pandemonium', 1), ('http://t.co/rw8b50xz9m', 1), ('fav', 1), ('cd', 1), ('http://t.co/6whugaem3c', 1), ('http://t.co/xrp0rtkffj', 1), ('@khalidkkazi', 1), ('faceåê(photos)', 1), ('http://t.co/bm0sxzbnke', 1), ('chaos', 1), ('unprecedented', 1), ('frenzy.', 1), ('even.', 1), ('disorder.', 1), ('mania', 1), ('astounding.', 1), ('@catovitch', 1), ('@elielcruz', 1), ('streams', 1), ('over:', 1), ('alabama', 13), ('tests', 1), ('negative', 1), ('ebola\\nhttp://t.co/cy0ciu2u1c', 1), (\"tomorrow's\", 2), ('panic!', 1), ('concert', 3), ('dressed', 2), ('afycso', 1), ('ryan', 1), ('@dirk_nomissski', 1), ('faints', 1), ('panicking?..', 1), ('thats', 2), ('stuff', 2), ('panicking', 1), ('tired', 1), (';__;', 1), ('terrorism.', 2), ('ar-15', 1), ('enemies!', 1), ('theater:', 2), ('carmi...', 1), ('http://t.co/kqvn1utpmm', 1), ('#breaking411', 1), ('abusing', 2), ('police-run', 2), ('boot', 2), ('san', 4), ('luis', 2), ('obispo', 2), ('http://t.co/onlvf2fyoy', 1), ('qld', 1), ('wrap', 1), ('billy', 1), ('gordon', 1), ('investigation:', 1), ('queensland', 1), ('investigation...', 1), ('http://t.co/msgnndxoek', 1), (\"'gunman\", 1), ('opened', 2), (\"police'\", 1), ('suicide-by-cop?', 1), ('aåêmiddle-aged', 1), ('manåêarmed', 1), ('wi...', 1), ('http://t.co/tyd47nfl5x', 1), ('ana', 1), ('union', 3), ('blocks', 1), ('holistic', 1), ('pot', 1), ('dispensary', 1), ('atlantic', 1), ('http://t.co/yvv1rlghft', 1), ('#smartnews', 1), ('@abc7:', 1), ('http://t.co/qpwotugui9', 1), ('trending', 1), ('nigeria:', 3), ('ruler', 1), ('informant\\x89ûªs', 1), ('http://t.co/93infxzhx0', 1), ('officer', 27), ('provocation', 1), ('(video)', 1), ('http://t.co/lhw4vtbhzg', 1), ('@dailykos', 1), ('oops:', 2), ('bounty', 3), ('hunters', 3), ('phoenix', 2), (\"chief's\", 2), ('http://t.co/yprjwmighl', 1), ('bounty...', 1), ('http://t.co/3rrkrcjyw7', 1), ('$1', 1), ('#shooting', 1), ('fife', 1), ('#police', 1), ('8:16', 1), ('et', 1), ('http://t.co/hu5cxqnobf', 1), ('dt', 1), ('@georgegalloway:', 1), ('@galloway4mayor:', 1), ('\\x89ûïthe', 1), ('col', 1), ('catch', 2), ('pickpocket', 1), ('liverpool', 1), ('stree...', 1), ('http://t.co/vxin1goq4q', 1), ('india:', 2), ('kill\\x89û_', 1), ('http://t.co/k8bexkgwr2', 1), ('@robbiewilliams', 1), ('fkn', 2), ('asswipe', 1), ('killers..', 1), ('karma', 1), ('u.', 1), ('@arizonadot', 1), ('university', 3), ('salado..', 1), ('police..', 1), ('crackin?', 1), ('selection', 1), ('bridgeport', 1), ('burglar.', 1), ('http://t.co/7mlcd0l0b8', 1), ('grandmother', 1), ('son', 1), ('wasn&amp;#8217;t', 1), ('http://t.co/ndcy8q7r6i', 1), ('omg!!!!!', 1), ('crazy!!!', 1), ('-=-0!!!!.', 1), ('lastma', 1), ('lagos', 1), ('http://t.co/8vzsftr1bg', 1), ('cnn:', 3), ('http://t.co/di8elzswnr', 1), ('h...', 1), ('http://t.co/dgelj8ryt9', 1), ('reddit', 4), ('quarantine\\x89û_', 1), ('http://t.co/pkuamxw6pm', 1), ('#onlinecommunities', 1), ('#reddit', 2), ('#amageddon', 1), ('#freespeech', 1), ('http://t.co/pawvnj4sap', 1), ('#content', 1), ('#policy', 1), ('promises', 1), ('quarantine', 7), ('\\x89û÷extremely', 1), ('offensive\\x89ûª', 1), ('communities', 1), ('http://t.co/ehgtzhkan4', 1), ('offensive', 2), ('http://t.co/wosypvqufi', 1), ('http://t.co/xw8sds1tjp', 1), ('offensiveåêcontent', 1), ('http://t.co/vygh2ni4ah', 1), ('http://t.co/ltmgdp6jaf', 1), ('officials:', 2), ('quarantined', 13), ('ebola', 10), ('http://t.co/uyugfg3k1h', 1), ('ebola!', 1), ('aaarrrgghhh!\\n\\nhttp://t.co/g2uimbekge', 1), (\"reddit's\", 2), ('subreddits', 2), ('banned', 3), ('http://t.co/zsxqbduzbn', 1), ('http://t.co/6ncfjxploy', 1), ('http://t.co/ngkrzpza45', 1), ('http://t.co/rb2s0jmlej', 1), ('case.\\n\\nedward', 1), ('khan', 1), ('http://t.co/qnij2p8zv6', 1), ('gmtty', 1), ('mhtw4fnet\\n\\nofficials:', 3), ('case:', 2), ('http://t.co/ztonvgubvm', 1), ('#bluehand', 1), ('#pjnet', 1), ('hm', 1), ('@ebolatrends:', 1), ('http://t.co/ihvmtmzxne', 1), ('http://t.co/jliemrsnnj', 1), ('exposure', 2), ('http://t.co/hzpx6vaqpz', 1), ('http://t.co/l4w0pcorbs', 1), ('0npzp', 1), ('sat', 1), ('http://t.co/y2jt1amyfj', 1), ('ebola:', 1), ('case..', 1), ('http://t.co/biigd1leq3', 1), ('oc73x', 1), ('http://t.co/v57nugmgkt', 1), ('wipp', 1), ('elevated', 5), ('radiation.', 1), ('#sejorg', 1), ('47km', 1), ('northwest-proof', 1), ('planning', 1), ('zones', 1), ('israel\\x89ûªs', 1), ('ashdod', 1), ('emittin...', 1), ('http://t.co/swq5lmydka', 1), ('to:', 1), ('http://t.co/rffpqbaz2f', 1), ('rainstorm', 17), ('gloucester\\n#gloucester', 1), ('#capeann', 1), ('#seagulls', 1), ('#triciaoneill', 1), ('#triciaoneillphoto', 1), ('https://t.co/ols6qdi9um', 1), ('beauty', 1), ('a&amp;b', 1), ('pipeliners', 1), ('http://t.co/pst5bbq0av', 1), ('yobe', 5), ('state:', 2), ('state.', 3), ('[daily', 2), ('trust]', 2), ('damatu...', 1), ('http://t.co/rzxqssun02', 1), (\"'three\", 1), ('#people', 1), ('#killed', 1), ('#rainstorm', 1), ('#italian', 1), ('#alps', 1), (\"#landslide'\", 1), ('http://t.co/haxj6go2ac', 1), ('alps', 3), ('three:', 2), ('rome', 3), ('http://t.co/uzwxjbg0zh', 1), ('ireporter', 1), ('https://t.co/0rny349unt', 1), ('happening!', 1), ('lie', 2), ('drift', 1), ('storming', 1), ('while.', 1), ('bebacksoon.', 1), ('http://t.co/boygbp0jw9', 1), ('south?', 1), ('http://t.co/50vdq7a1m5', 1), ('http://t.co/qh6oxft9ir', 1), ('damaturu', 1), ('-over', 1), ('600\\x89û_', 1), ('http://t.co/bbqnk76qus', 1), ('http://t.co/smkznf52za', 1), ('receives', 1), ('light.', 1), ('impacting', 1), ('push', 1), ('http://t.co/drvm8isote', 1), ('lizzie363', 1), ('@cstsmith', 1), ('thru', 2), ('flood--rainstorm', 1), ('$14000.', 1), ('thnk', 1), ('float!!!', 1), ('yay', 1), ('gearing', 1), ('#vancouver!!', 1), ('#deadgrassandflowers', 1), (\"cards'\", 1), ('http://t.co/nu0d3uannz', 1), ('italianåêalps', 1), ('https://t.co/8bhvxx2xl9', 1), ('http://t.co/4ou8s82hxj', 1), ('razed', 29), ('http://t.co/aknbtuyaef', 1), ('office\\x89ûªs', 1), ('razedåê\\x89ûò', 1), ('ikpeazu', 1), ('apga', 1), ('react', 1), ('http://t.co/akzzoe5ce6', 1), ('wildfire:', 1), ('and\\x89û_', 1), ('http://t.co/0keh2treny', 1), ('http://t.co/ntswuayeji', 1), ('http://t.co/wgefbuk4jk', 1), ('http://t.co/zbzc8905gl', 1), ('http://t.co/ly8x7rqbwn', 1), ('http://t.co/ixiybap8qa', 1), ('lynchburg', 1), ('advance', 3), ('http://t.co/zepzqydby4', 1), ('http://t.co/5kbrzzmf8c', 1), ('#tafs', 1), ('#fb100%', 1), ('http://t.co/d1vjoyg52a', 1), ('http://t.co/dofrh5yb01', 1), ('http://t.co/2nip3d15dx', 1), ('http://t.co/egyfnlaoqv', 1), ('http://t.co/bsgr67dywy', 1), ('http://t.co/ndggr6xyqd', 1), ('http://t.co/5fcjvml520', 1), ('http://t.co/fvyrwhux8p', 1), ('http://t.co/3tnuaciv3c', 1), ('http://t.co/sakorgdqul', 1), ('http://t.co/p3g3bqbczu', 1), ('http://t.co/rpbxdfnx5k', 1), ('http://t.co/x1xj0xvtj7', 1), ('@davidvonderhaar', 1), ('sincere', 1), ('http://t.co/rg9yaybosa', 1), ('http://t.co/2872j5d4hb', 1), ('http://t.co/ecxmoinzgu', 1), ('http://t.co/ntwwdwednb', 1), ('http://t.co/u52rw9ji2r', 1), ('#sandiego', 4), ('http://t.co/gx75w3q9ye', 1), ('george', 2), ('njenga', 2), ('razing', 2), ('http://t.co/ywkk26arag', 1), ('http://t.co/bksyymvisg', 1), ('#gn', 1), ('http://t.co/rlpttkbg4w', 1), ('http://t.co/6acswzo7cw', 1), ('http://t.co/hckxj8eukt', 1), ('#northerncalifornia', 1), ('http://t.co/monijjth7v', 1), ('#zippednews', 1), ('http://t.co/0yxbb5dzw5', 1), ('http://t.co/r1cnsjuayq', 1), ('http://t.co/dq1ylcrf9k', 1), ('wildfire...', 1), ('http://t.co/us8r6qsn0p', 1), ('http://t.co/irqujaesck', 1), ('http://t.co/qdweknrmi9', 1), ('http://t.co/auezxza5ak', 1), ('just-married', 2), ('turkish', 8), ('4000', 2), ('gift', 2), ('http://t.co/ibed3xg7fy', 1), ('friends.', 1), ('monitoring', 1), ('jihadis', 1), ('http://t.co/1wcofmlub9', 1), ('@freedomoutpost', 1), ('http://t.co/arkmc7vcln', 1), ('#retweet', 1), ('cameroon', 11), ('repatriating', 1), ('http://t.co/wvvgmeja7l', 1), ('wowo--===', 1), ('repatriated', 10), ('./.....hmm', 2), ('http://t.co/ytw9slwvmg', 1), ('/(', 2), ('...//..//', 4), ('whao..', 4), ('http://t.co/bae0ap4g9y', 1), ('reaad/', 1), ('plsss', 1), ('refugee', 3), ('connections', 1), ('indiegogo', 1), ('campaign', 1), ('tomorrow!', 1), ('#refugees.', 1), (\"y'all\", 1), ('http://t.co/avwe1lbvhn', 1), ('throwing', 2), ('overboard', 1), ('@tonyabbottmhr', 1), ('ever!', 1), ('http://t.co/6nqru2q5tz', 1), (\"world's\", 1), ('border', 1), ('http://t.co/9qpg0z3rh9', 1), ('http://t.co/huhwpmrywz', 1), ('http://t.co/96p3hujntj', 1), ('@fadelurker', 1), ('@dalinthanelan', 1), ('&lt;', 3), ('now.\\n\\neven', 1), ('camped', 1), ('redcliffe', 1), ('aidan', 1), ('flee', 1), (\"burundi's\", 1), ('vice', 1), ('https://t.co/jojnq2oopi', 1), ('http://t.co/dskui6mmgl', 1), ('newlyweds', 1), ('feed', 2), ('banquet', 1), ('wedding', 1), ('http://t.co/xzv0lt9zzk', 1), ('recap/', 2), ('http://t.co/po19h8ycnd', 2), ('46', 1), ('vietnamese', 1), ('returned?', 1), ('#dutton', 1), ('#presser', 1), ('chpsre:', 1), ('followers', 1), ('paris', 1), (\"'a\", 1), ('dream', 1), (\"humanity'\", 1), ('rezaphotography', 1), ('http://t.co/rpmtropsvr', 1), ('policyholders', 1), ('object', 1), ('clico', 1), ('http://t.co/e4dvi9vuxz', 1), ('http://t.co/jycpf8iyhg', 1), ('ud:', 2), ('(structural', 2), ('collapse)', 2), ('ypres', 2), ('(14', 2), ('trucks)', 2), ('flood-zone', 1), ('raheel', 1), ('sharif', 1), ('chitral:', 1), ('lauded', 1), ('fwo', 1), ('troops', 5), ('opera...', 1), ('367', 1), ('libya;', 1), ('bodies', 20), ('@zak_bagans', 1), ('sabrina', 1), ('cage.', 1), ('http://t.co/1k2phqcuw8', 1), ('britons', 2), ('himalaya', 2), ('(http://t.co/wgrxly9pdo)', 1), ('http://t.co/bj4haavaye', 1), ('http://t.co/59p3aoiqus', 1), ('http://t.co/xyyev89wiz', 1), ('arrive', 4), ('http://t.co/z8xiqngulc', 1), ('10-month-old', 1), ('coastguard', 1), ('sea!', 1), ('http://t.co/kjuzjc6igd', 1), ('http://t.co/nekm1rpohu', 1), ('bovines', 1), ('smugglersåênabbed', 1), ('http://t.co/e7fn5g5ruu', 1), ('http://t.co/kepznhxhxd', 1), ('@brittanypetko', 1), ('http://t.co/qgyn2u1up3', 1), ('sicily:', 1), ('rescued\\x89û_', 1), ('http://t.co/wis3h9tqrm', 1), ('rescued?', 1), ('#c4news', 1), ('http://t.co/pmggavtokp', 1), ('http://t.co/kot9zvd2h7', 1), ('@irishtimesworld', 1), ('heroes!', 1), ('springer', 1), ('spaniel', 1), ('dolphin:', 1), ('http://t.co/g03dkpoonp', 1), ('http://t.co/go0hpi0b4c', 1), ('beached', 1), ('kerry', 1), ('http://t.co/rqbspucjdf', 1), ('await', 1), ('disembarkment', 1), ('naval', 2), ('vessel', 1), ('palermo', 1), ('@tconnellyr\\x89û_', 1), ('https://t.co/aim5cyhl0y', 1), ('http://t.co/p4doa5yyje', 1), (\"'we're\", 18), ('picking', 18), (\"water':\", 16), ('http://t.co/bs6pjt09tc', 1), ('mediterran...', 8), ('http://t.co/s5nuegswyj', 1), ('http://t.co/ciwwuqthin', 1), ('http://t.co/geu4h46csz', 1), (\"water'\", 2), ('mediterranean...', 1), ('http://t.co/yhqu5uv6ok', 1), ('med:', 5), ('http://t.co/6ds67xai5e', 1), ('@durban_knight', 1), ('carr...', 1), ('http://t.co/cwcvbubs01', 1), ('@nosy_be', 1), ('#roddypiperautos', 1), ('http://t.co/97b8avgewu', 1), ('carryi...', 4), ('woman\\x89ûªs', 1), ('gps', 2), ('guides', 2), ('marin', 2), ('http://t.co/uojy4e2sv4', 1), ('http://t.co/zg1yddywa5', 1), ('http://t.co/puezv6bd37', 1), ('http://t.co/awtscucbbv', 1), ('#worldnews\\n', 2), ('home:\\nrescuers', 2), ('of..', 1), ('http://t.co/6hhmbdk9yo', 1), ('http://t.co/zfwmjh6slh', 1), ('http://t.co/xlfi7ovhfj', 1), ('hundreds\\x89û_', 1), ('http://t.co/raq4zpdvke', 1), ('ah-mazing', 1), ('have!', 1), ('starving', 1), ('person...', 1), ('http://t.co/ficd5qbqwl', 1), ('#news:', 1), (\"'many\", 1), (\"deaths'\", 1), ('shipwreck:', 1), ('http://t.co/tx51oybrn6', 1), ('@thenewshype', 1), ('http://t.co/pspm3ahgkq', 1), ('http://t.co/yvo6q6w442', 1), ('barely', 1), ('allergic', 1), ('this!', 1), ('http://t.co/vecmsiuuh1', 1), ('migrant...', 1), ('http://t.co/gx9skuau9j', 1), (\"woman's\", 1), ('sfgate', 1), ('http://t.co/iz9u8bhfaa', 1), ('migrants\\x89û_', 2), ('http://t.co/v9ftyb30ei', 1), ('buried', 1), ('http://t.co/i8sj1kws1d', 1), ('recover', 2), ('37-year-old', 1), ('vulcan', 1), ('http://t.co/gaehr9bhek', 1), ('http://t.co/ixfne5jlep', 1), ('http://t.co/uymxocfs33', 1), ('@piprhys', 1), ('@live_workshop', 1), ('selfie', 1), ('booth', 1), ('kappa', 1), ('meat-loving', 1), ('feminists', 1), ('grill', 1), ('http://t.co/tiost8okvx', 1), ('@davidjordan88', 1), ('@stephanenny', 1), ('credit', 1), ('particular', 1), (\"sweetpea's\", 1), ('allotment', 1), ('brightening', 1), ('rainy', 1), ('http://t.co/6ndbfopk5m', 1), ('intervene', 1), ('vitesse', 1), ('supporters', 1), ('\\x89û¢', 1), ('clash', 1), ('buildup', 1), ('second...', 1), ('http://t.co/skvnmtzgeg', 1), ('care.', 2), ('protestors.', 1), ('skyscrapers', 1), ('plant-covered', 1), ('eric', 1), ('clapton', 1), ('rioting?', 1), ('none.', 1), (\"'money\", 1), ('buy', 1), (\"happiness'\", 1), ('rioting.', 2), ('upgraded', 1), (\"'rioting'.\", 1), ('#hyperbole', 1), ('#saintsfc', 1), ('brazil', 4), ('#rio2016', 1), ('http://t.co/9mtrq5jf4d', 1), ('http://t.co/wspuxorewb', 1), ('cindy', 1), ('noonan@cindynoonan-heartbreak', 1), ('#baltimore', 1), ('#rioting', 1), ('#yahistorical', 1), ('#undergroundrailraod', 1), ('leeds', 1), ('fan....', 1), ('embra', 1), ('tier/', 1), ('league', 1), ('dee', 1), ('dum', 1), ('class.', 1), ('@evacide', 1), ('worked.', 1), ('anything.\\n\\nthere', 1), ('fixed', 1), ('`bbcnews', 2), ('insurers', 3), ('&amp;#163;163;millions.', 1), ('reduced', 2), ('fat', 2), ('contr', 1), ('#bhramabull', 1), ('jewels', 1), ('facts', 2), ('defend', 1), ('ferguson:', 1), ('socially', 1), ('minded', 1), ('duo', 1), ('http://t.co/ld5p1sia2n', 1), ('@blutz10', 2), ('bars.', 1), ('simple!', 1), ('justice=no', 1), ('justice=peace.', 1), ('@jasalhad', 1), ('@brianboru67', 1), ('@jimskiv92', 1), ('@hijinks1967', 1), ('venezuela:', 1), ('venezuela', 1), ('directed', 1), ('gr\\x89û_', 1), ('http://t.co/gjfd85vuf2', 1), ('@aelinrhee', 1), ('mascara', 1), ('smeared', 1), ('profile', 1), ('signing', 2), ('#nffc', 1), ('rioting!', 1), ('wesley', 1), ('verhoek', 1), ('household', 1), ('name!', 1), (\"#don'tpanic\", 1), ('@halljh1720.', 1), ('friends', 3), ('is.', 1), ('decision', 1), ('indictment', 1), ('point\\x89û_', 1), ('rioting...', 1), (\"them.'\\n\\nusami-san\", 1), ('&lt;3', 1), ('hooligan', 1), ('jailed', 1), ('scotland', 1), ('matches', 1), ('#uknews', 1), ('http://t.co/q5mp2q6hy8', 1), ('ass', 4), ('insurers163;millions.', 1), ('controllers.', 1), ('@fa07af174a71408', 1), ('lived', 2), ('sight', 1), ('tolerated.', 1), ('@accionempresa', 1), ('china\\x89ûªs', 1), ('stock', 7), ('interest', 1), ('bargain', 1), ('hunt...', 1), ('http://t.co/s0eyq1wehe', 1), ('@gerenciatodos', 1), ('å¨', 1), ('#forbes', 1), ('#europe', 1), (\"china's\", 6), ('gems', 6), ('rubble?', 6), ('http://t.co/c0slabbp7j', 1), ('@jasonpope2', 1), ('@johnfugelsang', 1), ('was.', 1), ('rubble', 4), ('#360wisenews', 2), ('http://t.co/9naw3qoqol', 1), ('jun', 1), ('yemenis', 1), ('san\\x89ûªa', 1), ('http://t.co/11juzhlgmt', 1), ('http://t.co/j4ggmkiney', 1), ('#forbesasia', 1), ('buscemi', 1), ('firefightr', 1), ('b4', 3), ('fame', 1), ('workd', 1), ('12hr', 1), ('shifts', 1), ('diggin', 1), ('wtc', 1), ('lookg', 1), ('survivors.', 1), ('http://t.co/l9fjpnszuo', 1), ('#tnn:', 1), ('http://t.co/9lo0hzwjpz', 1), ('http://t.co/bqblwiw08g', 1), ('#roimentor', 1), ('#yycwalks', 1), ('http://t.co/aod2ftbmgu', 1), ('ruin', 1), ('personal', 2), ('claim', 1), ('http://t.co/zu9yydf5di', 1), ('airport', 27), ('swallowed', 24), ('sandstorm', 27), ('minute', 25), ('http://t.co/mkwyvm3i8r', 1), ('http://t.co/azl4xydvzk', 1), ('http://t.co/z2ph0arzyi', 1), ('http://t.co/brctmnybjy', 1), ('http://t.co/nx2d83a4du', 1), ('http://t.co/gaotrg4mtr', 1), ('http://t.co/rku0idm6aq', 1), ('http://t.co/7ijlz6bcsp', 1), ('coated', 1), ('east\\x89ûªs', 1), ('layer', 1), ('grit', 1), ('http://t.co/hvjmuualxv', 1), ('http://t.co/t8nz6h9zz4', 1), ('sandstorm!!!', 1), ('woo', 1), ('hoo!!', 1), ('http://t.co/vzpkn23rx4', 1), ('http://t.co/rm50vcvjsh', 1), ('http://t.co/1tr2kvxctw', 1), ('http://t.co/q0x7e84r4e', 1), ('socialwots:', 1), ('globi_inclusion:', 1), ('nrc_middleeast:', 1), ('engulfs', 1), ('caravans', 1), ('tents', 1), ('#zaatari', 1), ('http://t.co/xbnlsbzzgi', 1), ('http://t.co/h84r1tih8j', 1), ('http://t.co/sequwmvfx4', 1), ('http://t.co/aknynpv461', 1), ('http://t.co/c9t2f6dltm', 1), ('http://t.co/xszicdwxq0', 1), ('http://t.co/qr6btdcqcj', 1), ('http://t.co/wd9odwjj9l', 1), ('http://t.co/87h5mba3n1', 1), ('http://t.co/8l4rffzd0p', 1), ('http://t.co/tvyqczgjdy', 1), ('tryouts', 1), ('15th', 1), ('woodland!\\nms', 1), ('tryout:', 2), ('3-4:30pm\\nhs', 1), ('4:30-6pm', 1), ('http://t.co/bb7ttdvjwe', 1), ('http://t.co/bgm4csrbvd', 1), ('@godof_mischief_', 1), ('-of', 1), (\"loki's\", 1), ('daggers', 1), ('jammed', 1), (\"mina's\", 1), ('thigh.', 1), ('mina', 1), ('screamed', 4), ('grabbed', 1), ('leg', 2), ('sif-', 1), ('omfg??\\ndidnt', 1), ('drag', 1), ('pandora', 1), ('\\n\\nomfg', 1), ('loud\\nmy', 1), ('coworker', 1), ('http://t.co/vzcvadkcqp', 1), ('vacation', 1), ('aunt', 1), ('spider', 1), ('bare', 1), ('#fierce', 1), ('@toddyrockstar', 1), ('http://t.co/jdtpirnm76', 1), ('@camilacabello97', 1), ('externally', 1), ('#nochilllukehammings\\nim', 1), ('//screams', 1), ('distance//', 1), ('http://t.co/cfe9huqn0h', 1), ('@ollymursaus', 1), ('sorry', 2), ('meat!', 1), ('nice', 1), ('guy...', 1), ('rush', 1), ('screams', 5), ('face!', 1), ('cultural', 1), ('appropriation', 2), ('buddhas', 1), ('stuff-', 1), ('ear...', 1), ('anytime', 1), ('soon???', 1), ('lights', 1), ('mom!', 1), ('angels', 1), (\"sky!'\", 1), ('exploration', 5), ('http://t.co/pckf0nl2yn', 1), ('risk:', 2), ('studies:', 1), ('calabria', 1), ('malta', 1), ('http://t.co/hmrtqeykyi', 1), ('#gabon', 3), ('#somalia', 3), ('http://t.co/kltit88as3', 1), ('08/06/2015', 1), ('alabamaquake', 1), ('summary', 1), ('http://t.co/zm6vczqvwk', 1), ('http://t.co/dknlznom6n', 1), ('detectado', 4), ('#japì_n', 4), ('[report', 3), ('1]', 1), ('01:01:56', 1), ('okinawa', 2), ('m4.0', 1), ('10km', 2), ('intensity', 5), ('jst', 4), ('5]', 1), ('18:22:45', 1), ('ibaraki', 1), ('prefecture', 1), ('offing', 1), ('m5.5', 1), ('60km', 1), ('gabon', 1), ('somalia', 1), ('bloomberg', 1), ('http://t.co/bekrpjnyhs', 1), ('#???????', 2), ('3]', 1), ('01:02:17', 1), ('m3.8', 1), ('#oilandgas', 1), ('http://t.co/ohholj9vev', 1), ('@business', 1), ('#somalia\\nhttp://t.co/ltf6jl5keu', 1), ('http://t.co/zlq8thctkw', 1), ('panoramic', 1), ('cuts', 1), ('jobs', 1), ('http://t.co/muwmfjgzyh', 1), ('subcontractor', 1), ('survey', 1), ('cgg', 1), ('w\\x89û_', 1), ('06:32:43', 1), ('miyagi', 2), ('mrw', 1), ('sinkhole', 25), ('opens', 7), ('beneath', 1), ('#gif', 1), ('#funny', 1), ('#lol', 1), ('#comedy', 1), ('#ifunny', 1), ('#image', 1), ('http://t.co/xiydyfptru', 1), ('swallows', 7), ('pond', 4), ('lowndes', 6), ('georgia:', 1), ('sinkhole\\x89û_', 1), ('http://t.co/bcldqmmehg', 1), ('#occasion2b', 1), ('10news', 1), ('disrupts', 6), ('trolley', 5), ('http://t.co/paug7a68i0', 1), ('falmer', 1), ('bethlehem', 1), ('http://t.co/6tvvlg2fni', 1), ('brooklyn:', 2), ('six-meter', 2), ('crater', 2), ('http://t.co/gkprvzq6lk', 1), ('gaping', 1), ('brooklyn', 5), ('http://t.co/0xa6fcjyec', 1), ('\\x89ûï@fdny:', 1), ('#fdny', 1), ('#brooklyn.', 1), ('on-scene', 1), ('@nycbuildings', 1), ('others.', 2), ('http://t.co/m78ir0ik01\\x89û\\x9d', 1), ('150-foot', 3), ('area\\nwctv-35', 1), ('georgia', 3), ('http://t.co/wkpzp1jcau', 1), ('#yonews', 2), ('http://t.co/0yaxrjicrr', 1), ('service:', 2), ('wed...', 1), ('http://t.co/rvmmut3gvc', 1), ('#algeria', 1), ('http://t.co/qwo7q1amh8)', 1), ('http://t.co/esrkmazeq9', 1), ('emerges', 1), ('http://t.co/n3ow73oasw', 1), ('http://t.co/gs9bmplbhh', 1), ('#lomasvisto', 1), ('hipsters', 1), ('lost:', 1), ('devours', 1), ('intersectio...', 1), ('http://t.co/qwtk1b2fmc', 1), ('#cadenadeseguidores', 1), ('http://t.co/cbaxcuba0h', 1), ('http://t.co/9tb82zmr2x', 1), ('http://t.co/1ybe5mgzl4', 1), ('http://t.co/7zog3dpdu9', 1), ('sunset????', 1), ('http://t.co/kff8ojrzp4', 1), ('http://t.co/job4ggtpal', 1), ('twit_san_diego', 1), (\"'possible\", 1), ('depression', 1), ('portion', 1), ('asphalt', 1), ('sa\\x89û_', 1), (\"http://t.co/anriombhqn'\", 1), ('evansville', 2), ('usage', 1), ('construction:', 1), ('http://t.co/sjnyfszcu1', 1), ('@wews', 1), ('http://t.co/s7grbznwlr', 1), ('http://t.co/cpeqv52lna', 1), ('leaking', 1), ('sewage', 1), ('housing', 2), ('estate\\nirish', 1), ('independent-3', 1), ('#mtsalert', 1), ('riders:', 1), ('developed', 1), ('4th', 1), ('?!', 1), ('large\\x89û_', 1), ('http://t.co/hvbj30aj9s', 1), ('afloat', 1), ('pension', 1), ('http://t.co/4ceeuzwhvf', 1), ('you\\x89ûªve', 3), ('realise', 3), ('3g', 3), ('ego', 1), ('dig', 1), ('hoke', 1), ('excepting', 1), ('versus', 1), ('term:', 1), ('dfljev', 1), ('http://t.co/bjojvm0pjx', 1), ('http://t.co/whoc7lhb5f', 1), ('#tribe', 1), ('faster.', 1), ('titanic', 1), (\"'amateur\", 1), (\"night'\", 1), ('reprises', 1), ('role', 1), (\"'siren'\", 1), ('horrormovies.ca', 1), ('#horror', 1), ('http://t.co/w9cd6offcj', 1), ('weird', 2), ('siren', 5), ('here...i', 1), ('hunterston', 1), ('process', 1), ('smithereens...', 1), ('@tomarse99', 1), ('intending', 1), ('go.', 1), ('drop.', 1), ('signal', 1), ('arena.none', 1), ('dyersburg?', 1), ('@soonermagic_', 1), ('sounding', 1), ('reasons', 1), ('warped', 1), ('tony', 1), ('showed', 1), ('sleeping', 1), ('attila', 1), ('thu', 1), ('01:20:32', 1), ('gmt+0000', 1), ('(utc)\\n#millcityio', 1), ('#20150613\\ntheramin', 1), ('thinner', 1), ('usual', 1), ('http://t.co/bnwygx6luh', 1), ('@kiro7seattle', 1), ('elliott', 1), ('headed??', 1), ('@travelelixir', 1), ('on?', 2), ('helo', 1), ('shaking!', 1), ('photoset:', 1), ('hakogaku:', 1), ('?åêi', 1), ('kurd.', 1), ('battlefield.', 2), ('raised', 1), ('gunfire', 3), ('sirens...', 1), ('http://t.co/obp595w7tm', 1), ('connor', 1), ('franta:', 1), ('\\n\\ndan', 1), ('howell:', 1), ('@pianohands', 1), ('smoke.', 1), ('taxis', 1), ('cigarette', 1), ('@billmccabe', 1), ('clear....', 1), ('enjoy', 1), ('tahoe.', 1), ('places!', 1), ('manuel', 1), ('hoping', 1), ('buffalo', 1), ('snowstorm', 7), ('accuracy', 1), ('improves.', 1), ('sassy', 2), ('hunk', 2), ('smoky', 2), ('#aoms', 2), ('http://t.co/nkkctttsd9', 1), ('#ibooklove', 2), ('#bookboost', 2), ('#photo', 1), ('oak', 1), ('http://t.co/hk9yf72ova', 1), ('#winter', 1), ('#southdowns', 1), ('#hampshire', 1), ('#photography', 3), ('#art', 1), ('#tree', 1), ('#treeporn', 1), ('@habbo', 1), ('games', 1), ('past.', 1), ('snowstorm.', 2), ('tic', 1), ('tac', 1), ('toe.', 1), ('battleships.', 1), ('food.', 1), ('matchwood.', 1), ('@dirk_trossen', 1), (\"\\n\\ni've\", 1), ('snowstorm/hailstorm!', 1), ('\\x89ûï@lordbrathwaite:', 1), ('here:', 2), ('ahh', 1), ('snow!\\n\\nme:', 1), ('snowstorm..?\\n\\n#growingupincolorado\\x89û\\x9d', 1), ('transportation', 1), ('18-wheelers', 1), ('wy.', 1), ('\\x89ûïmake', 1), ('stop!\\x89û\\x9d', 1), ('#amssummer', 1), ('http://t.co/hdjs9rntj4', 1), ('@pyrbliss', 1), ('ah', 1), ('http://t.co/z8cp77lvza', 1), ('boeing', 2), ('737', 1), ('takeoff', 1), ('hd', 1), ('cockpit', 1), ('atc', 1), ('audio', 2), ('episode', 1), ('mothernaturenetwork:', 1), ('thundersnow?', 1), ('uncommon....', 1), ('http://t.co/eydapaupvg', 1), ('#lakeeffect', 1), ('#snowstorm', 1), ('twill', 1), ('denim', 1), ('jackets', 1), ('***', 1), ('proceeds', 1), ('items', 1), ('design', 1), ('go\\x89û_', 1), ('https://t.co/txtpx4umqh', 1), ('@prablematicla', 1), ('@adweek', 1), ('snowstorm...despite', 1), ('summer.', 1), ('a/c.', 1), ('captured', 4), ('taiwan!', 1), ('http://t.co/dggm5b0w4l', 1), ('http://t.co/eyr2xx5l1p', 1), ('where.', 1), ('.fuck', 1), ('#property', 1), ('#storm:\\n\\nhttp://t.co/khyqqsi6my', 1), ('http://t.co/g6vs3xeinb', 1), ('kesabaran', 1), ('membuahkan', 1), ('hasil', 1), ('indah', 1), ('pada', 1), ('saat', 1), ('tepat!', 1), ('dance', 1), ('@jenniferarri_', 1), ('comeeeee!', 1), ('...but', 1), ('bout', 2), ('storm????', 1), ('perfect', 1), ('storm-free', 1), ('happenings', 1), ('featured', 1), ('http://t.co/huzrhgmksy', 1), ('#eventspalmbeach.', 1), ('hobby', 1), ('lobby', 1), ('ama', 1), ('http://t.co/8qc8bcxoko', 1), ('storm?', 1), ('hawaiianpaddlesports', 1), ('http://t.co/lgpgajgomy', 1), ('http://t.co/fkd1mbtb68', 1), ('expanded', 1), (\"'slight\", 1), (\"risk'\", 1), ('include', 3), ('nc.', 1), ('#twcnews', 1), ('#ncwx', 1), ('http://t.co/dgbeh5l9ds', 1), (\"'calgarians\", 1), ('companies', 1), ('busy', 1), (\"calls'\", 1), ('http://t.co/fkfa9vsssz', 1), ('t-storm', 1), ('~3:45pm.', 1), ('threats', 1), ('http://t.co/xwoevmk0aa', 1), ('nasahurricane?', 1), ('*full', 1), ('update*', 1), ('satellite', 7), ('formation', 1), (\"pacific's\", 1), ('hilda\\nth\\x89û_', 1), ('http://t.co/ksxto8nknl', 1), ('#nasa', 1), ('straight', 1), ('us:', 1), ('http://t.co/cm5u55miol', 1), ('pics', 1), ('2nd.', 1), ('packed', 1), ('temp', 1), ('doves', 1), ('denier', 1), ('(electric', 1), ('proms', 1), ('pt4)', 1), ('http://t.co/xjtpv4oydl', 1), ('today\\x89ûªs', 1), ('pass;', 1), ('tomorrow\\x89ûªs', 1), ('greet', 1), ('kiss.', 1), ('bask', 1), ('warmth;', 1), ('bliss.', 1), ('shoes', 1), ('??#amazon', 1), ('#foot', 1), ('#adjust', 1), ('#shape', 1), ('#shoe', 1), ('shoe', 1), ('stretcher', 2), ('shaper', 1), ('width', 1), ('extender', 1), ('adjustable', 1), ('http://t.co/8cpcz2xohb', 1), ('antonio.', 1), ('stars', 1), ('coach', 1), ('hughes', 1), ('chairs', 1), ('floor.', 1), ('@stretcher', 1), ('@witter', 1), ('@rexyy', 1), ('@towel', 1), ('1)', 1), (\"'investigators\", 1), ('virgin', 18), ('galactic', 16), ('spaceship', 10), ('structural', 23), ('co-pilot', 6), ('unlocked', 5), ('braking', 4), (\"early'\", 1), ('spacex', 1), ('founder', 1), ('musk:', 1), ('falcon', 1), ('http://t.co/lvizo9cssr', 1), ('unlocking', 3), ('brakes', 5), ('triggered', 4), ('http://t.co/kp1hdchfnz', 1), ('blamed:', 2), ('failure\\x89û_', 1), ('http://t.co/imawvmzs3a', 1), ('http://t.co/fprt7nwrot', 1), ('correcting', 1), ('problems', 2), (\"west's\", 1), ('https://t.co/dvieablofz', 1), ('examiner', 1), ('http://t.co/ocmcvfdzkv', 1), ('co\\x89û_', 1), ('rightways:', 1), ('integrity', 1), ('failure:', 2), ('inspections', 1), ('defects', 1), ('testing', 1), ('http://t.co/vz1irh0nmm', 1), ('@rightwaystan', 1), ('ntsb:', 2), (\"galactic's\", 1), ('spaceshiptwo', 1), ('http://t.co/eysblyx6l6', 1), ('@kpcc', 1), ('http://t.co/pnhpljho8e', 1), ('rule', 4), ('http://t.co/adz8kburt7', 1), ('http://t.co/wc69xajis4', 1), ('slums', 1), ('manifestation', 1), ('citizens.', 1), ('illegality', 1), ('discourse', 1), ('confounds', 1), ('problems.', 1), ('#stopevictions', 1), ('http://t.co/bgrab7lk8d', 1), (\"'jet\", 1), (\"steel'\\n'the\", 1), (\"illogical'\\n'the\", 1), ('crashing', 1), (\"fake'\\n'it\", 1), (\"bomb'\", 1), ('http://t.co/qu1iug3e9r', 1), ('http://t.co/x3vqxdouvt', 1), ('virg..', 1), ('http://t.co/cy1lfenyv8', 1), ('http://t.co/iknyok9zzr', 1), ('http://t.co/qckqcx4hw9', 1), ('#bestnaijamade:', 6), ('16yr', 28), ('bomber', 60), ('detonated', 31), ('http://t.co/ksawlyux02', 6), ('bestnaijamade', 18), ('be\\x89û_', 6), ('pic', 17), ('http://t.co/1yb8sizarg', 1), ('http://t.co/69iizvyqyc', 1), ('http://t.co/uwfvwmjepu', 1), ('http://t.co/pxonlrqusm', 1), ('@alfapedia', 1), ('http://t.co/ujnrgfangj', 1), ('http://t.co/tmipegqyev', 1), ('http://t.co/pol92mn8yz', 1), ('http://t.co/tuvbr4lep3', 1), ('battles.', 1), ('citizens', 1), ('committing', 1), ('control.', 1), ('http://t.co/iuh718kcy0', 1), ('http://t.co/9pqyx4xool', 1), ('trench\\x89û_', 1), ('http://t.co/zdieodwbog', 1), ('@msoreo_', 1), ('http://t.co/v6nylvdped', 1), ('//./../..', 2), ('http://t.co/sj57boksib', 1), ('-/', 2), ('http://t.co/fqsk7qcawo', 1), ('http://t.co/6jzcedayrg', 1), ('homs', 1), ('zaman', 1), ('alwsl', 1), ('http://t.co/v8juc5ek1a', 1), ('#homs', 1), ('http://t.co/mgzslzz1wf', 1), ('http://t.co/5ortb8p51c', 1), ('http://t.co/n7yst76ku3', 1), ('http://t.co/gnynjhne6j', 1), ('http://t.co/1funemes7m', 1), ('wo', 1), ('http://t.co/5v29w19tfx', 1), (\"/'/'//\", 1), ('http://t.co/fvxhopdf3w', 1), ('hashd', 1), ('shaabi', 1), ('theft', 1), ('http://t.co/2ag9auabr3', 1), ('http://t.co/qna4tubnwh', 1), ('ll//ll=', 1), ('http://t.co/uonebahh3h', 1), ('http://t.co/mmklapx2ok', 1), ('#grupdates', 1), ('http://t.co/fqcdphccg7', 1), ('19th', 1), ('17-jul-2015', 1), ('attacks', 6), ('64', 1), ('[l.a.', 1), ('times/ap]', 1), ('http://t.co/o2cdkpsdfp', 1), ('http://t.co/h3sxfv5mtc', 1), ('http://t.co/iewdrenauk', 1), ('http://t.co/lwdcrpehtn', 1), ('http://t.co/etyzy8gb2a', 1), ('#mercados', 2), ('http://t.co/oz1ds3xu0d', 1), ('#tripoli', 1), ('taliban', 1), ('explosives-rigged', 1), ('compound', 2), ('http://t.co/wpilp4mymf', 1), ('http://t.co/8nhd9idajs', 1), ('http://t.co/axhclfersu', 1), ('http://t.co/jlmicj6je5', 1), ('mosque:', 3), ('service...', 1), ('http://t.co/mpoaefql6k', 1), ('@josephjett', 1), ('#saudiarabia', 1), ('http://t.co/lwane9vupg', 1), ('http://t.co/cpqgufzb28', 1), ('canadasuicide', 1), ('http://t.co/ktd5ig9m5o', 1), ('http://t.co/yytkp1z5kg', 1), (\"'islamic\", 1), (\"mosque'\", 2), ('http://t.co/vijfnhl630', 1), ('s\\x89ûªarabia', 1), ('bombing\\n\\na', 1), ('aseer', 1), ('south-western', 1), ('saudi...', 1), ('http://t.co/pmtqhivsxx', 1), ('strikes', 1), ('special', 3), ('forces;', 1), ('http://t.co/gigw51izpk', 1), (\"'hits\", 1), ('http://t.co/ke6djxanmm', 1), ('detonates', 1), ('http://t.co/xyckgxzv9s', 1), ('http://t.co/fy0r9o7xsl', 1), ('http://t.co/37dqvjhncv', 1), ('http://t.co/lgpne5hkao', 1), ('@abu_baraa1', 1), ('targets', 2), ('dead\\nthis', 1), ('ridiculous', 1), ('http://t.co/9k1tqsaarm', 1), ('http://t.co/ev3nx9scx3', 1), ('#deai', 1), ('http://t.co/sqydkslfzp', 1), ('dozen', 2), ('experiencing', 2), ('http://t.co/pioy1o54f4', 1), ('saudiåêmosque', 1), ('http://t.co/h99bhb29xt', 1), ('http://t.co/axk9xno6yz', 1), ('http://t.co/dn5buo7gsk', 1), ('@bbclaurak', 1), ('stowing', 1), ('aboard', 1), ('trains?', 1), ('(afp)', 1), ('thursd...', 1), ('http://t.co/ibype1kaz5', 1), ('http://t.co/guaj2t910b', 1), ('http://t.co/txg7k2do9v', 1), ('taught', 2), ('1970s', 1), ('piracy', 1), ('slavery', 1), ('suicide-bombing', 1), ('purely', 1), ('historical.', 1), ('re-occur', 1), ('suruì¤', 2), ('32', 1), ('launches', 1), ('airstrikes', 1), ('kurdistan', 1), (\"workers'\", 1), ('@daisycuttertz', 1), ('@grogparty', 1), ('@tony_burke', 1), ('lessons', 3), ('imam!', 1), ('@sonofbobbob', 1), ('@shimmyfab', 1), ('@trickxie', 1), ('chopping', 1), ('heads', 3), ('gays', 1), ('rooftops', 1), (\"da'esh\", 1), ('(rightly)', 1), ('despicable.', 1), ('ocalan/', 1), ('marxism?\\n\\n=', 1), (\"'our\", 1), (\"values'.\", 1), ('https://t.co/gs0km0vlgk', 1), ('offshoot', 1), ('http://t.co/etitgpsrun', 1), (\"'suicide\", 6), ('[location', 2), (\"named]...'\", 2), ('#premonitions', 2), ('http://t.co/iikssjgbdn', 2), ('@jewhaditm', 1), ('amazing', 1), ('idea.', 1), ('personnel', 1), ('http://t.co/ibazrhlsur', 1), ('http://t.co/b6wwq2nyqi', 1), ('kurdish', 4), ('militant', 4), (\"attack'\", 4), ('http://t.co/wd7s6s0vci', 1), ('remembering', 3), ('rebecca', 1), ('roga', 1), ('philippines.', 2), ('hamas', 3), ('egged', 3), ('361', 3), ('infographic:', 1), ('suruc', 2), ('http://t.co/uvaojzcycz', 1), ('saadthe', 1), ('produced', 2), ('kpdied', 1), ('2007he', 1), ('#kppolice.', 1), ('http://t.co/zoipkpbd6o', 1), ('european', 1), ('kabul', 1), ('http://t.co/o6armcgvbs', 1), ('@rayquazaerk', 1), ('employed', 1), ('groups.', 1), ('http://t.co/nvp6wrkl1e', 1), ('http://t.co/7cibxls55f', 1), ('#kuwait', 1), (\"'joined\", 1), ('june', 1), (\"bombing'\", 1), ('confesses', 1), ('court', 3), ('http://t.co/tmz6x1n2gq', 1), ('@haji_hunter762', 1), ('@middleeasteye', 1), ('muzzies', 1), ('combust!', 1), ('payback', 1), ('reached', 1), ('22', 3), ('https://t.co/opjwunuvg8', 1), (\"erdogan's\", 1), ('gambit:', 1), ('socialists', 1), ('http://t.co/z6xauidrxu', 1), ('@shareaholic', 1), ('kurd', 1), ('http://t.co/ghghqm9e6d', 1), ('@nbcpolitics', 1), ('911bombing', 1), ('barracks', 1), ('bombers', 1), ('teachers', 1), (\"students...\\n\\n'please\", 1), ('pay...', 1), ('http://t.co/zfivvxydzy', 1), ('http://t.co/7old5mjwph', 1), ('9)', 1), (\"'without\", 1), ('hara-kiri', 1), (\"suicide'.\", 1), ('http://t.co/uo0aqk9kr8', 1), ('mordechai', 1), ('yehuda', 1), ('friedman', 1), ('ramat', 1), ('beit', 1), ('shemesh;', 1), ('marlene', 1), ('menahem', 1), ('moshav', 1), ('safsufa;', 1), ('absence', 1), ('sexual', 2), ('interactions.', 1), ('sunk?', 1), ('http://t.co/hfzk09mcen', 1), ('diver', 1), ('neil', 1), ('anthony', 1), ('steamship', 1), ('mail', 2), ('http://t.co/qp3gvvfofq', 1), ('sand', 1), ('sunk', 5), ('shattered', 1), ('visage', 1), ('lies...', 1), ('http://t.co/0kccg1bt06', 1), ('aquarium', 2), ('ornament', 2), ('sailing', 2), ('destroyer', 2), ('fish', 2), ('cave', 3), ('decor', 2), ('http://t.co/kncm9jc8i9', 1), ('http://t.co/swviazsphk', 1), ('fuso', 1), ('battleship', 1), ('yamashiro', 1), ('cachet', 1), ('http://t.co/aq5zlim7l4', 1), ('http://t.co/fvr9jdq71a', 1), ('@saintrobinho86', 1), ('league.', 1), ('demonstrated', 1), ('lions', 1), ('sunk!', 1), ('http://t.co/nosa8jjjin', 1), ('http://t.co/wukvdavuju', 1), ('@unrealtouch', 1), ('sake', 1), ('jesus', 1), ('sunk.', 1), ('seas', 1), ('giannis', 1), ('d.', 1), ('hitting', 1), ('submerged', 1), ('reef', 1), ('http://t.co/gn3whnsfib', 1), ('http://t.co/fwpof5twoc', 1), ('idk', 1), ('thruuu', 1), ('chim', 1), ('survive!', 1), ('gloria', 1), ('gaynor', 1), ('(with', 1), ('oktaviana', 1), ('devi)', 1), ('https://t.co/hukjz1wt36', 1), ('escaping', 1), ('captors', 1), ('step.', 1), ('wild-looking', 1), ('recluse.\\nbetrayed\\nhttp://t.co/0q040stkcv\\n#books', 1), ('#autoinsurance', 1), ('clueless', 1), ('driverless', 1), ('#healthinsurance', 1), ('http://t.co/ydetwgribk', 1), ('survived.', 1), ('canoe.', 1), ('\\n\\nmay', 1), ('fastest', 1), ('though.', 1), ('http://t.co/pnssia5e46', 1), ('http://t.co/lsvsyspdxx', 1), ('miracle', 1), ('mankind', 1), ('bets', 1), ('70.', 1), ('@thesmallclark', 1), (\"'he'll\", 1), ('exactly', 1), ('fled', 1), ('trigger', 1), ('with---', 1), ('@rjkrraj', 1), ('@karnakarank', 1), ('@vimvith', 1), ('whether', 1), ('wud', 1), ('thalapathi', 1), (\"'planted\", 1), ('390', 1), (\"ago'\", 1), ('moved', 2), ('u-s.', 1), ('bonsai', 1), ('http://t.co/jid4ro34gb', 1), ('@natgeo', 1), ('tsutomi', 1), ('yamaguchi', 1), ('#nagasaki.', 1), ('#otd', 1), ('http://t.co/daalpenzp0', 1), ('cousin', 1), ('pow.', 1), ('treated.', 1), ('talked', 1), ('justified', 1), ('https://t.co/sudkk1weez', 1), ('thr', 1), (\"'rt\", 1), ('thrarchives:', 1), ('1928:', 1), ('leo', 1), ('mgm', 1), ('#tbt', 1), ('http://t.co/wpkl2qniqw', 1), (\"http://t.co/bd52fxdvhq'\", 1), ('\\x89ûï@bbcwomanshour:', 1), ('setsuko', 1), ('thurlow', 1), ('http://t.co/cvjyml7krm', 1), ('http://t.co/fph01u3eii\\x89û\\x9d', 1), ('cafe', 1), ('http://t.co/qmif0blwoa', 1), ('http://t.co/l6pif3lpen', 1), ('ì¢??', 1), ('http://t.co/glzmgbm7w0', 1), ('tricycle', 1), ('bomb\\nhttp://t.co/ljeryhitwh', 1), ('decisions', 2), ('landscape', 1), ('humanity.', 1), ('patient-reported', 1), ('outcomes', 1), ('long-term', 1), ('metastatic', 1), ('colorectal', 1), ('journal', 1), ('surgery', 1), ('http://t.co/5yl4dc1tqt', 1), ('dear', 1), ('humanityi', 1), ('apologized', 1), ('survivors.r', 1), ('so?#japan', 1), ('#nuclearweapons', 1), ('http://t.co/twykzn4rlc', 1), ('#coppednews', 1), ('haunting', 4), ('drawn', 4), ('http://t.co/wx11d69gez', 1), ('@kotowsa:', 1), ('sudan\\x89ûªs', 1), ('women:', 1), (\"'just\", 1), (\"thing'\", 1), ('\\nhttps://t.co/mexwohd3tg', 1), ('http://t.co/gb46fid2we', 1), ('http://t.co/praro2owia', 1), ('http://t.co/e7shtylbnl', 1), ('carr..', 1), ('http://t.co/ijobz3mzp0', 1), ('http://t.co/pcjbvrs7xw', 1), ('nears', 1), ('speak', 1), ('http://t.co/uo8grdauat', 1), ('http://t.co/uvm975yha2', 1), ('focuses', 1), ('powerful.', 1), ('@arovolturi3000', 1), ('wood', 1), ('@fedporn', 1), ('period', 1), ('absurd', 1), ('satire', 1), ('indistinguishable', 1), ('reality.', 1), ('\\x89û÷faceless', 1), ('sister\\x89ûª:', 1), ('#nuke', 1), ('http://t.co/918eqmtkrl', 1), ('@lawfulsurvivor', 1), ('t-dog', 1), ('holed', 2), ('glenn', 1), ('morales', 1), ('andrea', 1), ('jacqui', 1), ('merle.--', 1), ('stemming', 1), ('#cubs', 1), ('talk-', 1), ('rosters', 1), ('@arizzo44', 1), ('@jlester34...@cubs', 1), ('fans:', 1), ('http://t.co/xgnjgle9eq', 1), ('http://t.co/wj7ujfs8fd', 1), ('remembrance', 1), ('http://t.co/ii4ewe1qir', 1), ('http://t.co/h3vusqzyqo', 1), ('news786-uk', 1), ('islamist', 1), ('anjem', 1), ('choudary', 1), ('act:', 1), ('http://t.co/u7bbenxwyk', 1), ('@robpulsenews', 1), ('@huyovoetripolye', 1), ('phillips', 1), (\"ldnr-terrorists'\", 1), ('organizations.', 1), ('http://t.co/xwnjysv9v9', 1), ('truth...\\nhttps://t.co/nxs3z1kxid\\n#news\\n#bbc\\n#cnn\\n#islam\\n#truth\\n#god\\n#isis\\n#terrorism\\n#quran\\n#lies', 1), ('http://t.co/udkmadkuzy', 1), ('preacher', 1), ('faces', 1), ('charges', 2), ('http://t.co/daplllfuqk', 1), ('sneaks', 1), ('cockpit;', 1), ('http://t.co/1w58ehv9s1', 1), ('http://t.co/p8ih0hni3l', 1), ('senate', 1), ('legal', 1), ('http://t.co/2y5morpugt', 1), ('#politics', 1), ('democracy\\x89ûªs', 1), ('hatred', 1), ('hate:', 1), ('dawabsha', 1), ('erode', 1), ('democracy.', 1), ('homegrown', 1), ('ha...', 1), ('http://t.co/q8n5tn8wme', 1), ('cross-border', 2), ('terrorism:', 2), ('red-handed', 2), ('http://t.co/udj50j3mv4', 1), ('ctd', 1), ('vital', 1), ('orangi:', 1), ('karachi:', 1), ('counter-terrorism', 1), ('(ctd)', 1), ('sindh', 1), ('http://t.co/le4brduau9', 1), ('domestic', 1), ('https://t.co/gevrmbvznb', 1), ('diretube', 1), ('cyprus', 1), ('greece', 1), ('fightåêterrorism', 1), ('http://t.co/v6ijxccd2i', 1), ('http://t.co/ysxhfwmgod', 1), ('understanding', 1), ('jihadi', 1), ('proto-states:', 1), ('http://t.co/d5h4jif1y3', 1), ('dhs', 1), ('chattanooga', 2), ('\\x89û÷islamic', 1), ('terrorism\\x89ûª', 1), ('respect', 1), ('http://t.co/u8rgb51d22', 1), ('@po_st', 1), ('http://t.co/2tnu95vgfe', 1), (\"pakistan's\", 1), ('supreme', 2), ('rules', 5), ('suspects', 1), ('http://t.co/ajpbdcalew', 1), ('incitement', 1), ('beinart:', 1), ('http://t.co/ot2oooedts', 1), ('equal', 1), ('humans!', 1), ('islam', 1), ('terrorism!', 1), ('@adamnibloe', 1), ('truth...\\nhttps://t.co/2y4rgob7pj\\n#news\\n#bbc\\n#cnn\\n#islam\\n#truth\\n#god\\n#isis\\n#terrorism\\n#quran\\n#lies', 1), ('http://t.co/mves6vssyn', 1), ('few..', 1), ('heart-warming', 1), ('unity', 2), ('terrorism..', 1), ('http://t.co/hhpvpael4n', 1), ('truth...\\nhttps://t.co/p5zicjudxo\\n#news\\n#bbc\\n#cnn\\n#islam\\n#truth\\n#god\\n#isis\\n#terrorism\\n#quran\\n#lies', 1), ('http://t.co/kzhb8zx6yc', 1), ('negotiating', 1), ('world.', 2), ('hurry', 2), ('courts', 1), ('http://t.co/szeapueuvy', 1), ('truth...\\nhttps://t.co/4zqrsaqrrt\\n#news\\n#bbc\\n#cnn\\n#islam\\n#truth\\n#god\\n#isis\\n#terrorism\\n#quran\\n#lies', 1), ('http://t.co/6ar3ukvsxw', 1), ('http://t.co/uiqsfgzoox', 1), ('naved', 3), ('registered', 1), ('citizen:', 1), ('http://t.co/0fs9ksv5xk', 1), ('mercy', 1), ('punishment', 1), ('convivted', 1), ('1/n', 1), ('covered', 1), ('capture', 1), ('mohammed', 1), ('http://t.co/3mtwh0jjns', 1), ('pulwama', 2), ('forces.', 1), ('forces...', 1), ('http://t.co/m5rjekvddp', 1), ('fresh', 2), ('j&amp;amp;k', 1), ('http://t.co/oef123l5rc', 1), ('tried', 2), ('car;', 1), (\"him'\", 1), ('http://t.co/vsoxkbt6nq', 1), ('pulling', 1), ('hoes', 1), ('http://t.co/fy30fv0qbx', 1), ('nia', 1), ('quizzed;', 1), ('denies', 1), ('http://t.co/ogzjokd7sv', 1), ('#elections', 1), ('#achedin', 1), ('@narendramodi', 1), ('@bjpsamvad', 1), ('old.', 1), ('pakistan.', 1), ('@rahulkanwal', 1), ('jammu', 1), ('soft', 1), ('license', 1), ('plate?', 1), (\"terrorist's\", 1), ('car...', 1), ('http://t.co/cwgcciw3v6', 1), ('disowned', 1), ('kasab', 1), ('disowns', 1), ('naved:', 1), ('denial?:', 1), ('alive', 2), ('an\\x89û_', 1), ('http://t.co/hgdrk81sn4', 1), ('kasabwe', 1), ('biryani', 1), ('@swiftycommissh', 1), ('@taoistinsight', 1), ('@immortaltech', 1), ('tht', 1), ('bully', 1), ('killin', 1), ('tire', 1), ('#bethlehem\\nhttp://t.co/ph2xli8nve', 1), ('http://t.co/22fuxhn7el', 1), ('haaretz', 1), ('http://t.co/u4gsbnu8wc', 1), ('/r/worldnews', 2), ('http://t.co/su4zvwadj7', 1), ('#palestinians', 2), ('overnight', 4), ('http://t.co/j5mkcbkcov', 2), ('#udhampuragain', 1), ('dead..', 1), ('@lovemywife1983', 1), ('shedid', 1), ('4the', 1), ('journalist', 2), (\"bush's\", 1), ('washard', 1), ('stopping', 1), ('current', 1), ('acquire', 1), ('#traitor', 1), ('http://t.co/9tyucdwh3g', 1), ('@dmassa5', 1), ('definite', 1), ('crown', 1), ('threat.', 1), ('harper', 1), ('both.', 1), ('meek', 1), ('mill', 2), ('responds', 1), ('drake\\x89ûªs', 1), ('ovo', 1), ('fest', 1), ('wedgie', 1), ('http://t.co/qqskybarng', 1), ('random', 1), ('#gander.', 1), ('convection', 1), ('outflow.', 1), ('spits', 1), ('#nlwx', 1), ('@originalfunko', 1), ('@spencers', 1), ('buddys!!!!', 2), ('frequent', 1), ('uptown', 1), ('midtown.', 1), ('http://t.co/kqjevyqzlv', 1), ('cn', 1), ('http://t.co/hmwhob7prs', 1), ('lightening', 3), ('torrential', 1), ('cut!', 1), ('shook', 1), ('dreaming', 1), ('scare', 1), ('@asimtanvir', 1), ('@nemesisk_pes', 1), ('@kevr_7', 1), ('snow?', 1), ('lightning?', 1), ('rly', 15), ('sheeting\\naaaaaand', 1), ('lightning\\ni', 1), ('gloomy', 1), ('shakes', 1), ('windows?', 1), ('w/that', 1), ('http://t.co/x4ecggvnsn', 1), ('#thunder', 1), ('??????????????????', 1), ('@haydnexists', 1), ('didn\\x89ûªt', 1), ('10:30pm.', 2), ('http://t.co/2hv2y2m2oz', 1), ('niggas', 1), ('thunderstorm..', 1), (\"'hope\", 1), ('lorr', 1), ('bless', 1), (\"em'\", 1), ('#usnwsgov', 3), ('statement', 4), ('10:40pm', 1), ('...strong', 1), ('impact...', 2), ('http://t.co/tq1ruqd4lg', 1), ('9:31pm', 1), ('10:15pm', 1), ('http://t.co/h9i6mozask', 1), ('oun', 2), ('lincoln', 1), ('[ok]', 2), ('http://t.co/bti8jamfiu', 1), ('10:38pm', 2), ('http://t.co/epzgg4uqji', 1), ('@museawayfic', 1), ('@beenghosting', 1), ('@xylodemon', 1), ('quarters', 1), ('woods', 1), ('continued', 3), ('oklahoma-ok', 2), ('10:30', 4), ('buren', 1), ('http://t.co/kjsvw06gbv', 1), ('inws', 1), ('alert', 2), ('spsgsp', 1), ('10:40', 1), ('11:15', 1), ('pickens', 2), ('http://t.co/ldcwkyuaff', 1), ('cancelled', 1), ('oklahoma.', 1), ('penny', 1), ('sized', 1), ('9:33pm', 1), ('warn...', 1), ('http://t.co/1eof1wxnpj', 1), ('#skywarn', 1), ('russellville', 1), ('ar', 3), ('clarksville', 1), ('dardanelle', 1), ('10:15', 1), ('http://t.co/n844h1aspj', 1), ('@livingsafely:', 2), ('#thunderstorm', 3), ('#ar', 2), ('#nc', 2), ('#ok.', 2), ('http://t.co/kea5l3b1ae', 1), ('http://t.co/rsdkwzrc8g', 1), ('pea', 1), ('size', 2), ('mph...', 1), ('#scwx', 1), ('http://t.co/tsaletftkt', 1), ('10:30pm', 1), ('cdt.', 1), ('http://t.co/oim6po8xcu', 1), ('del', 1), ('choctaw', 1), ('http://t.co/ogxsy4gwd1', 1), ('pictures', 1), ('http://t.co/uzwlgjqzns', 1), ('[high', 1), ('priority]', 1), ('ended', 2), ('lethbridge', 1), ('[updated:', 1), ('05th', 1), ('20:29', 1), ('mdt]', 1), ('http://t.co/yqyiwjn8ez', 1), ('halifax', 2), ('1145', 1), ('[va]', 1), ('11:45', 1), ('http://t.co/mjstefggu5', 1), ('helsinki\\n#thunder', 1), ('#lightning', 1), ('#lightningstrike', 1), ('#helsinki\\x89û_', 1), ('https://t.co/rjjxucx5pm', 1), ('9:35', 1), ('thunderstorm.', 1), ('degrees.', 1), ('weird.', 1), ('http://t.co/7huen4rwrn', 1), ('73rd', 1), ('goode', 1), ('ski', 1), ('championships', 1), ('http://t.co/pgkbt3mbap.', 1), ('mon)', 1), ('(ar)', 1), ('9:12pm', 1), ('9:45pm', 1), ('http://t.co/ayfdjeb7hy', 1), ('sunday\\x89ûªs', 1), ('http://t.co/ffnzit7kgn', 1), ('(ok)', 1), ('8:29pm', 1), ('9:15pm', 1), ('http://t.co/o8x4m5er6b', 1), ('http://t.co/itnkbxgwlh', 1), ('lexi', 1), ('belle', 1), ('@sakhalintribune', 1), ('eastward', 2), ('environment', 1), ('touched', 1), ('åè', 1), ('http://t.co/x8zqbwnfo1', 1), ('pizza', 1), ('beer', 1), ('austin.', 1), ('windy', 1), ('af', 1), ('thunderstorm/tornado', 1), ('woken', 1), ('yesterday.', 1), ('dark!', 1), ('http://t.co/y8h5v1j2y7', 1), ('@kunalkapoor', 1), ('storm\\nchaser\\nhttp://t.co/4wjy7sehmw\\n#photography', 1), ('#pod', 1), ('@rebelmage2', 1), ('xd', 1), (\"'be\", 1), (\"safe'\", 1), ('reference', 1), ('drum', 1), ('heller', 1), (':o', 1), ('distinct', 1), ('rotation', 1), ('condenses', 1), ('villa', 1), ('mcv', 1), (\"'sub-tornado?'\", 1), ('https://t.co/fd9dzspugk', 1), ('cbc.ca:', 1), ('cbc.ca', 2), ('end\\x89û_', 1), ('http://t.co/st9jpz8y24', 1), ('http://t.co/p4kofytkdx', 1), ('http://t.co/izjk6kpwiz', 1), ('mp:', 14), ('recount', 14), ('http://t.co/ttb9oil8r2', 1), ('timesofindia', 1), ('soulja..', 1), ('horror:', 12), ('\\x89ûïwhen', 12), ('plunging', 12), ('http://t.co/72ix7vm87w', 1), ('http://t.co/calk5nv5vc', 1), ('railways', 2), ('tragedy;', 2), (\"'vulnerable'\", 1), ('\\x89û÷vulnerable\\x89ûª', 1), ('http://t.co/ub1jzskmrc', 1), ('@toiindianews', 1), ('ofcourse', 1), ('\\n\\njust', 1), ('\\n\\nn', 1), ('caued', 1), ('washing', 1), ('tracks..', 1), ('http://t.co/s43we7oe2i', 1), ('http://t.co/vscpgmsjxy', 1), ('water...', 1), ('http://t.co/wk63tm34a0', 1), ('wa...', 2), ('http://t.co/eyorbmf3o3', 1), ('@itss_selenaluna', 1), ('http://t.co/0xh758onup', 1), ('http://t.co/car5qeuvhh', 1), ('robert', 1), ('gagnon', 1), ('imposing', 1), ('same-sex', 1), ('marriage', 1), ('http://t.co/hipklxphnp', 1), ('my\\x89û_', 1), ('http://t.co/gdjtzkpchk', 1), ('daughters', 2), ('http://t.co/zkgqspwyj3', 1), ('http://t.co/21hsrrqzou', 1), ('http://t.co/xtljz7bjgl', 1), ('hirochii0:', 1), ('korea.', 1), ('http://t.co/and1btizao', 1), ('#jamaica', 1), ('@csaresu', 1), ('http://t.co/sdmrzgeryx', 1), ('leitchfield', 1), ('ky:\\n\\n', 1), ('bella', 1), ('edward', 1), ('rosalie', 1), ('rescue/adoption/local', 1), ('foster', 1), ('home(s)/sponsorships.\\n\\n', 1), ('&amp;...', 1), ('http://t.co/ajay0snplg', 1), ('@onihimedesu', 1), ('trapped!', 1), ('city!', 1), ('manga', 1), ('wit', 1), ('triangle', 1), ('(c)', 1), ('head?', 1), ('explosive', 1), ('tween', 1), ('(?eudrylantiqua?)', 2), ('hollywood', 6), ('miners', 6), ('chile:', 3), (\"33'\", 3), ('holly...', 1), ('http://t.co/us1dmdxzvb', 1), ('cuz', 1), ('remodeled.', 1), ('chile', 1), ('http://t.co/qkrltrd39b', 1), ('@boyinahorsemask', 1), ('panda', 1), ('starring...', 2), ('http://t.co/tyyfg4qqvm', 1), ('http://t.co/0f8xa4ih1u', 1), ('lavenderpoetrycafe:', 2), ('encoded', 1), ('sensory', 1), ('cognitive...', 1), ('http://t.co/dmb6xp966d', 1), ('#nissannews', 1), ('hospitalized', 1), ('2-car', 1), ('a1a', 1), (\"bing's\", 1), ('landing:', 1), ('http://t.co/9dwyjqvfy4', 1), ('@ptsd_chat', 1), ('root', 1), ('trauma.', 1), ('#ptsdchat', 1), ('paint', 1), ('eighty-nine', 1), ('http://t.co/spe7u8t40k', 1), ('hysteria', 1), ('affliction', 1), ('primarily...', 1), ('http://t.co/u2es0uk1u3', 1), ('http://t.co/0dqjeretxu', 1), ('butt', 1), ('extraordinaire', 1), ('memory:', 1), ('intragenerational', 1), ('sandra', 1), ('bland', 1), ('http://t.co/zweygphpf7', 1), ('esteemed', 1), ('unaddressed', 1), ('#childhood', 1), ('#trauma.', 1), ('@keithboykin', 1), ('@randallpinkston', 1), ('@pozarmy', 1), ('http://t.co/gxq1auzb18', 1), ('anywhere', 1), (\"abc's\", 1), ('parent...', 1), ('http://t.co/fmj8mxjy8a', 1), ('@uchicago', 1), ('faculty', 1), ('overturn', 1), ('protesters', 1), ('http://t.co/ta1yqclpsc', 1), ('http://t.co/xtohi1hexy', 1), ('@pyramidhead76', 1), ('film.', 1), ('amazon.', 1), (':d', 1), ('@disneyirh', 1), ('http://t.co/tatzfk63ch', 1), ('@lucysforsale', 1), ('funny', 1), ('dumb', 1), ('trouble', 4), ('@canagal', 1), ('back..', 1), (\"storm's\", 1), ('^sj', 1), ('ryans', 1), ('http://t.co/adip0unxhu', 1), ('strawberries', 1), ('trouble.', 1), ('race', 1), ('solution.', 1), ('http://t.co/mqydxrlae7', 1), ('http://t.co/epjjkb4be9', 1), ('@cspan', 1), ('#prez.', 1), ('mr.', 1), ('maker', 1), ('sponsor', 1), ('terrorist.', 1), ('tsunami?', 1), ('#nopower', 1), ('@helene_yancey', 1), ('godslove', 1), ('#thanku', 1), ('helene', 1), ('crptotech', 1), ('banks.\\n', 1), ('http://t.co/khztevedja', 1), ('#banking', 1), ('#bitcoing', 1), ('#blockchain', 1), ('optical', 1), ('illusion', 1), ('mountains', 1), ('switzerland', 1), ('http://t.co/eyevziopg1', 1), (\"'free\", 1), (\"speech'\", 1), ('swallowed.', 1), ('http://t.co/tjyyft6nv0', 1), ('?#fukushima?#tepco?\\nmountains', 1), ('coast\\nhttp://t.co/y518jyrzav', 1), ('@slone', 1), ('end?', 1), ('ripples', 1), ('clears', 1), ('@author_mike', 1), ('amen', 1), ('salvation.', 1), ('encouragement.', 1), ('theyre', 1), ('tides', 1), ('eyesss', 1), ('brinco', 1), ('snd', 1), ('beacon.', 1), ('http://t.co/nxkum9h7wd', 1), ('alil', 1), ('twister', 6), ('tha', 1), ('to!', 1), ('gail', 1), ('russell', 1), ('dalroy', 1), ('http://t.co/3vfkedgrso', 1), ('950.', 1), ('tumbles', 1), (\"todayi'm\", 1), ('side\\n\\nand', 1), ('sweeps', 1), (\"away-\\n\\nyou're\", 1), ('bitch!*runs', 1), ('threw', 1), ('nude', 1), ('friend50', 1), ('=&gt;http://t.co/hy5pbe12tm', 1), ('http://t.co/c1njpli5or', 1), ('tornadoes:', 1), ('nino', 1), ('boost', 1), ('#toronto', 1), ('http://t.co/agycutkbnn', 1), ('#breaking144', 1), ('declarat...', 1), ('http://t.co/m8ciks60bx', 1), ('#acenewsdesk', 1), ('map:', 3), (\"soudelor's\", 3), ('taiwan;', 3), ('landfall', 4), ('http://t.co/jdvsgvhlis', 1), ('haiyan', 2), ('@devpeace', 1), ('http://t.co/jwxrx1lsqo', 1), ('precipitation', 4), ('measurement', 4), ('3-d', 4), ('nasahurricane.', 1), ('visit:', 1), ('http://t.co/sqn4girdvz', 1), ('http://t.co/usvyhdg9og', 1), ('@nasahurricane', 3), ('http://t.co/20dncthr4d', 1), ('http://t.co/q3dtoqo04c', 1), ('http://t.co/qjuu0wcwpx', 1), ('mr.obama', 1), ('cnmi', 1), ('soudelor.', 1), ('2slow2report.', 1), ('soudelor:', 1), ('be?', 1), ('http://t.co/cwzhgezaj4', 1), ('http://t.co/9i6crcrq2m', 1), ('rt_america:', 1), ('rt_com:', 1), ('(time-lapse)', 1), ('https://t.co/fc3bxrthpg', 1), ('http://t.co/biu4kowglz', 1), ('http://t.co/3ac5wuy1r0', 1), ('http://t.co/igcetumkcw', 1), ('http://t.co/caneyttwev', 1), ('#international', 1), ('nbanews', 1), ('joint', 1), ('typhoon\\x89û_', 1), ('http://t.co/pc8bvuflfj', 1), ('http://t.co/bhzr9ugus2', 1), ('http://t.co/vts9cayibc', 1), ('vegetables', 1), ('http://t.co/gei58vhbw6', 1), ('by...', 1), ('http://t.co/yvafi3zujx', 1), ('territory', 1), ('andåêchina', 1), ('http://t.co/3og66nfsig', 1), ('taiwan.', 1), ('http://t.co/na2ey64vsg', 1), ('gpm', 2), (\"'bullseye'\", 2), ('http://t.co/7vcezi6cbb', 1), ('http://t.co/mvsrjd4x3d', 1), ('http://t.co/0xcb7yeqmw', 1), ('http://t.co/piveupirky', 1), ('4yygb', 1), ('mhtw4fnet\\n\\nthousands', 1), ('strongest', 1), ('typhoon.', 1), ('#abcnews', 1), ('http://t.co/dobzc3pitm', 1), ('http://t.co/leyjwnnah8', 1), ('http://t.co/sa5cdwvdxt', 1), ('(study', 1), ('3)\\n', 1), ('sixth', 1), ('events', 1), ('revelation', 1), ('12.', 1), ('upheaval', 5), ('roman...', 1), ('http://t.co/gw0cxoojyv', 1), ('ancient', 1), ('mayan', 1), ('tablet', 1), ('jungle', 1), ('http://t.co/qp6q8rs8on', 1), ('ferguson\\x89ûªs', 1), ('https://t.co/m4tui0p9nt', 1), ('mentioned', 1), (\"'reporting'\", 1), ('bill', 1), (\"#ferguson's\", 1), ('http://t.co/qwsbvflpe1', 1), ('\\ndue', 1), (\"ferguson's\", 1), ('http://t.co/vxuftvt9au', 1), ('pov', 5), ('footage', 3), ('amsterdam', 4), ('http://t.co/nqxqyi70w4', 1), ('#travel', 1), ('possibility', 1), ('watertown', 2), ('http://t.co/3zasz6wxjj', 1), ('pounds', 1), ('black\\na', 1), ('bruise', 1), (\"sky's\", 1), ('chest\\nwind', 1), ('cries', 1), ('\\na', 1), ('tough', 2), ('life\\nshort', 1), ('violent.', 2), ('#stormchase', 2), ('ef-5', 2), ('http://t.co/3sicroaanz', 2), ('http://t.co/i27oa0hisp', 2), ('#amsterdam', 2), ('schiphol', 3), ('st...', 1), ('http://t.co/alumrgl40e', 1), ('http://t.co/8h2kctfb8i', 1), ('batters', 2), ('auckland', 2), ('northland:', 1), ('battered', 2), ('northland', 1), ('uprooting...', 1), ('http://t.co/enrpgrgtts', 1), ('----&gt;', 1), ('http://t.co/6peeip4y7w', 1), (\"'taking'\", 1), ('trophy.', 1), ('killing.', 1), ('http://t.co/neqw47e1uj', 1), ('#cecilthelion', 1), ('#badchoices', 1), ('#bantrophyhunting', 1), ('radio:', 1), ('scourgue', 1), ('gods\\ntunein', 1), ('http://t.co/xssgedsbh4', 1), ('u.s.pacific', 1), ('command.\\ni', 1), ('it!\\nthey', 1), ('festival\\nit', 1), ('disappears', 1), ('freedom\\na', 1), ('@vickie627', 1), ('unqualified', 1), ('treaty', 1), ('signed.', 1), ('clinton', 1), ('http://t.co/kxewlhh7uw', 1), ('http://t.co/oq0lnf2yug', 1), ('http://t.co/tzdbcgpsag', 1), ('http://t.co/xrgpdlswfd', 1), ('http://t.co/fkv5qxdcy3', 1), ('blitzes', 1), ('traverse', 2), ('management', 1), ('seminars:', 1), ('blitzed', 1), ('tra...', 1), ('http://t.co/nkaw9ezqgg', 1), ('belligerent', 1), ('unfold', 1), ('@iateyourfood', 1), ('yikes.', 1), ('pup.', 1), ('brief', 1), ('swept', 1), ('upper', 2), ('uprootin...', 1), ('http://t.co/fhvokmphed', 1), ('clap', 1), ('pilot.', 1), ('http://t.co/cgvuy3rcxo', 1), ('wth', 1), ('rotating', 1), (\"'huge'\", 1), (\"'massive'\", 1), (\"'violent'\", 1), ('do?', 1), ('https://t.co/j3di85ist5', 1), ('http://t.co/rj9gkjkjjn', 1), ('http://t.co/seshqn5dsk', 1), ('ukraine', 2), ('admin', 1), (\"building\\nwe're\", 1), ('http://t.co/byj5dfa2rv', 1), ('jetstar', 1), ('cancel', 1), ('bali', 1), ('flights', 1), ('ash', 1), ('raung', 2), ('http://t.co/jtjofltms4', 1), ('nside', 1), (\"dragon's\", 1), ('belly.', 1), ('ice', 1), ('under\\na', 1), ('kamchatka', 1), ('photography', 1), ('by\\nå©daniel', 1), ('korzhonov\\nhttp://t.co/8t36hwgoqd', 1), ('aogashima', 1), ('volcano.', 1), ('unknown', 2), ('http://t.co/oegfqbiqiq\\n', 1), ('#aogashima', 1), ('#volcano', 2), ('hawaii:', 4), ('01:04:01', 4), ('15:04:01', 4), ('-10:00', 4), ('http://t.co/etswuod3om', 1), ('1.94', 1), ('01:04', 1), ('http://t.co/auf4j4owj1', 1), ('indonesian', 1), ('http://t.co/7mug2kahl7', 1), ('http://t.co/3rrght4ewp', 1), ('http://t.co/disrwhqgym', 1), ('@mrmikeeaton', 1), ('@muazimus_prime', 1), ('hil.', 1), ('[01:04', 2), ('utc]?5km', 2), ('hawaii.', 2), ('http://t.co/zdtoyd8ebj', 2), ('http://t.co/y2mt6v13e8', 1), ('doc:', 1), ('earthquakes', 2), (\"kiddo's\", 1), ('gi', 1), ('specialist', 1), ('sang', 1), ('@alextucker', 1), ('bowl', 1), ('drink', 1), ('zeal', 1), ('peak', 1), ('grass', 1), ('indecisiveness', 1), ('@volcano_tornado', 1), ('somewhere', 1), ('da', 1), ('son!', 1), ('#perspective', 1), ('ep...', 1), ('http://t.co/rtuetdfbqb', 1), ('#csismica', 1), ('@scegnews!', 1), ('hours!', 1), ('zone.', 1), ('war-zone', 1), ('sons', 1), ('fight?', 1), ('#worldwatchesferguson', 1), ('@govjaynixon', 1), ('@clairecmc', 1), ('dare', 1), ('-a', 1), ('citizens?', 1), ('#otrametlife', 1), ('http://t.co/pty9hrcuzh', 1), ('outside.', 1), ('articles', 1), ('opinion', 1), ('decision\\x89û_', 1), ('abe', 2), ('missiles', 1), (\"'weapon'\", 1), ('jsdf', 1), ('ally', 1), ('collective', 1), ('defense', 1), ('exercised.', 1), ('reiterate', 1), ('mindset', 1), ('individual!', 1), ('#professional', 1), ('#help!', 1), ('-legion!', 1), ('https://t.co/2lgtzkwmqw', 1), ('cat', 1), ('irons', 1), ('xii:', 1), ('nightmarishly', 1), ('brutal', 1), ('ritualistic', 1), ('club', 1), ('de', 1), ('http://t.co/xpfmr368uf', 1), ('http://t.co/nmaumydke1', 1), ('http://t.co/snqfhpym3o', 1), ('http://t.co/rjcaxjp4os', 1), ('@abcnews', 1), ('weapon!!', 1), ('insight', 1), ('#terror', 1), ('http://t.co/t6obvwaphw', 1), ('#cameroon', 1), ('#whitehouse', 1), ('#es', 1), ('#fr', 1), ('#nigeria', 1), ('#de', 1), ('#au', 1), ('#jp', 1), (\"abe's\", 1), ('clear', 1), (\"'weapon.'\", 1), ('badge', 1), ('choppas', 1), ('ass????', 1), ('power......hiroshima', 1), ('03/08/11:', 1), ('41-year-old', 1), ('bronx', 1), ('citing', 1), (\"'casing\", 1), (\"location.'\", 1), ('found.', 1), ('lol\\nlook', 1), ('infested', 1), ('america\\nyour', 1), ('mouth', 1), ('weapon\\nyou', 1), ('wimp', 1), ('helicopter...', 1), ('http://t.co/cgfzk8ha1r', 1), ('legitimate', 1), ('needing', 1), ('@argus_99', 1), ('@heidia1438', 1), ('resort', 1), ('settle', 1), ('pussy', 1), ('incredulous', 1), ('outcry', 1), ('taxpayers', 1), ('similar', 1), ('objection', 1), ('å£100bn', 1), ('chemical-weapons', 1), (\"'red\", 1), (\"line'\", 1), ('2012', 1), ('lcc', 1), ('96355', 1), ('#syria.', 1), ('friendly', 1), ('https://t.co/7qrepylluk', 1), ('https://t.co/ndxrk2ncln', 1), ('#uswarcrimes', 1), ('@nro', 1), ('unauthorized', 1), ('duty', 1), ('uniforms.', 1), ('argues', 1), (\"pelosi's\", 1), ('kiev', 1), ('http://t.co/jnn0krnxvy', 1), ('http://t.co/5loiwuyv5r', 1), ('@eyecuts', 1), ('@erasuterism', 1), ('96', 1), ('gal', 1), ('deco', 1), ('trickier', 1), ('with.', 1), ('splash', 1), ('#battlefield', 1), ('1942', 1), ('http://t.co/xbmm7ite9q', 1), ('#denver', 2), ('#billings', 2), ('#rapidcity', 2), ('#seattle', 2), ('#cheyenne', 2), ('pledged', 1), ('http://t.co/cbxnhhz6kd', 1), ('adamantly', 1), ('opposed', 1), ('http://t.co/mtgfx3efiv', 1), ('navy:', 1), ('attack\\n', 1), ('http://t.co/hddbmu2yca', 1), ('reagan', 1), ('administration', 1), ('arranged', 1), ('guatemalan', 1), ('http://t.co/4fynq1hwwb', 1), ('nagasaki.', 1), ('weapons!', 1), ('https://t.co/j3cirxjfa6', 1), ('whirlwind.', 1), ('coming.', 1), ('thailand', 1), ('whirlwind', 10), ('...2', 1), ('https://t.co/rukjyjg9oq', 1), (\"\\nyou're\", 1), ('tacoma', 1), ('portland.', 1), ('whirlwind!', 1), ('http://t.co/qwhinbni8e', 1), ('been!', 1), ('http://t.co/easlgea1b7', 1), ('medusa', 1), ('snake:', 1), ('microphone', 1), ('inputs', 1), ('returns', 2), ('ft', 1), ('http://t.co/mxkalmqpdb', 1), ('http://t.co/8kznhtytt9', 1), ('@byuwnbeki', 1), ('tacit', 1), ('raging', 1), ('lasted', 1), ('strong.', 1), ('standstill', 1), ('east.', 1), ('client', 1), ('meeting.', 1), ('emotions', 1), ('#tubestrike', 1), ('minute.', 1), ('#whirlwind', 1), ('#drained', 1), ('http://t.co/l8w30wfw3r', 1), ('@ckosova', 1), ('true.', 1), ('absolute', 1), ('whirlwind....', 1), ('athens', 1), ('win:', 1), ('lisowski', 1), ('whitewashes', 1), ('5-0', 1), ('round', 1), ('shanghai', 1), ('masters', 1), ('quals!', 1), ('http://t.co/mligpuhvoh', 1), ('#snooker', 1), ('http://t.co/tcs2cd5y6y', 1), ('blacken', 1), ('parched', 1), ('harris', 1), ('tinder', 1), ('box.', 1), ('https://t.co/i2lwty5yup', 1), ('articals', 1), ('@abc', 1), ('http://t.co/qd3dssfwue', 1), ('brother-n-law', 1), ('riooooos', 1), ('beast', 1), ('https://t.co/463p0ys0eb', 1), ('http://t.co/2m1gneaifl', 1), ('http://t.co/uqh85mip0v', 1), (\"california's\", 3), ('wild#fires', 1), ('burning:', 1), ('cal', 1), ('http://t.co/0x8jaqtowm', 1), ('http://t.co/m1rosi2wcs', 1), ('bernardino', 1), ('now....', 1), ('http://t.co/qcyqhvn2ha', 1), ('forbid', 1), ('#wild', 1), ('http://t.co/cmsgexm4fc', 1), ('#sanonofre', 1), ('http://t.co/j2pykyo0en', 1), ('#foxdebatequestions:', 1), (\"obama's\", 1), ('institute', 1), ('sharia', 1), ('exacerbated', 1), ('fires?', 1), ('prayers', 1), ('cousin!', 1), ('republicans', 1), ('darwinism', 1), ('@jennife29916207', 1), ('reading', 1), ('@cnni', 1), ('@prisonplanet', 1), (\"'specialist'\", 1), ('warning:wild', 1), ('noting', 1), ('sun?', 1), ('http://t.co/0szwlwl9qu', 1), ('@senfeinstein', 1), ('sen.', 1), ('uncontrolled', 1), ('man!', 1), ('kind', 1), ('hurricanes', 1), ('mega', 1), ('droughts.', 1), ('connecticut', 1), ('http://t.co/qwpuxpywbf', 1), ('http://t.co/8jlxz6fkxy', 1), ('crazy.', 1), ('http://t.co/qkz2sp06xn', 1), ('@thedayct', 1), ('@aria_ahrary', 2), ('@thetawniest', 2), ('troubling.', 2), ('episode:', 1), ('wn', 1), ('08/02/15:', 1), ('http://t.co/9ikhdyhvnc', 1), ('@randerson62', 1), ('@enzasbargains', 1), ('donated', 1), ('snacks', 1), ('handi', 1), ('wipes', 1), ('#profittothepeople', 1), ('fires..', 1), ('come.', 1), ('effected', 1), ('cali????', 1), ('california...', 1), ('warming.', 1), ('combined', 1), ('foliage', 1), ('ignited', 1), ('douchebag', 1), ('hiker.', 1), ('#fingerrockfire', 1), (\"'am\", 1), ('prepared', 1), (\"wildfire'.\", 1), ('http://t.co/ex8a5jyzm5', 1), ('#azwx', 1), ('http://t.co/deeekobmxa', 1), ('kc5kh', 1), ('mhtw4fnet\\n\\ncrews', 1), ('gaining', 1), ('cbs', 1), ('wsoc', 1), ('http://t.co/djufkrrtft', 1), ('(route', 1), ('wildfire):', 6), ('aug...', 1), ('http://t.co/ns5lbs5zup', 1), ('parker', 2), ('sheet', 2), ('(parker', 3), ('phone:', 2), ('208-267-6773', 2), ('email:', 2), ('pa...', 2), ('http://t.co/ezeisasm0c', 1), ('#idfire', 4), (\"'some\", 1), ('hearths', 1), (\"wildfire'\", 1), ('https://t.co/of3td6dglb', 1), ('bees', 1), ('knees', 1), ('offer', 1), ('$75000', 1), ('http://t.co/d2veppeh8s', 1), ('#arts', 1), ('ember', 1), ('aware!', 1), ('http://t.co/lzml1xb2nh', 1), ('http://t.co/7xq8jrtl7i', 1), ('tool', 1), ('http://t.co/j90dt2qnxb', 1), ('http://t.co/zggpacjp7d', 1), ('wildfire?', 1), ('l.a.?', 1), ('kcrw', 1), ('http://t.co/6agmkx2ww4', 1), ('scariest', 2), ('http://t.co/lec1vms7x2', 1), ('http://t.co/u2do2mc2ri', 1), ('http://t.co/3om3xw6cz8', 1), ('bengston', 1), ('management:', 1), ('\\x89ûïnumbers', 1), ('upward', 1), ('trend.\\x89û\\x9d', 1), ('#smem', 1), ('town;', 1), ('khq', 1), ('http://t.co/anlhw2izkz', 1), ('grown', 2), ('http://t.co/h9v4howtip', 1), ('http://t.co/8icseshbj3', 1), ('http://t.co/gzgpwsqymw', 1), ('#firenews', 1), ('#wa', 1), ('http://t.co/ay49mtyyl8', 1), ('http://t.co/uci8stqug1', 1), ('http://t.co/spt54kfa9q', 1), ('solitude', 1), ('(solitude', 1), ('summary:', 1), ('http://t.co/4esbsa8int', 1), ('#utfire', 1), ('lancasteronline', 1), ('http://t.co/ph7wllkrfi', 1), ('#lancaster', 1), ('http://t.co/qwrrfdgxcc', 1), ('http://t.co/sstj2bepqn', 1), ('attention.', 1), ('#helicopter', 1), ('#firefighting', 1), ('#oregon', 1), ('#easternoregon\\x89û_', 1), ('https://t.co/v6qxnfhrxf', 1), ('impacted', 1), ('#calwildfires', 1), ('aftermath', 1), ('http://t.co/wwxbgubww5', 1), ('cherokee', 1), ('(three', 1), ('sisters', 1), ('public:', 1), ('http://t.co/uorxff0nfx', 1), (\"oregon's\", 1), ('slows', 1), ('http://t.co/p0gos5urxg', 1), ('@katunews', 1), ('hikers', 1), ('sign-in', 1), ('trailheads', 1), ('parker...', 1), ('http://t.co/ablz20mgzv', 1), ('wqow', 1), ('http://t.co/hj26sfddfi', 1), ('advance.', 1), ('http://t.co/2ppzgpxybi', 1), ('http://t.co/ds9khkffwc', 1), ('windstorm', 10), ('lastingness', 1), ('perquisite', 1), ('acquiesce', 1), ('retreat:', 1), ('ziuw', 1), ('http://t.co/irt4kkgsjx', 1), ('reality', 4), ('training:', 4), ('http://t.co/jiomnrcygt', 1), ('#paramedic', 1), ('#ems', 2), ('ij:', 1), ('seeks', 3), ('comment', 3), ('changes', 3), ('http://t.co/h132iul7mu', 1), ('*looks', 1), ('windstorm*', 1), ('niiiice', 1), ('windstormåêinsurer', 1), ('http://t.co/92fwtobi3u', 1), ('ekiti', 1), ('distributed', 1), ('rain/windstorm', 1), ('ode-ekiti', 1), ('gbonyin', 1), ('lga.', 1), ('http://t.co/etgqf28mge', 1), ('#insurance', 1), ('insurer:', 1), ('is...', 1), ('http://t.co/byvubg0wye', 1), ('http://t.co/wal4frtfka', 1), ('#fire', 1), ('http://t.co/qzrcinaf5z', 1), ('precious', 1), ('olive', 1), ('battle...another', 1), ('#yyc!', 1), ('http://t.co/n00dvxega2', 1), ('nw', 1), ('#windstorm', 1), ('(sheer)', 1), ('updates:', 1), ('leelanau', 1), ('grand', 1), ('2b', 1), ('extended', 1), ('http://t.co/oskfyj8ck7', 1), ('#besafe', 1), ('damn...was', 1), ('windstorm...??', 1), ('https://t.co/dhggxo7mcc', 1), ('@blakeshelton', 1), ('fart', 1), ('??in', 1), ('windstorm.follow', 1), ('already.', 1), ('jeez.', 1), ('@rangerkaitimay', 1), ('jackson...calm', 1), ('twia', 1), ('approves', 1), ('hike:', 1), ('association', 1), ('(twia)', 1), ('directors', 1), ('v...', 1), ('http://t.co/twpl0nl8cx', 1), ('gunmen', 3), ('salvador', 2), ('salvadoran', 2), ('http://t.co/r8k6rxw6d6', 1), ('exchanging', 11), ('shots', 5), ('http://t.co/xxfk4khbiw', 1), (\"salvador's\", 1), ('drivers:', 1), ('http://t.co/pz56zjssft', 1), ('bit\\x89û_', 1), ('exchange', 5), ('gunfire:', 3), ('richmond', 11), ('exc...', 2), ('http://t.co/crcn8rwvkj', 1), ('fatally', 2), ('http://t.co/kaky4mpco4', 1), ('http://t.co/m9d2elimzi', 1), ('phillip', 1), ('amritsar...\\n\\n\\x89ûïthat\\x89ûªs', 1), ('exaggerated', 1), ('wounded\\x89û\\x9d.', 1), ('sketch', 1), ('http://t.co/3ife1zsop7', 1), ('shots:', 5), ('veterans.', 2), ('http://t.co/rz7fbr10xw', 1), ('http://t.co/cntwb6sczj', 1), ('http://t.co/8acdf4zui6', 1), ('va.', 2), ('http://t.co/y0qqs2l7bs', 1), ('http://t.co/iphazv47g7', 1), ('http://t.co/bre2lgmn7c', 1), ('#an247', 1), ('@wocowae', 2), ('http://t.co/oioecbsh1f', 1), ('ushed', 2), ('assured', 1), ('officer-related', 1), ('investigated:', 1), ('http://t.co/kmxzho5tfm.', 1), ('http://t.co/albvdnwjtg', 1), ('http://t.co/5uftrxppv0', 1), ('http://t.co/zdhwrn6czc', 1), ('http://t.co/hworb1n6vn', 1), ('.@wwp', 1), ('serving', 1), ('75k', 1), ('52k', 1), ('oif/oef', 1), ('wounds;', 1), ('invisible', 1), ('http://t.co/shhlv4dplz', 1), ('#client', 1), ('[#latestnews]', 1), ('pol...', 1), ('http://t.co/ia1hngnhvb', 1), ('shots.', 1), ('http://t.co/azovgv4sb6', 1), ('http://t.co/qi2bdvkab7', 1), ('http://t.co/w0r8eaoka0', 1), ('gunshot', 1), ('bicep.', 1), ('chest/torso', 1), ('#kerricktrial', 2), ('#jonathanferrell', 1), ('unhealed', 1), ('unending', 1), ('#kashmir', 2), ('http://t.co/saf9mosksn', 2), ('#endoccupation', 1), ('#endconflict', 1), ('#freekashmir', 1), ('acc', 1), ('conducted', 1), ('skims', 1), ('morethan', 1), ('50%', 1), ('suffer', 1), ('disorders', 1), ('#kashmirconflict', 1), ('owen', 1), (\"ferrell's\", 1), ('bullet', 1), (\"'rapidly\", 1), (\"lethal'\", 1), ('#twcnewsclt', 1), ('http://t.co/nnbexhklhr', 1), ('woodlawn', 2), ('79-year-old', 1), ('http://t.co/nu3xxn55vs', 1), ('http://t.co/xngrfnqsx3', 1), ('@icymagistrate', 1), ('\\x89ûóher', 1), ('arm\\x89ûò', 1), ('/friggin/', 1), ('icicle', 1), ('projectiles\\x89ûò', 1), ('various', 1), ('miniature', 1), ('more\\x89ûó', 1), ('strip', 1), ('30;', 1), ('http://t.co/gopsicp8bm', 1), ('crawling', 1), ('skin\\nthese', 1), ('hea', 1), ('rams', 1), ('military:', 1), ('soldi...', 1), ('http://t.co/obsz45ybaj', 1), ('sorrower', 1), ('scars', 1), ('(2015', 1), ('metal)', 1), ('http://t.co/l056yj2ioi', 1), ('http://t.co/utmwmjirty', 1), ('@captainn_morgan', 1), ('gazette', 1), ('http://t.co/jhc2rt0v9f', 1), ('original', 1), ('1979', 1), ('gimp', 1), ('label', 1), ('vinyl', 1), (\"7'\", 1), ('45', 1), ('newave', 1), ('http://t.co/x0qlgwoymt', 1), ('http://t.co/hqnx8qmeg3', 1), ('@georgefoster72', 1), ('edmund', 1), ('fitzgerald', 1), ('blockage', 1), ('woodward', 1), ('avenue', 1), ('northbound', 1), ('davison', 1), ('m.s.', 1), ('#shoalstraffic', 1), ('greer', 1), ('http://t.co/n2qzbmzuly', 1), ('cain', 1), ('emotional', 1), ('#emmerdale', 1), ('wreckage', 39), (\"'conclusively\", 25), (\"confirmed'\", 25), ('were...', 20), ('http://t.co/sfakqnveta', 1), ('http://t.co/yopeypjkb2', 1), ('(vice', 1), ('news)', 1), ('http://t.co/grh7zlk979', 1), (\"victim's\", 1), ('furious', 1), ('http://t.co/carmqivkwu', 1), ('http://t.co/cs8myauna4', 1), ('janeenorman:', 1), (\"'high\", 1), (\"probability'\", 1), ('http://t.co/cdohgnjmst', 1), ('http://t.co/v5ogr3f5n9', 1), ('http://t.co/4xb4zwyhct', 1), ('kuala', 1), ('lumpur', 1), ('http://t.co/uqva3dfbca', 1), ('http://t.co/kacrlpjc0l', 1), ('http://t.co/yjjbntcazy', 1), ('http://t.co/kfzvmxj9st', 1), ('http://t.co/ptevy815mt', 1), ('cia', 1), ('plot!', 1), ('*rolling', 1), ('eyes*', 1), ('@ajabrown:', 1), ('http://t.co/wmnb5ita5p', 1), ('http://t.co/4sf0rgn8wo', 1), ('http://t.co/ledmvezcol', 1), ('\\n\\nplane', 1), ('minister?says\\n', 1), ('buzzfeed', 1), ('http://t.co/qsipl1c9fa', 1), ('http://t.co/bptzamjl2k', 1), ('http://t.co/ljylxz1fbi', 1), ('first-ever', 1), ('777', 1), ('vanished', 1), ('239', 1), ('http://t.co/vazpg0ftmu', 1), ('http://t.co/qnvxj2palj', 1), ('http://t.co/dtfswnjzil', 1), ('http://t.co/edekrmqtpq', 1), ('najib\\nhttp://t.co/iidkc0jsbx', 1), ('#najibrazak', 1), ('#malaysiaairlines', 1), (\"'malaysia\", 1), (\"mh370'\", 1), ('http://t.co/ub3woz2ut1', 1), ('http://t.co/z2vdgiyowf', 1), ('http://t.co/2jr3yo55dr', 1), ('http://t.co/rp2dxfkhdq', 1), ('https://t.co/akmihlris1', 1), ('http://t.co/kukmal605a', 1), ('http://t.co/yi54xrhqgb', 1), ('http://t.co/mssq0svnbm', 1), ('http://t.co/nn6y0fd3l0', 1), ('http://t.co/1yixfg1hdy', 1), ('@yahoonewsdigest', 1), ('http://t.co/5ebpybfh4d', 1), ('wrecked', 3), ('wants', 1), ('land.', 1), ('\\nhttps://t.co/g0r3zr1nqj', 1), ('300k', 1), ('exotic', 1), ('\\nhttp://t.co/j49xeuj7ps', 1), ('@kirafrog', 1), ('@mount_wario', 1), ('again?', 1), ('http://t.co/aawzxykles', 1), ('http://t.co/rsmvgdxriv', 1), ('calgary.', 1), ('http://t.co/rln09wke9g', 1), ('15:41:07', 1), ('iwate', 1), ('http://t.co/gmoul9zq2q', 1), ('http://t.co/vz640xoswj', 1), ('http://t.co/m2hpnoak8b', 1), ('for:', 1), ('(soudelor)', 1), ('http://t.co/thhjjw51pe', 1), ('aa?', 1), ('ayyo', 1), ('dei.', 1), ('explosives-packed', 1), ('vest', 1), ('headquarters', 1), ('smells', 1), ('08:00', 1), ('wednesday.', 1), ('http://t.co/nz7ackrrji', 1), ('#tnwx', 1), ('#nws', 1), ('cases:', 1), ('http://t.co/fwqfckncqw', 1), ('http://t.co/5b7qt2yxda', 1), ('father-of-three', 1), ('overtaking', 1), ('#bathandnortheastsomerset', 1), ('http://t.co/fa3fcnln86', 1), ('9km', 1), ('#la', 1), ('http://t.co/5uecmcv2pk', 1), ('forney', 1), ('developing', 1), ('symptoms...', 1), ('http://t.co/rqkk15uhey', 1), ('flip', 1), ('http://t.co/nf4iculoje', 1), ('http://t.co/stfmbbzfb5', 1), ('http://t.co/ymy4rskq3d', 1)])"
      ]
     },
     "execution_count": 35,
     "metadata": {},
     "output_type": "execute_result"
    },
    {
     "data": {
      "application/javascript": [
       "\n",
       "            setTimeout(function() {\n",
       "                var nbb_cell_id = 35;\n",
       "                var nbb_unformatted_code = \"# Displays a list of disaster uniforms\\ndisaster_unigrams.items()\";\n",
       "                var nbb_formatted_code = \"# Displays a list of disaster uniforms\\ndisaster_unigrams.items()\";\n",
       "                var nbb_cells = Jupyter.notebook.get_cells();\n",
       "                for (var i = 0; i < nbb_cells.length; ++i) {\n",
       "                    if (nbb_cells[i].input_prompt_number == nbb_cell_id) {\n",
       "                        if (nbb_cells[i].get_text() == nbb_unformatted_code) {\n",
       "                             nbb_cells[i].set_text(nbb_formatted_code);\n",
       "                        }\n",
       "                        break;\n",
       "                    }\n",
       "                }\n",
       "            }, 500);\n",
       "            "
      ],
      "text/plain": [
       "<IPython.core.display.Javascript object>"
      ]
     },
     "metadata": {},
     "output_type": "display_data"
    },
    {
     "data": {
      "application/javascript": [
       "\n",
       "            setTimeout(function() {\n",
       "                var nbb_cell_id = 35;\n",
       "                var nbb_unformatted_code = \"# Displays a list of disaster uniforms\\ndisaster_unigrams.items()\";\n",
       "                var nbb_formatted_code = \"# Displays a list of disaster uniforms\\ndisaster_unigrams.items()\";\n",
       "                var nbb_cells = Jupyter.notebook.get_cells();\n",
       "                for (var i = 0; i < nbb_cells.length; ++i) {\n",
       "                    if (nbb_cells[i].input_prompt_number == nbb_cell_id) {\n",
       "                        if (nbb_cells[i].get_text() == nbb_unformatted_code) {\n",
       "                             nbb_cells[i].set_text(nbb_formatted_code);\n",
       "                        }\n",
       "                        break;\n",
       "                    }\n",
       "                }\n",
       "            }, 500);\n",
       "            "
      ],
      "text/plain": [
       "<IPython.core.display.Javascript object>"
      ]
     },
     "metadata": {},
     "output_type": "display_data"
    },
    {
     "data": {
      "application/javascript": [
       "\n",
       "            setTimeout(function() {\n",
       "                var nbb_cell_id = 35;\n",
       "                var nbb_unformatted_code = \"# Displays a list of disaster uniforms\\ndisaster_unigrams.items()\";\n",
       "                var nbb_formatted_code = \"# Displays a list of disaster uniforms\\ndisaster_unigrams.items()\";\n",
       "                var nbb_cells = Jupyter.notebook.get_cells();\n",
       "                for (var i = 0; i < nbb_cells.length; ++i) {\n",
       "                    if (nbb_cells[i].input_prompt_number == nbb_cell_id) {\n",
       "                        if (nbb_cells[i].get_text() == nbb_unformatted_code) {\n",
       "                             nbb_cells[i].set_text(nbb_formatted_code);\n",
       "                        }\n",
       "                        break;\n",
       "                    }\n",
       "                }\n",
       "            }, 500);\n",
       "            "
      ],
      "text/plain": [
       "<IPython.core.display.Javascript object>"
      ]
     },
     "metadata": {},
     "output_type": "display_data"
    }
   ],
   "source": [
    "# Displays a list of disaster uniforms\n",
    "disaster_unigrams.items()"
   ]
  },
  {
   "cell_type": "code",
   "execution_count": 36,
   "id": "16690e7e",
   "metadata": {},
   "outputs": [
    {
     "data": {
      "application/javascript": [
       "\n",
       "            setTimeout(function() {\n",
       "                var nbb_cell_id = 36;\n",
       "                var nbb_unformatted_code = \"# Create a dataframe from the disaster dict list. And sort in ascending order\\n\\ndf_disaster_unigrams = pd.DataFrame(\\n    sorted(disaster_unigrams.items(), key=lambda x: x[1], reverse=True)\\n)\\ndf_nondisaster_unigrams = pd.DataFrame(\\n    sorted(nondisaster_unigrams.items(), key=lambda x: x[1], reverse=True)\\n)\";\n",
       "                var nbb_formatted_code = \"# Create a dataframe from the disaster dict list. And sort in ascending order\\n\\ndf_disaster_unigrams = pd.DataFrame(\\n    sorted(disaster_unigrams.items(), key=lambda x: x[1], reverse=True)\\n)\\ndf_nondisaster_unigrams = pd.DataFrame(\\n    sorted(nondisaster_unigrams.items(), key=lambda x: x[1], reverse=True)\\n)\";\n",
       "                var nbb_cells = Jupyter.notebook.get_cells();\n",
       "                for (var i = 0; i < nbb_cells.length; ++i) {\n",
       "                    if (nbb_cells[i].input_prompt_number == nbb_cell_id) {\n",
       "                        if (nbb_cells[i].get_text() == nbb_unformatted_code) {\n",
       "                             nbb_cells[i].set_text(nbb_formatted_code);\n",
       "                        }\n",
       "                        break;\n",
       "                    }\n",
       "                }\n",
       "            }, 500);\n",
       "            "
      ],
      "text/plain": [
       "<IPython.core.display.Javascript object>"
      ]
     },
     "metadata": {},
     "output_type": "display_data"
    },
    {
     "data": {
      "application/javascript": [
       "\n",
       "            setTimeout(function() {\n",
       "                var nbb_cell_id = 36;\n",
       "                var nbb_unformatted_code = \"# Create a dataframe from the disaster dict list. And sort in ascending order\\n\\ndf_disaster_unigrams = pd.DataFrame(\\n    sorted(disaster_unigrams.items(), key=lambda x: x[1], reverse=True)\\n)\\ndf_nondisaster_unigrams = pd.DataFrame(\\n    sorted(nondisaster_unigrams.items(), key=lambda x: x[1], reverse=True)\\n)\";\n",
       "                var nbb_formatted_code = \"# Create a dataframe from the disaster dict list. And sort in ascending order\\n\\ndf_disaster_unigrams = pd.DataFrame(\\n    sorted(disaster_unigrams.items(), key=lambda x: x[1], reverse=True)\\n)\\ndf_nondisaster_unigrams = pd.DataFrame(\\n    sorted(nondisaster_unigrams.items(), key=lambda x: x[1], reverse=True)\\n)\";\n",
       "                var nbb_cells = Jupyter.notebook.get_cells();\n",
       "                for (var i = 0; i < nbb_cells.length; ++i) {\n",
       "                    if (nbb_cells[i].input_prompt_number == nbb_cell_id) {\n",
       "                        if (nbb_cells[i].get_text() == nbb_unformatted_code) {\n",
       "                             nbb_cells[i].set_text(nbb_formatted_code);\n",
       "                        }\n",
       "                        break;\n",
       "                    }\n",
       "                }\n",
       "            }, 500);\n",
       "            "
      ],
      "text/plain": [
       "<IPython.core.display.Javascript object>"
      ]
     },
     "metadata": {},
     "output_type": "display_data"
    },
    {
     "data": {
      "application/javascript": [
       "\n",
       "            setTimeout(function() {\n",
       "                var nbb_cell_id = 36;\n",
       "                var nbb_unformatted_code = \"# Create a dataframe from the disaster dict list. And sort in ascending order\\n\\ndf_disaster_unigrams = pd.DataFrame(\\n    sorted(disaster_unigrams.items(), key=lambda x: x[1], reverse=True)\\n)\\ndf_nondisaster_unigrams = pd.DataFrame(\\n    sorted(nondisaster_unigrams.items(), key=lambda x: x[1], reverse=True)\\n)\";\n",
       "                var nbb_formatted_code = \"# Create a dataframe from the disaster dict list. And sort in ascending order\\n\\ndf_disaster_unigrams = pd.DataFrame(\\n    sorted(disaster_unigrams.items(), key=lambda x: x[1], reverse=True)\\n)\\ndf_nondisaster_unigrams = pd.DataFrame(\\n    sorted(nondisaster_unigrams.items(), key=lambda x: x[1], reverse=True)\\n)\";\n",
       "                var nbb_cells = Jupyter.notebook.get_cells();\n",
       "                for (var i = 0; i < nbb_cells.length; ++i) {\n",
       "                    if (nbb_cells[i].input_prompt_number == nbb_cell_id) {\n",
       "                        if (nbb_cells[i].get_text() == nbb_unformatted_code) {\n",
       "                             nbb_cells[i].set_text(nbb_formatted_code);\n",
       "                        }\n",
       "                        break;\n",
       "                    }\n",
       "                }\n",
       "            }, 500);\n",
       "            "
      ],
      "text/plain": [
       "<IPython.core.display.Javascript object>"
      ]
     },
     "metadata": {},
     "output_type": "display_data"
    }
   ],
   "source": [
    "# Create a dataframe from the disaster dict list. And sort in ascending order\n",
    "\n",
    "df_disaster_unigrams = pd.DataFrame(\n",
    "    sorted(disaster_unigrams.items(), key=lambda x: x[1], reverse=True)\n",
    ")\n",
    "df_nondisaster_unigrams = pd.DataFrame(\n",
    "    sorted(nondisaster_unigrams.items(), key=lambda x: x[1], reverse=True)\n",
    ")"
   ]
  },
  {
   "cell_type": "code",
   "execution_count": 53,
   "id": "dbc304ed",
   "metadata": {},
   "outputs": [
    {
     "data": {
      "text/plain": [
       "[('-', 389),\n",
       " ('fire', 150),\n",
       " ('via', 117),\n",
       " ('&amp;', 105),\n",
       " ('...', 105),\n",
       " ('suicide', 103),\n",
       " ('disaster', 97),\n",
       " ('people', 93),\n",
       " ('police', 93),\n",
       " ('killed', 92)]"
      ]
     },
     "execution_count": 53,
     "metadata": {},
     "output_type": "execute_result"
    },
    {
     "data": {
      "application/javascript": [
       "\n",
       "            setTimeout(function() {\n",
       "                var nbb_cell_id = 53;\n",
       "                var nbb_unformatted_code = \"# Displaying the data tuples that have been sorted here we display 10 data\\nsorted(disaster_unigrams.items(), key=lambda x: x[1], reverse=True)[:10]\";\n",
       "                var nbb_formatted_code = \"# Displaying the data tuples that have been sorted here we display 10 data\\nsorted(disaster_unigrams.items(), key=lambda x: x[1], reverse=True)[:10]\";\n",
       "                var nbb_cells = Jupyter.notebook.get_cells();\n",
       "                for (var i = 0; i < nbb_cells.length; ++i) {\n",
       "                    if (nbb_cells[i].input_prompt_number == nbb_cell_id) {\n",
       "                        if (nbb_cells[i].get_text() == nbb_unformatted_code) {\n",
       "                             nbb_cells[i].set_text(nbb_formatted_code);\n",
       "                        }\n",
       "                        break;\n",
       "                    }\n",
       "                }\n",
       "            }, 500);\n",
       "            "
      ],
      "text/plain": [
       "<IPython.core.display.Javascript object>"
      ]
     },
     "metadata": {},
     "output_type": "display_data"
    },
    {
     "data": {
      "application/javascript": [
       "\n",
       "            setTimeout(function() {\n",
       "                var nbb_cell_id = 53;\n",
       "                var nbb_unformatted_code = \"# Displaying the data tuples that have been sorted here we display 10 data\\nsorted(disaster_unigrams.items(), key=lambda x: x[1], reverse=True)[:10]\";\n",
       "                var nbb_formatted_code = \"# Displaying the data tuples that have been sorted here we display 10 data\\nsorted(disaster_unigrams.items(), key=lambda x: x[1], reverse=True)[:10]\";\n",
       "                var nbb_cells = Jupyter.notebook.get_cells();\n",
       "                for (var i = 0; i < nbb_cells.length; ++i) {\n",
       "                    if (nbb_cells[i].input_prompt_number == nbb_cell_id) {\n",
       "                        if (nbb_cells[i].get_text() == nbb_unformatted_code) {\n",
       "                             nbb_cells[i].set_text(nbb_formatted_code);\n",
       "                        }\n",
       "                        break;\n",
       "                    }\n",
       "                }\n",
       "            }, 500);\n",
       "            "
      ],
      "text/plain": [
       "<IPython.core.display.Javascript object>"
      ]
     },
     "metadata": {},
     "output_type": "display_data"
    },
    {
     "data": {
      "application/javascript": [
       "\n",
       "            setTimeout(function() {\n",
       "                var nbb_cell_id = 53;\n",
       "                var nbb_unformatted_code = \"# Displaying the data tuples that have been sorted here we display 10 data\\nsorted(disaster_unigrams.items(), key=lambda x: x[1], reverse=True)[:10]\";\n",
       "                var nbb_formatted_code = \"# Displaying the data tuples that have been sorted here we display 10 data\\nsorted(disaster_unigrams.items(), key=lambda x: x[1], reverse=True)[:10]\";\n",
       "                var nbb_cells = Jupyter.notebook.get_cells();\n",
       "                for (var i = 0; i < nbb_cells.length; ++i) {\n",
       "                    if (nbb_cells[i].input_prompt_number == nbb_cell_id) {\n",
       "                        if (nbb_cells[i].get_text() == nbb_unformatted_code) {\n",
       "                             nbb_cells[i].set_text(nbb_formatted_code);\n",
       "                        }\n",
       "                        break;\n",
       "                    }\n",
       "                }\n",
       "            }, 500);\n",
       "            "
      ],
      "text/plain": [
       "<IPython.core.display.Javascript object>"
      ]
     },
     "metadata": {},
     "output_type": "display_data"
    }
   ],
   "source": [
    "# Displaying the data tuples that have been sorted here we display 10 data\n",
    "sorted(disaster_unigrams.items(), key=lambda x: x[1], reverse=True)[:10]"
   ]
  },
  {
   "cell_type": "code",
   "execution_count": 38,
   "id": "b969bce7",
   "metadata": {},
   "outputs": [
    {
     "data": {
      "text/html": [
       "<div>\n",
       "<style scoped>\n",
       "    .dataframe tbody tr th:only-of-type {\n",
       "        vertical-align: middle;\n",
       "    }\n",
       "\n",
       "    .dataframe tbody tr th {\n",
       "        vertical-align: top;\n",
       "    }\n",
       "\n",
       "    .dataframe thead th {\n",
       "        text-align: right;\n",
       "    }\n",
       "</style>\n",
       "<table border=\"1\" class=\"dataframe\">\n",
       "  <thead>\n",
       "    <tr style=\"text-align: right;\">\n",
       "      <th></th>\n",
       "      <th>0</th>\n",
       "      <th>1</th>\n",
       "    </tr>\n",
       "  </thead>\n",
       "  <tbody>\n",
       "    <tr>\n",
       "      <th>0</th>\n",
       "      <td>-</td>\n",
       "      <td>389</td>\n",
       "    </tr>\n",
       "    <tr>\n",
       "      <th>1</th>\n",
       "      <td>fire</td>\n",
       "      <td>150</td>\n",
       "    </tr>\n",
       "    <tr>\n",
       "      <th>2</th>\n",
       "      <td>via</td>\n",
       "      <td>117</td>\n",
       "    </tr>\n",
       "    <tr>\n",
       "      <th>3</th>\n",
       "      <td>&amp;amp;</td>\n",
       "      <td>105</td>\n",
       "    </tr>\n",
       "    <tr>\n",
       "      <th>4</th>\n",
       "      <td>...</td>\n",
       "      <td>105</td>\n",
       "    </tr>\n",
       "  </tbody>\n",
       "</table>\n",
       "</div>"
      ],
      "text/plain": [
       "       0    1\n",
       "0      -  389\n",
       "1   fire  150\n",
       "2    via  117\n",
       "3  &amp;  105\n",
       "4    ...  105"
      ]
     },
     "execution_count": 38,
     "metadata": {},
     "output_type": "execute_result"
    },
    {
     "data": {
      "application/javascript": [
       "\n",
       "            setTimeout(function() {\n",
       "                var nbb_cell_id = 38;\n",
       "                var nbb_unformatted_code = \"# Displaying dataframe results in a table\\ndf_disaster_unigrams.head()\";\n",
       "                var nbb_formatted_code = \"# Displaying dataframe results in a table\\ndf_disaster_unigrams.head()\";\n",
       "                var nbb_cells = Jupyter.notebook.get_cells();\n",
       "                for (var i = 0; i < nbb_cells.length; ++i) {\n",
       "                    if (nbb_cells[i].input_prompt_number == nbb_cell_id) {\n",
       "                        if (nbb_cells[i].get_text() == nbb_unformatted_code) {\n",
       "                             nbb_cells[i].set_text(nbb_formatted_code);\n",
       "                        }\n",
       "                        break;\n",
       "                    }\n",
       "                }\n",
       "            }, 500);\n",
       "            "
      ],
      "text/plain": [
       "<IPython.core.display.Javascript object>"
      ]
     },
     "metadata": {},
     "output_type": "display_data"
    },
    {
     "data": {
      "application/javascript": [
       "\n",
       "            setTimeout(function() {\n",
       "                var nbb_cell_id = 38;\n",
       "                var nbb_unformatted_code = \"# Displaying dataframe results in a table\\ndf_disaster_unigrams.head()\";\n",
       "                var nbb_formatted_code = \"# Displaying dataframe results in a table\\ndf_disaster_unigrams.head()\";\n",
       "                var nbb_cells = Jupyter.notebook.get_cells();\n",
       "                for (var i = 0; i < nbb_cells.length; ++i) {\n",
       "                    if (nbb_cells[i].input_prompt_number == nbb_cell_id) {\n",
       "                        if (nbb_cells[i].get_text() == nbb_unformatted_code) {\n",
       "                             nbb_cells[i].set_text(nbb_formatted_code);\n",
       "                        }\n",
       "                        break;\n",
       "                    }\n",
       "                }\n",
       "            }, 500);\n",
       "            "
      ],
      "text/plain": [
       "<IPython.core.display.Javascript object>"
      ]
     },
     "metadata": {},
     "output_type": "display_data"
    },
    {
     "data": {
      "application/javascript": [
       "\n",
       "            setTimeout(function() {\n",
       "                var nbb_cell_id = 38;\n",
       "                var nbb_unformatted_code = \"# Displaying dataframe results in a table\\ndf_disaster_unigrams.head()\";\n",
       "                var nbb_formatted_code = \"# Displaying dataframe results in a table\\ndf_disaster_unigrams.head()\";\n",
       "                var nbb_cells = Jupyter.notebook.get_cells();\n",
       "                for (var i = 0; i < nbb_cells.length; ++i) {\n",
       "                    if (nbb_cells[i].input_prompt_number == nbb_cell_id) {\n",
       "                        if (nbb_cells[i].get_text() == nbb_unformatted_code) {\n",
       "                             nbb_cells[i].set_text(nbb_formatted_code);\n",
       "                        }\n",
       "                        break;\n",
       "                    }\n",
       "                }\n",
       "            }, 500);\n",
       "            "
      ],
      "text/plain": [
       "<IPython.core.display.Javascript object>"
      ]
     },
     "metadata": {},
     "output_type": "display_data"
    }
   ],
   "source": [
    "# Displaying dataframe results in a table\n",
    "df_disaster_unigrams.head()"
   ]
  },
  {
   "cell_type": "code",
   "execution_count": 39,
   "id": "f2b9215f",
   "metadata": {},
   "outputs": [
    {
     "data": {
      "image/png": "[encoded data removed]",
      "text/plain": [
       "<Figure size 1600x400 with 2 Axes>"
      ]
     },
     "metadata": {},
     "output_type": "display_data"
    },
    {
     "data": {
      "application/javascript": [
       "\n",
       "            setTimeout(function() {\n",
       "                var nbb_cell_id = 39;\n",
       "                var nbb_unformatted_code = \"# Displays the display of the distribution of the Unigram result data on the bar\\nd1 = df_disaster_unigrams[0][:10]\\nd2 = df_disaster_unigrams[1][:10]\\n\\nnd1 = df_nondisaster_unigrams[0][:10]\\nnd2 = df_nondisaster_unigrams[1][:10]\\n\\nplt.figure(1, figsize=(16, 4))\\nplt.subplot(2, 1, 1)\\n_ = plt.bar(d1, d2)\\n\\nplt.subplot(2, 1, 2)\\n_ = plt.bar(nd1, nd2)\";\n",
       "                var nbb_formatted_code = \"# Displays the display of the distribution of the Unigram result data on the bar\\nd1 = df_disaster_unigrams[0][:10]\\nd2 = df_disaster_unigrams[1][:10]\\n\\nnd1 = df_nondisaster_unigrams[0][:10]\\nnd2 = df_nondisaster_unigrams[1][:10]\\n\\nplt.figure(1, figsize=(16, 4))\\nplt.subplot(2, 1, 1)\\n_ = plt.bar(d1, d2)\\n\\nplt.subplot(2, 1, 2)\\n_ = plt.bar(nd1, nd2)\";\n",
       "                var nbb_cells = Jupyter.notebook.get_cells();\n",
       "                for (var i = 0; i < nbb_cells.length; ++i) {\n",
       "                    if (nbb_cells[i].input_prompt_number == nbb_cell_id) {\n",
       "                        if (nbb_cells[i].get_text() == nbb_unformatted_code) {\n",
       "                             nbb_cells[i].set_text(nbb_formatted_code);\n",
       "                        }\n",
       "                        break;\n",
       "                    }\n",
       "                }\n",
       "            }, 500);\n",
       "            "
      ],
      "text/plain": [
       "<IPython.core.display.Javascript object>"
      ]
     },
     "metadata": {},
     "output_type": "display_data"
    },
    {
     "data": {
      "application/javascript": [
       "\n",
       "            setTimeout(function() {\n",
       "                var nbb_cell_id = 39;\n",
       "                var nbb_unformatted_code = \"# Displays the display of the distribution of the Unigram result data on the bar\\nd1 = df_disaster_unigrams[0][:10]\\nd2 = df_disaster_unigrams[1][:10]\\n\\nnd1 = df_nondisaster_unigrams[0][:10]\\nnd2 = df_nondisaster_unigrams[1][:10]\\n\\nplt.figure(1, figsize=(16, 4))\\nplt.subplot(2, 1, 1)\\n_ = plt.bar(d1, d2)\\n\\nplt.subplot(2, 1, 2)\\n_ = plt.bar(nd1, nd2)\";\n",
       "                var nbb_formatted_code = \"# Displays the display of the distribution of the Unigram result data on the bar\\nd1 = df_disaster_unigrams[0][:10]\\nd2 = df_disaster_unigrams[1][:10]\\n\\nnd1 = df_nondisaster_unigrams[0][:10]\\nnd2 = df_nondisaster_unigrams[1][:10]\\n\\nplt.figure(1, figsize=(16, 4))\\nplt.subplot(2, 1, 1)\\n_ = plt.bar(d1, d2)\\n\\nplt.subplot(2, 1, 2)\\n_ = plt.bar(nd1, nd2)\";\n",
       "                var nbb_cells = Jupyter.notebook.get_cells();\n",
       "                for (var i = 0; i < nbb_cells.length; ++i) {\n",
       "                    if (nbb_cells[i].input_prompt_number == nbb_cell_id) {\n",
       "                        if (nbb_cells[i].get_text() == nbb_unformatted_code) {\n",
       "                             nbb_cells[i].set_text(nbb_formatted_code);\n",
       "                        }\n",
       "                        break;\n",
       "                    }\n",
       "                }\n",
       "            }, 500);\n",
       "            "
      ],
      "text/plain": [
       "<IPython.core.display.Javascript object>"
      ]
     },
     "metadata": {},
     "output_type": "display_data"
    },
    {
     "data": {
      "application/javascript": [
       "\n",
       "            setTimeout(function() {\n",
       "                var nbb_cell_id = 39;\n",
       "                var nbb_unformatted_code = \"# Displays the display of the distribution of the Unigram result data on the bar\\nd1 = df_disaster_unigrams[0][:10]\\nd2 = df_disaster_unigrams[1][:10]\\n\\nnd1 = df_nondisaster_unigrams[0][:10]\\nnd2 = df_nondisaster_unigrams[1][:10]\\n\\nplt.figure(1, figsize=(16, 4))\\nplt.subplot(2, 1, 1)\\n_ = plt.bar(d1, d2)\\n\\nplt.subplot(2, 1, 2)\\n_ = plt.bar(nd1, nd2)\";\n",
       "                var nbb_formatted_code = \"# Displays the display of the distribution of the Unigram result data on the bar\\nd1 = df_disaster_unigrams[0][:10]\\nd2 = df_disaster_unigrams[1][:10]\\n\\nnd1 = df_nondisaster_unigrams[0][:10]\\nnd2 = df_nondisaster_unigrams[1][:10]\\n\\nplt.figure(1, figsize=(16, 4))\\nplt.subplot(2, 1, 1)\\n_ = plt.bar(d1, d2)\\n\\nplt.subplot(2, 1, 2)\\n_ = plt.bar(nd1, nd2)\";\n",
       "                var nbb_cells = Jupyter.notebook.get_cells();\n",
       "                for (var i = 0; i < nbb_cells.length; ++i) {\n",
       "                    if (nbb_cells[i].input_prompt_number == nbb_cell_id) {\n",
       "                        if (nbb_cells[i].get_text() == nbb_unformatted_code) {\n",
       "                             nbb_cells[i].set_text(nbb_formatted_code);\n",
       "                        }\n",
       "                        break;\n",
       "                    }\n",
       "                }\n",
       "            }, 500);\n",
       "            "
      ],
      "text/plain": [
       "<IPython.core.display.Javascript object>"
      ]
     },
     "metadata": {},
     "output_type": "display_data"
    }
   ],
   "source": [
    "# Displays the display of the distribution of the Unigram result data on the bar\n",
    "d1 = df_disaster_unigrams[0][:10]\n",
    "d2 = df_disaster_unigrams[1][:10]\n",
    "\n",
    "nd1 = df_nondisaster_unigrams[0][:10]\n",
    "nd2 = df_nondisaster_unigrams[1][:10]\n",
    "\n",
    "plt.figure(1, figsize=(16, 4))\n",
    "plt.subplot(2, 1, 1)\n",
    "_ = plt.bar(d1, d2)\n",
    "\n",
    "plt.subplot(2, 1, 2)\n",
    "_ = plt.bar(nd1, nd2)"
   ]
  },
  {
   "cell_type": "markdown",
   "id": "42635b45",
   "metadata": {},
   "source": [
    "### BIGRAM"
   ]
  },
  {
   "cell_type": "code",
   "execution_count": 40,
   "id": "2320f758",
   "metadata": {},
   "outputs": [
    {
     "data": {
      "application/javascript": [
       "\n",
       "            setTimeout(function() {\n",
       "                var nbb_cell_id = 40;\n",
       "                var nbb_unformatted_code = \"# create bigram\\n\\ndisaster_bigrams = defaultdict(int)\\nnondisaster_bigrams = defaultdict(int)\\n\\nfor text in train[train.target == 1].text:\\n    for word in generate_ngrams(text, n_gram=2):\\n        disaster_bigrams[word] += 1\\n\\nfor text in train[train.target == 0].text:\\n    for word in generate_ngrams(text, n_gram=2):\\n        nondisaster_bigrams[word] += 1\\n\\ndf_disaster_bigrams = pd.DataFrame(\\n    sorted(disaster_bigrams.items(), key=lambda x: x[1])[::-1]\\n)\\ndf_nondisaster_bigrams = pd.DataFrame(\\n    sorted(nondisaster_bigrams.items(), key=lambda x: x[1])[::-1]\\n)\";\n",
       "                var nbb_formatted_code = \"# create bigram\\n\\ndisaster_bigrams = defaultdict(int)\\nnondisaster_bigrams = defaultdict(int)\\n\\nfor text in train[train.target == 1].text:\\n    for word in generate_ngrams(text, n_gram=2):\\n        disaster_bigrams[word] += 1\\n\\nfor text in train[train.target == 0].text:\\n    for word in generate_ngrams(text, n_gram=2):\\n        nondisaster_bigrams[word] += 1\\n\\ndf_disaster_bigrams = pd.DataFrame(\\n    sorted(disaster_bigrams.items(), key=lambda x: x[1])[::-1]\\n)\\ndf_nondisaster_bigrams = pd.DataFrame(\\n    sorted(nondisaster_bigrams.items(), key=lambda x: x[1])[::-1]\\n)\";\n",
       "                var nbb_cells = Jupyter.notebook.get_cells();\n",
       "                for (var i = 0; i < nbb_cells.length; ++i) {\n",
       "                    if (nbb_cells[i].input_prompt_number == nbb_cell_id) {\n",
       "                        if (nbb_cells[i].get_text() == nbb_unformatted_code) {\n",
       "                             nbb_cells[i].set_text(nbb_formatted_code);\n",
       "                        }\n",
       "                        break;\n",
       "                    }\n",
       "                }\n",
       "            }, 500);\n",
       "            "
      ],
      "text/plain": [
       "<IPython.core.display.Javascript object>"
      ]
     },
     "metadata": {},
     "output_type": "display_data"
    },
    {
     "data": {
      "application/javascript": [
       "\n",
       "            setTimeout(function() {\n",
       "                var nbb_cell_id = 40;\n",
       "                var nbb_unformatted_code = \"# create bigram\\n\\ndisaster_bigrams = defaultdict(int)\\nnondisaster_bigrams = defaultdict(int)\\n\\nfor text in train[train.target == 1].text:\\n    for word in generate_ngrams(text, n_gram=2):\\n        disaster_bigrams[word] += 1\\n\\nfor text in train[train.target == 0].text:\\n    for word in generate_ngrams(text, n_gram=2):\\n        nondisaster_bigrams[word] += 1\\n\\ndf_disaster_bigrams = pd.DataFrame(\\n    sorted(disaster_bigrams.items(), key=lambda x: x[1])[::-1]\\n)\\ndf_nondisaster_bigrams = pd.DataFrame(\\n    sorted(nondisaster_bigrams.items(), key=lambda x: x[1])[::-1]\\n)\";\n",
       "                var nbb_formatted_code = \"# create bigram\\n\\ndisaster_bigrams = defaultdict(int)\\nnondisaster_bigrams = defaultdict(int)\\n\\nfor text in train[train.target == 1].text:\\n    for word in generate_ngrams(text, n_gram=2):\\n        disaster_bigrams[word] += 1\\n\\nfor text in train[train.target == 0].text:\\n    for word in generate_ngrams(text, n_gram=2):\\n        nondisaster_bigrams[word] += 1\\n\\ndf_disaster_bigrams = pd.DataFrame(\\n    sorted(disaster_bigrams.items(), key=lambda x: x[1])[::-1]\\n)\\ndf_nondisaster_bigrams = pd.DataFrame(\\n    sorted(nondisaster_bigrams.items(), key=lambda x: x[1])[::-1]\\n)\";\n",
       "                var nbb_cells = Jupyter.notebook.get_cells();\n",
       "                for (var i = 0; i < nbb_cells.length; ++i) {\n",
       "                    if (nbb_cells[i].input_prompt_number == nbb_cell_id) {\n",
       "                        if (nbb_cells[i].get_text() == nbb_unformatted_code) {\n",
       "                             nbb_cells[i].set_text(nbb_formatted_code);\n",
       "                        }\n",
       "                        break;\n",
       "                    }\n",
       "                }\n",
       "            }, 500);\n",
       "            "
      ],
      "text/plain": [
       "<IPython.core.display.Javascript object>"
      ]
     },
     "metadata": {},
     "output_type": "display_data"
    },
    {
     "data": {
      "application/javascript": [
       "\n",
       "            setTimeout(function() {\n",
       "                var nbb_cell_id = 40;\n",
       "                var nbb_unformatted_code = \"# create bigram\\n\\ndisaster_bigrams = defaultdict(int)\\nnondisaster_bigrams = defaultdict(int)\\n\\nfor text in train[train.target == 1].text:\\n    for word in generate_ngrams(text, n_gram=2):\\n        disaster_bigrams[word] += 1\\n\\nfor text in train[train.target == 0].text:\\n    for word in generate_ngrams(text, n_gram=2):\\n        nondisaster_bigrams[word] += 1\\n\\ndf_disaster_bigrams = pd.DataFrame(\\n    sorted(disaster_bigrams.items(), key=lambda x: x[1])[::-1]\\n)\\ndf_nondisaster_bigrams = pd.DataFrame(\\n    sorted(nondisaster_bigrams.items(), key=lambda x: x[1])[::-1]\\n)\";\n",
       "                var nbb_formatted_code = \"# create bigram\\n\\ndisaster_bigrams = defaultdict(int)\\nnondisaster_bigrams = defaultdict(int)\\n\\nfor text in train[train.target == 1].text:\\n    for word in generate_ngrams(text, n_gram=2):\\n        disaster_bigrams[word] += 1\\n\\nfor text in train[train.target == 0].text:\\n    for word in generate_ngrams(text, n_gram=2):\\n        nondisaster_bigrams[word] += 1\\n\\ndf_disaster_bigrams = pd.DataFrame(\\n    sorted(disaster_bigrams.items(), key=lambda x: x[1])[::-1]\\n)\\ndf_nondisaster_bigrams = pd.DataFrame(\\n    sorted(nondisaster_bigrams.items(), key=lambda x: x[1])[::-1]\\n)\";\n",
       "                var nbb_cells = Jupyter.notebook.get_cells();\n",
       "                for (var i = 0; i < nbb_cells.length; ++i) {\n",
       "                    if (nbb_cells[i].input_prompt_number == nbb_cell_id) {\n",
       "                        if (nbb_cells[i].get_text() == nbb_unformatted_code) {\n",
       "                             nbb_cells[i].set_text(nbb_formatted_code);\n",
       "                        }\n",
       "                        break;\n",
       "                    }\n",
       "                }\n",
       "            }, 500);\n",
       "            "
      ],
      "text/plain": [
       "<IPython.core.display.Javascript object>"
      ]
     },
     "metadata": {},
     "output_type": "display_data"
    }
   ],
   "source": [
    "# create bigram\n",
    "\n",
    "disaster_bigrams = defaultdict(int)\n",
    "nondisaster_bigrams = defaultdict(int)\n",
    "\n",
    "for text in train[train.target == 1].text:\n",
    "    for word in generate_ngrams(text, n_gram=2):\n",
    "        disaster_bigrams[word] += 1\n",
    "\n",
    "for text in train[train.target == 0].text:\n",
    "    for word in generate_ngrams(text, n_gram=2):\n",
    "        nondisaster_bigrams[word] += 1\n",
    "\n",
    "df_disaster_bigrams = pd.DataFrame(\n",
    "    sorted(disaster_bigrams.items(), key=lambda x: x[1])[::-1]\n",
    ")\n",
    "df_nondisaster_bigrams = pd.DataFrame(\n",
    "    sorted(nondisaster_bigrams.items(), key=lambda x: x[1])[::-1]\n",
    ")"
   ]
  },
  {
   "cell_type": "code",
   "execution_count": 41,
   "id": "29cc5edf",
   "metadata": {},
   "outputs": [
    {
     "name": "stderr",
     "output_type": "stream",
     "text": [
      "C:\\Users\\PRAKTIKAN-06\\anaconda3\\lib\\site-packages\\IPython\\core\\events.py:89: UserWarning: Glyph 137 (\\x89) missing from current font.\n",
      "  func(*args, **kwargs)\n",
      "C:\\Users\\PRAKTIKAN-06\\anaconda3\\lib\\site-packages\\IPython\\core\\pylabtools.py:152: UserWarning: Glyph 137 (\\x89) missing from current font.\n",
      "  fig.canvas.print_figure(bytes_io, **kw)\n"
     ]
    },
    {
     "data": {
      "image/png": "[encoded data removed]",
      "text/plain": [
       "<Figure size 1600x400 with 2 Axes>"
      ]
     },
     "metadata": {},
     "output_type": "display_data"
    },
    {
     "data": {
      "application/javascript": [
       "\n",
       "            setTimeout(function() {\n",
       "                var nbb_cell_id = 41;\n",
       "                var nbb_unformatted_code = \"# Bigram disaster bar plot results based on frequency\\nd1 = df_disaster_bigrams[0][:10]\\nd2 = df_disaster_bigrams[1][:10]\\n\\nnd1 = df_nondisaster_bigrams[0][:10]\\nnd2 = df_nondisaster_bigrams[1][:10]\\n\\nplt.figure(1, figsize=(16, 4))\\nplt.subplot(2, 1, 1)\\n_ = plt.bar(d1, d2)\\n\\nplt.subplot(2, 1, 2)\\n_ = plt.bar(nd1, nd2)\";\n",
       "                var nbb_formatted_code = \"# Bigram disaster bar plot results based on frequency\\nd1 = df_disaster_bigrams[0][:10]\\nd2 = df_disaster_bigrams[1][:10]\\n\\nnd1 = df_nondisaster_bigrams[0][:10]\\nnd2 = df_nondisaster_bigrams[1][:10]\\n\\nplt.figure(1, figsize=(16, 4))\\nplt.subplot(2, 1, 1)\\n_ = plt.bar(d1, d2)\\n\\nplt.subplot(2, 1, 2)\\n_ = plt.bar(nd1, nd2)\";\n",
       "                var nbb_cells = Jupyter.notebook.get_cells();\n",
       "                for (var i = 0; i < nbb_cells.length; ++i) {\n",
       "                    if (nbb_cells[i].input_prompt_number == nbb_cell_id) {\n",
       "                        if (nbb_cells[i].get_text() == nbb_unformatted_code) {\n",
       "                             nbb_cells[i].set_text(nbb_formatted_code);\n",
       "                        }\n",
       "                        break;\n",
       "                    }\n",
       "                }\n",
       "            }, 500);\n",
       "            "
      ],
      "text/plain": [
       "<IPython.core.display.Javascript object>"
      ]
     },
     "metadata": {},
     "output_type": "display_data"
    },
    {
     "data": {
      "application/javascript": [
       "\n",
       "            setTimeout(function() {\n",
       "                var nbb_cell_id = 41;\n",
       "                var nbb_unformatted_code = \"# Bigram disaster bar plot results based on frequency\\nd1 = df_disaster_bigrams[0][:10]\\nd2 = df_disaster_bigrams[1][:10]\\n\\nnd1 = df_nondisaster_bigrams[0][:10]\\nnd2 = df_nondisaster_bigrams[1][:10]\\n\\nplt.figure(1, figsize=(16, 4))\\nplt.subplot(2, 1, 1)\\n_ = plt.bar(d1, d2)\\n\\nplt.subplot(2, 1, 2)\\n_ = plt.bar(nd1, nd2)\";\n",
       "                var nbb_formatted_code = \"# Bigram disaster bar plot results based on frequency\\nd1 = df_disaster_bigrams[0][:10]\\nd2 = df_disaster_bigrams[1][:10]\\n\\nnd1 = df_nondisaster_bigrams[0][:10]\\nnd2 = df_nondisaster_bigrams[1][:10]\\n\\nplt.figure(1, figsize=(16, 4))\\nplt.subplot(2, 1, 1)\\n_ = plt.bar(d1, d2)\\n\\nplt.subplot(2, 1, 2)\\n_ = plt.bar(nd1, nd2)\";\n",
       "                var nbb_cells = Jupyter.notebook.get_cells();\n",
       "                for (var i = 0; i < nbb_cells.length; ++i) {\n",
       "                    if (nbb_cells[i].input_prompt_number == nbb_cell_id) {\n",
       "                        if (nbb_cells[i].get_text() == nbb_unformatted_code) {\n",
       "                             nbb_cells[i].set_text(nbb_formatted_code);\n",
       "                        }\n",
       "                        break;\n",
       "                    }\n",
       "                }\n",
       "            }, 500);\n",
       "            "
      ],
      "text/plain": [
       "<IPython.core.display.Javascript object>"
      ]
     },
     "metadata": {},
     "output_type": "display_data"
    },
    {
     "data": {
      "application/javascript": [
       "\n",
       "            setTimeout(function() {\n",
       "                var nbb_cell_id = 41;\n",
       "                var nbb_unformatted_code = \"# Bigram disaster bar plot results based on frequency\\nd1 = df_disaster_bigrams[0][:10]\\nd2 = df_disaster_bigrams[1][:10]\\n\\nnd1 = df_nondisaster_bigrams[0][:10]\\nnd2 = df_nondisaster_bigrams[1][:10]\\n\\nplt.figure(1, figsize=(16, 4))\\nplt.subplot(2, 1, 1)\\n_ = plt.bar(d1, d2)\\n\\nplt.subplot(2, 1, 2)\\n_ = plt.bar(nd1, nd2)\";\n",
       "                var nbb_formatted_code = \"# Bigram disaster bar plot results based on frequency\\nd1 = df_disaster_bigrams[0][:10]\\nd2 = df_disaster_bigrams[1][:10]\\n\\nnd1 = df_nondisaster_bigrams[0][:10]\\nnd2 = df_nondisaster_bigrams[1][:10]\\n\\nplt.figure(1, figsize=(16, 4))\\nplt.subplot(2, 1, 1)\\n_ = plt.bar(d1, d2)\\n\\nplt.subplot(2, 1, 2)\\n_ = plt.bar(nd1, nd2)\";\n",
       "                var nbb_cells = Jupyter.notebook.get_cells();\n",
       "                for (var i = 0; i < nbb_cells.length; ++i) {\n",
       "                    if (nbb_cells[i].input_prompt_number == nbb_cell_id) {\n",
       "                        if (nbb_cells[i].get_text() == nbb_unformatted_code) {\n",
       "                             nbb_cells[i].set_text(nbb_formatted_code);\n",
       "                        }\n",
       "                        break;\n",
       "                    }\n",
       "                }\n",
       "            }, 500);\n",
       "            "
      ],
      "text/plain": [
       "<IPython.core.display.Javascript object>"
      ]
     },
     "metadata": {},
     "output_type": "display_data"
    }
   ],
   "source": [
    "# Bigram disaster bar plot results based on frequency\n",
    "d1 = df_disaster_bigrams[0][:10]\n",
    "d2 = df_disaster_bigrams[1][:10]\n",
    "\n",
    "nd1 = df_nondisaster_bigrams[0][:10]\n",
    "nd2 = df_nondisaster_bigrams[1][:10]\n",
    "\n",
    "plt.figure(1, figsize=(16, 4))\n",
    "plt.subplot(2, 1, 1)\n",
    "_ = plt.bar(d1, d2)\n",
    "\n",
    "plt.subplot(2, 1, 2)\n",
    "_ = plt.bar(nd1, nd2)"
   ]
  },
  {
   "cell_type": "code",
   "execution_count": 42,
   "id": "8bc7facc",
   "metadata": {},
   "outputs": [
    {
     "data": {
      "application/javascript": [
       "\n",
       "            setTimeout(function() {\n",
       "                var nbb_cell_id = 42;\n",
       "                var nbb_unformatted_code = \"# check bigrams in its entirety on a corpus or dataset\\nfrom sklearn.feature_extraction.text import CountVectorizer\\n\\n\\ndef get_top_text_ngrams(corpus, ngrams=(1, 1), nr=None):\\n    \\\"\\\"\\\"\\n    Creates a bag of ngrams and counts ngram frequency.\\n    Returns a sorted list of tuples: (ngram, count)\\n    \\\"\\\"\\\"\\n    vec = CountVectorizer(ngram_range=ngrams).fit(corpus)\\n    bag_of_words = vec.transform(corpus)\\n    sum_words = bag_of_words.sum(axis=0)\\n    words_freq = [(word, sum_words[0, idx]) for word, idx in vec.vocabulary_.items()]\\n    words_freq = sorted(words_freq, key=lambda x: x[1], reverse=True)\\n    return words_freq[:nr]\";\n",
       "                var nbb_formatted_code = \"# check bigrams in its entirety on a corpus or dataset\\nfrom sklearn.feature_extraction.text import CountVectorizer\\n\\n\\ndef get_top_text_ngrams(corpus, ngrams=(1, 1), nr=None):\\n    \\\"\\\"\\\"\\n    Creates a bag of ngrams and counts ngram frequency.\\n    Returns a sorted list of tuples: (ngram, count)\\n    \\\"\\\"\\\"\\n    vec = CountVectorizer(ngram_range=ngrams).fit(corpus)\\n    bag_of_words = vec.transform(corpus)\\n    sum_words = bag_of_words.sum(axis=0)\\n    words_freq = [(word, sum_words[0, idx]) for word, idx in vec.vocabulary_.items()]\\n    words_freq = sorted(words_freq, key=lambda x: x[1], reverse=True)\\n    return words_freq[:nr]\";\n",
       "                var nbb_cells = Jupyter.notebook.get_cells();\n",
       "                for (var i = 0; i < nbb_cells.length; ++i) {\n",
       "                    if (nbb_cells[i].input_prompt_number == nbb_cell_id) {\n",
       "                        if (nbb_cells[i].get_text() == nbb_unformatted_code) {\n",
       "                             nbb_cells[i].set_text(nbb_formatted_code);\n",
       "                        }\n",
       "                        break;\n",
       "                    }\n",
       "                }\n",
       "            }, 500);\n",
       "            "
      ],
      "text/plain": [
       "<IPython.core.display.Javascript object>"
      ]
     },
     "metadata": {},
     "output_type": "display_data"
    },
    {
     "data": {
      "application/javascript": [
       "\n",
       "            setTimeout(function() {\n",
       "                var nbb_cell_id = 42;\n",
       "                var nbb_unformatted_code = \"# check bigrams in its entirety on a corpus or dataset\\nfrom sklearn.feature_extraction.text import CountVectorizer\\n\\n\\ndef get_top_text_ngrams(corpus, ngrams=(1, 1), nr=None):\\n    \\\"\\\"\\\"\\n    Creates a bag of ngrams and counts ngram frequency.\\n    Returns a sorted list of tuples: (ngram, count)\\n    \\\"\\\"\\\"\\n    vec = CountVectorizer(ngram_range=ngrams).fit(corpus)\\n    bag_of_words = vec.transform(corpus)\\n    sum_words = bag_of_words.sum(axis=0)\\n    words_freq = [(word, sum_words[0, idx]) for word, idx in vec.vocabulary_.items()]\\n    words_freq = sorted(words_freq, key=lambda x: x[1], reverse=True)\\n    return words_freq[:nr]\";\n",
       "                var nbb_formatted_code = \"# check bigrams in its entirety on a corpus or dataset\\nfrom sklearn.feature_extraction.text import CountVectorizer\\n\\n\\ndef get_top_text_ngrams(corpus, ngrams=(1, 1), nr=None):\\n    \\\"\\\"\\\"\\n    Creates a bag of ngrams and counts ngram frequency.\\n    Returns a sorted list of tuples: (ngram, count)\\n    \\\"\\\"\\\"\\n    vec = CountVectorizer(ngram_range=ngrams).fit(corpus)\\n    bag_of_words = vec.transform(corpus)\\n    sum_words = bag_of_words.sum(axis=0)\\n    words_freq = [(word, sum_words[0, idx]) for word, idx in vec.vocabulary_.items()]\\n    words_freq = sorted(words_freq, key=lambda x: x[1], reverse=True)\\n    return words_freq[:nr]\";\n",
       "                var nbb_cells = Jupyter.notebook.get_cells();\n",
       "                for (var i = 0; i < nbb_cells.length; ++i) {\n",
       "                    if (nbb_cells[i].input_prompt_number == nbb_cell_id) {\n",
       "                        if (nbb_cells[i].get_text() == nbb_unformatted_code) {\n",
       "                             nbb_cells[i].set_text(nbb_formatted_code);\n",
       "                        }\n",
       "                        break;\n",
       "                    }\n",
       "                }\n",
       "            }, 500);\n",
       "            "
      ],
      "text/plain": [
       "<IPython.core.display.Javascript object>"
      ]
     },
     "metadata": {},
     "output_type": "display_data"
    },
    {
     "data": {
      "application/javascript": [
       "\n",
       "            setTimeout(function() {\n",
       "                var nbb_cell_id = 42;\n",
       "                var nbb_unformatted_code = \"# check bigrams in its entirety on a corpus or dataset\\nfrom sklearn.feature_extraction.text import CountVectorizer\\n\\n\\ndef get_top_text_ngrams(corpus, ngrams=(1, 1), nr=None):\\n    \\\"\\\"\\\"\\n    Creates a bag of ngrams and counts ngram frequency.\\n    Returns a sorted list of tuples: (ngram, count)\\n    \\\"\\\"\\\"\\n    vec = CountVectorizer(ngram_range=ngrams).fit(corpus)\\n    bag_of_words = vec.transform(corpus)\\n    sum_words = bag_of_words.sum(axis=0)\\n    words_freq = [(word, sum_words[0, idx]) for word, idx in vec.vocabulary_.items()]\\n    words_freq = sorted(words_freq, key=lambda x: x[1], reverse=True)\\n    return words_freq[:nr]\";\n",
       "                var nbb_formatted_code = \"# check bigrams in its entirety on a corpus or dataset\\nfrom sklearn.feature_extraction.text import CountVectorizer\\n\\n\\ndef get_top_text_ngrams(corpus, ngrams=(1, 1), nr=None):\\n    \\\"\\\"\\\"\\n    Creates a bag of ngrams and counts ngram frequency.\\n    Returns a sorted list of tuples: (ngram, count)\\n    \\\"\\\"\\\"\\n    vec = CountVectorizer(ngram_range=ngrams).fit(corpus)\\n    bag_of_words = vec.transform(corpus)\\n    sum_words = bag_of_words.sum(axis=0)\\n    words_freq = [(word, sum_words[0, idx]) for word, idx in vec.vocabulary_.items()]\\n    words_freq = sorted(words_freq, key=lambda x: x[1], reverse=True)\\n    return words_freq[:nr]\";\n",
       "                var nbb_cells = Jupyter.notebook.get_cells();\n",
       "                for (var i = 0; i < nbb_cells.length; ++i) {\n",
       "                    if (nbb_cells[i].input_prompt_number == nbb_cell_id) {\n",
       "                        if (nbb_cells[i].get_text() == nbb_unformatted_code) {\n",
       "                             nbb_cells[i].set_text(nbb_formatted_code);\n",
       "                        }\n",
       "                        break;\n",
       "                    }\n",
       "                }\n",
       "            }, 500);\n",
       "            "
      ],
      "text/plain": [
       "<IPython.core.display.Javascript object>"
      ]
     },
     "metadata": {},
     "output_type": "display_data"
    }
   ],
   "source": [
    "# check bigrams in its entirety on a corpus or dataset\n",
    "from sklearn.feature_extraction.text import CountVectorizer\n",
    "\n",
    "\n",
    "def get_top_text_ngrams(corpus, ngrams=(1, 1), nr=None):\n",
    "    \"\"\"\n",
    "    Creates a bag of ngrams and counts ngram frequency.\n",
    "    Returns a sorted list of tuples: (ngram, count)\n",
    "    \"\"\"\n",
    "    vec = CountVectorizer(ngram_range=ngrams).fit(corpus)\n",
    "    bag_of_words = vec.transform(corpus)\n",
    "    sum_words = bag_of_words.sum(axis=0)\n",
    "    words_freq = [(word, sum_words[0, idx]) for word, idx in vec.vocabulary_.items()]\n",
    "    words_freq = sorted(words_freq, key=lambda x: x[1], reverse=True)\n",
    "    return words_freq[:nr]"
   ]
  },
  {
   "cell_type": "code",
   "execution_count": 43,
   "id": "725680f9",
   "metadata": {},
   "outputs": [
    {
     "data": {
      "application/javascript": [
       "\n",
       "            setTimeout(function() {\n",
       "                var nbb_cell_id = 43;\n",
       "                var nbb_unformatted_code = \"# Showing top 10 biagrams in corpus\\ntop_text_bigrams = get_top_text_ngrams(train.text, ngrams=(2, 2), nr=10)\";\n",
       "                var nbb_formatted_code = \"# Showing top 10 biagrams in corpus\\ntop_text_bigrams = get_top_text_ngrams(train.text, ngrams=(2, 2), nr=10)\";\n",
       "                var nbb_cells = Jupyter.notebook.get_cells();\n",
       "                for (var i = 0; i < nbb_cells.length; ++i) {\n",
       "                    if (nbb_cells[i].input_prompt_number == nbb_cell_id) {\n",
       "                        if (nbb_cells[i].get_text() == nbb_unformatted_code) {\n",
       "                             nbb_cells[i].set_text(nbb_formatted_code);\n",
       "                        }\n",
       "                        break;\n",
       "                    }\n",
       "                }\n",
       "            }, 500);\n",
       "            "
      ],
      "text/plain": [
       "<IPython.core.display.Javascript object>"
      ]
     },
     "metadata": {},
     "output_type": "display_data"
    },
    {
     "data": {
      "application/javascript": [
       "\n",
       "            setTimeout(function() {\n",
       "                var nbb_cell_id = 43;\n",
       "                var nbb_unformatted_code = \"# Showing top 10 biagrams in corpus\\ntop_text_bigrams = get_top_text_ngrams(train.text, ngrams=(2, 2), nr=10)\";\n",
       "                var nbb_formatted_code = \"# Showing top 10 biagrams in corpus\\ntop_text_bigrams = get_top_text_ngrams(train.text, ngrams=(2, 2), nr=10)\";\n",
       "                var nbb_cells = Jupyter.notebook.get_cells();\n",
       "                for (var i = 0; i < nbb_cells.length; ++i) {\n",
       "                    if (nbb_cells[i].input_prompt_number == nbb_cell_id) {\n",
       "                        if (nbb_cells[i].get_text() == nbb_unformatted_code) {\n",
       "                             nbb_cells[i].set_text(nbb_formatted_code);\n",
       "                        }\n",
       "                        break;\n",
       "                    }\n",
       "                }\n",
       "            }, 500);\n",
       "            "
      ],
      "text/plain": [
       "<IPython.core.display.Javascript object>"
      ]
     },
     "metadata": {},
     "output_type": "display_data"
    },
    {
     "data": {
      "application/javascript": [
       "\n",
       "            setTimeout(function() {\n",
       "                var nbb_cell_id = 43;\n",
       "                var nbb_unformatted_code = \"# Showing top 10 biagrams in corpus\\ntop_text_bigrams = get_top_text_ngrams(train.text, ngrams=(2, 2), nr=10)\";\n",
       "                var nbb_formatted_code = \"# Showing top 10 biagrams in corpus\\ntop_text_bigrams = get_top_text_ngrams(train.text, ngrams=(2, 2), nr=10)\";\n",
       "                var nbb_cells = Jupyter.notebook.get_cells();\n",
       "                for (var i = 0; i < nbb_cells.length; ++i) {\n",
       "                    if (nbb_cells[i].input_prompt_number == nbb_cell_id) {\n",
       "                        if (nbb_cells[i].get_text() == nbb_unformatted_code) {\n",
       "                             nbb_cells[i].set_text(nbb_formatted_code);\n",
       "                        }\n",
       "                        break;\n",
       "                    }\n",
       "                }\n",
       "            }, 500);\n",
       "            "
      ],
      "text/plain": [
       "<IPython.core.display.Javascript object>"
      ]
     },
     "metadata": {},
     "output_type": "display_data"
    }
   ],
   "source": [
    "# Showing top 10 biagrams in corpus\n",
    "top_text_bigrams = get_top_text_ngrams(train.text, ngrams=(2, 2), nr=10)"
   ]
  },
  {
   "cell_type": "code",
   "execution_count": 45,
   "id": "93061e70",
   "metadata": {},
   "outputs": [
    {
     "data": {
      "text/plain": [
       "[('http co', 4306),\n",
       " ('https co', 410),\n",
       " ('in the', 308),\n",
       " ('of the', 256),\n",
       " ('û_ http', 217),\n",
       " ('on the', 129),\n",
       " ('to the', 126),\n",
       " ('to be', 108),\n",
       " ('for the', 97),\n",
       " ('at the', 85)]"
      ]
     },
     "execution_count": 45,
     "metadata": {},
     "output_type": "execute_result"
    },
    {
     "data": {
      "application/javascript": [
       "\n",
       "            setTimeout(function() {\n",
       "                var nbb_cell_id = 45;\n",
       "                var nbb_unformatted_code = \"# List Tip text biagram\\ntop_text_bigrams\";\n",
       "                var nbb_formatted_code = \"# List Tip text biagram\\ntop_text_bigrams\";\n",
       "                var nbb_cells = Jupyter.notebook.get_cells();\n",
       "                for (var i = 0; i < nbb_cells.length; ++i) {\n",
       "                    if (nbb_cells[i].input_prompt_number == nbb_cell_id) {\n",
       "                        if (nbb_cells[i].get_text() == nbb_unformatted_code) {\n",
       "                             nbb_cells[i].set_text(nbb_formatted_code);\n",
       "                        }\n",
       "                        break;\n",
       "                    }\n",
       "                }\n",
       "            }, 500);\n",
       "            "
      ],
      "text/plain": [
       "<IPython.core.display.Javascript object>"
      ]
     },
     "metadata": {},
     "output_type": "display_data"
    },
    {
     "data": {
      "application/javascript": [
       "\n",
       "            setTimeout(function() {\n",
       "                var nbb_cell_id = 45;\n",
       "                var nbb_unformatted_code = \"# List Tip text biagram\\ntop_text_bigrams\";\n",
       "                var nbb_formatted_code = \"# List Tip text biagram\\ntop_text_bigrams\";\n",
       "                var nbb_cells = Jupyter.notebook.get_cells();\n",
       "                for (var i = 0; i < nbb_cells.length; ++i) {\n",
       "                    if (nbb_cells[i].input_prompt_number == nbb_cell_id) {\n",
       "                        if (nbb_cells[i].get_text() == nbb_unformatted_code) {\n",
       "                             nbb_cells[i].set_text(nbb_formatted_code);\n",
       "                        }\n",
       "                        break;\n",
       "                    }\n",
       "                }\n",
       "            }, 500);\n",
       "            "
      ],
      "text/plain": [
       "<IPython.core.display.Javascript object>"
      ]
     },
     "metadata": {},
     "output_type": "display_data"
    },
    {
     "data": {
      "application/javascript": [
       "\n",
       "            setTimeout(function() {\n",
       "                var nbb_cell_id = 45;\n",
       "                var nbb_unformatted_code = \"# List Tip text biagram\\ntop_text_bigrams\";\n",
       "                var nbb_formatted_code = \"# List Tip text biagram\\ntop_text_bigrams\";\n",
       "                var nbb_cells = Jupyter.notebook.get_cells();\n",
       "                for (var i = 0; i < nbb_cells.length; ++i) {\n",
       "                    if (nbb_cells[i].input_prompt_number == nbb_cell_id) {\n",
       "                        if (nbb_cells[i].get_text() == nbb_unformatted_code) {\n",
       "                             nbb_cells[i].set_text(nbb_formatted_code);\n",
       "                        }\n",
       "                        break;\n",
       "                    }\n",
       "                }\n",
       "            }, 500);\n",
       "            "
      ],
      "text/plain": [
       "<IPython.core.display.Javascript object>"
      ]
     },
     "metadata": {},
     "output_type": "display_data"
    }
   ],
   "source": [
    "# List Tip text biagram\n",
    "top_text_bigrams"
   ]
  },
  {
   "cell_type": "code",
   "execution_count": 47,
   "id": "fa5d94bc",
   "metadata": {},
   "outputs": [
    {
     "data": {
      "text/plain": [
       "<BarContainer object of 10 artists>"
      ]
     },
     "execution_count": 47,
     "metadata": {},
     "output_type": "execute_result"
    },
    {
     "data": {
      "image/png": "[encoded data removed]",
      "text/plain": [
       "<Figure size 1600x800 with 1 Axes>"
      ]
     },
     "metadata": {},
     "output_type": "display_data"
    },
    {
     "data": {
      "application/javascript": [
       "\n",
       "            setTimeout(function() {\n",
       "                var nbb_cell_id = 47;\n",
       "                var nbb_unformatted_code = \"# Distribution process on bar plots\\nx, y = zip(*top_text_bigrams)\\nplt.figure(1, figsize=(16, 8))\\nplt.subplot(1, 1, 1)\\nplt.bar(x, y)\";\n",
       "                var nbb_formatted_code = \"# Distribution process on bar plots\\nx, y = zip(*top_text_bigrams)\\nplt.figure(1, figsize=(16, 8))\\nplt.subplot(1, 1, 1)\\nplt.bar(x, y)\";\n",
       "                var nbb_cells = Jupyter.notebook.get_cells();\n",
       "                for (var i = 0; i < nbb_cells.length; ++i) {\n",
       "                    if (nbb_cells[i].input_prompt_number == nbb_cell_id) {\n",
       "                        if (nbb_cells[i].get_text() == nbb_unformatted_code) {\n",
       "                             nbb_cells[i].set_text(nbb_formatted_code);\n",
       "                        }\n",
       "                        break;\n",
       "                    }\n",
       "                }\n",
       "            }, 500);\n",
       "            "
      ],
      "text/plain": [
       "<IPython.core.display.Javascript object>"
      ]
     },
     "metadata": {},
     "output_type": "display_data"
    },
    {
     "data": {
      "application/javascript": [
       "\n",
       "            setTimeout(function() {\n",
       "                var nbb_cell_id = 47;\n",
       "                var nbb_unformatted_code = \"# Distribution process on bar plots\\nx, y = zip(*top_text_bigrams)\\nplt.figure(1, figsize=(16, 8))\\nplt.subplot(1, 1, 1)\\nplt.bar(x, y)\";\n",
       "                var nbb_formatted_code = \"# Distribution process on bar plots\\nx, y = zip(*top_text_bigrams)\\nplt.figure(1, figsize=(16, 8))\\nplt.subplot(1, 1, 1)\\nplt.bar(x, y)\";\n",
       "                var nbb_cells = Jupyter.notebook.get_cells();\n",
       "                for (var i = 0; i < nbb_cells.length; ++i) {\n",
       "                    if (nbb_cells[i].input_prompt_number == nbb_cell_id) {\n",
       "                        if (nbb_cells[i].get_text() == nbb_unformatted_code) {\n",
       "                             nbb_cells[i].set_text(nbb_formatted_code);\n",
       "                        }\n",
       "                        break;\n",
       "                    }\n",
       "                }\n",
       "            }, 500);\n",
       "            "
      ],
      "text/plain": [
       "<IPython.core.display.Javascript object>"
      ]
     },
     "metadata": {},
     "output_type": "display_data"
    },
    {
     "data": {
      "application/javascript": [
       "\n",
       "            setTimeout(function() {\n",
       "                var nbb_cell_id = 47;\n",
       "                var nbb_unformatted_code = \"# Distribution process on bar plots\\nx, y = zip(*top_text_bigrams)\\nplt.figure(1, figsize=(16, 8))\\nplt.subplot(1, 1, 1)\\nplt.bar(x, y)\";\n",
       "                var nbb_formatted_code = \"# Distribution process on bar plots\\nx, y = zip(*top_text_bigrams)\\nplt.figure(1, figsize=(16, 8))\\nplt.subplot(1, 1, 1)\\nplt.bar(x, y)\";\n",
       "                var nbb_cells = Jupyter.notebook.get_cells();\n",
       "                for (var i = 0; i < nbb_cells.length; ++i) {\n",
       "                    if (nbb_cells[i].input_prompt_number == nbb_cell_id) {\n",
       "                        if (nbb_cells[i].get_text() == nbb_unformatted_code) {\n",
       "                             nbb_cells[i].set_text(nbb_formatted_code);\n",
       "                        }\n",
       "                        break;\n",
       "                    }\n",
       "                }\n",
       "            }, 500);\n",
       "            "
      ],
      "text/plain": [
       "<IPython.core.display.Javascript object>"
      ]
     },
     "metadata": {},
     "output_type": "display_data"
    }
   ],
   "source": [
    "# Distribution process on bar plots\n",
    "x, y = zip(*top_text_bigrams)\n",
    "plt.figure(1, figsize=(16, 8))\n",
    "plt.subplot(1, 1, 1)\n",
    "plt.bar(x, y)"
   ]
  },
  {
   "cell_type": "markdown",
   "id": "4ba9c50d",
   "metadata": {},
   "source": [
    "### N-GRAM SENTENCE AND WORD"
   ]
  },
  {
   "cell_type": "code",
   "execution_count": 48,
   "id": "66c135b9",
   "metadata": {},
   "outputs": [
    {
     "data": {
      "application/javascript": [
       "\n",
       "            setTimeout(function() {\n",
       "                var nbb_cell_id = 48;\n",
       "                var nbb_unformatted_code = \"# import library yang dibutuhkan\\nfrom nltk import ngrams\\nfrom nltk.util import ngrams\\nimport nltk\";\n",
       "                var nbb_formatted_code = \"# import library yang dibutuhkan\\nfrom nltk import ngrams\\nfrom nltk.util import ngrams\\nimport nltk\";\n",
       "                var nbb_cells = Jupyter.notebook.get_cells();\n",
       "                for (var i = 0; i < nbb_cells.length; ++i) {\n",
       "                    if (nbb_cells[i].input_prompt_number == nbb_cell_id) {\n",
       "                        if (nbb_cells[i].get_text() == nbb_unformatted_code) {\n",
       "                             nbb_cells[i].set_text(nbb_formatted_code);\n",
       "                        }\n",
       "                        break;\n",
       "                    }\n",
       "                }\n",
       "            }, 500);\n",
       "            "
      ],
      "text/plain": [
       "<IPython.core.display.Javascript object>"
      ]
     },
     "metadata": {},
     "output_type": "display_data"
    },
    {
     "data": {
      "application/javascript": [
       "\n",
       "            setTimeout(function() {\n",
       "                var nbb_cell_id = 48;\n",
       "                var nbb_unformatted_code = \"# import library yang dibutuhkan\\nfrom nltk import ngrams\\nfrom nltk.util import ngrams\\nimport nltk\";\n",
       "                var nbb_formatted_code = \"# import library yang dibutuhkan\\nfrom nltk import ngrams\\nfrom nltk.util import ngrams\\nimport nltk\";\n",
       "                var nbb_cells = Jupyter.notebook.get_cells();\n",
       "                for (var i = 0; i < nbb_cells.length; ++i) {\n",
       "                    if (nbb_cells[i].input_prompt_number == nbb_cell_id) {\n",
       "                        if (nbb_cells[i].get_text() == nbb_unformatted_code) {\n",
       "                             nbb_cells[i].set_text(nbb_formatted_code);\n",
       "                        }\n",
       "                        break;\n",
       "                    }\n",
       "                }\n",
       "            }, 500);\n",
       "            "
      ],
      "text/plain": [
       "<IPython.core.display.Javascript object>"
      ]
     },
     "metadata": {},
     "output_type": "display_data"
    },
    {
     "data": {
      "application/javascript": [
       "\n",
       "            setTimeout(function() {\n",
       "                var nbb_cell_id = 48;\n",
       "                var nbb_unformatted_code = \"# import library yang dibutuhkan\\nfrom nltk import ngrams\\nfrom nltk.util import ngrams\\nimport nltk\";\n",
       "                var nbb_formatted_code = \"# import library yang dibutuhkan\\nfrom nltk import ngrams\\nfrom nltk.util import ngrams\\nimport nltk\";\n",
       "                var nbb_cells = Jupyter.notebook.get_cells();\n",
       "                for (var i = 0; i < nbb_cells.length; ++i) {\n",
       "                    if (nbb_cells[i].input_prompt_number == nbb_cell_id) {\n",
       "                        if (nbb_cells[i].get_text() == nbb_unformatted_code) {\n",
       "                             nbb_cells[i].set_text(nbb_formatted_code);\n",
       "                        }\n",
       "                        break;\n",
       "                    }\n",
       "                }\n",
       "            }, 500);\n",
       "            "
      ],
      "text/plain": [
       "<IPython.core.display.Javascript object>"
      ]
     },
     "metadata": {},
     "output_type": "display_data"
    }
   ],
   "source": [
    "# import library yang dibutuhkan\n",
    "from nltk import ngrams\n",
    "from nltk.util import ngrams\n",
    "import nltk"
   ]
  },
  {
   "cell_type": "code",
   "execution_count": 49,
   "id": "2af959b6",
   "metadata": {},
   "outputs": [
    {
     "name": "stdout",
     "output_type": "stream",
     "text": [
      "('Buku', 'di', 'perpustakaan', 'sekolah')\n",
      "('di', 'perpustakaan', 'sekolah', 'banyak')\n",
      "('perpustakaan', 'sekolah', 'banyak', 'yang')\n",
      "('sekolah', 'banyak', 'yang', 'rusak')\n"
     ]
    },
    {
     "data": {
      "application/javascript": [
       "\n",
       "            setTimeout(function() {\n",
       "                var nbb_cell_id = 49;\n",
       "                var nbb_unformatted_code = \"\\n\\nsentence = \\\"Buku di perpustakaan sekolah banyak yang rusak\\\"\\n# print (sentence. split())\\nn = 4  # fourgram\\nfourgram = ngrams(sentence.split(), n)  # memanggiL fungsi ngrams, dari nltk\\n# ngrams ini punya dua paramaeter, pertama sentence yang dipecah berarti tipe data array\\n# kedua ngramsnya disini menggunakan fourgram\\nfor grams in fourgram:\\n    print(grams)\";\n",
       "                var nbb_formatted_code = \"sentence = \\\"Buku di perpustakaan sekolah banyak yang rusak\\\"\\n# print (sentence. split())\\nn = 4  # fourgram\\nfourgram = ngrams(sentence.split(), n)  # memanggiL fungsi ngrams, dari nltk\\n# ngrams ini punya dua paramaeter, pertama sentence yang dipecah berarti tipe data array\\n# kedua ngramsnya disini menggunakan fourgram\\nfor grams in fourgram:\\n    print(grams)\";\n",
       "                var nbb_cells = Jupyter.notebook.get_cells();\n",
       "                for (var i = 0; i < nbb_cells.length; ++i) {\n",
       "                    if (nbb_cells[i].input_prompt_number == nbb_cell_id) {\n",
       "                        if (nbb_cells[i].get_text() == nbb_unformatted_code) {\n",
       "                             nbb_cells[i].set_text(nbb_formatted_code);\n",
       "                        }\n",
       "                        break;\n",
       "                    }\n",
       "                }\n",
       "            }, 500);\n",
       "            "
      ],
      "text/plain": [
       "<IPython.core.display.Javascript object>"
      ]
     },
     "metadata": {},
     "output_type": "display_data"
    },
    {
     "data": {
      "application/javascript": [
       "\n",
       "            setTimeout(function() {\n",
       "                var nbb_cell_id = 49;\n",
       "                var nbb_unformatted_code = \"\\n\\nsentence = \\\"Buku di perpustakaan sekolah banyak yang rusak\\\"\\n# print (sentence. split())\\nn = 4  # fourgram\\nfourgram = ngrams(sentence.split(), n)  # memanggiL fungsi ngrams, dari nltk\\n# ngrams ini punya dua paramaeter, pertama sentence yang dipecah berarti tipe data array\\n# kedua ngramsnya disini menggunakan fourgram\\nfor grams in fourgram:\\n    print(grams)\";\n",
       "                var nbb_formatted_code = \"sentence = \\\"Buku di perpustakaan sekolah banyak yang rusak\\\"\\n# print (sentence. split())\\nn = 4  # fourgram\\nfourgram = ngrams(sentence.split(), n)  # memanggiL fungsi ngrams, dari nltk\\n# ngrams ini punya dua paramaeter, pertama sentence yang dipecah berarti tipe data array\\n# kedua ngramsnya disini menggunakan fourgram\\nfor grams in fourgram:\\n    print(grams)\";\n",
       "                var nbb_cells = Jupyter.notebook.get_cells();\n",
       "                for (var i = 0; i < nbb_cells.length; ++i) {\n",
       "                    if (nbb_cells[i].input_prompt_number == nbb_cell_id) {\n",
       "                        if (nbb_cells[i].get_text() == nbb_unformatted_code) {\n",
       "                             nbb_cells[i].set_text(nbb_formatted_code);\n",
       "                        }\n",
       "                        break;\n",
       "                    }\n",
       "                }\n",
       "            }, 500);\n",
       "            "
      ],
      "text/plain": [
       "<IPython.core.display.Javascript object>"
      ]
     },
     "metadata": {},
     "output_type": "display_data"
    },
    {
     "data": {
      "application/javascript": [
       "\n",
       "            setTimeout(function() {\n",
       "                var nbb_cell_id = 49;\n",
       "                var nbb_unformatted_code = \"\\n\\nsentence = \\\"Buku di perpustakaan sekolah banyak yang rusak\\\"\\n# print (sentence. split())\\nn = 4  # fourgram\\nfourgram = ngrams(sentence.split(), n)  # memanggiL fungsi ngrams, dari nltk\\n# ngrams ini punya dua paramaeter, pertama sentence yang dipecah berarti tipe data array\\n# kedua ngramsnya disini menggunakan fourgram\\nfor grams in fourgram:\\n    print(grams)\";\n",
       "                var nbb_formatted_code = \"sentence = \\\"Buku di perpustakaan sekolah banyak yang rusak\\\"\\n# print (sentence. split())\\nn = 4  # fourgram\\nfourgram = ngrams(sentence.split(), n)  # memanggiL fungsi ngrams, dari nltk\\n# ngrams ini punya dua paramaeter, pertama sentence yang dipecah berarti tipe data array\\n# kedua ngramsnya disini menggunakan fourgram\\nfor grams in fourgram:\\n    print(grams)\";\n",
       "                var nbb_cells = Jupyter.notebook.get_cells();\n",
       "                for (var i = 0; i < nbb_cells.length; ++i) {\n",
       "                    if (nbb_cells[i].input_prompt_number == nbb_cell_id) {\n",
       "                        if (nbb_cells[i].get_text() == nbb_unformatted_code) {\n",
       "                             nbb_cells[i].set_text(nbb_formatted_code);\n",
       "                        }\n",
       "                        break;\n",
       "                    }\n",
       "                }\n",
       "            }, 500);\n",
       "            "
      ],
      "text/plain": [
       "<IPython.core.display.Javascript object>"
      ]
     },
     "metadata": {},
     "output_type": "display_data"
    }
   ],
   "source": [
    "sentence = \"Buku di perpustakaan sekolah banyak yang rusak\"\n",
    "# print (sentence. split())\n",
    "n = 4  # fourgram\n",
    "fourgram = ngrams(sentence.split(), n)  # memanggiL fungsi ngrams, dari nltk\n",
    "# ngrams ini punya dua paramaeter, pertama sentence yang dipecah berarti tipe data array\n",
    "# kedua ngramsnya disini menggunakan fourgram\n",
    "for grams in fourgram:\n",
    "    print(grams)"
   ]
  },
  {
   "cell_type": "code",
   "execution_count": 50,
   "id": "402621a0",
   "metadata": {},
   "outputs": [
    {
     "name": "stdout",
     "output_type": "stream",
     "text": [
      "('Buku', 'di')\n",
      "('di', 'perpustakaan')\n",
      "('perpustakaan', 'sekolah')\n",
      "('sekolah', 'banyak')\n",
      "('banyak', 'yang')\n",
      "('yang', 'rusak')\n"
     ]
    },
    {
     "data": {
      "application/javascript": [
       "\n",
       "            setTimeout(function() {\n",
       "                var nbb_cell_id = 50;\n",
       "                var nbb_unformatted_code = \"#Bigram process with word_tokenize() function tokenization:\\n\\ntext = \\\"Buku di perpustakaan sekolah banyak yang rusak\\\"\\ntokenize = nltk.word_tokenize(text)\\n#print(tokenize)\\nn = 2\\nbigrams = ngrams (text.split(),n)\\nfor grams in bigrams:\\n    print(grams)\";\n",
       "                var nbb_formatted_code = \"# Bigram process with word_tokenize() function tokenization:\\n\\ntext = \\\"Buku di perpustakaan sekolah banyak yang rusak\\\"\\ntokenize = nltk.word_tokenize(text)\\n# print(tokenize)\\nn = 2\\nbigrams = ngrams(text.split(), n)\\nfor grams in bigrams:\\n    print(grams)\";\n",
       "                var nbb_cells = Jupyter.notebook.get_cells();\n",
       "                for (var i = 0; i < nbb_cells.length; ++i) {\n",
       "                    if (nbb_cells[i].input_prompt_number == nbb_cell_id) {\n",
       "                        if (nbb_cells[i].get_text() == nbb_unformatted_code) {\n",
       "                             nbb_cells[i].set_text(nbb_formatted_code);\n",
       "                        }\n",
       "                        break;\n",
       "                    }\n",
       "                }\n",
       "            }, 500);\n",
       "            "
      ],
      "text/plain": [
       "<IPython.core.display.Javascript object>"
      ]
     },
     "metadata": {},
     "output_type": "display_data"
    },
    {
     "data": {
      "application/javascript": [
       "\n",
       "            setTimeout(function() {\n",
       "                var nbb_cell_id = 50;\n",
       "                var nbb_unformatted_code = \"#Bigram process with word_tokenize() function tokenization:\\n\\ntext = \\\"Buku di perpustakaan sekolah banyak yang rusak\\\"\\ntokenize = nltk.word_tokenize(text)\\n#print(tokenize)\\nn = 2\\nbigrams = ngrams (text.split(),n)\\nfor grams in bigrams:\\n    print(grams)\";\n",
       "                var nbb_formatted_code = \"# Bigram process with word_tokenize() function tokenization:\\n\\ntext = \\\"Buku di perpustakaan sekolah banyak yang rusak\\\"\\ntokenize = nltk.word_tokenize(text)\\n# print(tokenize)\\nn = 2\\nbigrams = ngrams(text.split(), n)\\nfor grams in bigrams:\\n    print(grams)\";\n",
       "                var nbb_cells = Jupyter.notebook.get_cells();\n",
       "                for (var i = 0; i < nbb_cells.length; ++i) {\n",
       "                    if (nbb_cells[i].input_prompt_number == nbb_cell_id) {\n",
       "                        if (nbb_cells[i].get_text() == nbb_unformatted_code) {\n",
       "                             nbb_cells[i].set_text(nbb_formatted_code);\n",
       "                        }\n",
       "                        break;\n",
       "                    }\n",
       "                }\n",
       "            }, 500);\n",
       "            "
      ],
      "text/plain": [
       "<IPython.core.display.Javascript object>"
      ]
     },
     "metadata": {},
     "output_type": "display_data"
    },
    {
     "data": {
      "application/javascript": [
       "\n",
       "            setTimeout(function() {\n",
       "                var nbb_cell_id = 50;\n",
       "                var nbb_unformatted_code = \"#Bigram process with word_tokenize() function tokenization:\\n\\ntext = \\\"Buku di perpustakaan sekolah banyak yang rusak\\\"\\ntokenize = nltk.word_tokenize(text)\\n#print(tokenize)\\nn = 2\\nbigrams = ngrams (text.split(),n)\\nfor grams in bigrams:\\n    print(grams)\";\n",
       "                var nbb_formatted_code = \"# Bigram process with word_tokenize() function tokenization:\\n\\ntext = \\\"Buku di perpustakaan sekolah banyak yang rusak\\\"\\ntokenize = nltk.word_tokenize(text)\\n# print(tokenize)\\nn = 2\\nbigrams = ngrams(text.split(), n)\\nfor grams in bigrams:\\n    print(grams)\";\n",
       "                var nbb_cells = Jupyter.notebook.get_cells();\n",
       "                for (var i = 0; i < nbb_cells.length; ++i) {\n",
       "                    if (nbb_cells[i].input_prompt_number == nbb_cell_id) {\n",
       "                        if (nbb_cells[i].get_text() == nbb_unformatted_code) {\n",
       "                             nbb_cells[i].set_text(nbb_formatted_code);\n",
       "                        }\n",
       "                        break;\n",
       "                    }\n",
       "                }\n",
       "            }, 500);\n",
       "            "
      ],
      "text/plain": [
       "<IPython.core.display.Javascript object>"
      ]
     },
     "metadata": {},
     "output_type": "display_data"
    }
   ],
   "source": [
    "# Bigram process with word_tokenize() function tokenization:\n",
    "\n",
    "text = \"Buku di perpustakaan sekolah banyak yang rusak\"\n",
    "tokenize = nltk.word_tokenize(text)\n",
    "# print(tokenize)\n",
    "n = 2\n",
    "bigrams = ngrams(text.split(), n)\n",
    "for grams in bigrams:\n",
    "    print(grams)"
   ]
  },
  {
   "cell_type": "code",
   "execution_count": 51,
   "id": "196a93f3",
   "metadata": {},
   "outputs": [
    {
     "name": "stdout",
     "output_type": "stream",
     "text": [
      "('f', 'a', 's', 'i', 'l')\n",
      "('a', 's', 'i', 'l', 'i')\n",
      "('s', 'i', 'l', 'i', 't')\n",
      "('i', 'l', 'i', 't', 'a')\n",
      "('l', 'i', 't', 'a', 's')\n",
      "('i', 't', 'a', 's', ' ')\n",
      "('t', 'a', 's', ' ', 'd')\n",
      "('a', 's', ' ', 'd', 'i')\n",
      "('s', ' ', 'd', 'i', ' ')\n",
      "(' ', 'd', 'i', ' ', 'k')\n",
      "('d', 'i', ' ', 'k', 'a')\n",
      "('i', ' ', 'k', 'a', 'm')\n",
      "(' ', 'k', 'a', 'm', 'a')\n",
      "('k', 'a', 'm', 'a', 'r')\n",
      "('a', 'm', 'a', 'r', ' ')\n",
      "('m', 'a', 'r', ' ', 'm')\n",
      "('a', 'r', ' ', 'm', 'a')\n",
      "('r', ' ', 'm', 'a', 'n')\n",
      "(' ', 'm', 'a', 'n', 'd')\n",
      "('m', 'a', 'n', 'd', 'i')\n",
      "('a', 'n', 'd', 'i', ' ')\n",
      "('n', 'd', 'i', ' ', 'b')\n",
      "('d', 'i', ' ', 'b', 'a')\n",
      "('i', ' ', 'b', 'a', 'n')\n",
      "(' ', 'b', 'a', 'n', 'y')\n",
      "('b', 'a', 'n', 'y', 'a')\n",
      "('a', 'n', 'y', 'a', 'k')\n",
      "('n', 'y', 'a', 'k', ' ')\n",
      "('y', 'a', 'k', ' ', 'y')\n",
      "('a', 'k', ' ', 'y', 'a')\n",
      "('k', ' ', 'y', 'a', 'n')\n",
      "(' ', 'y', 'a', 'n', 'g')\n",
      "('y', 'a', 'n', 'g', ' ')\n",
      "('a', 'n', 'g', ' ', 'r')\n",
      "('n', 'g', ' ', 'r', 'u')\n",
      "('g', ' ', 'r', 'u', 's')\n",
      "(' ', 'r', 'u', 's', 'a')\n",
      "('r', 'u', 's', 'a', 'k')\n"
     ]
    },
    {
     "data": {
      "application/javascript": [
       "\n",
       "            setTimeout(function() {\n",
       "                var nbb_cell_id = 51;\n",
       "                var nbb_unformatted_code = \"n = 5\\nsentence = \\\"fasilitas di kamar mandi banyak yang rusak\\\"\\ntext_ngrams = ngrams(sentence, n)\\nfor text in text_ngrams:\\n    print(text)\";\n",
       "                var nbb_formatted_code = \"n = 5\\nsentence = \\\"fasilitas di kamar mandi banyak yang rusak\\\"\\ntext_ngrams = ngrams(sentence, n)\\nfor text in text_ngrams:\\n    print(text)\";\n",
       "                var nbb_cells = Jupyter.notebook.get_cells();\n",
       "                for (var i = 0; i < nbb_cells.length; ++i) {\n",
       "                    if (nbb_cells[i].input_prompt_number == nbb_cell_id) {\n",
       "                        if (nbb_cells[i].get_text() == nbb_unformatted_code) {\n",
       "                             nbb_cells[i].set_text(nbb_formatted_code);\n",
       "                        }\n",
       "                        break;\n",
       "                    }\n",
       "                }\n",
       "            }, 500);\n",
       "            "
      ],
      "text/plain": [
       "<IPython.core.display.Javascript object>"
      ]
     },
     "metadata": {},
     "output_type": "display_data"
    },
    {
     "data": {
      "application/javascript": [
       "\n",
       "            setTimeout(function() {\n",
       "                var nbb_cell_id = 51;\n",
       "                var nbb_unformatted_code = \"n = 5\\nsentence = \\\"fasilitas di kamar mandi banyak yang rusak\\\"\\ntext_ngrams = ngrams(sentence, n)\\nfor text in text_ngrams:\\n    print(text)\";\n",
       "                var nbb_formatted_code = \"n = 5\\nsentence = \\\"fasilitas di kamar mandi banyak yang rusak\\\"\\ntext_ngrams = ngrams(sentence, n)\\nfor text in text_ngrams:\\n    print(text)\";\n",
       "                var nbb_cells = Jupyter.notebook.get_cells();\n",
       "                for (var i = 0; i < nbb_cells.length; ++i) {\n",
       "                    if (nbb_cells[i].input_prompt_number == nbb_cell_id) {\n",
       "                        if (nbb_cells[i].get_text() == nbb_unformatted_code) {\n",
       "                             nbb_cells[i].set_text(nbb_formatted_code);\n",
       "                        }\n",
       "                        break;\n",
       "                    }\n",
       "                }\n",
       "            }, 500);\n",
       "            "
      ],
      "text/plain": [
       "<IPython.core.display.Javascript object>"
      ]
     },
     "metadata": {},
     "output_type": "display_data"
    },
    {
     "data": {
      "application/javascript": [
       "\n",
       "            setTimeout(function() {\n",
       "                var nbb_cell_id = 51;\n",
       "                var nbb_unformatted_code = \"n = 5\\nsentence = \\\"fasilitas di kamar mandi banyak yang rusak\\\"\\ntext_ngrams = ngrams(sentence, n)\\nfor text in text_ngrams:\\n    print(text)\";\n",
       "                var nbb_formatted_code = \"n = 5\\nsentence = \\\"fasilitas di kamar mandi banyak yang rusak\\\"\\ntext_ngrams = ngrams(sentence, n)\\nfor text in text_ngrams:\\n    print(text)\";\n",
       "                var nbb_cells = Jupyter.notebook.get_cells();\n",
       "                for (var i = 0; i < nbb_cells.length; ++i) {\n",
       "                    if (nbb_cells[i].input_prompt_number == nbb_cell_id) {\n",
       "                        if (nbb_cells[i].get_text() == nbb_unformatted_code) {\n",
       "                             nbb_cells[i].set_text(nbb_formatted_code);\n",
       "                        }\n",
       "                        break;\n",
       "                    }\n",
       "                }\n",
       "            }, 500);\n",
       "            "
      ],
      "text/plain": [
       "<IPython.core.display.Javascript object>"
      ]
     },
     "metadata": {},
     "output_type": "display_data"
    }
   ],
   "source": [
    "n = 5\n",
    "sentence = \"fasilitas di kamar mandi banyak yang rusak\"\n",
    "text_ngrams = ngrams(sentence, n)\n",
    "for text in text_ngrams:\n",
    "    print(text)"
   ]
  },
  {
   "cell_type": "code",
   "execution_count": 52,
   "id": "827d5198",
   "metadata": {},
   "outputs": [
    {
     "data": {
      "text/plain": [
       "['fasil',\n",
       " 'asili',\n",
       " 'silit',\n",
       " 'ilita',\n",
       " 'litas',\n",
       " 'itas ',\n",
       " 'tas d',\n",
       " 'as di',\n",
       " 's di ',\n",
       " ' di k',\n",
       " 'di ka',\n",
       " 'i kam',\n",
       " ' kama',\n",
       " 'kamar',\n",
       " 'amar ',\n",
       " 'mar m',\n",
       " 'ar ma',\n",
       " 'r man',\n",
       " ' mand',\n",
       " 'mandi',\n",
       " 'andi ',\n",
       " 'ndi b',\n",
       " 'di ba',\n",
       " 'i ban',\n",
       " ' bany',\n",
       " 'banya',\n",
       " 'anyak',\n",
       " 'nyak ',\n",
       " 'yak y',\n",
       " 'ak ya',\n",
       " 'k yan',\n",
       " ' yang',\n",
       " 'yang ',\n",
       " 'ang r',\n",
       " 'ng ru',\n",
       " 'g rus',\n",
       " ' rusa',\n",
       " 'rusak']"
      ]
     },
     "execution_count": 52,
     "metadata": {},
     "output_type": "execute_result"
    },
    {
     "data": {
      "application/javascript": [
       "\n",
       "            setTimeout(function() {\n",
       "                var nbb_cell_id = 52;\n",
       "                var nbb_unformatted_code = \"sentence = \\\"fasilitas di kamar mandi banyak yang rusak\\\"\\nn = 5\\n[sentence[i : i + n] for i in range(len(sentence) - n + 1)]\";\n",
       "                var nbb_formatted_code = \"sentence = \\\"fasilitas di kamar mandi banyak yang rusak\\\"\\nn = 5\\n[sentence[i : i + n] for i in range(len(sentence) - n + 1)]\";\n",
       "                var nbb_cells = Jupyter.notebook.get_cells();\n",
       "                for (var i = 0; i < nbb_cells.length; ++i) {\n",
       "                    if (nbb_cells[i].input_prompt_number == nbb_cell_id) {\n",
       "                        if (nbb_cells[i].get_text() == nbb_unformatted_code) {\n",
       "                             nbb_cells[i].set_text(nbb_formatted_code);\n",
       "                        }\n",
       "                        break;\n",
       "                    }\n",
       "                }\n",
       "            }, 500);\n",
       "            "
      ],
      "text/plain": [
       "<IPython.core.display.Javascript object>"
      ]
     },
     "metadata": {},
     "output_type": "display_data"
    },
    {
     "data": {
      "application/javascript": [
       "\n",
       "            setTimeout(function() {\n",
       "                var nbb_cell_id = 52;\n",
       "                var nbb_unformatted_code = \"sentence = \\\"fasilitas di kamar mandi banyak yang rusak\\\"\\nn = 5\\n[sentence[i : i + n] for i in range(len(sentence) - n + 1)]\";\n",
       "                var nbb_formatted_code = \"sentence = \\\"fasilitas di kamar mandi banyak yang rusak\\\"\\nn = 5\\n[sentence[i : i + n] for i in range(len(sentence) - n + 1)]\";\n",
       "                var nbb_cells = Jupyter.notebook.get_cells();\n",
       "                for (var i = 0; i < nbb_cells.length; ++i) {\n",
       "                    if (nbb_cells[i].input_prompt_number == nbb_cell_id) {\n",
       "                        if (nbb_cells[i].get_text() == nbb_unformatted_code) {\n",
       "                             nbb_cells[i].set_text(nbb_formatted_code);\n",
       "                        }\n",
       "                        break;\n",
       "                    }\n",
       "                }\n",
       "            }, 500);\n",
       "            "
      ],
      "text/plain": [
       "<IPython.core.display.Javascript object>"
      ]
     },
     "metadata": {},
     "output_type": "display_data"
    },
    {
     "data": {
      "application/javascript": [
       "\n",
       "            setTimeout(function() {\n",
       "                var nbb_cell_id = 52;\n",
       "                var nbb_unformatted_code = \"sentence = \\\"fasilitas di kamar mandi banyak yang rusak\\\"\\nn = 5\\n[sentence[i : i + n] for i in range(len(sentence) - n + 1)]\";\n",
       "                var nbb_formatted_code = \"sentence = \\\"fasilitas di kamar mandi banyak yang rusak\\\"\\nn = 5\\n[sentence[i : i + n] for i in range(len(sentence) - n + 1)]\";\n",
       "                var nbb_cells = Jupyter.notebook.get_cells();\n",
       "                for (var i = 0; i < nbb_cells.length; ++i) {\n",
       "                    if (nbb_cells[i].input_prompt_number == nbb_cell_id) {\n",
       "                        if (nbb_cells[i].get_text() == nbb_unformatted_code) {\n",
       "                             nbb_cells[i].set_text(nbb_formatted_code);\n",
       "                        }\n",
       "                        break;\n",
       "                    }\n",
       "                }\n",
       "            }, 500);\n",
       "            "
      ],
      "text/plain": [
       "<IPython.core.display.Javascript object>"
      ]
     },
     "metadata": {},
     "output_type": "display_data"
    }
   ],
   "source": [
    "sentence = \"fasilitas di kamar mandi banyak yang rusak\"\n",
    "n = 5\n",
    "[sentence[i : i + n] for i in range(len(sentence) - n + 1)]"
   ]
  },
  {
   "cell_type": "code",
   "execution_count": null,
   "id": "0d9ee30c",
   "metadata": {},
   "outputs": [],
   "source": []
  }
 ],
 "metadata": {
  "kernelspec": {
   "display_name": "Python 3 (ipykernel)",
   "language": "python",
   "name": "python3"
  },
  "language_info": {
   "codemirror_mode": {
    "name": "ipython",
    "version": 3
   },
   "file_extension": ".py",
   "mimetype": "text/x-python",
   "name": "python",
   "nbconvert_exporter": "python",
   "pygments_lexer": "ipython3",
   "version": "3.10.9"
  }
 },
 "nbformat": 4,
 "nbformat_minor": 5
}
