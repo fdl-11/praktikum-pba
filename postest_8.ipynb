{
 "cells": [
  {
   "cell_type": "code",
   "execution_count": 48,
   "id": "ea7c6544",
   "metadata": {},
   "outputs": [],
   "source": [
    "#Import Dependencies\n",
    "\n",
    "import spacy\n",
    "from spacy.lang.en.stop_words import STOP_WORDS\n",
    "from string import punctuation"
   ]
  },
  {
   "cell_type": "code",
   "execution_count": 49,
   "id": "622f63ee",
   "metadata": {},
   "outputs": [],
   "source": [
    "#Definisikan teks\n",
    "\n",
    "text = \"\"\" Saudi Arabia is seeking stronger cooperation with China on trade investments and energy flows rather than competing with the superpower, said Energy Minister Prince Abdulaziz bin Salman. We came to recognize the reality of today that China is taking, had taken a lead, will continue to take that lead. We don’t have to compete with China, we have to collaborate with China, he told CNBC’s Dan Murphy during the Arab-China Business Conference on Sunday. He added that there is value in working with China because they have taken the lead in getting the right manufacturers especially in the renewables space. We will never go again to this zero-sum game. On why the OPEC kingpin has eyes on China, Abdulaziz said he believes that China’s oil demand is still growing, and it is a pie that Saudi Arabia is keen on capturing. China is the world’s largest crude oil importer, and the Saudis have come up trumps as China’s top supplier of the commodity in April despite Russia’s cheap sanctioned oil. \"\"\""
   ]
  },
  {
   "cell_type": "code",
   "execution_count": 50,
   "id": "03597706",
   "metadata": {},
   "outputs": [
    {
     "data": {
      "text/plain": [
       "['below',\n",
       " 'nothing',\n",
       " 'hereupon',\n",
       " 'namely',\n",
       " \"n't\",\n",
       " 'eight',\n",
       " 'perhaps',\n",
       " 'about',\n",
       " 'the',\n",
       " 'whither',\n",
       " 'none',\n",
       " 'once',\n",
       " 'two',\n",
       " 'would',\n",
       " 'noone',\n",
       " 'are',\n",
       " 'became',\n",
       " 'eleven',\n",
       " 'beyond',\n",
       " 'ourselves',\n",
       " '’m',\n",
       " 'be',\n",
       " 'last',\n",
       " 'between',\n",
       " 'hereafter',\n",
       " 'as',\n",
       " 'seemed',\n",
       " 'sometime',\n",
       " 'enough',\n",
       " 'of',\n",
       " 'formerly',\n",
       " '‘d',\n",
       " 'all',\n",
       " 'against',\n",
       " 'done',\n",
       " 'has',\n",
       " 'though',\n",
       " 'our',\n",
       " 'further',\n",
       " 'each',\n",
       " 'hereby',\n",
       " 'how',\n",
       " 'over',\n",
       " 'so',\n",
       " 'am',\n",
       " 'never',\n",
       " 'my',\n",
       " 'made',\n",
       " 'using',\n",
       " 'into',\n",
       " 'show',\n",
       " 'several',\n",
       " 'becomes',\n",
       " 'move',\n",
       " 'there',\n",
       " 'ever',\n",
       " 'across',\n",
       " 'them',\n",
       " 'might',\n",
       " 'is',\n",
       " 'regarding',\n",
       " 'or',\n",
       " 'to',\n",
       " 'anywhere',\n",
       " 'may',\n",
       " 'former',\n",
       " 'who',\n",
       " 'keep',\n",
       " 'top',\n",
       " 'per',\n",
       " 'herein',\n",
       " 'become',\n",
       " 'throughout',\n",
       " 'what',\n",
       " 'somehow',\n",
       " '‘ve',\n",
       " 'go',\n",
       " 'put',\n",
       " 'please',\n",
       " 'for',\n",
       " 'thereupon',\n",
       " 'front',\n",
       " 'some',\n",
       " 'because',\n",
       " 'which',\n",
       " 'you',\n",
       " 'every',\n",
       " 'meanwhile',\n",
       " 'but',\n",
       " 'again',\n",
       " 'whose',\n",
       " 'becoming',\n",
       " 'amount',\n",
       " 'another',\n",
       " 'since',\n",
       " 'four',\n",
       " 'three',\n",
       " 'does',\n",
       " 'must',\n",
       " 'during',\n",
       " 'beforehand',\n",
       " 'someone',\n",
       " 'us',\n",
       " 'have',\n",
       " \"'s\",\n",
       " 'thence',\n",
       " 'seeming',\n",
       " 'whence',\n",
       " 'down',\n",
       " 'yet',\n",
       " 'any',\n",
       " 'nine',\n",
       " 'him',\n",
       " 'due',\n",
       " 'same',\n",
       " 'most',\n",
       " 'one',\n",
       " 'now',\n",
       " 'wherein',\n",
       " 'more',\n",
       " 'latter',\n",
       " '‘m',\n",
       " 'somewhere',\n",
       " 'among',\n",
       " 'whoever',\n",
       " 'everywhere',\n",
       " 'doing',\n",
       " 'few',\n",
       " 'least',\n",
       " 'we',\n",
       " 'from',\n",
       " 'me',\n",
       " 'not',\n",
       " 'together',\n",
       " 'many',\n",
       " 'whereafter',\n",
       " 'when',\n",
       " 'at',\n",
       " 'elsewhere',\n",
       " 'others',\n",
       " 'will',\n",
       " 'they',\n",
       " 'through',\n",
       " 'whole',\n",
       " 'in',\n",
       " 'really',\n",
       " 'can',\n",
       " 'n‘t',\n",
       " 'via',\n",
       " 'myself',\n",
       " 'get',\n",
       " 'just',\n",
       " 'sixty',\n",
       " 'did',\n",
       " 'with',\n",
       " 'their',\n",
       " 'towards',\n",
       " 'than',\n",
       " 'that',\n",
       " 'also',\n",
       " '‘re',\n",
       " 'often',\n",
       " 'were',\n",
       " 'before',\n",
       " 'this',\n",
       " 'anything',\n",
       " 'something',\n",
       " 'cannot',\n",
       " 'call',\n",
       " 'amongst',\n",
       " 'mine',\n",
       " 'thru',\n",
       " 'nowhere',\n",
       " 'therefore',\n",
       " 'itself',\n",
       " 'used',\n",
       " 'being',\n",
       " '’ll',\n",
       " 'neither',\n",
       " 'part',\n",
       " 'empty',\n",
       " 'up',\n",
       " 'full',\n",
       " \"'ll\",\n",
       " 'only',\n",
       " 'under',\n",
       " 'herself',\n",
       " 'already',\n",
       " 'give',\n",
       " 'should',\n",
       " \"'re\",\n",
       " 'nevertheless',\n",
       " 'above',\n",
       " 'still',\n",
       " '’d',\n",
       " 'other',\n",
       " 'and',\n",
       " 'otherwise',\n",
       " 'its',\n",
       " 'either',\n",
       " 'these',\n",
       " 'back',\n",
       " 'own',\n",
       " 'do',\n",
       " 'his',\n",
       " 'even',\n",
       " 'he',\n",
       " 'five',\n",
       " 'very',\n",
       " 'yours',\n",
       " 'thereafter',\n",
       " 'see',\n",
       " 'until',\n",
       " 'always',\n",
       " 'toward',\n",
       " 'beside',\n",
       " 'afterwards',\n",
       " 'an',\n",
       " 'although',\n",
       " 'rather',\n",
       " 'behind',\n",
       " '‘s',\n",
       " 'almost',\n",
       " 'out',\n",
       " 'whereupon',\n",
       " 'else',\n",
       " 'whether',\n",
       " 'first',\n",
       " 'hence',\n",
       " 'besides',\n",
       " 'six',\n",
       " 'by',\n",
       " 'moreover',\n",
       " 'take',\n",
       " 'it',\n",
       " 'ca',\n",
       " 'anyone',\n",
       " 'on',\n",
       " 'well',\n",
       " 'she',\n",
       " 'name',\n",
       " 'n’t',\n",
       " 'a',\n",
       " 'here',\n",
       " 'whereas',\n",
       " \"'ve\",\n",
       " 'various',\n",
       " '’s',\n",
       " 'much',\n",
       " 'therein',\n",
       " 'nor',\n",
       " 'quite',\n",
       " 'ten',\n",
       " 'around',\n",
       " 'say',\n",
       " 'twenty',\n",
       " 'sometimes',\n",
       " 'hers',\n",
       " 'third',\n",
       " 'off',\n",
       " 'less',\n",
       " 'everything',\n",
       " 'where',\n",
       " 'except',\n",
       " 'serious',\n",
       " 'mostly',\n",
       " 'had',\n",
       " '’ve',\n",
       " 'hundred',\n",
       " 'however',\n",
       " 'side',\n",
       " 'if',\n",
       " 'anyway',\n",
       " 'along',\n",
       " 'fifteen',\n",
       " \"'d\",\n",
       " 'then',\n",
       " \"'m\",\n",
       " '’re',\n",
       " 'seem',\n",
       " 'could',\n",
       " 'unless',\n",
       " 'wherever',\n",
       " 'why',\n",
       " 'everyone',\n",
       " 'whenever',\n",
       " 'whereby',\n",
       " 'thus',\n",
       " 'himself',\n",
       " 'make',\n",
       " 'no',\n",
       " 're',\n",
       " 'ours',\n",
       " 'your',\n",
       " 'such',\n",
       " 'nobody',\n",
       " 'while',\n",
       " 'yourselves',\n",
       " 'after',\n",
       " 'those',\n",
       " 'latterly',\n",
       " 'i',\n",
       " 'whatever',\n",
       " 'was',\n",
       " 'upon',\n",
       " 'within',\n",
       " 'forty',\n",
       " 'too',\n",
       " 'alone',\n",
       " 'twelve',\n",
       " 'anyhow',\n",
       " '‘ll',\n",
       " 'indeed',\n",
       " 'themselves',\n",
       " 'whom',\n",
       " 'next',\n",
       " 'her',\n",
       " 'thereby',\n",
       " 'yourself',\n",
       " 'both',\n",
       " 'onto',\n",
       " 'bottom',\n",
       " 'fifty',\n",
       " 'without',\n",
       " 'been',\n",
       " 'seems']"
      ]
     },
     "execution_count": 50,
     "metadata": {},
     "output_type": "execute_result"
    }
   ],
   "source": [
    "#Code to show list of usual word that has function but not meaning\n",
    "\n",
    "stopwords = list(STOP_WORDS)\n",
    "stopwords"
   ]
  },
  {
   "cell_type": "code",
   "execution_count": 51,
   "id": "c184dd93",
   "metadata": {},
   "outputs": [],
   "source": [
    "#make NLP model using en_core_web_sm\n",
    "\n",
    "nlp = spacy.load('en_core_web_sm')"
   ]
  },
  {
   "cell_type": "code",
   "execution_count": 52,
   "id": "d03bd0a8",
   "metadata": {},
   "outputs": [],
   "source": [
    "#tokenization\n",
    "\n",
    "doc = nlp(text)"
   ]
  },
  {
   "cell_type": "code",
   "execution_count": 53,
   "id": "cb20a5e6",
   "metadata": {},
   "outputs": [
    {
     "name": "stdout",
     "output_type": "stream",
     "text": [
      "[' ', 'Saudi', 'Arabia', 'is', 'seeking', 'stronger', 'cooperation', 'with', 'China', 'on', 'trade', 'investments', 'and', 'energy', 'flows', 'rather', 'than', 'competing', 'with', 'the', 'superpower', ',', 'said', 'Energy', 'Minister', 'Prince', 'Abdulaziz', 'bin', 'Salman', '.', 'We', 'came', 'to', 'recognize', 'the', 'reality', 'of', 'today', 'that', 'China', 'is', 'taking', ',', 'had', 'taken', 'a', 'lead', ',', 'will', 'continue', 'to', 'take', 'that', 'lead', '.', 'We', 'do', 'n’t', 'have', 'to', 'compete', 'with', 'China', ',', 'we', 'have', 'to', 'collaborate', 'with', 'China', ',', 'he', 'told', 'CNBC', '’s', 'Dan', 'Murphy', 'during', 'the', 'Arab', '-', 'China', 'Business', 'Conference', 'on', 'Sunday', '.', 'He', 'added', 'that', 'there', 'is', 'value', 'in', 'working', 'with', 'China', 'because', 'they', 'have', 'taken', 'the', 'lead', 'in', 'getting', 'the', 'right', 'manufacturers', 'especially', 'in', 'the', 'renewables', 'space', '.', 'We', 'will', 'never', 'go', 'again', 'to', 'this', 'zero', '-', 'sum', 'game', '.', 'On', 'why', 'the', 'OPEC', 'kingpin', 'has', 'eyes', 'on', 'China', ',', 'Abdulaziz', 'said', 'he', 'believes', 'that', 'China', '’s', 'oil', 'demand', 'is', 'still', 'growing', ',', 'and', 'it', 'is', 'a', 'pie', 'that', 'Saudi', 'Arabia', 'is', 'keen', 'on', 'capturing', '.', 'China', 'is', 'the', 'world', '’s', 'largest', 'crude', 'oil', 'importer', ',', 'and', 'the', 'Saudis', 'have', 'come', 'up', 'trumps', 'as', 'China', '’s', 'top', 'supplier', 'of', 'the', 'commodity', 'in', 'April', 'despite', 'Russia', '’s', 'cheap', 'sanctioned', 'oil', '.']\n"
     ]
    }
   ],
   "source": [
    "#show token list\n",
    "\n",
    "tokens = [token.text for token in doc]\n",
    "print(tokens)"
   ]
  },
  {
   "cell_type": "code",
   "execution_count": 54,
   "id": "6ab987e9",
   "metadata": {},
   "outputs": [
    {
     "data": {
      "text/plain": [
       "'!\"#$%&\\'()*+,-./:;<=>?@[\\\\]^_`{|}~\\n'"
      ]
     },
     "execution_count": 54,
     "metadata": {},
     "output_type": "execute_result"
    }
   ],
   "source": [
    "#add new row\n",
    "\n",
    "punctuation = punctuation + '\\n'\n",
    "punctuation"
   ]
  },
  {
   "cell_type": "code",
   "execution_count": 55,
   "id": "54372651",
   "metadata": {},
   "outputs": [],
   "source": [
    "#show word frwuency\n",
    "\n",
    "word_frequencies = {}\n",
    "for word in doc:\n",
    "    if word.text.lower() not in stopwords:\n",
    "        if word.text.lower() not in punctuation:\n",
    "            if word.text not in word_frequencies.keys():\n",
    "                word_frequencies[word.text] = 1\n",
    "            else:\n",
    "                word_frequencies[word.text] +=1"
   ]
  },
  {
   "cell_type": "code",
   "execution_count": 56,
   "id": "3f8d5164",
   "metadata": {},
   "outputs": [],
   "source": [
    "#show max word frequecy\n",
    "\n",
    "max_frequency = max(word_frequencies.values())"
   ]
  },
  {
   "cell_type": "code",
   "execution_count": 57,
   "id": "67722739",
   "metadata": {},
   "outputs": [
    {
     "data": {
      "text/plain": [
       "10"
      ]
     },
     "execution_count": 57,
     "metadata": {},
     "output_type": "execute_result"
    }
   ],
   "source": [
    "max_frequency"
   ]
  },
  {
   "cell_type": "code",
   "execution_count": 58,
   "id": "e302ea5b",
   "metadata": {},
   "outputs": [],
   "source": [
    "#normalisation from each word in the text data\n",
    "\n",
    "for word in word_frequencies.keys():\n",
    "    word_frequencies[word] = word_frequencies[word]/max_frequency"
   ]
  },
  {
   "cell_type": "code",
   "execution_count": 59,
   "id": "2ead7f1c",
   "metadata": {},
   "outputs": [
    {
     "name": "stdout",
     "output_type": "stream",
     "text": [
      "[ Saudi Arabia is seeking stronger cooperation with China on trade investments and energy flows rather than competing with the superpower, said Energy Minister Prince Abdulaziz bin Salman., We came to recognize the reality of today that China is taking, had taken a lead, will continue to take that lead., We don’t have to compete with China, we have to collaborate with China, he told CNBC’s Dan Murphy during the Arab-China Business Conference on Sunday., He added that there is value in working with China because they have taken the lead in getting the right manufacturers especially in the renewables space., We will never go again to this zero-sum game., On why the OPEC kingpin has eyes on China, Abdulaziz said he believes that China’s oil demand is still growing, and it is a pie that Saudi Arabia is keen on capturing., China is the world’s largest crude oil importer, and the Saudis have come up trumps as China’s top supplier of the commodity in April despite Russia’s cheap sanctioned oil.]\n"
     ]
    }
   ],
   "source": [
    "#sentence tokenization\n",
    "\n",
    "sentence_tokens = [sent for sent in doc.sents]\n",
    "print(sentence_tokens)"
   ]
  },
  {
   "cell_type": "code",
   "execution_count": 60,
   "id": "d8b2da51",
   "metadata": {},
   "outputs": [],
   "source": [
    "#count sentence score\n",
    "\n",
    "sentence_scores = {}\n",
    "for sent in sentence_tokens:\n",
    "    for word in sent:\n",
    "        if word.text.lower() in word_frequencies.keys():\n",
    "            if sent not in sentence_scores.keys():\n",
    "                sentence_scores[sent] = word_frequencies[word.text.lower()]\n",
    "            else:\n",
    "                sentence_scores[sent] += word_frequencies[word.text.lower()]"
   ]
  },
  {
   "cell_type": "code",
   "execution_count": 61,
   "id": "0b4f2c60",
   "metadata": {},
   "outputs": [
    {
     "data": {
      "text/plain": [
       "{ Saudi Arabia is seeking stronger cooperation with China on trade investments and energy flows rather than competing with the superpower, said Energy Minister Prince Abdulaziz bin Salman.: 1.4000000000000001,\n",
       " We came to recognize the reality of today that China is taking, had taken a lead, will continue to take that lead.: 1.4000000000000001,\n",
       " We don’t have to compete with China, we have to collaborate with China, he told CNBC’s Dan Murphy during the Arab-China Business Conference on Sunday.: 0.30000000000000004,\n",
       " He added that there is value in working with China because they have taken the lead in getting the right manufacturers especially in the renewables space.: 1.4000000000000004,\n",
       " We will never go again to this zero-sum game.: 0.30000000000000004,\n",
       " On why the OPEC kingpin has eyes on China, Abdulaziz said he believes that China’s oil demand is still growing, and it is a pie that Saudi Arabia is keen on capturing.: 1.3000000000000003,\n",
       " China is the world’s largest crude oil importer, and the Saudis have come up trumps as China’s top supplier of the commodity in April despite Russia’s cheap sanctioned oil.: 1.7000000000000004}"
      ]
     },
     "execution_count": 61,
     "metadata": {},
     "output_type": "execute_result"
    }
   ],
   "source": [
    "sentence_scores"
   ]
  },
  {
   "cell_type": "code",
   "execution_count": 62,
   "id": "c96f304d",
   "metadata": {},
   "outputs": [],
   "source": [
    "#import nlargest function\n",
    "\n",
    "from heapq import nlargest"
   ]
  },
  {
   "cell_type": "markdown",
   "id": "854c84bb",
   "metadata": {},
   "source": [
    "## Ringkasan 40%"
   ]
  },
  {
   "cell_type": "code",
   "execution_count": 63,
   "id": "8e3e5156",
   "metadata": {},
   "outputs": [
    {
     "data": {
      "text/plain": [
       "2"
      ]
     },
     "execution_count": 63,
     "metadata": {},
     "output_type": "execute_result"
    }
   ],
   "source": [
    "#count total word\n",
    "\n",
    "select_length = int(len(sentence_tokens)*0.4)\n",
    "select_length"
   ]
  },
  {
   "cell_type": "code",
   "execution_count": 64,
   "id": "6f77b05c",
   "metadata": {},
   "outputs": [],
   "source": [
    "#sentence summary  \n",
    "\n",
    "summary = nlargest(select_length, sentence_scores, key = sentence_scores.get)"
   ]
  },
  {
   "cell_type": "code",
   "execution_count": 65,
   "id": "0fcffee7",
   "metadata": {},
   "outputs": [
    {
     "data": {
      "text/plain": [
       "[China is the world’s largest crude oil importer, and the Saudis have come up trumps as China’s top supplier of the commodity in April despite Russia’s cheap sanctioned oil.,\n",
       " He added that there is value in working with China because they have taken the lead in getting the right manufacturers especially in the renewables space.]"
      ]
     },
     "execution_count": 65,
     "metadata": {},
     "output_type": "execute_result"
    }
   ],
   "source": [
    "summary"
   ]
  },
  {
   "cell_type": "code",
   "execution_count": 66,
   "id": "5e9609ee",
   "metadata": {},
   "outputs": [],
   "source": [
    "#combine sentences\n",
    "\n",
    "final_summary = [word.text for word in summary]"
   ]
  },
  {
   "cell_type": "code",
   "execution_count": 67,
   "id": "369fb270",
   "metadata": {},
   "outputs": [],
   "source": [
    "summary = ' '.join(final_summary)"
   ]
  },
  {
   "cell_type": "code",
   "execution_count": 68,
   "id": "3a20aa45",
   "metadata": {},
   "outputs": [
    {
     "name": "stdout",
     "output_type": "stream",
     "text": [
      " Saudi Arabia is seeking stronger cooperation with China on trade investments and energy flows rather than competing with the superpower, said Energy Minister Prince Abdulaziz bin Salman. We came to recognize the reality of today that China is taking, had taken a lead, will continue to take that lead. We don’t have to compete with China, we have to collaborate with China, he told CNBC’s Dan Murphy during the Arab-China Business Conference on Sunday. He added that there is value in working with China because they have taken the lead in getting the right manufacturers especially in the renewables space. We will never go again to this zero-sum game. On why the OPEC kingpin has eyes on China, Abdulaziz said he believes that China’s oil demand is still growing, and it is a pie that Saudi Arabia is keen on capturing. China is the world’s largest crude oil importer, and the Saudis have come up trumps as China’s top supplier of the commodity in April despite Russia’s cheap sanctioned oil. \n"
     ]
    }
   ],
   "source": [
    "#print text\n",
    "\n",
    "print(text)"
   ]
  },
  {
   "cell_type": "code",
   "execution_count": 69,
   "id": "e6d6fbf1",
   "metadata": {},
   "outputs": [
    {
     "name": "stdout",
     "output_type": "stream",
     "text": [
      "China is the world’s largest crude oil importer, and the Saudis have come up trumps as China’s top supplier of the commodity in April despite Russia’s cheap sanctioned oil. He added that there is value in working with China because they have taken the lead in getting the right manufacturers especially in the renewables space.\n"
     ]
    }
   ],
   "source": [
    "#show the summary\n",
    "\n",
    "print(summary)"
   ]
  },
  {
   "cell_type": "code",
   "execution_count": 70,
   "id": "41fbc6d7",
   "metadata": {},
   "outputs": [
    {
     "name": "stdout",
     "output_type": "stream",
     "text": [
      " Saudi Arabia is seeking stronger cooperation with China on trade investments and energy flows rather than competing with the superpower, said Energy Minister Prince Abdulaziz bin Salman. We came to recognize the reality of today that China is taking, had taken a lead, will continue to take that lead. We don’t have to compete with China, we have to collaborate with China, he told CNBC’s Dan Murphy during the Arab-China Business Conference on Sunday. He added that there is value in working with China because they have taken the lead in getting the right manufacturers especially in the renewables space. We will never go again to this zero-sum game. On why the OPEC kingpin has eyes on China, Abdulaziz said he believes that China’s oil demand is still growing, and it is a pie that Saudi Arabia is keen on capturing. China is the world’s largest crude oil importer, and the Saudis have come up trumps as China’s top supplier of the commodity in April despite Russia’s cheap sanctioned oil. \n"
     ]
    }
   ],
   "source": [
    "print(text)"
   ]
  },
  {
   "cell_type": "code",
   "execution_count": 71,
   "id": "39775e06",
   "metadata": {},
   "outputs": [
    {
     "data": {
      "text/plain": [
       "996"
      ]
     },
     "execution_count": 71,
     "metadata": {},
     "output_type": "execute_result"
    }
   ],
   "source": [
    "#show text length\n",
    "\n",
    "len(text)"
   ]
  },
  {
   "cell_type": "code",
   "execution_count": 72,
   "id": "782f6601",
   "metadata": {},
   "outputs": [
    {
     "data": {
      "text/plain": [
       "327"
      ]
     },
     "execution_count": 72,
     "metadata": {},
     "output_type": "execute_result"
    }
   ],
   "source": [
    "#show text after summary\n",
    "\n",
    "len(summary)"
   ]
  },
  {
   "cell_type": "markdown",
   "id": "392ee943",
   "metadata": {},
   "source": [
    "## Ringkasan 50%"
   ]
  },
  {
   "cell_type": "code",
   "execution_count": 73,
   "id": "d2e43057",
   "metadata": {
    "scrolled": true
   },
   "outputs": [
    {
     "data": {
      "text/plain": [
       "3"
      ]
     },
     "execution_count": 73,
     "metadata": {},
     "output_type": "execute_result"
    }
   ],
   "source": [
    "#count total word\n",
    "\n",
    "select_length = int(len(sentence_tokens)*0.5)\n",
    "select_length"
   ]
  },
  {
   "cell_type": "code",
   "execution_count": 74,
   "id": "e32ce61b",
   "metadata": {},
   "outputs": [],
   "source": [
    "#sentence summary  \n",
    "\n",
    "summary = nlargest(select_length, sentence_scores, key = sentence_scores.get)"
   ]
  },
  {
   "cell_type": "code",
   "execution_count": 75,
   "id": "4e6823ad",
   "metadata": {
    "scrolled": true
   },
   "outputs": [
    {
     "data": {
      "text/plain": [
       "[China is the world’s largest crude oil importer, and the Saudis have come up trumps as China’s top supplier of the commodity in April despite Russia’s cheap sanctioned oil.,\n",
       " He added that there is value in working with China because they have taken the lead in getting the right manufacturers especially in the renewables space.,\n",
       "  Saudi Arabia is seeking stronger cooperation with China on trade investments and energy flows rather than competing with the superpower, said Energy Minister Prince Abdulaziz bin Salman.]"
      ]
     },
     "execution_count": 75,
     "metadata": {},
     "output_type": "execute_result"
    }
   ],
   "source": [
    "summary"
   ]
  },
  {
   "cell_type": "code",
   "execution_count": 76,
   "id": "e45eb055",
   "metadata": {},
   "outputs": [],
   "source": [
    "#combine sentences\n",
    "\n",
    "final_summary = [word.text for word in summary]"
   ]
  },
  {
   "cell_type": "code",
   "execution_count": 77,
   "id": "c6b17c4e",
   "metadata": {},
   "outputs": [],
   "source": [
    "summary = ' '.join(final_summary)"
   ]
  },
  {
   "cell_type": "code",
   "execution_count": 78,
   "id": "6147ee72",
   "metadata": {
    "scrolled": true
   },
   "outputs": [
    {
     "name": "stdout",
     "output_type": "stream",
     "text": [
      " Saudi Arabia is seeking stronger cooperation with China on trade investments and energy flows rather than competing with the superpower, said Energy Minister Prince Abdulaziz bin Salman. We came to recognize the reality of today that China is taking, had taken a lead, will continue to take that lead. We don’t have to compete with China, we have to collaborate with China, he told CNBC’s Dan Murphy during the Arab-China Business Conference on Sunday. He added that there is value in working with China because they have taken the lead in getting the right manufacturers especially in the renewables space. We will never go again to this zero-sum game. On why the OPEC kingpin has eyes on China, Abdulaziz said he believes that China’s oil demand is still growing, and it is a pie that Saudi Arabia is keen on capturing. China is the world’s largest crude oil importer, and the Saudis have come up trumps as China’s top supplier of the commodity in April despite Russia’s cheap sanctioned oil. \n"
     ]
    }
   ],
   "source": [
    "#print text\n",
    "\n",
    "print(text)"
   ]
  },
  {
   "cell_type": "code",
   "execution_count": 79,
   "id": "965ae759",
   "metadata": {},
   "outputs": [
    {
     "name": "stdout",
     "output_type": "stream",
     "text": [
      "China is the world’s largest crude oil importer, and the Saudis have come up trumps as China’s top supplier of the commodity in April despite Russia’s cheap sanctioned oil. He added that there is value in working with China because they have taken the lead in getting the right manufacturers especially in the renewables space.  Saudi Arabia is seeking stronger cooperation with China on trade investments and energy flows rather than competing with the superpower, said Energy Minister Prince Abdulaziz bin Salman.\n"
     ]
    }
   ],
   "source": [
    "#show the summary\n",
    "\n",
    "print(summary)"
   ]
  },
  {
   "cell_type": "code",
   "execution_count": 80,
   "id": "02f900aa",
   "metadata": {
    "scrolled": false
   },
   "outputs": [
    {
     "name": "stdout",
     "output_type": "stream",
     "text": [
      " Saudi Arabia is seeking stronger cooperation with China on trade investments and energy flows rather than competing with the superpower, said Energy Minister Prince Abdulaziz bin Salman. We came to recognize the reality of today that China is taking, had taken a lead, will continue to take that lead. We don’t have to compete with China, we have to collaborate with China, he told CNBC’s Dan Murphy during the Arab-China Business Conference on Sunday. He added that there is value in working with China because they have taken the lead in getting the right manufacturers especially in the renewables space. We will never go again to this zero-sum game. On why the OPEC kingpin has eyes on China, Abdulaziz said he believes that China’s oil demand is still growing, and it is a pie that Saudi Arabia is keen on capturing. China is the world’s largest crude oil importer, and the Saudis have come up trumps as China’s top supplier of the commodity in April despite Russia’s cheap sanctioned oil. \n"
     ]
    }
   ],
   "source": [
    "print(text)"
   ]
  },
  {
   "cell_type": "code",
   "execution_count": 81,
   "id": "8c1c17f7",
   "metadata": {
    "scrolled": true
   },
   "outputs": [
    {
     "data": {
      "text/plain": [
       "996"
      ]
     },
     "execution_count": 81,
     "metadata": {},
     "output_type": "execute_result"
    }
   ],
   "source": [
    "#show text length\n",
    "\n",
    "len(text)"
   ]
  },
  {
   "cell_type": "code",
   "execution_count": 82,
   "id": "81dbe39f",
   "metadata": {},
   "outputs": [
    {
     "data": {
      "text/plain": [
       "515"
      ]
     },
     "execution_count": 82,
     "metadata": {},
     "output_type": "execute_result"
    }
   ],
   "source": [
    "#show text after summary\n",
    "\n",
    "len(summary)"
   ]
  },
  {
   "cell_type": "markdown",
   "id": "87e25273",
   "metadata": {},
   "source": [
    "## Ringkasan 25%"
   ]
  },
  {
   "cell_type": "code",
   "execution_count": 83,
   "id": "fb9ec161",
   "metadata": {},
   "outputs": [
    {
     "data": {
      "text/plain": [
       "1"
      ]
     },
     "execution_count": 83,
     "metadata": {},
     "output_type": "execute_result"
    }
   ],
   "source": [
    "#count total word\n",
    "\n",
    "select_length = int(len(sentence_tokens)*0.25)\n",
    "select_length"
   ]
  },
  {
   "cell_type": "code",
   "execution_count": 84,
   "id": "4e732a6b",
   "metadata": {},
   "outputs": [],
   "source": [
    "#sentence summary  \n",
    "\n",
    "summary = nlargest(select_length, sentence_scores, key = sentence_scores.get)"
   ]
  },
  {
   "cell_type": "code",
   "execution_count": 85,
   "id": "8e9ee555",
   "metadata": {},
   "outputs": [
    {
     "data": {
      "text/plain": [
       "[China is the world’s largest crude oil importer, and the Saudis have come up trumps as China’s top supplier of the commodity in April despite Russia’s cheap sanctioned oil.]"
      ]
     },
     "execution_count": 85,
     "metadata": {},
     "output_type": "execute_result"
    }
   ],
   "source": [
    "summary"
   ]
  },
  {
   "cell_type": "code",
   "execution_count": 86,
   "id": "a86577cb",
   "metadata": {},
   "outputs": [],
   "source": [
    "#combine sentences\n",
    "\n",
    "final_summary = [word.text for word in summary]"
   ]
  },
  {
   "cell_type": "code",
   "execution_count": 87,
   "id": "1d82cb4e",
   "metadata": {},
   "outputs": [],
   "source": [
    "summary = ' '.join(final_summary)"
   ]
  },
  {
   "cell_type": "code",
   "execution_count": 88,
   "id": "743b483e",
   "metadata": {},
   "outputs": [
    {
     "name": "stdout",
     "output_type": "stream",
     "text": [
      " Saudi Arabia is seeking stronger cooperation with China on trade investments and energy flows rather than competing with the superpower, said Energy Minister Prince Abdulaziz bin Salman. We came to recognize the reality of today that China is taking, had taken a lead, will continue to take that lead. We don’t have to compete with China, we have to collaborate with China, he told CNBC’s Dan Murphy during the Arab-China Business Conference on Sunday. He added that there is value in working with China because they have taken the lead in getting the right manufacturers especially in the renewables space. We will never go again to this zero-sum game. On why the OPEC kingpin has eyes on China, Abdulaziz said he believes that China’s oil demand is still growing, and it is a pie that Saudi Arabia is keen on capturing. China is the world’s largest crude oil importer, and the Saudis have come up trumps as China’s top supplier of the commodity in April despite Russia’s cheap sanctioned oil. \n"
     ]
    }
   ],
   "source": [
    "#print text\n",
    "\n",
    "print(text)"
   ]
  },
  {
   "cell_type": "code",
   "execution_count": 89,
   "id": "4093ef3a",
   "metadata": {},
   "outputs": [
    {
     "name": "stdout",
     "output_type": "stream",
     "text": [
      "China is the world’s largest crude oil importer, and the Saudis have come up trumps as China’s top supplier of the commodity in April despite Russia’s cheap sanctioned oil.\n"
     ]
    }
   ],
   "source": [
    "#show the summary\n",
    "\n",
    "print(summary)"
   ]
  },
  {
   "cell_type": "code",
   "execution_count": 90,
   "id": "72fe96cd",
   "metadata": {},
   "outputs": [
    {
     "name": "stdout",
     "output_type": "stream",
     "text": [
      " Saudi Arabia is seeking stronger cooperation with China on trade investments and energy flows rather than competing with the superpower, said Energy Minister Prince Abdulaziz bin Salman. We came to recognize the reality of today that China is taking, had taken a lead, will continue to take that lead. We don’t have to compete with China, we have to collaborate with China, he told CNBC’s Dan Murphy during the Arab-China Business Conference on Sunday. He added that there is value in working with China because they have taken the lead in getting the right manufacturers especially in the renewables space. We will never go again to this zero-sum game. On why the OPEC kingpin has eyes on China, Abdulaziz said he believes that China’s oil demand is still growing, and it is a pie that Saudi Arabia is keen on capturing. China is the world’s largest crude oil importer, and the Saudis have come up trumps as China’s top supplier of the commodity in April despite Russia’s cheap sanctioned oil. \n"
     ]
    }
   ],
   "source": [
    "print(text)"
   ]
  },
  {
   "cell_type": "code",
   "execution_count": 91,
   "id": "fb2fce27",
   "metadata": {},
   "outputs": [
    {
     "data": {
      "text/plain": [
       "996"
      ]
     },
     "execution_count": 91,
     "metadata": {},
     "output_type": "execute_result"
    }
   ],
   "source": [
    "#show text length\n",
    "\n",
    "len(text)"
   ]
  },
  {
   "cell_type": "code",
   "execution_count": 92,
   "id": "973a5496",
   "metadata": {},
   "outputs": [
    {
     "data": {
      "text/plain": [
       "172"
      ]
     },
     "execution_count": 92,
     "metadata": {},
     "output_type": "execute_result"
    }
   ],
   "source": [
    "#show text after summary\n",
    "\n",
    "len(summary)"
   ]
  },
  {
   "cell_type": "code",
   "execution_count": null,
   "id": "5f226f8b",
   "metadata": {},
   "outputs": [],
   "source": []
  }
 ],
 "metadata": {
  "kernelspec": {
   "display_name": "Python 3 (ipykernel)",
   "language": "python",
   "name": "python3"
  },
  "language_info": {
   "codemirror_mode": {
    "name": "ipython",
    "version": 3
   },
   "file_extension": ".py",
   "mimetype": "text/x-python",
   "name": "python",
   "nbconvert_exporter": "python",
   "pygments_lexer": "ipython3",
   "version": "3.10.9"
  }
 },
 "nbformat": 4,
 "nbformat_minor": 5
}
